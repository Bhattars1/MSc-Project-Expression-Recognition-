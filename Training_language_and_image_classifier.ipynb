{
  "nbformat": 4,
  "nbformat_minor": 0,
  "metadata": {
    "colab": {
      "provenance": []
    },
    "kernelspec": {
      "name": "python3",
      "display_name": "Python 3"
    },
    "language_info": {
      "name": "python"
    }
  },
  "cells": [
    {
      "cell_type": "markdown",
      "source": [
        "# Expression Recognition"
      ],
      "metadata": {
        "id": "SqIgY8djDV5N"
      }
    },
    {
      "cell_type": "markdown",
      "source": [
        "# 1. Importing, exploring and cleaning ISEAR dataset"
      ],
      "metadata": {
        "id": "7PVhcKREDRlK"
      }
    },
    {
      "cell_type": "code",
      "source": [
        "!git clone https://github.com/Bhattars1/MSc-Project-Expression-Recognition-"
      ],
      "metadata": {
        "colab": {
          "base_uri": "https://localhost:8080/"
        },
        "id": "jFWSeKlBqgPF",
        "outputId": "700d38b2-6d48-412a-a8e3-5db382336970"
      },
      "execution_count": 1,
      "outputs": [
        {
          "output_type": "stream",
          "name": "stdout",
          "text": [
            "Cloning into 'MSc-Project-Expression-Recognition-'...\n",
            "remote: Enumerating objects: 33, done.\u001b[K\n",
            "remote: Counting objects: 100% (33/33), done.\u001b[K\n",
            "remote: Compressing objects: 100% (29/29), done.\u001b[K\n",
            "remote: Total 33 (delta 9), reused 16 (delta 2), pack-reused 0\u001b[K\n",
            "Receiving objects: 100% (33/33), 4.72 MiB | 14.91 MiB/s, done.\n",
            "Resolving deltas: 100% (9/9), done.\n"
          ]
        }
      ]
    },
    {
      "cell_type": "code",
      "source": [
        "import pandas as pd\n",
        "def upload_file(path):\n",
        "  df = pd.read_excel(path, engine='openpyxl')\n",
        "  print(df.head())\n",
        "  print(df.info())\n",
        "  return df"
      ],
      "metadata": {
        "id": "bzQ-olxhqUL5"
      },
      "execution_count": 24,
      "outputs": []
    },
    {
      "cell_type": "code",
      "source": [
        "file_path = '/content/MSc-Project-Expression-Recognition-/DATA.xlsx'\n",
        "df = upload_file(file_path)"
      ],
      "metadata": {
        "colab": {
          "base_uri": "https://localhost:8080/"
        },
        "id": "Lzs8D5ek_VE6",
        "outputId": "11ca1a0b-1df1-465c-aed2-5653473c000d"
      },
      "execution_count": 25,
      "outputs": [
        {
          "output_type": "stream",
          "name": "stdout",
          "text": [
            "       ID  CITY  COUN  SUBJ  SEX  AGE  RELI  PRAC  FOCC  MOCC  ...  SELF  \\\n",
            "0  101032     1    10    32    2   21     2     2     7     1  ...     3   \n",
            "1  101040     1    10    40    2   18     2     2     7     7  ...     1   \n",
            "2  261050     1    26    50    1   23     4     1     9     1  ...     0   \n",
            "3  101039     1    10    39    1   19     2     2     8     1  ...     0   \n",
            "4  101038     1    10    38    2   18     2     2     7     6  ...     0   \n",
            "\n",
            "   RELA  VERBAL  NEUTRO    MYKEY  Field3  Field2  Field1  \\\n",
            "0     0       3       0  1010323       2       2   anger   \n",
            "1     0       0       1  1010403       4       3   anger   \n",
            "2     0       0       1  2610503       4       3   anger   \n",
            "3     1       3       1  1010393       4       4   anger   \n",
            "4     1       3       2  1010383       3       4   anger   \n",
            "\n",
            "                                                 SIT  STATE  \n",
            "0  When a boy tried to fool me so he would be OK ...      1  \n",
            "1  I felt anger when I saw that I was being misle...      1  \n",
            "2  Once a friend had pushed me and I had fallen o...      1  \n",
            "3  When I was misleaded by a person who assured t...      1  \n",
            "4  I don't use to lie to my parets about what I d...      1  \n",
            "\n",
            "[5 rows x 42 columns]\n",
            "<class 'pandas.core.frame.DataFrame'>\n",
            "RangeIndex: 7666 entries, 0 to 7665\n",
            "Data columns (total 42 columns):\n",
            " #   Column  Non-Null Count  Dtype \n",
            "---  ------  --------------  ----- \n",
            " 0   ID      7666 non-null   int64 \n",
            " 1   CITY    7666 non-null   int64 \n",
            " 2   COUN    7666 non-null   int64 \n",
            " 3   SUBJ    7666 non-null   int64 \n",
            " 4   SEX     7666 non-null   int64 \n",
            " 5   AGE     7666 non-null   int64 \n",
            " 6   RELI    7666 non-null   int64 \n",
            " 7   PRAC    7666 non-null   int64 \n",
            " 8   FOCC    7666 non-null   int64 \n",
            " 9   MOCC    7666 non-null   int64 \n",
            " 10  FIEL    7666 non-null   int64 \n",
            " 11  EMOT    7666 non-null   int64 \n",
            " 12  WHEN    7666 non-null   int64 \n",
            " 13  LONG    7666 non-null   int64 \n",
            " 14  INTS    7666 non-null   int64 \n",
            " 15  ERGO    7666 non-null   int64 \n",
            " 16  TROPHO  7666 non-null   int64 \n",
            " 17  TEMPER  7666 non-null   int64 \n",
            " 18  EXPRES  7666 non-null   int64 \n",
            " 19  MOVE    7666 non-null   int64 \n",
            " 20  EXP1    7666 non-null   int64 \n",
            " 21  EXP2    7666 non-null   int64 \n",
            " 22  EXP10   7666 non-null   int64 \n",
            " 23  PARAL   7666 non-null   int64 \n",
            " 24  CON     7666 non-null   int64 \n",
            " 25  EXPC    7666 non-null   int64 \n",
            " 26  PLEA    7666 non-null   int64 \n",
            " 27  PLAN    7666 non-null   int64 \n",
            " 28  FAIR    7666 non-null   int64 \n",
            " 29  CAUS    7666 non-null   int64 \n",
            " 30  COPING  7666 non-null   int64 \n",
            " 31  MORL    7666 non-null   int64 \n",
            " 32  SELF    7666 non-null   int64 \n",
            " 33  RELA    7666 non-null   int64 \n",
            " 34  VERBAL  7666 non-null   int64 \n",
            " 35  NEUTRO  7666 non-null   int64 \n",
            " 36  MYKEY   7666 non-null   int64 \n",
            " 37  Field3  7666 non-null   int64 \n",
            " 38  Field2  7666 non-null   int64 \n",
            " 39  Field1  7666 non-null   object\n",
            " 40  SIT     7666 non-null   object\n",
            " 41  STATE   7666 non-null   int64 \n",
            "dtypes: int64(40), object(2)\n",
            "memory usage: 2.5+ MB\n",
            "None\n"
          ]
        }
      ]
    },
    {
      "cell_type": "code",
      "source": [
        "def filter_data(df, selected_columns):\n",
        "  df_selected = df[selected_columns]\n",
        "  print(df_selected.head(3))\n",
        "  return df_selected"
      ],
      "metadata": {
        "id": "r96Eg0sEBCGD"
      },
      "execution_count": 29,
      "outputs": []
    },
    {
      "cell_type": "code",
      "source": [
        "selected_columns = [\"COUN\", \"SEX\", \"RELI\", \"PRAC\", \"FIEL\", \"Field1\", \"SIT\"]\n",
        "df_selected = filter_data(df, selected_columns)"
      ],
      "metadata": {
        "colab": {
          "base_uri": "https://localhost:8080/"
        },
        "id": "qJRKVlegmP8a",
        "outputId": "e95d32e6-0f2d-4228-edbe-50284ea88164"
      },
      "execution_count": 30,
      "outputs": [
        {
          "output_type": "stream",
          "name": "stdout",
          "text": [
            "   COUN  SEX  RELI  PRAC  FIEL Field1  \\\n",
            "0    10    2     2     2     2  anger   \n",
            "1    10    2     2     2     9  anger   \n",
            "2    26    1     4     1     1  anger   \n",
            "\n",
            "                                                 SIT  \n",
            "0  When a boy tried to fool me so he would be OK ...  \n",
            "1  I felt anger when I saw that I was being misle...  \n",
            "2  Once a friend had pushed me and I had fallen o...  \n"
          ]
        }
      ]
    },
    {
      "cell_type": "code",
      "source": [
        "def check_unique_values(df, selected_columns):\n",
        "  for i in selected_columns[:-1]:\n",
        "    unique = set(df[i])\n",
        "    print(f\"There are {len(unique)} unique values in {i}\")\n",
        "    print(f\"They are listed below:\\n{list(unique)}\\n\")\n",
        "check_unique_values(df_selected, selected_columns)"
      ],
      "metadata": {
        "colab": {
          "base_uri": "https://localhost:8080/"
        },
        "id": "0C6smQi8BhAc",
        "outputId": "733598c8-6903-4670-9649-7d1f3e65e6ff"
      },
      "execution_count": 33,
      "outputs": [
        {
          "output_type": "stream",
          "name": "stdout",
          "text": [
            "There are 16 unique values in COUN\n",
            "They are listed below:\n",
            "[33, 1, 2, 4, 8, 9, 10, 12, 16, 17, 19, 20, 22, 26, 27, 30]\n",
            "\n",
            "There are 3 unique values in SEX\n",
            "They are listed below:\n",
            "[0, 1, 2]\n",
            "\n",
            "There are 9 unique values in RELI\n",
            "They are listed below:\n",
            "[0, 1, 2, 3, 4, 5, 6, 7, 8]\n",
            "\n",
            "There are 3 unique values in PRAC\n",
            "They are listed below:\n",
            "[0, 1, 2]\n",
            "\n",
            "There are 10 unique values in FIEL\n",
            "They are listed below:\n",
            "[0, 1, 2, 3, 4, 5, 6, 7, 8, 9]\n",
            "\n",
            "There are 7 unique values in Field1\n",
            "They are listed below:\n",
            "['guilt', 'sadness', 'joy', 'disgust', 'fear', 'anger', 'shame']\n",
            "\n"
          ]
        }
      ]
    },
    {
      "cell_type": "code",
      "source": [
        "def data_and_labels(df, data, labels):\n",
        "  data = df[data]\n",
        "  labels = df[labels]\n",
        "  return data, labels\n",
        "data_column = \"SIT\"\n",
        "label_column = \"Field1\"\n",
        "data, labels = data_and_labels(df_selected, data_column, label_column)"
      ],
      "metadata": {
        "id": "G4SQ9UNkB5nZ"
      },
      "execution_count": 34,
      "outputs": []
    },
    {
      "cell_type": "code",
      "source": [
        "len(labels), len(data)"
      ],
      "metadata": {
        "colab": {
          "base_uri": "https://localhost:8080/"
        },
        "id": "Nlu0ZfaBo7d2",
        "outputId": "881e3932-f599-4d05-d475-5f8966dd4efd"
      },
      "execution_count": 42,
      "outputs": [
        {
          "output_type": "execute_result",
          "data": {
            "text/plain": [
              "(7666, 7666)"
            ]
          },
          "metadata": {},
          "execution_count": 42
        }
      ]
    },
    {
      "cell_type": "code",
      "source": [
        "def check_unique_values(data):\n",
        "  unique_expressions = list(set(labels))\n",
        "  for i in unique_expressions:\n",
        "    print(f\"{i} : {list(labels).count(i)}\")\n",
        "check_unique_values(labels)"
      ],
      "metadata": {
        "colab": {
          "base_uri": "https://localhost:8080/"
        },
        "id": "Fy0KlARKEFmp",
        "outputId": "50070ac9-843d-48f8-93a3-e6db2d994d66"
      },
      "execution_count": 49,
      "outputs": [
        {
          "output_type": "stream",
          "name": "stdout",
          "text": [
            "guilt : 1093\n",
            "sadness : 1096\n",
            "joy : 1094\n",
            "disgust : 1096\n",
            "fear : 1095\n",
            "anger : 1096\n",
            "shame : 1096\n"
          ]
        }
      ]
    }
  ]
}