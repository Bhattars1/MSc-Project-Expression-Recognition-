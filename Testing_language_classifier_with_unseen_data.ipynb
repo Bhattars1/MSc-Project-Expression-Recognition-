{
  "nbformat": 4,
  "nbformat_minor": 0,
  "metadata": {
    "colab": {
      "provenance": []
    },
    "kernelspec": {
      "name": "python3",
      "display_name": "Python 3"
    },
    "language_info": {
      "name": "python"
    }
  },
  "cells": [
    {
      "cell_type": "code",
      "execution_count": 3,
      "metadata": {
        "id": "4HFwHtZZQo05"
      },
      "outputs": [],
      "source": [
        "# loading the language label dictionary\n",
        "itol_language = {0: 'surprise', 1: 'fear', 2: 'neutral', 3: 'sad', 4: 'happy', 5: 'anger', 6: 'disgust'}"
      ]
    },
    {
      "cell_type": "code",
      "source": [
        "import torch\n",
        "device = \"cpu\"#\"cuda\" if torch.cuda.is_available else \"cpu\"\n",
        "device"
      ],
      "metadata": {
        "colab": {
          "base_uri": "https://localhost:8080/",
          "height": 35
        },
        "id": "R-x9WSoCQ4EZ",
        "outputId": "e7c55aa1-c020-4581-829f-c2e5b44f1cdc"
      },
      "execution_count": 5,
      "outputs": [
        {
          "output_type": "execute_result",
          "data": {
            "text/plain": [
              "'cpu'"
            ],
            "application/vnd.google.colaboratory.intrinsic+json": {
              "type": "string"
            }
          },
          "metadata": {},
          "execution_count": 5
        }
      ]
    },
    {
      "cell_type": "markdown",
      "source": [
        "# 1. Testing with unseen data (language model)"
      ],
      "metadata": {
        "id": "EOyTvlCGQ6Hm"
      }
    },
    {
      "cell_type": "code",
      "source": [
        "# instance of the model\n",
        "import torch.nn as nn\n",
        "class LSTMClassifier(nn.Module):\n",
        "    def __init__(self, input_dim, hidden_dim, output_dim, num_layers=1):\n",
        "        super(LSTMClassifier, self).__init__()\n",
        "        self.lstm = nn.LSTM(input_dim, hidden_dim, num_layers, batch_first=True)\n",
        "        self.fc = nn.Linear(hidden_dim, output_dim)\n",
        "        self.hidden_dim = hidden_dim\n",
        "        self.num_layers = num_layers\n",
        "\n",
        "    def forward(self, x):\n",
        "        batch_size = x.size(0)\n",
        "        h0 = torch.zeros(self.num_layers, batch_size, self.hidden_dim).to(x.device)\n",
        "        c0 = torch.zeros(self.num_layers, batch_size, self.hidden_dim).to(x.device)\n",
        "        out, _ = self.lstm(x, (h0, c0))\n",
        "        out = self.fc(out[:, -1, :])\n",
        "        return out\n",
        "\n",
        "input_dim = 768\n",
        "hidden_dim = 128\n",
        "output_dim = 7\n",
        "num_layers = 1\n",
        "\n",
        "language_model = LSTMClassifier(input_dim, hidden_dim, output_dim, num_layers)\n",
        "language_model.to(device)"
      ],
      "metadata": {
        "colab": {
          "base_uri": "https://localhost:8080/"
        },
        "id": "zorLfFG3Q9ro",
        "outputId": "0cf9470f-4427-4924-d1e3-c98a96e44482"
      },
      "execution_count": 6,
      "outputs": [
        {
          "output_type": "execute_result",
          "data": {
            "text/plain": [
              "LSTMClassifier(\n",
              "  (lstm): LSTM(768, 128, batch_first=True)\n",
              "  (fc): Linear(in_features=128, out_features=7, bias=True)\n",
              ")"
            ]
          },
          "metadata": {},
          "execution_count": 6
        }
      ]
    },
    {
      "cell_type": "code",
      "source": [
        "!git clone https://github.com/Bhattars1/MSc-Project-Expression-Recognition-"
      ],
      "metadata": {
        "colab": {
          "base_uri": "https://localhost:8080/"
        },
        "id": "KoKH4mRNRURs",
        "outputId": "ebe5076e-7e19-4061-869b-9b0d12ca78eb"
      },
      "execution_count": 18,
      "outputs": [
        {
          "output_type": "stream",
          "name": "stdout",
          "text": [
            "Cloning into 'MSc-Project-Expression-Recognition-'...\n",
            "remote: Enumerating objects: 92, done.\u001b[K\n",
            "remote: Counting objects: 100% (92/92), done.\u001b[K\n",
            "remote: Compressing objects: 100% (81/81), done.\u001b[K\n",
            "remote: Total 92 (delta 33), reused 33 (delta 7), pack-reused 0 (from 0)\u001b[K\n",
            "Receiving objects: 100% (92/92), 38.14 MiB | 14.74 MiB/s, done.\n",
            "Resolving deltas: 100% (33/33), done.\n"
          ]
        }
      ]
    },
    {
      "cell_type": "code",
      "source": [
        "language_model_state_dict = torch.load(\"MSc-Project-Expression-Recognition-/lstm_model.pth\")\n",
        "language_model.load_state_dict(language_model_state_dict)"
      ],
      "metadata": {
        "colab": {
          "base_uri": "https://localhost:8080/"
        },
        "id": "kp5gEwsmRROu",
        "outputId": "ff175439-b3a0-4722-d3ee-52c4cc55ffd0"
      },
      "execution_count": 19,
      "outputs": [
        {
          "output_type": "execute_result",
          "data": {
            "text/plain": [
              "<All keys matched successfully>"
            ]
          },
          "metadata": {},
          "execution_count": 19
        }
      ]
    },
    {
      "cell_type": "code",
      "source": [
        "from transformers import BertTokenizer, BertModel\n",
        "\n",
        "# Load pre-trained BERT model and tokenizer\n",
        "tokenizer = BertTokenizer.from_pretrained('bert-base-uncased')\n",
        "model = BertModel.from_pretrained('bert-base-uncased')"
      ],
      "metadata": {
        "id": "zz-F9zLkRgxT"
      },
      "execution_count": 20,
      "outputs": []
    },
    {
      "cell_type": "code",
      "source": [
        "# Preprocessing function\n",
        "def generate_bert_embeddings(sentence):\n",
        "    inputs = tokenizer(sentence, return_tensors='pt', padding=True, truncation=True, max_length=512)\n",
        "    # Generate embeddings\n",
        "    with torch.no_grad():\n",
        "        outputs = model(**inputs)\n",
        "    # Extract embeddings of the [CLS] token (index 0) for the sentence\n",
        "    cls_embedding = outputs.last_hidden_state[:, 0, :]\n",
        "    return cls_embedding.float()"
      ],
      "metadata": {
        "id": "ZatEm592Rkvw"
      },
      "execution_count": 21,
      "outputs": []
    },
    {
      "cell_type": "code",
      "source": [
        "# Prediction function\n",
        "def predict_text_expression(text):\n",
        "  with torch.inference_mode():\n",
        "    embedded_text = generate_bert_embeddings(text).to(device)\n",
        "    logits = language_model(embedded_text.unsqueeze(0))\n",
        "    probs = torch.softmax(logits, dim=1).squeeze()\n",
        "    label = probs.argmax(0)\n",
        "    return itol_language[label.item()], label.item(), probs"
      ],
      "metadata": {
        "id": "DR7c2Kg4RnRo"
      },
      "execution_count": 22,
      "outputs": []
    },
    {
      "cell_type": "code",
      "source": [
        "# Checking the predictions from the model\n",
        "text = [\"She was so dirty\",\n",
        "        \"This time I won the game, yes\",\n",
        "        \"England lost the game this time\",\n",
        "        \"WOW, That was totally unexpected\"]\n",
        "for sentence in text:\n",
        "  prediction, _, probs = predict_text_expression(sentence)\n",
        "  print(f\"{sentence} : {prediction}\")\n",
        "  print(f\"Probabilities : {probs}\")"
      ],
      "metadata": {
        "colab": {
          "base_uri": "https://localhost:8080/"
        },
        "id": "gtdd_ohjRphw",
        "outputId": "8d2e1e4b-a149-44bc-ea41-bcfcb5d7769c"
      },
      "execution_count": 23,
      "outputs": [
        {
          "output_type": "stream",
          "name": "stdout",
          "text": [
            "She was so dirty : disgust\n",
            "Probabilities : tensor([4.3876e-05, 3.8363e-04, 3.6217e-05, 1.6272e-03, 2.7218e-06, 1.4095e-01,\n",
            "        8.5696e-01])\n",
            "This time I won the game, yes : happy\n",
            "Probabilities : tensor([3.3083e-08, 3.3664e-10, 2.8446e-02, 8.2919e-08, 9.7155e-01, 7.7682e-10,\n",
            "        1.0355e-10])\n",
            "England lost the game this time : sad\n",
            "Probabilities : tensor([1.5929e-04, 3.0573e-03, 1.6824e-01, 7.8409e-01, 1.1531e-04, 6.5417e-04,\n",
            "        4.3684e-02])\n",
            "WOW, That was totally unexpected : surprise\n",
            "Probabilities : tensor([9.9999e-01, 3.8874e-07, 6.1150e-06, 6.7340e-09, 5.3700e-06, 1.1739e-06,\n",
            "        4.2767e-07])\n"
          ]
        }
      ]
    },
    {
      "cell_type": "code",
      "source": [
        "import random\n",
        "\n",
        "# Define file paths\n",
        "dialogues_text_path = 'MSc-Project-Expression-Recognition-/daily_dialouge/dialogues_text.txt'\n",
        "dialogues_emotion_path = 'MSc-Project-Expression-Recognition-/daily_dialouge/dialogues_emotion.txt'\n",
        "\n",
        "# Initialize lists to store sentences and their corresponding labels\n",
        "sentences = []\n",
        "labels = []\n",
        "\n",
        "# Read dialogues from the text file\n",
        "with open(dialogues_text_path, 'r') as text_file:\n",
        "    raw_dialogues = text_file.readlines()\n",
        "\n",
        "# Read labels from the emotion file\n",
        "with open(dialogues_emotion_path, 'r') as label_file:\n",
        "    raw_labels = label_file.readlines()\n",
        "\n",
        "# Process each dialogue and corresponding label\n",
        "for dialogue, label in zip(raw_dialogues, raw_labels):\n",
        "    # Split the dialogue into individual sentences (utterances)\n",
        "    utterances = dialogue.strip().split(\" __eou__ \")\n",
        "\n",
        "    # Split the label line into individual emotion labels\n",
        "    label_list = list(map(int, label.strip().split()))\n",
        "\n",
        "    # Append each cleaned sentence and its corresponding label to the lists\n",
        "    for utterance, label in zip(utterances, label_list):\n",
        "        cleaned_utterance = utterance.replace('__eou__', '').strip()  # Remove '__eou__' and trim spaces\n",
        "        if cleaned_utterance:  # Only add if the utterance is not empty\n",
        "            sentences.append(cleaned_utterance)\n",
        "            labels.append(label)\n",
        "\n",
        "print(len(sentences), len(labels))\n",
        ""
      ],
      "metadata": {
        "colab": {
          "base_uri": "https://localhost:8080/"
        },
        "id": "UDIIw64ASCqI",
        "outputId": "a90a82b9-6b5c-4cb5-b8e2-07eaa0432011"
      },
      "execution_count": 26,
      "outputs": [
        {
          "output_type": "stream",
          "name": "stdout",
          "text": [
            "102979 102979\n"
          ]
        }
      ]
    },
    {
      "cell_type": "code",
      "source": [
        "from collections import Counter\n",
        "Counter(labels)"
      ],
      "metadata": {
        "colab": {
          "base_uri": "https://localhost:8080/"
        },
        "id": "y8pG08ruT4Cy",
        "outputId": "1a6945b8-b1ea-4cdf-f1cf-f603729bd7ca"
      },
      "execution_count": 27,
      "outputs": [
        {
          "output_type": "execute_result",
          "data": {
            "text/plain": [
              "Counter({2: 353, 0: 85572, 4: 12885, 1: 1022, 6: 1823, 5: 1150, 3: 174})"
            ]
          },
          "metadata": {},
          "execution_count": 27
        }
      ]
    },
    {
      "cell_type": "code",
      "source": [
        "# Create a dictionary to store sentences by category\n",
        "category_sentences = {key: [] for key in range(7)}  # Adjust range according to your number of categories\n",
        "\n",
        "# Populate the dictionary with sentences by category\n",
        "for sentence, label in zip(sentences, labels):\n",
        "    if label in category_sentences:\n",
        "        category_sentences[label].append(sentence)\n",
        "\n",
        "# Sample 174 items per category\n",
        "sample_data = []\n",
        "sample_labels = []\n",
        "\n",
        "for category, cat_sentences in category_sentences.items():\n",
        "    if len(cat_sentences) >= 174:\n",
        "        sampled_sentences = random.sample(cat_sentences, 174)\n",
        "        sample_data.extend(sampled_sentences)\n",
        "        sample_labels.extend([category] * 174)\n",
        "    else:\n",
        "        print(f\"Warning: Not enough samples for category {category}\")\n",
        "\n",
        "print(len(sample_data), len(sample_labels))"
      ],
      "metadata": {
        "colab": {
          "base_uri": "https://localhost:8080/"
        },
        "id": "iWOLD6qrUADu",
        "outputId": "7b396d05-e9b8-42b3-b7f0-c4b45058c769"
      },
      "execution_count": 28,
      "outputs": [
        {
          "output_type": "stream",
          "name": "stdout",
          "text": [
            "1218 1218\n"
          ]
        }
      ]
    },
    {
      "cell_type": "code",
      "source": [
        "Counter(sample_labels)"
      ],
      "metadata": {
        "colab": {
          "base_uri": "https://localhost:8080/"
        },
        "id": "00Hy8YPOUEtR",
        "outputId": "932546f6-8a4f-413f-fd13-1f3196db49c9"
      },
      "execution_count": 29,
      "outputs": [
        {
          "output_type": "execute_result",
          "data": {
            "text/plain": [
              "Counter({0: 174, 1: 174, 2: 174, 3: 174, 4: 174, 5: 174, 6: 174})"
            ]
          },
          "metadata": {},
          "execution_count": 29
        }
      ]
    },
    {
      "cell_type": "code",
      "source": [
        "# getting the text label dictionary from the dataset instruction\n",
        "text_labels_dict = {\n",
        "    0: \"no emotion\",\n",
        "    1: \"anger\",\n",
        "    2: \"disgust\",\n",
        "    3: \"fear\",\n",
        "    4: \"happiness\",\n",
        "    5: \"sadness\",\n",
        "    6: \"surprise\"\n",
        "}"
      ],
      "metadata": {
        "id": "JgXjlf8VUHu4"
      },
      "execution_count": 30,
      "outputs": []
    },
    {
      "cell_type": "code",
      "source": [
        "# making the label consistent\n",
        "print(f\"test_labels: {text_labels_dict}\")\n",
        "print(f\"itol_language_model: {itol_language}\")"
      ],
      "metadata": {
        "colab": {
          "base_uri": "https://localhost:8080/"
        },
        "id": "rHANlMnWUKLr",
        "outputId": "9133866e-c450-4231-d07b-c562001d229e"
      },
      "execution_count": 33,
      "outputs": [
        {
          "output_type": "stream",
          "name": "stdout",
          "text": [
            "test_labels: {0: 'no emotion', 1: 'anger', 2: 'disgust', 3: 'fear', 4: 'happiness', 5: 'sadness', 6: 'surprise'}\n",
            "itol_language_model: {0: 'surprise', 1: 'fear', 2: 'neutral', 3: 'sad', 4: 'happy', 5: 'anger', 6: 'disgust'}\n"
          ]
        }
      ]
    },
    {
      "cell_type": "code",
      "source": [
        "mapping = {\n",
        "    0: 6,  # 'surprise' -> 'surprise'\n",
        "    1: 3,  # 'fear' -> 'fear'\n",
        "    2: 0,  # 'neutral' -> 'no emotion'\n",
        "    3: 5,  # 'sad' -> 'sadness'\n",
        "    4: 4,  # 'happy' -> 'happiness'\n",
        "    5: 1,  # 'anger' -> 'anger'\n",
        "    6: 2   # 'disgust' -> 'disgust'\n",
        "}"
      ],
      "metadata": {
        "id": "_pP-7MmrVGyv"
      },
      "execution_count": 34,
      "outputs": []
    },
    {
      "cell_type": "code",
      "source": [
        "for i, sentence in enumerate(sample_data[:3]):\n",
        "  print(f\"{sentence}:    {text_labels_dict[sample_labels[i]]}\")"
      ],
      "metadata": {
        "colab": {
          "base_uri": "https://localhost:8080/"
        },
        "id": "rxZT5AkIVMda",
        "outputId": "882e7929-cfb6-468a-8dd7-7c1ba819d327"
      },
      "execution_count": 35,
      "outputs": [
        {
          "output_type": "stream",
          "name": "stdout",
          "text": [
            "Bill Smith .:    no emotion\n",
            "Generally it will arrive within a week .:    no emotion\n",
            "I think you'll be very pleased with how well we duplicate your old card .:    no emotion\n"
          ]
        }
      ]
    },
    {
      "cell_type": "code",
      "source": [
        "# passing the random texts through preprocessor and model\n",
        "n = len(sample_labels)\n",
        "random_index = [random.randint(0, n-1) for _ in range(5)]\n",
        "\n",
        "for idx in random_index:\n",
        "  _, prediction, _ = predict_text_expression(sample_data[idx])\n",
        "  prediction = itol_language[mapping[prediction]]\n",
        "  print(f\"\\n{sample_data[idx]}\")\n",
        "  print(f\"Prediction: {prediction}\")\n",
        "\n",
        "  org_exp = text_labels_dict[sample_labels[idx]]\n",
        "  print(f\"Original expression: {org_exp}\")"
      ],
      "metadata": {
        "colab": {
          "base_uri": "https://localhost:8080/"
        },
        "id": "5MKCRhh7VSkz",
        "outputId": "c5e03dcd-a1d0-4d37-9ea1-f394ebfaabd1"
      },
      "execution_count": 50,
      "outputs": [
        {
          "output_type": "stream",
          "name": "stdout",
          "text": [
            "\n",
            "I think it's dangerous . What if I can't turn it off ?\n",
            "Prediction: sad\n",
            "Original expression: fear\n",
            "\n",
            "Is it the same in America ?\n",
            "Prediction: surprise\n",
            "Original expression: no emotion\n",
            "\n",
            "I want justice .\n",
            "Prediction: fear\n",
            "Original expression: anger\n",
            "\n",
            "Thanks . I appreciate it .\n",
            "Prediction: anger\n",
            "Original expression: happiness\n",
            "\n",
            "OK . Here you are .\n",
            "Prediction: surprise\n",
            "Original expression: happiness\n"
          ]
        }
      ]
    },
    {
      "cell_type": "code",
      "source": [
        "# Initialize the list to hold the mapped predictions\n",
        "import tqdm\n",
        "prediction_language_model = []\n",
        "\n",
        "# Batch size\n",
        "batch_size = 16\n",
        "\n",
        "# Prediction:\n",
        "for i in tqdm.tqdm(range(0, len(sample_data), batch_size)):\n",
        "    batch = sample_data[i:i+batch_size]\n",
        "    for sentence in batch:\n",
        "        _, predict, _ = predict_text_expression(sentence)\n",
        "        mapped_prediction = mapping[predict]\n",
        "        prediction_language_model.append(mapped_prediction)\n",
        "\n",
        "# Display the first 5 predictions\n",
        "print(prediction_language_model[:5])"
      ],
      "metadata": {
        "colab": {
          "base_uri": "https://localhost:8080/"
        },
        "id": "zLMDHQLwW4w4",
        "outputId": "b57c4e89-a173-4832-f7b0-b854d7dd4aeb"
      },
      "execution_count": 57,
      "outputs": [
        {
          "output_type": "stream",
          "name": "stderr",
          "text": [
            "100%|██████████| 77/77 [03:26<00:00,  2.68s/it]"
          ]
        },
        {
          "output_type": "stream",
          "name": "stdout",
          "text": [
            "[0, 0, 4, 0, 0]\n"
          ]
        },
        {
          "output_type": "stream",
          "name": "stderr",
          "text": [
            "\n"
          ]
        }
      ]
    },
    {
      "cell_type": "code",
      "source": [
        "sample_labels[:5]"
      ],
      "metadata": {
        "colab": {
          "base_uri": "https://localhost:8080/"
        },
        "id": "Z7Po2JAgYbof",
        "outputId": "2523a5d1-93f2-4256-df69-b63b64866c91"
      },
      "execution_count": 58,
      "outputs": [
        {
          "output_type": "execute_result",
          "data": {
            "text/plain": [
              "[0, 0, 0, 0, 0]"
            ]
          },
          "metadata": {},
          "execution_count": 58
        }
      ]
    },
    {
      "cell_type": "code",
      "source": [
        "# defining the accuracy function\n",
        "def accuracy_fn(y_true,y_pred):\n",
        "  correct = torch.eq(y_true,y_pred).sum().item()\n",
        "  accuracy=(correct/len(y_true))*100\n",
        "  return accuracy"
      ],
      "metadata": {
        "id": "UMFdp5qYXe5_"
      },
      "execution_count": 59,
      "outputs": []
    },
    {
      "cell_type": "code",
      "source": [
        "accuracy = accuracy_fn(torch.tensor(sample_labels), torch.tensor(prediction_language_model))\n",
        "print(f\"Accuracy: {accuracy:.3f}%\")"
      ],
      "metadata": {
        "colab": {
          "base_uri": "https://localhost:8080/"
        },
        "id": "6UM7heWtXP6w",
        "outputId": "69acd7af-8c04-43c5-f22c-9ca8f067cd55"
      },
      "execution_count": 60,
      "outputs": [
        {
          "output_type": "stream",
          "name": "stdout",
          "text": [
            "Accuracy: 38.916%\n"
          ]
        }
      ]
    },
    {
      "cell_type": "code",
      "source": [
        "import matplotlib.pyplot as plt\n",
        "import seaborn as sns\n",
        "from sklearn.metrics import confusion_matrix\n",
        "\n",
        "# Define class labels based on test_labels\n",
        "class_labels = [text_labels_dict[i] for i in sorted(text_labels_dict.keys())]\n",
        "\n",
        "# Compute confusion matrix\n",
        "conf_matrix = confusion_matrix(sample_labels, prediction_language_model)\n",
        "\n",
        "# Plot confusion matrix with correct labels\n",
        "plt.figure(figsize=(10, 7))\n",
        "sns.heatmap(conf_matrix, annot=True, fmt='d', cmap='Blues',\n",
        "            xticklabels=class_labels,\n",
        "            yticklabels=class_labels)\n",
        "plt.xlabel('Predicted Labels')\n",
        "plt.ylabel('True Labels')\n",
        "plt.title('Confusion Matrix')\n",
        "plt.show()"
      ],
      "metadata": {
        "colab": {
          "base_uri": "https://localhost:8080/",
          "height": 641
        },
        "id": "OlBj0VCrZ6L-",
        "outputId": "f4da69cc-910d-42cf-e64a-6977a9def5d2"
      },
      "execution_count": 67,
      "outputs": [
        {
          "output_type": "display_data",
          "data": {
            "text/plain": [
              "<Figure size 1000x700 with 2 Axes>"
            ],
            "image/png": "[encoded data removed]"
          },
          "metadata": {}
        }
      ]
    },
    {
      "cell_type": "code",
      "source": [
        "from sklearn.metrics import precision_score, recall_score, f1_score\n",
        "\n",
        "# Compute precision, recall, and F1 score\n",
        "precision = precision_score(sample_labels, prediction_language_model, average='weighted')\n",
        "recall = recall_score(sample_labels, prediction_language_model, average='weighted')\n",
        "f1 = f1_score(sample_labels, prediction_language_model, average='weighted')\n",
        "\n",
        "print(f\"Precision: {precision:.4f}\")\n",
        "print(f\"Recall: {recall:.4f}\")\n",
        "print(f\"F1 Score: {f1:.4f}\")\n"
      ],
      "metadata": {
        "colab": {
          "base_uri": "https://localhost:8080/"
        },
        "id": "D9QnLi5UZ9Ro",
        "outputId": "2c0b3dbd-2763-4475-91fe-7b782185a5e2"
      },
      "execution_count": 68,
      "outputs": [
        {
          "output_type": "stream",
          "name": "stdout",
          "text": [
            "Precision: 0.4175\n",
            "Recall: 0.3892\n",
            "F1 Score: 0.3811\n"
          ]
        }
      ]
    }
  ]
}