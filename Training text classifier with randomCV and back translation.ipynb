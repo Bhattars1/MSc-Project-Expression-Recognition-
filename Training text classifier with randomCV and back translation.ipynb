{
  "nbformat": 4,
  "nbformat_minor": 0,
  "metadata": {
    "colab": {
      "provenance": [],
      "collapsed_sections": [
        "7PVhcKREDRlK",
        "gcqXbaf7NERi",
        "sE_FE4SyQ1-k",
        "PUfDGIXeXgtB"
      ],
      "gpuType": "T4"
    },
    "kernelspec": {
      "name": "python3",
      "display_name": "Python 3"
    },
    "language_info": {
      "name": "python"
    },
    "accelerator": "GPU",
    "widgets": {
      "application/vnd.jupyter.widget-state+json": {
        "0acb55044fe74ed2af481d18d7ae60ae": {
          "model_module": "@jupyter-widgets/controls",
          "model_name": "HBoxModel",
          "model_module_version": "1.5.0",
          "state": {
            "_dom_classes": [],
            "_model_module": "@jupyter-widgets/controls",
            "_model_module_version": "1.5.0",
            "_model_name": "HBoxModel",
            "_view_count": null,
            "_view_module": "@jupyter-widgets/controls",
            "_view_module_version": "1.5.0",
            "_view_name": "HBoxView",
            "box_style": "",
            "children": [
              "IPY_MODEL_59fb535c4f94470a8054e44225f0c750",
              "IPY_MODEL_63b00cb67e0b4fe9a3998adc4b1df47e",
              "IPY_MODEL_9655eb06cd6c4b03a6e57cd7345967f1"
            ],
            "layout": "IPY_MODEL_78f19abfb217461a9caff6c8df99426b"
          }
        },
        "59fb535c4f94470a8054e44225f0c750": {
          "model_module": "@jupyter-widgets/controls",
          "model_name": "HTMLModel",
          "model_module_version": "1.5.0",
          "state": {
            "_dom_classes": [],
            "_model_module": "@jupyter-widgets/controls",
            "_model_module_version": "1.5.0",
            "_model_name": "HTMLModel",
            "_view_count": null,
            "_view_module": "@jupyter-widgets/controls",
            "_view_module_version": "1.5.0",
            "_view_name": "HTMLView",
            "description": "",
            "description_tooltip": null,
            "layout": "IPY_MODEL_4ea7c0b1781c4dc08fe6575f7fe57986",
            "placeholder": "​",
            "style": "IPY_MODEL_f5368b6314814864a99c53201f8ab0a4",
            "value": "tokenizer_config.json: 100%"
          }
        },
        "63b00cb67e0b4fe9a3998adc4b1df47e": {
          "model_module": "@jupyter-widgets/controls",
          "model_name": "FloatProgressModel",
          "model_module_version": "1.5.0",
          "state": {
            "_dom_classes": [],
            "_model_module": "@jupyter-widgets/controls",
            "_model_module_version": "1.5.0",
            "_model_name": "FloatProgressModel",
            "_view_count": null,
            "_view_module": "@jupyter-widgets/controls",
            "_view_module_version": "1.5.0",
            "_view_name": "ProgressView",
            "bar_style": "success",
            "description": "",
            "description_tooltip": null,
            "layout": "IPY_MODEL_2bba27c95b0f471691b1f421124def19",
            "max": 48,
            "min": 0,
            "orientation": "horizontal",
            "style": "IPY_MODEL_452019506ced4ad88f34f41defd04a13",
            "value": 48
          }
        },
        "9655eb06cd6c4b03a6e57cd7345967f1": {
          "model_module": "@jupyter-widgets/controls",
          "model_name": "HTMLModel",
          "model_module_version": "1.5.0",
          "state": {
            "_dom_classes": [],
            "_model_module": "@jupyter-widgets/controls",
            "_model_module_version": "1.5.0",
            "_model_name": "HTMLModel",
            "_view_count": null,
            "_view_module": "@jupyter-widgets/controls",
            "_view_module_version": "1.5.0",
            "_view_name": "HTMLView",
            "description": "",
            "description_tooltip": null,
            "layout": "IPY_MODEL_fd10d6d551bb4c8db9e2d9eea58106c7",
            "placeholder": "​",
            "style": "IPY_MODEL_7ad1a2959a874f38a8db7248cecf1390",
            "value": " 48.0/48.0 [00:00&lt;00:00, 1.22kB/s]"
          }
        },
        "78f19abfb217461a9caff6c8df99426b": {
          "model_module": "@jupyter-widgets/base",
          "model_name": "LayoutModel",
          "model_module_version": "1.2.0",
          "state": {
            "_model_module": "@jupyter-widgets/base",
            "_model_module_version": "1.2.0",
            "_model_name": "LayoutModel",
            "_view_count": null,
            "_view_module": "@jupyter-widgets/base",
            "_view_module_version": "1.2.0",
            "_view_name": "LayoutView",
            "align_content": null,
            "align_items": null,
            "align_self": null,
            "border": null,
            "bottom": null,
            "display": null,
            "flex": null,
            "flex_flow": null,
            "grid_area": null,
            "grid_auto_columns": null,
            "grid_auto_flow": null,
            "grid_auto_rows": null,
            "grid_column": null,
            "grid_gap": null,
            "grid_row": null,
            "grid_template_areas": null,
            "grid_template_columns": null,
            "grid_template_rows": null,
            "height": null,
            "justify_content": null,
            "justify_items": null,
            "left": null,
            "margin": null,
            "max_height": null,
            "max_width": null,
            "min_height": null,
            "min_width": null,
            "object_fit": null,
            "object_position": null,
            "order": null,
            "overflow": null,
            "overflow_x": null,
            "overflow_y": null,
            "padding": null,
            "right": null,
            "top": null,
            "visibility": null,
            "width": null
          }
        },
        "4ea7c0b1781c4dc08fe6575f7fe57986": {
          "model_module": "@jupyter-widgets/base",
          "model_name": "LayoutModel",
          "model_module_version": "1.2.0",
          "state": {
            "_model_module": "@jupyter-widgets/base",
            "_model_module_version": "1.2.0",
            "_model_name": "LayoutModel",
            "_view_count": null,
            "_view_module": "@jupyter-widgets/base",
            "_view_module_version": "1.2.0",
            "_view_name": "LayoutView",
            "align_content": null,
            "align_items": null,
            "align_self": null,
            "border": null,
            "bottom": null,
            "display": null,
            "flex": null,
            "flex_flow": null,
            "grid_area": null,
            "grid_auto_columns": null,
            "grid_auto_flow": null,
            "grid_auto_rows": null,
            "grid_column": null,
            "grid_gap": null,
            "grid_row": null,
            "grid_template_areas": null,
            "grid_template_columns": null,
            "grid_template_rows": null,
            "height": null,
            "justify_content": null,
            "justify_items": null,
            "left": null,
            "margin": null,
            "max_height": null,
            "max_width": null,
            "min_height": null,
            "min_width": null,
            "object_fit": null,
            "object_position": null,
            "order": null,
            "overflow": null,
            "overflow_x": null,
            "overflow_y": null,
            "padding": null,
            "right": null,
            "top": null,
            "visibility": null,
            "width": null
          }
        },
        "f5368b6314814864a99c53201f8ab0a4": {
          "model_module": "@jupyter-widgets/controls",
          "model_name": "DescriptionStyleModel",
          "model_module_version": "1.5.0",
          "state": {
            "_model_module": "@jupyter-widgets/controls",
            "_model_module_version": "1.5.0",
            "_model_name": "DescriptionStyleModel",
            "_view_count": null,
            "_view_module": "@jupyter-widgets/base",
            "_view_module_version": "1.2.0",
            "_view_name": "StyleView",
            "description_width": ""
          }
        },
        "2bba27c95b0f471691b1f421124def19": {
          "model_module": "@jupyter-widgets/base",
          "model_name": "LayoutModel",
          "model_module_version": "1.2.0",
          "state": {
            "_model_module": "@jupyter-widgets/base",
            "_model_module_version": "1.2.0",
            "_model_name": "LayoutModel",
            "_view_count": null,
            "_view_module": "@jupyter-widgets/base",
            "_view_module_version": "1.2.0",
            "_view_name": "LayoutView",
            "align_content": null,
            "align_items": null,
            "align_self": null,
            "border": null,
            "bottom": null,
            "display": null,
            "flex": null,
            "flex_flow": null,
            "grid_area": null,
            "grid_auto_columns": null,
            "grid_auto_flow": null,
            "grid_auto_rows": null,
            "grid_column": null,
            "grid_gap": null,
            "grid_row": null,
            "grid_template_areas": null,
            "grid_template_columns": null,
            "grid_template_rows": null,
            "height": null,
            "justify_content": null,
            "justify_items": null,
            "left": null,
            "margin": null,
            "max_height": null,
            "max_width": null,
            "min_height": null,
            "min_width": null,
            "object_fit": null,
            "object_position": null,
            "order": null,
            "overflow": null,
            "overflow_x": null,
            "overflow_y": null,
            "padding": null,
            "right": null,
            "top": null,
            "visibility": null,
            "width": null
          }
        },
        "452019506ced4ad88f34f41defd04a13": {
          "model_module": "@jupyter-widgets/controls",
          "model_name": "ProgressStyleModel",
          "model_module_version": "1.5.0",
          "state": {
            "_model_module": "@jupyter-widgets/controls",
            "_model_module_version": "1.5.0",
            "_model_name": "ProgressStyleModel",
            "_view_count": null,
            "_view_module": "@jupyter-widgets/base",
            "_view_module_version": "1.2.0",
            "_view_name": "StyleView",
            "bar_color": null,
            "description_width": ""
          }
        },
        "fd10d6d551bb4c8db9e2d9eea58106c7": {
          "model_module": "@jupyter-widgets/base",
          "model_name": "LayoutModel",
          "model_module_version": "1.2.0",
          "state": {
            "_model_module": "@jupyter-widgets/base",
            "_model_module_version": "1.2.0",
            "_model_name": "LayoutModel",
            "_view_count": null,
            "_view_module": "@jupyter-widgets/base",
            "_view_module_version": "1.2.0",
            "_view_name": "LayoutView",
            "align_content": null,
            "align_items": null,
            "align_self": null,
            "border": null,
            "bottom": null,
            "display": null,
            "flex": null,
            "flex_flow": null,
            "grid_area": null,
            "grid_auto_columns": null,
            "grid_auto_flow": null,
            "grid_auto_rows": null,
            "grid_column": null,
            "grid_gap": null,
            "grid_row": null,
            "grid_template_areas": null,
            "grid_template_columns": null,
            "grid_template_rows": null,
            "height": null,
            "justify_content": null,
            "justify_items": null,
            "left": null,
            "margin": null,
            "max_height": null,
            "max_width": null,
            "min_height": null,
            "min_width": null,
            "object_fit": null,
            "object_position": null,
            "order": null,
            "overflow": null,
            "overflow_x": null,
            "overflow_y": null,
            "padding": null,
            "right": null,
            "top": null,
            "visibility": null,
            "width": null
          }
        },
        "7ad1a2959a874f38a8db7248cecf1390": {
          "model_module": "@jupyter-widgets/controls",
          "model_name": "DescriptionStyleModel",
          "model_module_version": "1.5.0",
          "state": {
            "_model_module": "@jupyter-widgets/controls",
            "_model_module_version": "1.5.0",
            "_model_name": "DescriptionStyleModel",
            "_view_count": null,
            "_view_module": "@jupyter-widgets/base",
            "_view_module_version": "1.2.0",
            "_view_name": "StyleView",
            "description_width": ""
          }
        },
        "70b179302c0f443a9a0852b0a048f2d8": {
          "model_module": "@jupyter-widgets/controls",
          "model_name": "HBoxModel",
          "model_module_version": "1.5.0",
          "state": {
            "_dom_classes": [],
            "_model_module": "@jupyter-widgets/controls",
            "_model_module_version": "1.5.0",
            "_model_name": "HBoxModel",
            "_view_count": null,
            "_view_module": "@jupyter-widgets/controls",
            "_view_module_version": "1.5.0",
            "_view_name": "HBoxView",
            "box_style": "",
            "children": [
              "IPY_MODEL_c6da59afa27d4b10953f70a5530c6aae",
              "IPY_MODEL_4c85c6b1151e4304a3eaf40224bb1b54",
              "IPY_MODEL_0cb0a6c8496341eabf91f44c8654f3ba"
            ],
            "layout": "IPY_MODEL_065b052a9e2949baaef87df234cfece5"
          }
        },
        "c6da59afa27d4b10953f70a5530c6aae": {
          "model_module": "@jupyter-widgets/controls",
          "model_name": "HTMLModel",
          "model_module_version": "1.5.0",
          "state": {
            "_dom_classes": [],
            "_model_module": "@jupyter-widgets/controls",
            "_model_module_version": "1.5.0",
            "_model_name": "HTMLModel",
            "_view_count": null,
            "_view_module": "@jupyter-widgets/controls",
            "_view_module_version": "1.5.0",
            "_view_name": "HTMLView",
            "description": "",
            "description_tooltip": null,
            "layout": "IPY_MODEL_31520fd03b624ff492d30be8d3b0f5d8",
            "placeholder": "​",
            "style": "IPY_MODEL_4a74cfca41b94532aab17c92f2df8b3a",
            "value": "vocab.txt: 100%"
          }
        },
        "4c85c6b1151e4304a3eaf40224bb1b54": {
          "model_module": "@jupyter-widgets/controls",
          "model_name": "FloatProgressModel",
          "model_module_version": "1.5.0",
          "state": {
            "_dom_classes": [],
            "_model_module": "@jupyter-widgets/controls",
            "_model_module_version": "1.5.0",
            "_model_name": "FloatProgressModel",
            "_view_count": null,
            "_view_module": "@jupyter-widgets/controls",
            "_view_module_version": "1.5.0",
            "_view_name": "ProgressView",
            "bar_style": "success",
            "description": "",
            "description_tooltip": null,
            "layout": "IPY_MODEL_f536fcfbdf644626bcecae918cdd07fd",
            "max": 231508,
            "min": 0,
            "orientation": "horizontal",
            "style": "IPY_MODEL_6440acb156fd45adbef2fc0673208682",
            "value": 231508
          }
        },
        "0cb0a6c8496341eabf91f44c8654f3ba": {
          "model_module": "@jupyter-widgets/controls",
          "model_name": "HTMLModel",
          "model_module_version": "1.5.0",
          "state": {
            "_dom_classes": [],
            "_model_module": "@jupyter-widgets/controls",
            "_model_module_version": "1.5.0",
            "_model_name": "HTMLModel",
            "_view_count": null,
            "_view_module": "@jupyter-widgets/controls",
            "_view_module_version": "1.5.0",
            "_view_name": "HTMLView",
            "description": "",
            "description_tooltip": null,
            "layout": "IPY_MODEL_ddb83c4ff3f44287876be41ed31c1407",
            "placeholder": "​",
            "style": "IPY_MODEL_40a253956b844d99b86590f91322f173",
            "value": " 232k/232k [00:00&lt;00:00, 2.26MB/s]"
          }
        },
        "065b052a9e2949baaef87df234cfece5": {
          "model_module": "@jupyter-widgets/base",
          "model_name": "LayoutModel",
          "model_module_version": "1.2.0",
          "state": {
            "_model_module": "@jupyter-widgets/base",
            "_model_module_version": "1.2.0",
            "_model_name": "LayoutModel",
            "_view_count": null,
            "_view_module": "@jupyter-widgets/base",
            "_view_module_version": "1.2.0",
            "_view_name": "LayoutView",
            "align_content": null,
            "align_items": null,
            "align_self": null,
            "border": null,
            "bottom": null,
            "display": null,
            "flex": null,
            "flex_flow": null,
            "grid_area": null,
            "grid_auto_columns": null,
            "grid_auto_flow": null,
            "grid_auto_rows": null,
            "grid_column": null,
            "grid_gap": null,
            "grid_row": null,
            "grid_template_areas": null,
            "grid_template_columns": null,
            "grid_template_rows": null,
            "height": null,
            "justify_content": null,
            "justify_items": null,
            "left": null,
            "margin": null,
            "max_height": null,
            "max_width": null,
            "min_height": null,
            "min_width": null,
            "object_fit": null,
            "object_position": null,
            "order": null,
            "overflow": null,
            "overflow_x": null,
            "overflow_y": null,
            "padding": null,
            "right": null,
            "top": null,
            "visibility": null,
            "width": null
          }
        },
        "31520fd03b624ff492d30be8d3b0f5d8": {
          "model_module": "@jupyter-widgets/base",
          "model_name": "LayoutModel",
          "model_module_version": "1.2.0",
          "state": {
            "_model_module": "@jupyter-widgets/base",
            "_model_module_version": "1.2.0",
            "_model_name": "LayoutModel",
            "_view_count": null,
            "_view_module": "@jupyter-widgets/base",
            "_view_module_version": "1.2.0",
            "_view_name": "LayoutView",
            "align_content": null,
            "align_items": null,
            "align_self": null,
            "border": null,
            "bottom": null,
            "display": null,
            "flex": null,
            "flex_flow": null,
            "grid_area": null,
            "grid_auto_columns": null,
            "grid_auto_flow": null,
            "grid_auto_rows": null,
            "grid_column": null,
            "grid_gap": null,
            "grid_row": null,
            "grid_template_areas": null,
            "grid_template_columns": null,
            "grid_template_rows": null,
            "height": null,
            "justify_content": null,
            "justify_items": null,
            "left": null,
            "margin": null,
            "max_height": null,
            "max_width": null,
            "min_height": null,
            "min_width": null,
            "object_fit": null,
            "object_position": null,
            "order": null,
            "overflow": null,
            "overflow_x": null,
            "overflow_y": null,
            "padding": null,
            "right": null,
            "top": null,
            "visibility": null,
            "width": null
          }
        },
        "4a74cfca41b94532aab17c92f2df8b3a": {
          "model_module": "@jupyter-widgets/controls",
          "model_name": "DescriptionStyleModel",
          "model_module_version": "1.5.0",
          "state": {
            "_model_module": "@jupyter-widgets/controls",
            "_model_module_version": "1.5.0",
            "_model_name": "DescriptionStyleModel",
            "_view_count": null,
            "_view_module": "@jupyter-widgets/base",
            "_view_module_version": "1.2.0",
            "_view_name": "StyleView",
            "description_width": ""
          }
        },
        "f536fcfbdf644626bcecae918cdd07fd": {
          "model_module": "@jupyter-widgets/base",
          "model_name": "LayoutModel",
          "model_module_version": "1.2.0",
          "state": {
            "_model_module": "@jupyter-widgets/base",
            "_model_module_version": "1.2.0",
            "_model_name": "LayoutModel",
            "_view_count": null,
            "_view_module": "@jupyter-widgets/base",
            "_view_module_version": "1.2.0",
            "_view_name": "LayoutView",
            "align_content": null,
            "align_items": null,
            "align_self": null,
            "border": null,
            "bottom": null,
            "display": null,
            "flex": null,
            "flex_flow": null,
            "grid_area": null,
            "grid_auto_columns": null,
            "grid_auto_flow": null,
            "grid_auto_rows": null,
            "grid_column": null,
            "grid_gap": null,
            "grid_row": null,
            "grid_template_areas": null,
            "grid_template_columns": null,
            "grid_template_rows": null,
            "height": null,
            "justify_content": null,
            "justify_items": null,
            "left": null,
            "margin": null,
            "max_height": null,
            "max_width": null,
            "min_height": null,
            "min_width": null,
            "object_fit": null,
            "object_position": null,
            "order": null,
            "overflow": null,
            "overflow_x": null,
            "overflow_y": null,
            "padding": null,
            "right": null,
            "top": null,
            "visibility": null,
            "width": null
          }
        },
        "6440acb156fd45adbef2fc0673208682": {
          "model_module": "@jupyter-widgets/controls",
          "model_name": "ProgressStyleModel",
          "model_module_version": "1.5.0",
          "state": {
            "_model_module": "@jupyter-widgets/controls",
            "_model_module_version": "1.5.0",
            "_model_name": "ProgressStyleModel",
            "_view_count": null,
            "_view_module": "@jupyter-widgets/base",
            "_view_module_version": "1.2.0",
            "_view_name": "StyleView",
            "bar_color": null,
            "description_width": ""
          }
        },
        "ddb83c4ff3f44287876be41ed31c1407": {
          "model_module": "@jupyter-widgets/base",
          "model_name": "LayoutModel",
          "model_module_version": "1.2.0",
          "state": {
            "_model_module": "@jupyter-widgets/base",
            "_model_module_version": "1.2.0",
            "_model_name": "LayoutModel",
            "_view_count": null,
            "_view_module": "@jupyter-widgets/base",
            "_view_module_version": "1.2.0",
            "_view_name": "LayoutView",
            "align_content": null,
            "align_items": null,
            "align_self": null,
            "border": null,
            "bottom": null,
            "display": null,
            "flex": null,
            "flex_flow": null,
            "grid_area": null,
            "grid_auto_columns": null,
            "grid_auto_flow": null,
            "grid_auto_rows": null,
            "grid_column": null,
            "grid_gap": null,
            "grid_row": null,
            "grid_template_areas": null,
            "grid_template_columns": null,
            "grid_template_rows": null,
            "height": null,
            "justify_content": null,
            "justify_items": null,
            "left": null,
            "margin": null,
            "max_height": null,
            "max_width": null,
            "min_height": null,
            "min_width": null,
            "object_fit": null,
            "object_position": null,
            "order": null,
            "overflow": null,
            "overflow_x": null,
            "overflow_y": null,
            "padding": null,
            "right": null,
            "top": null,
            "visibility": null,
            "width": null
          }
        },
        "40a253956b844d99b86590f91322f173": {
          "model_module": "@jupyter-widgets/controls",
          "model_name": "DescriptionStyleModel",
          "model_module_version": "1.5.0",
          "state": {
            "_model_module": "@jupyter-widgets/controls",
            "_model_module_version": "1.5.0",
            "_model_name": "DescriptionStyleModel",
            "_view_count": null,
            "_view_module": "@jupyter-widgets/base",
            "_view_module_version": "1.2.0",
            "_view_name": "StyleView",
            "description_width": ""
          }
        },
        "ce3e9ceb22954f9896752efaa943636b": {
          "model_module": "@jupyter-widgets/controls",
          "model_name": "HBoxModel",
          "model_module_version": "1.5.0",
          "state": {
            "_dom_classes": [],
            "_model_module": "@jupyter-widgets/controls",
            "_model_module_version": "1.5.0",
            "_model_name": "HBoxModel",
            "_view_count": null,
            "_view_module": "@jupyter-widgets/controls",
            "_view_module_version": "1.5.0",
            "_view_name": "HBoxView",
            "box_style": "",
            "children": [
              "IPY_MODEL_bc6c611da1e64d9b94a08417c5fbc21a",
              "IPY_MODEL_89eab20881584e53bbd4526ea6ebf635",
              "IPY_MODEL_a26c9100320c4373b5409af7c3f2205f"
            ],
            "layout": "IPY_MODEL_6100045b20ef45c3ba9316558d90e3c9"
          }
        },
        "bc6c611da1e64d9b94a08417c5fbc21a": {
          "model_module": "@jupyter-widgets/controls",
          "model_name": "HTMLModel",
          "model_module_version": "1.5.0",
          "state": {
            "_dom_classes": [],
            "_model_module": "@jupyter-widgets/controls",
            "_model_module_version": "1.5.0",
            "_model_name": "HTMLModel",
            "_view_count": null,
            "_view_module": "@jupyter-widgets/controls",
            "_view_module_version": "1.5.0",
            "_view_name": "HTMLView",
            "description": "",
            "description_tooltip": null,
            "layout": "IPY_MODEL_9b4e2908296f4275b36d7e2b756a7baa",
            "placeholder": "​",
            "style": "IPY_MODEL_99a83d4458d14b1db4d2cd57ce12a567",
            "value": "tokenizer.json: 100%"
          }
        },
        "89eab20881584e53bbd4526ea6ebf635": {
          "model_module": "@jupyter-widgets/controls",
          "model_name": "FloatProgressModel",
          "model_module_version": "1.5.0",
          "state": {
            "_dom_classes": [],
            "_model_module": "@jupyter-widgets/controls",
            "_model_module_version": "1.5.0",
            "_model_name": "FloatProgressModel",
            "_view_count": null,
            "_view_module": "@jupyter-widgets/controls",
            "_view_module_version": "1.5.0",
            "_view_name": "ProgressView",
            "bar_style": "success",
            "description": "",
            "description_tooltip": null,
            "layout": "IPY_MODEL_671ac76d7e124b1fa6c014542f33165f",
            "max": 466062,
            "min": 0,
            "orientation": "horizontal",
            "style": "IPY_MODEL_844fb89549774c3088273f85c49a9a1a",
            "value": 466062
          }
        },
        "a26c9100320c4373b5409af7c3f2205f": {
          "model_module": "@jupyter-widgets/controls",
          "model_name": "HTMLModel",
          "model_module_version": "1.5.0",
          "state": {
            "_dom_classes": [],
            "_model_module": "@jupyter-widgets/controls",
            "_model_module_version": "1.5.0",
            "_model_name": "HTMLModel",
            "_view_count": null,
            "_view_module": "@jupyter-widgets/controls",
            "_view_module_version": "1.5.0",
            "_view_name": "HTMLView",
            "description": "",
            "description_tooltip": null,
            "layout": "IPY_MODEL_0450bcaeb1034f20b742e39e0e0c659a",
            "placeholder": "​",
            "style": "IPY_MODEL_8667c5982294484e83b62fc0deeae27f",
            "value": " 466k/466k [00:00&lt;00:00, 7.76MB/s]"
          }
        },
        "6100045b20ef45c3ba9316558d90e3c9": {
          "model_module": "@jupyter-widgets/base",
          "model_name": "LayoutModel",
          "model_module_version": "1.2.0",
          "state": {
            "_model_module": "@jupyter-widgets/base",
            "_model_module_version": "1.2.0",
            "_model_name": "LayoutModel",
            "_view_count": null,
            "_view_module": "@jupyter-widgets/base",
            "_view_module_version": "1.2.0",
            "_view_name": "LayoutView",
            "align_content": null,
            "align_items": null,
            "align_self": null,
            "border": null,
            "bottom": null,
            "display": null,
            "flex": null,
            "flex_flow": null,
            "grid_area": null,
            "grid_auto_columns": null,
            "grid_auto_flow": null,
            "grid_auto_rows": null,
            "grid_column": null,
            "grid_gap": null,
            "grid_row": null,
            "grid_template_areas": null,
            "grid_template_columns": null,
            "grid_template_rows": null,
            "height": null,
            "justify_content": null,
            "justify_items": null,
            "left": null,
            "margin": null,
            "max_height": null,
            "max_width": null,
            "min_height": null,
            "min_width": null,
            "object_fit": null,
            "object_position": null,
            "order": null,
            "overflow": null,
            "overflow_x": null,
            "overflow_y": null,
            "padding": null,
            "right": null,
            "top": null,
            "visibility": null,
            "width": null
          }
        },
        "9b4e2908296f4275b36d7e2b756a7baa": {
          "model_module": "@jupyter-widgets/base",
          "model_name": "LayoutModel",
          "model_module_version": "1.2.0",
          "state": {
            "_model_module": "@jupyter-widgets/base",
            "_model_module_version": "1.2.0",
            "_model_name": "LayoutModel",
            "_view_count": null,
            "_view_module": "@jupyter-widgets/base",
            "_view_module_version": "1.2.0",
            "_view_name": "LayoutView",
            "align_content": null,
            "align_items": null,
            "align_self": null,
            "border": null,
            "bottom": null,
            "display": null,
            "flex": null,
            "flex_flow": null,
            "grid_area": null,
            "grid_auto_columns": null,
            "grid_auto_flow": null,
            "grid_auto_rows": null,
            "grid_column": null,
            "grid_gap": null,
            "grid_row": null,
            "grid_template_areas": null,
            "grid_template_columns": null,
            "grid_template_rows": null,
            "height": null,
            "justify_content": null,
            "justify_items": null,
            "left": null,
            "margin": null,
            "max_height": null,
            "max_width": null,
            "min_height": null,
            "min_width": null,
            "object_fit": null,
            "object_position": null,
            "order": null,
            "overflow": null,
            "overflow_x": null,
            "overflow_y": null,
            "padding": null,
            "right": null,
            "top": null,
            "visibility": null,
            "width": null
          }
        },
        "99a83d4458d14b1db4d2cd57ce12a567": {
          "model_module": "@jupyter-widgets/controls",
          "model_name": "DescriptionStyleModel",
          "model_module_version": "1.5.0",
          "state": {
            "_model_module": "@jupyter-widgets/controls",
            "_model_module_version": "1.5.0",
            "_model_name": "DescriptionStyleModel",
            "_view_count": null,
            "_view_module": "@jupyter-widgets/base",
            "_view_module_version": "1.2.0",
            "_view_name": "StyleView",
            "description_width": ""
          }
        },
        "671ac76d7e124b1fa6c014542f33165f": {
          "model_module": "@jupyter-widgets/base",
          "model_name": "LayoutModel",
          "model_module_version": "1.2.0",
          "state": {
            "_model_module": "@jupyter-widgets/base",
            "_model_module_version": "1.2.0",
            "_model_name": "LayoutModel",
            "_view_count": null,
            "_view_module": "@jupyter-widgets/base",
            "_view_module_version": "1.2.0",
            "_view_name": "LayoutView",
            "align_content": null,
            "align_items": null,
            "align_self": null,
            "border": null,
            "bottom": null,
            "display": null,
            "flex": null,
            "flex_flow": null,
            "grid_area": null,
            "grid_auto_columns": null,
            "grid_auto_flow": null,
            "grid_auto_rows": null,
            "grid_column": null,
            "grid_gap": null,
            "grid_row": null,
            "grid_template_areas": null,
            "grid_template_columns": null,
            "grid_template_rows": null,
            "height": null,
            "justify_content": null,
            "justify_items": null,
            "left": null,
            "margin": null,
            "max_height": null,
            "max_width": null,
            "min_height": null,
            "min_width": null,
            "object_fit": null,
            "object_position": null,
            "order": null,
            "overflow": null,
            "overflow_x": null,
            "overflow_y": null,
            "padding": null,
            "right": null,
            "top": null,
            "visibility": null,
            "width": null
          }
        },
        "844fb89549774c3088273f85c49a9a1a": {
          "model_module": "@jupyter-widgets/controls",
          "model_name": "ProgressStyleModel",
          "model_module_version": "1.5.0",
          "state": {
            "_model_module": "@jupyter-widgets/controls",
            "_model_module_version": "1.5.0",
            "_model_name": "ProgressStyleModel",
            "_view_count": null,
            "_view_module": "@jupyter-widgets/base",
            "_view_module_version": "1.2.0",
            "_view_name": "StyleView",
            "bar_color": null,
            "description_width": ""
          }
        },
        "0450bcaeb1034f20b742e39e0e0c659a": {
          "model_module": "@jupyter-widgets/base",
          "model_name": "LayoutModel",
          "model_module_version": "1.2.0",
          "state": {
            "_model_module": "@jupyter-widgets/base",
            "_model_module_version": "1.2.0",
            "_model_name": "LayoutModel",
            "_view_count": null,
            "_view_module": "@jupyter-widgets/base",
            "_view_module_version": "1.2.0",
            "_view_name": "LayoutView",
            "align_content": null,
            "align_items": null,
            "align_self": null,
            "border": null,
            "bottom": null,
            "display": null,
            "flex": null,
            "flex_flow": null,
            "grid_area": null,
            "grid_auto_columns": null,
            "grid_auto_flow": null,
            "grid_auto_rows": null,
            "grid_column": null,
            "grid_gap": null,
            "grid_row": null,
            "grid_template_areas": null,
            "grid_template_columns": null,
            "grid_template_rows": null,
            "height": null,
            "justify_content": null,
            "justify_items": null,
            "left": null,
            "margin": null,
            "max_height": null,
            "max_width": null,
            "min_height": null,
            "min_width": null,
            "object_fit": null,
            "object_position": null,
            "order": null,
            "overflow": null,
            "overflow_x": null,
            "overflow_y": null,
            "padding": null,
            "right": null,
            "top": null,
            "visibility": null,
            "width": null
          }
        },
        "8667c5982294484e83b62fc0deeae27f": {
          "model_module": "@jupyter-widgets/controls",
          "model_name": "DescriptionStyleModel",
          "model_module_version": "1.5.0",
          "state": {
            "_model_module": "@jupyter-widgets/controls",
            "_model_module_version": "1.5.0",
            "_model_name": "DescriptionStyleModel",
            "_view_count": null,
            "_view_module": "@jupyter-widgets/base",
            "_view_module_version": "1.2.0",
            "_view_name": "StyleView",
            "description_width": ""
          }
        },
        "57110855081041ccbf3744c8087ae1ce": {
          "model_module": "@jupyter-widgets/controls",
          "model_name": "HBoxModel",
          "model_module_version": "1.5.0",
          "state": {
            "_dom_classes": [],
            "_model_module": "@jupyter-widgets/controls",
            "_model_module_version": "1.5.0",
            "_model_name": "HBoxModel",
            "_view_count": null,
            "_view_module": "@jupyter-widgets/controls",
            "_view_module_version": "1.5.0",
            "_view_name": "HBoxView",
            "box_style": "",
            "children": [
              "IPY_MODEL_4ac443edca9a49b7a1610768d474300b",
              "IPY_MODEL_0481fa8064614206bc0109e590a00504",
              "IPY_MODEL_61696fdb1d244097b9be37cb568c743d"
            ],
            "layout": "IPY_MODEL_573ce3df3f98494086e6539c5331db7e"
          }
        },
        "4ac443edca9a49b7a1610768d474300b": {
          "model_module": "@jupyter-widgets/controls",
          "model_name": "HTMLModel",
          "model_module_version": "1.5.0",
          "state": {
            "_dom_classes": [],
            "_model_module": "@jupyter-widgets/controls",
            "_model_module_version": "1.5.0",
            "_model_name": "HTMLModel",
            "_view_count": null,
            "_view_module": "@jupyter-widgets/controls",
            "_view_module_version": "1.5.0",
            "_view_name": "HTMLView",
            "description": "",
            "description_tooltip": null,
            "layout": "IPY_MODEL_e784a5258c2545c5aa600e920040f88c",
            "placeholder": "​",
            "style": "IPY_MODEL_cd7deec0a9e44175a19907f53de1a84c",
            "value": "config.json: 100%"
          }
        },
        "0481fa8064614206bc0109e590a00504": {
          "model_module": "@jupyter-widgets/controls",
          "model_name": "FloatProgressModel",
          "model_module_version": "1.5.0",
          "state": {
            "_dom_classes": [],
            "_model_module": "@jupyter-widgets/controls",
            "_model_module_version": "1.5.0",
            "_model_name": "FloatProgressModel",
            "_view_count": null,
            "_view_module": "@jupyter-widgets/controls",
            "_view_module_version": "1.5.0",
            "_view_name": "ProgressView",
            "bar_style": "success",
            "description": "",
            "description_tooltip": null,
            "layout": "IPY_MODEL_63ddf0ab2c6148bea0facd02c9947cd7",
            "max": 570,
            "min": 0,
            "orientation": "horizontal",
            "style": "IPY_MODEL_31fb3588885f4065ac8cf08849113b9e",
            "value": 570
          }
        },
        "61696fdb1d244097b9be37cb568c743d": {
          "model_module": "@jupyter-widgets/controls",
          "model_name": "HTMLModel",
          "model_module_version": "1.5.0",
          "state": {
            "_dom_classes": [],
            "_model_module": "@jupyter-widgets/controls",
            "_model_module_version": "1.5.0",
            "_model_name": "HTMLModel",
            "_view_count": null,
            "_view_module": "@jupyter-widgets/controls",
            "_view_module_version": "1.5.0",
            "_view_name": "HTMLView",
            "description": "",
            "description_tooltip": null,
            "layout": "IPY_MODEL_e78be58655384e0dac49655185a35799",
            "placeholder": "​",
            "style": "IPY_MODEL_f3f1c750aa9f4510bbf4a6779d2807ce",
            "value": " 570/570 [00:00&lt;00:00, 12.7kB/s]"
          }
        },
        "573ce3df3f98494086e6539c5331db7e": {
          "model_module": "@jupyter-widgets/base",
          "model_name": "LayoutModel",
          "model_module_version": "1.2.0",
          "state": {
            "_model_module": "@jupyter-widgets/base",
            "_model_module_version": "1.2.0",
            "_model_name": "LayoutModel",
            "_view_count": null,
            "_view_module": "@jupyter-widgets/base",
            "_view_module_version": "1.2.0",
            "_view_name": "LayoutView",
            "align_content": null,
            "align_items": null,
            "align_self": null,
            "border": null,
            "bottom": null,
            "display": null,
            "flex": null,
            "flex_flow": null,
            "grid_area": null,
            "grid_auto_columns": null,
            "grid_auto_flow": null,
            "grid_auto_rows": null,
            "grid_column": null,
            "grid_gap": null,
            "grid_row": null,
            "grid_template_areas": null,
            "grid_template_columns": null,
            "grid_template_rows": null,
            "height": null,
            "justify_content": null,
            "justify_items": null,
            "left": null,
            "margin": null,
            "max_height": null,
            "max_width": null,
            "min_height": null,
            "min_width": null,
            "object_fit": null,
            "object_position": null,
            "order": null,
            "overflow": null,
            "overflow_x": null,
            "overflow_y": null,
            "padding": null,
            "right": null,
            "top": null,
            "visibility": null,
            "width": null
          }
        },
        "e784a5258c2545c5aa600e920040f88c": {
          "model_module": "@jupyter-widgets/base",
          "model_name": "LayoutModel",
          "model_module_version": "1.2.0",
          "state": {
            "_model_module": "@jupyter-widgets/base",
            "_model_module_version": "1.2.0",
            "_model_name": "LayoutModel",
            "_view_count": null,
            "_view_module": "@jupyter-widgets/base",
            "_view_module_version": "1.2.0",
            "_view_name": "LayoutView",
            "align_content": null,
            "align_items": null,
            "align_self": null,
            "border": null,
            "bottom": null,
            "display": null,
            "flex": null,
            "flex_flow": null,
            "grid_area": null,
            "grid_auto_columns": null,
            "grid_auto_flow": null,
            "grid_auto_rows": null,
            "grid_column": null,
            "grid_gap": null,
            "grid_row": null,
            "grid_template_areas": null,
            "grid_template_columns": null,
            "grid_template_rows": null,
            "height": null,
            "justify_content": null,
            "justify_items": null,
            "left": null,
            "margin": null,
            "max_height": null,
            "max_width": null,
            "min_height": null,
            "min_width": null,
            "object_fit": null,
            "object_position": null,
            "order": null,
            "overflow": null,
            "overflow_x": null,
            "overflow_y": null,
            "padding": null,
            "right": null,
            "top": null,
            "visibility": null,
            "width": null
          }
        },
        "cd7deec0a9e44175a19907f53de1a84c": {
          "model_module": "@jupyter-widgets/controls",
          "model_name": "DescriptionStyleModel",
          "model_module_version": "1.5.0",
          "state": {
            "_model_module": "@jupyter-widgets/controls",
            "_model_module_version": "1.5.0",
            "_model_name": "DescriptionStyleModel",
            "_view_count": null,
            "_view_module": "@jupyter-widgets/base",
            "_view_module_version": "1.2.0",
            "_view_name": "StyleView",
            "description_width": ""
          }
        },
        "63ddf0ab2c6148bea0facd02c9947cd7": {
          "model_module": "@jupyter-widgets/base",
          "model_name": "LayoutModel",
          "model_module_version": "1.2.0",
          "state": {
            "_model_module": "@jupyter-widgets/base",
            "_model_module_version": "1.2.0",
            "_model_name": "LayoutModel",
            "_view_count": null,
            "_view_module": "@jupyter-widgets/base",
            "_view_module_version": "1.2.0",
            "_view_name": "LayoutView",
            "align_content": null,
            "align_items": null,
            "align_self": null,
            "border": null,
            "bottom": null,
            "display": null,
            "flex": null,
            "flex_flow": null,
            "grid_area": null,
            "grid_auto_columns": null,
            "grid_auto_flow": null,
            "grid_auto_rows": null,
            "grid_column": null,
            "grid_gap": null,
            "grid_row": null,
            "grid_template_areas": null,
            "grid_template_columns": null,
            "grid_template_rows": null,
            "height": null,
            "justify_content": null,
            "justify_items": null,
            "left": null,
            "margin": null,
            "max_height": null,
            "max_width": null,
            "min_height": null,
            "min_width": null,
            "object_fit": null,
            "object_position": null,
            "order": null,
            "overflow": null,
            "overflow_x": null,
            "overflow_y": null,
            "padding": null,
            "right": null,
            "top": null,
            "visibility": null,
            "width": null
          }
        },
        "31fb3588885f4065ac8cf08849113b9e": {
          "model_module": "@jupyter-widgets/controls",
          "model_name": "ProgressStyleModel",
          "model_module_version": "1.5.0",
          "state": {
            "_model_module": "@jupyter-widgets/controls",
            "_model_module_version": "1.5.0",
            "_model_name": "ProgressStyleModel",
            "_view_count": null,
            "_view_module": "@jupyter-widgets/base",
            "_view_module_version": "1.2.0",
            "_view_name": "StyleView",
            "bar_color": null,
            "description_width": ""
          }
        },
        "e78be58655384e0dac49655185a35799": {
          "model_module": "@jupyter-widgets/base",
          "model_name": "LayoutModel",
          "model_module_version": "1.2.0",
          "state": {
            "_model_module": "@jupyter-widgets/base",
            "_model_module_version": "1.2.0",
            "_model_name": "LayoutModel",
            "_view_count": null,
            "_view_module": "@jupyter-widgets/base",
            "_view_module_version": "1.2.0",
            "_view_name": "LayoutView",
            "align_content": null,
            "align_items": null,
            "align_self": null,
            "border": null,
            "bottom": null,
            "display": null,
            "flex": null,
            "flex_flow": null,
            "grid_area": null,
            "grid_auto_columns": null,
            "grid_auto_flow": null,
            "grid_auto_rows": null,
            "grid_column": null,
            "grid_gap": null,
            "grid_row": null,
            "grid_template_areas": null,
            "grid_template_columns": null,
            "grid_template_rows": null,
            "height": null,
            "justify_content": null,
            "justify_items": null,
            "left": null,
            "margin": null,
            "max_height": null,
            "max_width": null,
            "min_height": null,
            "min_width": null,
            "object_fit": null,
            "object_position": null,
            "order": null,
            "overflow": null,
            "overflow_x": null,
            "overflow_y": null,
            "padding": null,
            "right": null,
            "top": null,
            "visibility": null,
            "width": null
          }
        },
        "f3f1c750aa9f4510bbf4a6779d2807ce": {
          "model_module": "@jupyter-widgets/controls",
          "model_name": "DescriptionStyleModel",
          "model_module_version": "1.5.0",
          "state": {
            "_model_module": "@jupyter-widgets/controls",
            "_model_module_version": "1.5.0",
            "_model_name": "DescriptionStyleModel",
            "_view_count": null,
            "_view_module": "@jupyter-widgets/base",
            "_view_module_version": "1.2.0",
            "_view_name": "StyleView",
            "description_width": ""
          }
        },
        "6aeaa31b0d86448fb33d1c76e11a9bd6": {
          "model_module": "@jupyter-widgets/controls",
          "model_name": "HBoxModel",
          "model_module_version": "1.5.0",
          "state": {
            "_dom_classes": [],
            "_model_module": "@jupyter-widgets/controls",
            "_model_module_version": "1.5.0",
            "_model_name": "HBoxModel",
            "_view_count": null,
            "_view_module": "@jupyter-widgets/controls",
            "_view_module_version": "1.5.0",
            "_view_name": "HBoxView",
            "box_style": "",
            "children": [
              "IPY_MODEL_764537b310f5415abef80cb053001114",
              "IPY_MODEL_9340727425ba4a8e8023c7a5ea3664eb",
              "IPY_MODEL_0e17d242bb9c419792bf9a1bbee835b6"
            ],
            "layout": "IPY_MODEL_0455c9de82a14943bdc52e6f4467186e"
          }
        },
        "764537b310f5415abef80cb053001114": {
          "model_module": "@jupyter-widgets/controls",
          "model_name": "HTMLModel",
          "model_module_version": "1.5.0",
          "state": {
            "_dom_classes": [],
            "_model_module": "@jupyter-widgets/controls",
            "_model_module_version": "1.5.0",
            "_model_name": "HTMLModel",
            "_view_count": null,
            "_view_module": "@jupyter-widgets/controls",
            "_view_module_version": "1.5.0",
            "_view_name": "HTMLView",
            "description": "",
            "description_tooltip": null,
            "layout": "IPY_MODEL_157e9f6f775b4d8b83fe5e459a439eaa",
            "placeholder": "​",
            "style": "IPY_MODEL_6519ad4ea58f46a4977ff458e18c7a28",
            "value": "model.safetensors: 100%"
          }
        },
        "9340727425ba4a8e8023c7a5ea3664eb": {
          "model_module": "@jupyter-widgets/controls",
          "model_name": "FloatProgressModel",
          "model_module_version": "1.5.0",
          "state": {
            "_dom_classes": [],
            "_model_module": "@jupyter-widgets/controls",
            "_model_module_version": "1.5.0",
            "_model_name": "FloatProgressModel",
            "_view_count": null,
            "_view_module": "@jupyter-widgets/controls",
            "_view_module_version": "1.5.0",
            "_view_name": "ProgressView",
            "bar_style": "success",
            "description": "",
            "description_tooltip": null,
            "layout": "IPY_MODEL_549cfb122ff345eaa16214413f9cdbd6",
            "max": 440449768,
            "min": 0,
            "orientation": "horizontal",
            "style": "IPY_MODEL_175c489a9b3e4d54900d5441fedf337a",
            "value": 440449768
          }
        },
        "0e17d242bb9c419792bf9a1bbee835b6": {
          "model_module": "@jupyter-widgets/controls",
          "model_name": "HTMLModel",
          "model_module_version": "1.5.0",
          "state": {
            "_dom_classes": [],
            "_model_module": "@jupyter-widgets/controls",
            "_model_module_version": "1.5.0",
            "_model_name": "HTMLModel",
            "_view_count": null,
            "_view_module": "@jupyter-widgets/controls",
            "_view_module_version": "1.5.0",
            "_view_name": "HTMLView",
            "description": "",
            "description_tooltip": null,
            "layout": "IPY_MODEL_807f6c9f5c35450a8766d367444df2d4",
            "placeholder": "​",
            "style": "IPY_MODEL_ab7785f6868a480dbaddbbdd83ab29d6",
            "value": " 440M/440M [00:06&lt;00:00, 34.1MB/s]"
          }
        },
        "0455c9de82a14943bdc52e6f4467186e": {
          "model_module": "@jupyter-widgets/base",
          "model_name": "LayoutModel",
          "model_module_version": "1.2.0",
          "state": {
            "_model_module": "@jupyter-widgets/base",
            "_model_module_version": "1.2.0",
            "_model_name": "LayoutModel",
            "_view_count": null,
            "_view_module": "@jupyter-widgets/base",
            "_view_module_version": "1.2.0",
            "_view_name": "LayoutView",
            "align_content": null,
            "align_items": null,
            "align_self": null,
            "border": null,
            "bottom": null,
            "display": null,
            "flex": null,
            "flex_flow": null,
            "grid_area": null,
            "grid_auto_columns": null,
            "grid_auto_flow": null,
            "grid_auto_rows": null,
            "grid_column": null,
            "grid_gap": null,
            "grid_row": null,
            "grid_template_areas": null,
            "grid_template_columns": null,
            "grid_template_rows": null,
            "height": null,
            "justify_content": null,
            "justify_items": null,
            "left": null,
            "margin": null,
            "max_height": null,
            "max_width": null,
            "min_height": null,
            "min_width": null,
            "object_fit": null,
            "object_position": null,
            "order": null,
            "overflow": null,
            "overflow_x": null,
            "overflow_y": null,
            "padding": null,
            "right": null,
            "top": null,
            "visibility": null,
            "width": null
          }
        },
        "157e9f6f775b4d8b83fe5e459a439eaa": {
          "model_module": "@jupyter-widgets/base",
          "model_name": "LayoutModel",
          "model_module_version": "1.2.0",
          "state": {
            "_model_module": "@jupyter-widgets/base",
            "_model_module_version": "1.2.0",
            "_model_name": "LayoutModel",
            "_view_count": null,
            "_view_module": "@jupyter-widgets/base",
            "_view_module_version": "1.2.0",
            "_view_name": "LayoutView",
            "align_content": null,
            "align_items": null,
            "align_self": null,
            "border": null,
            "bottom": null,
            "display": null,
            "flex": null,
            "flex_flow": null,
            "grid_area": null,
            "grid_auto_columns": null,
            "grid_auto_flow": null,
            "grid_auto_rows": null,
            "grid_column": null,
            "grid_gap": null,
            "grid_row": null,
            "grid_template_areas": null,
            "grid_template_columns": null,
            "grid_template_rows": null,
            "height": null,
            "justify_content": null,
            "justify_items": null,
            "left": null,
            "margin": null,
            "max_height": null,
            "max_width": null,
            "min_height": null,
            "min_width": null,
            "object_fit": null,
            "object_position": null,
            "order": null,
            "overflow": null,
            "overflow_x": null,
            "overflow_y": null,
            "padding": null,
            "right": null,
            "top": null,
            "visibility": null,
            "width": null
          }
        },
        "6519ad4ea58f46a4977ff458e18c7a28": {
          "model_module": "@jupyter-widgets/controls",
          "model_name": "DescriptionStyleModel",
          "model_module_version": "1.5.0",
          "state": {
            "_model_module": "@jupyter-widgets/controls",
            "_model_module_version": "1.5.0",
            "_model_name": "DescriptionStyleModel",
            "_view_count": null,
            "_view_module": "@jupyter-widgets/base",
            "_view_module_version": "1.2.0",
            "_view_name": "StyleView",
            "description_width": ""
          }
        },
        "549cfb122ff345eaa16214413f9cdbd6": {
          "model_module": "@jupyter-widgets/base",
          "model_name": "LayoutModel",
          "model_module_version": "1.2.0",
          "state": {
            "_model_module": "@jupyter-widgets/base",
            "_model_module_version": "1.2.0",
            "_model_name": "LayoutModel",
            "_view_count": null,
            "_view_module": "@jupyter-widgets/base",
            "_view_module_version": "1.2.0",
            "_view_name": "LayoutView",
            "align_content": null,
            "align_items": null,
            "align_self": null,
            "border": null,
            "bottom": null,
            "display": null,
            "flex": null,
            "flex_flow": null,
            "grid_area": null,
            "grid_auto_columns": null,
            "grid_auto_flow": null,
            "grid_auto_rows": null,
            "grid_column": null,
            "grid_gap": null,
            "grid_row": null,
            "grid_template_areas": null,
            "grid_template_columns": null,
            "grid_template_rows": null,
            "height": null,
            "justify_content": null,
            "justify_items": null,
            "left": null,
            "margin": null,
            "max_height": null,
            "max_width": null,
            "min_height": null,
            "min_width": null,
            "object_fit": null,
            "object_position": null,
            "order": null,
            "overflow": null,
            "overflow_x": null,
            "overflow_y": null,
            "padding": null,
            "right": null,
            "top": null,
            "visibility": null,
            "width": null
          }
        },
        "175c489a9b3e4d54900d5441fedf337a": {
          "model_module": "@jupyter-widgets/controls",
          "model_name": "ProgressStyleModel",
          "model_module_version": "1.5.0",
          "state": {
            "_model_module": "@jupyter-widgets/controls",
            "_model_module_version": "1.5.0",
            "_model_name": "ProgressStyleModel",
            "_view_count": null,
            "_view_module": "@jupyter-widgets/base",
            "_view_module_version": "1.2.0",
            "_view_name": "StyleView",
            "bar_color": null,
            "description_width": ""
          }
        },
        "807f6c9f5c35450a8766d367444df2d4": {
          "model_module": "@jupyter-widgets/base",
          "model_name": "LayoutModel",
          "model_module_version": "1.2.0",
          "state": {
            "_model_module": "@jupyter-widgets/base",
            "_model_module_version": "1.2.0",
            "_model_name": "LayoutModel",
            "_view_count": null,
            "_view_module": "@jupyter-widgets/base",
            "_view_module_version": "1.2.0",
            "_view_name": "LayoutView",
            "align_content": null,
            "align_items": null,
            "align_self": null,
            "border": null,
            "bottom": null,
            "display": null,
            "flex": null,
            "flex_flow": null,
            "grid_area": null,
            "grid_auto_columns": null,
            "grid_auto_flow": null,
            "grid_auto_rows": null,
            "grid_column": null,
            "grid_gap": null,
            "grid_row": null,
            "grid_template_areas": null,
            "grid_template_columns": null,
            "grid_template_rows": null,
            "height": null,
            "justify_content": null,
            "justify_items": null,
            "left": null,
            "margin": null,
            "max_height": null,
            "max_width": null,
            "min_height": null,
            "min_width": null,
            "object_fit": null,
            "object_position": null,
            "order": null,
            "overflow": null,
            "overflow_x": null,
            "overflow_y": null,
            "padding": null,
            "right": null,
            "top": null,
            "visibility": null,
            "width": null
          }
        },
        "ab7785f6868a480dbaddbbdd83ab29d6": {
          "model_module": "@jupyter-widgets/controls",
          "model_name": "DescriptionStyleModel",
          "model_module_version": "1.5.0",
          "state": {
            "_model_module": "@jupyter-widgets/controls",
            "_model_module_version": "1.5.0",
            "_model_name": "DescriptionStyleModel",
            "_view_count": null,
            "_view_module": "@jupyter-widgets/base",
            "_view_module_version": "1.2.0",
            "_view_name": "StyleView",
            "description_width": ""
          }
        }
      }
    }
  },
  "cells": [
    {
      "cell_type": "markdown",
      "source": [
        "# 1. Importing, exploring and cleaning ISEAR dataset"
      ],
      "metadata": {
        "id": "7PVhcKREDRlK"
      }
    },
    {
      "cell_type": "code",
      "source": [
        "!git clone https://github.com/Bhattars1/MSc-Project-Expression-Recognition-"
      ],
      "metadata": {
        "colab": {
          "base_uri": "https://localhost:8080/"
        },
        "id": "jFWSeKlBqgPF",
        "outputId": "bdba68b7-485c-4b42-f327-ca4bae42e9ba"
      },
      "execution_count": 5,
      "outputs": [
        {
          "output_type": "stream",
          "name": "stdout",
          "text": [
            "Cloning into 'MSc-Project-Expression-Recognition-'...\n",
            "remote: Enumerating objects: 99, done.\u001b[K\n",
            "remote: Counting objects: 100% (99/99), done.\u001b[K\n",
            "remote: Compressing objects: 100% (88/88), done.\u001b[K\n",
            "remote: Total 99 (delta 35), reused 34 (delta 7), pack-reused 0 (from 0)\u001b[K\n",
            "Receiving objects: 100% (99/99), 40.95 MiB | 14.55 MiB/s, done.\n",
            "Resolving deltas: 100% (35/35), done.\n"
          ]
        }
      ]
    },
    {
      "cell_type": "code",
      "source": [
        "# Import function for goemotion dataset\n",
        "import pandas as pd\n",
        "def upload_go(path):\n",
        "  df = pd.read_csv(path)\n",
        "  return df"
      ],
      "metadata": {
        "id": "7DV6BsMJ-Eh8"
      },
      "execution_count": 6,
      "outputs": []
    },
    {
      "cell_type": "code",
      "source": [
        "go_path_1 =\"/content/MSc-Project-Expression-Recognition-/geoemotion dataset/goemotions_1.csv\"\n",
        "go_path_2 =\"/content/MSc-Project-Expression-Recognition-/geoemotion dataset/goemotions_2.csv\"\n",
        "go_path_3 =\"/content/MSc-Project-Expression-Recognition-/geoemotion dataset/goemotions_3.csv\"\n",
        "\n",
        "go_v1 = upload_go(go_path_1)\n",
        "go_v2 = upload_go(go_path_2)\n",
        "go_v3 = upload_go(go_path_3)"
      ],
      "metadata": {
        "id": "O_wX8IBpA3Ka"
      },
      "execution_count": 7,
      "outputs": []
    },
    {
      "cell_type": "code",
      "source": [
        "selected_columns = [\n",
        "    \"admiration\",\n",
        "    \"amusement\",\n",
        "    \"anger\",\n",
        "    \"annoyance\",\n",
        "    \"approval\",\n",
        "    \"caring\",\n",
        "    \"confusion\",\n",
        "    \"curiosity\",\n",
        "    \"desire\",\n",
        "    \"disappointment\",\n",
        "    \"disapproval\",\n",
        "    \"disgust\",\n",
        "    \"embarrassment\",\n",
        "    \"excitement\",\n",
        "    \"fear\",\n",
        "    \"gratitude\",\n",
        "    \"grief\",\n",
        "    \"joy\",\n",
        "    \"love\",\n",
        "    \"nervousness\",\n",
        "    \"optimism\",\n",
        "    \"pride\",\n",
        "    \"realization\",\n",
        "    \"relief\",\n",
        "    \"remorse\",\n",
        "    \"sadness\",\n",
        "    \"surprise\",\n",
        "    \"neutral\"\n",
        "]"
      ],
      "metadata": {
        "id": "3QxnipHLB5qi"
      },
      "execution_count": 8,
      "outputs": []
    },
    {
      "cell_type": "code",
      "source": [
        "emotions_columns = [\"text\", \"anger\", \"disgust\", \"fear\", \"joy\", \"sadness\", \"surprise\", \"neutral\"]"
      ],
      "metadata": {
        "id": "6lSRqUHKHxh9"
      },
      "execution_count": 9,
      "outputs": []
    },
    {
      "cell_type": "code",
      "source": [
        "def clean_geo(data, columns, text_column, emotions_columns):\n",
        "    # Select relevant columns from the data\n",
        "    df = data[columns].copy()  # Ensure we are working with a copy to avoid SettingWithCopyWarning\n",
        "\n",
        "    # Convert one-hot encoded columns to a single column of emotion labels\n",
        "    df['emotion'] = df[columns].idxmax(axis=1)\n",
        "\n",
        "    # Drop the one-hot encoded emotion columns\n",
        "    df = df.drop(columns=columns)\n",
        "\n",
        "    # Add a new column named 'text' with data from data[text_column]\n",
        "    df['text'] = data[text_column].values  # Use .values to avoid SettingWithCopyWarning\n",
        "\n",
        "    # Filter to keep only rows where 'emotion' matches one of the specified emotions\n",
        "    df = df[df['emotion'].isin(emotions_columns)].copy()  # Ensure we are working with a copy\n",
        "\n",
        "    return df\n"
      ],
      "metadata": {
        "id": "PPqDYtT4INoW"
      },
      "execution_count": 10,
      "outputs": []
    },
    {
      "cell_type": "code",
      "source": [
        "cleaned_go_1 = clean_geo(go_v1, selected_columns, \"text\", emotions_columns)\n",
        "cleaned_go_2 = clean_geo(go_v2, selected_columns, \"text\", emotions_columns)\n",
        "cleaned_go_3 = clean_geo(go_v3, selected_columns, \"text\", emotions_columns)"
      ],
      "metadata": {
        "id": "uVkIE0a6Ct6N"
      },
      "execution_count": 11,
      "outputs": []
    },
    {
      "cell_type": "code",
      "source": [
        "# Concatenate DataFrames vertically\n",
        "combined_df = pd.concat([cleaned_go_1, cleaned_go_2, cleaned_go_3], ignore_index=True)"
      ],
      "metadata": {
        "id": "0-WDe9IlJ1us"
      },
      "execution_count": 12,
      "outputs": []
    },
    {
      "cell_type": "code",
      "source": [
        "def data_labels(df, data, labels):\n",
        "  data = df[data].tolist()\n",
        "  labels = df[labels].tolist()\n",
        "  return data, labels"
      ],
      "metadata": {
        "id": "gr-_F61KKB7E"
      },
      "execution_count": 13,
      "outputs": []
    },
    {
      "cell_type": "code",
      "source": [
        "final_df, final_labels = data_labels(combined_df, \"text\", \"emotion\")\n",
        "len(final_df), len(final_labels)"
      ],
      "metadata": {
        "id": "2gua9cOEKQhX",
        "colab": {
          "base_uri": "https://localhost:8080/"
        },
        "outputId": "37230e00-28d1-48ab-cb5f-c4b94a428c5b"
      },
      "execution_count": 14,
      "outputs": [
        {
          "output_type": "execute_result",
          "data": {
            "text/plain": [
              "(81643, 81643)"
            ]
          },
          "metadata": {},
          "execution_count": 14
        }
      ]
    },
    {
      "cell_type": "code",
      "source": [
        "# Checking if the dataset is balanced or not\n",
        "def label_distribution(data):\n",
        "  dict_labels = {}\n",
        "  unique_expressions = list(set(data))\n",
        "  for idx, i in enumerate(unique_expressions):\n",
        "    dict_labels[i] = list(data).count(i)\n",
        "  return dict_labels\n",
        "label_distribution(final_labels)"
      ],
      "metadata": {
        "colab": {
          "base_uri": "https://localhost:8080/"
        },
        "id": "Fy0KlARKEFmp",
        "outputId": "da09d3b8-ed92-4c62-b201-e74c0c6c464c"
      },
      "execution_count": 15,
      "outputs": [
        {
          "output_type": "execute_result",
          "data": {
            "text/plain": [
              "{'joy': 5120,\n",
              " 'fear': 2514,\n",
              " 'disgust': 3420,\n",
              " 'neutral': 55298,\n",
              " 'surprise': 3472,\n",
              " 'sadness': 3863,\n",
              " 'anger': 7956}"
            ]
          },
          "metadata": {},
          "execution_count": 15
        }
      ]
    },
    {
      "cell_type": "code",
      "source": [
        "# Balancing the data\n",
        "import random\n",
        "\n",
        "# Separate the neutral and anger samples\n",
        "neutral_indices = [i for i, label in enumerate(final_labels) if label == 'neutral']\n",
        "anger_indices = [i for i, label in enumerate(final_labels) if label == 'anger']\n",
        "other_indices = [i for i, label in enumerate(final_labels) if label != 'neutral' and label != 'anger']\n",
        "\n",
        "# Randomly sample 5000 neutral and anger indices\n",
        "sampled_neutral_indices = random.sample(neutral_indices, 5000 )\n",
        "sampled_anger_indices = random.sample(anger_indices, 5000)\n",
        "\n",
        "# Combine the non-neutral indices with the sampled neutral indices\n",
        "balanced_indices =other_indices + sampled_neutral_indices + sampled_anger_indices\n",
        "\n",
        "# Create the balanced labels and data lists\n",
        "balanced_labels = [final_labels[i] for i in balanced_indices]\n",
        "balanced_data = [final_df[i] for i in balanced_indices]"
      ],
      "metadata": {
        "id": "DzFLqhOLf2vx"
      },
      "execution_count": 16,
      "outputs": []
    },
    {
      "cell_type": "code",
      "source": [
        "dist = label_distribution(balanced_labels)\n",
        "dist"
      ],
      "metadata": {
        "colab": {
          "base_uri": "https://localhost:8080/"
        },
        "id": "u_inKCxWjrVt",
        "outputId": "144f23d3-3b56-4a63-fedf-f26949556a0a"
      },
      "execution_count": 17,
      "outputs": [
        {
          "output_type": "execute_result",
          "data": {
            "text/plain": [
              "{'joy': 5120,\n",
              " 'fear': 2514,\n",
              " 'disgust': 3420,\n",
              " 'neutral': 5000,\n",
              " 'surprise': 3472,\n",
              " 'sadness': 3863,\n",
              " 'anger': 5000}"
            ]
          },
          "metadata": {},
          "execution_count": 17
        }
      ]
    },
    {
      "cell_type": "markdown",
      "source": [
        "# 2. Preprocessing"
      ],
      "metadata": {
        "id": "4hHlzdf_33UP"
      }
    },
    {
      "cell_type": "markdown",
      "source": [
        "## 2.1. Data Augmentation\n",
        "\n",
        "Augmenting the data that is not sufficient i.e. all the data that corresponds to the labels except neutral and anger. Hera a special technique is used i.e. translating the insufficient data to german and again to english that can introduce variability while preserving meaning.\n",
        "\n",
        "Example: English → German → English: \"The cat is on the mat\" → \"The cat lies on the mat.\""
      ],
      "metadata": {
        "id": "gcqXbaf7NERi"
      }
    },
    {
      "cell_type": "code",
      "source": [
        "# Checking and specifiying what and how much to augument to perfectly balance the data\n",
        "augument_list = [x for x in dist if dist[x] < 5000]\n",
        "augumenting_dict = {}\n",
        "for i in augument_list:\n",
        "  x = dist[i]\n",
        "  augumenting_dict[i] = 5000-x\n",
        "augumenting_dict"
      ],
      "metadata": {
        "colab": {
          "base_uri": "https://localhost:8080/"
        },
        "id": "71EaCk2rP2nC",
        "outputId": "40ba2683-8a20-4df2-df3d-1cdfa23c5d35"
      },
      "execution_count": 29,
      "outputs": [
        {
          "output_type": "execute_result",
          "data": {
            "text/plain": [
              "{'disgust': 1580, 'sadness': 1137, 'surprise': 1528, 'fear': 2486}"
            ]
          },
          "metadata": {},
          "execution_count": 29
        }
      ]
    },
    {
      "cell_type": "code",
      "source": [
        "# Randomly selecting the data from specific labels to augument\n",
        "fear_indices = [i for i, label in enumerate(balanced_labels) if label == 'fear']\n",
        "sadness_indices = [i for i, label in enumerate(balanced_labels) if label == 'sadness']\n",
        "surprise_indices = [i for i, label in enumerate(balanced_labels) if label == 'surprise']\n",
        "disgust_indices = [i for i, label in enumerate(balanced_labels) if label == 'disgust']"
      ],
      "metadata": {
        "id": "u2BHp_0NWdC0"
      },
      "execution_count": 30,
      "outputs": []
    },
    {
      "cell_type": "code",
      "source": [
        "# Randomly sample indices\n",
        "sampled_fear_indices = random.sample(fear_indices, augumenting_dict[\"fear\"])\n",
        "sampled_sadness_indices = random.sample(sadness_indices, augumenting_dict[\"sadness\"])\n",
        "sampled_surprise_indices = random.sample(surprise_indices, augumenting_dict[\"surprise\"])\n",
        "sampled_disgust_indices = random.sample(disgust_indices, augumenting_dict[\"disgust\"])"
      ],
      "metadata": {
        "id": "RDTvDuupXIVQ"
      },
      "execution_count": 31,
      "outputs": []
    },
    {
      "cell_type": "code",
      "source": [
        "# Data that corresponds to the indices\n",
        "sampled_fear_data = [balanced_data[i] for i in sampled_fear_indices]\n",
        "sampled_sadness_data = [balanced_data[i] for i in sampled_sadness_indices]\n",
        "sampled_surprise_data = [balanced_data[i] for i in sampled_surprise_indices]\n",
        "sampled_disgust_data = [balanced_data[i] for i in sampled_disgust_indices]"
      ],
      "metadata": {
        "id": "CsCVtID_Z3GB"
      },
      "execution_count": 32,
      "outputs": []
    },
    {
      "cell_type": "code",
      "source": [
        "!pip install googletrans-py\n",
        "from googletrans import Translator\n",
        "import time\n",
        "\n",
        "# Initialize the translator\n",
        "translator = Translator()"
      ],
      "metadata": {
        "colab": {
          "base_uri": "https://localhost:8080/"
        },
        "id": "jorAnVrfQOxT",
        "outputId": "bed761c2-e1f3-43db-944e-1b5a135a0672"
      },
      "execution_count": 21,
      "outputs": [
        {
          "output_type": "stream",
          "name": "stdout",
          "text": [
            "Collecting googletrans-py\n",
            "  Downloading googletrans-py-4.0.0.tar.gz (12 kB)\n",
            "  Preparing metadata (setup.py) ... \u001b[?25l\u001b[?25hdone\n",
            "Collecting httpx>=0.22.0 (from googletrans-py)\n",
            "  Downloading httpx-0.27.0-py3-none-any.whl.metadata (7.2 kB)\n",
            "Collecting h2<5,>=4 (from googletrans-py)\n",
            "  Downloading h2-4.1.0-py3-none-any.whl.metadata (3.6 kB)\n",
            "Collecting hyperframe<7,>=6.0 (from h2<5,>=4->googletrans-py)\n",
            "  Downloading hyperframe-6.0.1-py3-none-any.whl.metadata (2.7 kB)\n",
            "Collecting hpack<5,>=4.0 (from h2<5,>=4->googletrans-py)\n",
            "  Downloading hpack-4.0.0-py3-none-any.whl.metadata (2.5 kB)\n",
            "Requirement already satisfied: anyio in /usr/local/lib/python3.10/dist-packages (from httpx>=0.22.0->googletrans-py) (3.7.1)\n",
            "Requirement already satisfied: certifi in /usr/local/lib/python3.10/dist-packages (from httpx>=0.22.0->googletrans-py) (2024.7.4)\n",
            "Collecting httpcore==1.* (from httpx>=0.22.0->googletrans-py)\n",
            "  Downloading httpcore-1.0.5-py3-none-any.whl.metadata (20 kB)\n",
            "Requirement already satisfied: idna in /usr/local/lib/python3.10/dist-packages (from httpx>=0.22.0->googletrans-py) (3.7)\n",
            "Requirement already satisfied: sniffio in /usr/local/lib/python3.10/dist-packages (from httpx>=0.22.0->googletrans-py) (1.3.1)\n",
            "Collecting h11<0.15,>=0.13 (from httpcore==1.*->httpx>=0.22.0->googletrans-py)\n",
            "  Downloading h11-0.14.0-py3-none-any.whl.metadata (8.2 kB)\n",
            "Requirement already satisfied: exceptiongroup in /usr/local/lib/python3.10/dist-packages (from anyio->httpx>=0.22.0->googletrans-py) (1.2.2)\n",
            "Downloading h2-4.1.0-py3-none-any.whl (57 kB)\n",
            "\u001b[2K   \u001b[90m━━━━━━━━━━━━━━━━━━━━━━━━━━━━━━━━━━━━━━━━\u001b[0m \u001b[32m57.5/57.5 kB\u001b[0m \u001b[31m3.6 MB/s\u001b[0m eta \u001b[36m0:00:00\u001b[0m\n",
            "\u001b[?25hDownloading httpx-0.27.0-py3-none-any.whl (75 kB)\n",
            "\u001b[2K   \u001b[90m━━━━━━━━━━━━━━━━━━━━━━━━━━━━━━━━━━━━━━━━\u001b[0m \u001b[32m75.6/75.6 kB\u001b[0m \u001b[31m5.0 MB/s\u001b[0m eta \u001b[36m0:00:00\u001b[0m\n",
            "\u001b[?25hDownloading httpcore-1.0.5-py3-none-any.whl (77 kB)\n",
            "\u001b[2K   \u001b[90m━━━━━━━━━━━━━━━━━━━━━━━━━━━━━━━━━━━━━━━━\u001b[0m \u001b[32m77.9/77.9 kB\u001b[0m \u001b[31m5.1 MB/s\u001b[0m eta \u001b[36m0:00:00\u001b[0m\n",
            "\u001b[?25hDownloading hpack-4.0.0-py3-none-any.whl (32 kB)\n",
            "Downloading hyperframe-6.0.1-py3-none-any.whl (12 kB)\n",
            "Downloading h11-0.14.0-py3-none-any.whl (58 kB)\n",
            "\u001b[2K   \u001b[90m━━━━━━━━━━━━━━━━━━━━━━━━━━━━━━━━━━━━━━━━\u001b[0m \u001b[32m58.3/58.3 kB\u001b[0m \u001b[31m4.7 MB/s\u001b[0m eta \u001b[36m0:00:00\u001b[0m\n",
            "\u001b[?25hBuilding wheels for collected packages: googletrans-py\n",
            "  Building wheel for googletrans-py (setup.py) ... \u001b[?25l\u001b[?25hdone\n",
            "  Created wheel for googletrans-py: filename=googletrans_py-4.0.0-py3-none-any.whl size=13116 sha256=5e381cf2b146477f1b63bdda33354ad88d15d2f196c18c5c3629faf5f9953a8e\n",
            "  Stored in directory: /root/.cache/pip/wheels/5b/a3/b4/1d34a1edaec73dfb935c8a01c9430b80cf68236dbcaf54df53\n",
            "Successfully built googletrans-py\n",
            "Installing collected packages: hyperframe, hpack, h11, httpcore, h2, httpx, googletrans-py\n",
            "Successfully installed googletrans-py-4.0.0 h11-0.14.0 h2-4.1.0 hpack-4.0.0 httpcore-1.0.5 httpx-0.27.0 hyperframe-6.0.1\n"
          ]
        }
      ]
    },
    {
      "cell_type": "code",
      "source": [
        "def translating_back(text, src_lang='en', tgt_lang='de'):\n",
        "    try:\n",
        "        # Translate to german\n",
        "        translated_text = translator.translate(text, src=src_lang, dest=tgt_lang).text\n",
        "        # Translate text back english\n",
        "        back_translated_text = translator.translate(translated_text, src=tgt_lang, dest=src_lang).text\n",
        "        return back_translated_text\n",
        "    except Exception:\n",
        "        # Return None if there is an error\n",
        "        return None"
      ],
      "metadata": {
        "id": "5iBnicSSXrHl"
      },
      "execution_count": 22,
      "outputs": []
    },
    {
      "cell_type": "code",
      "source": [
        "sample_text = \"The elaborate mechanism malfunctioned unexpectedly, complicating the team's delicate operation.\"\n",
        "translating_back(sample_text)"
      ],
      "metadata": {
        "colab": {
          "base_uri": "https://localhost:8080/",
          "height": 35
        },
        "id": "gVTpdnxgiQ0C",
        "outputId": "0cc55e2f-0498-4cb7-9746-68ab2842595a"
      },
      "execution_count": 24,
      "outputs": [
        {
          "output_type": "execute_result",
          "data": {
            "text/plain": [
              "\"The detailed mechanism was unexpectedly lacking and makes it difficult for the team's sensitive operation.\""
            ],
            "application/vnd.google.colaboratory.intrinsic+json": {
              "type": "string"
            }
          },
          "metadata": {},
          "execution_count": 24
        }
      ]
    },
    {
      "cell_type": "code",
      "source": [
        "# translating function\n",
        "import tqdm\n",
        "def trans_func(data, batch_size=32):\n",
        "    translated_data = []\n",
        "    failed_count = 0\n",
        "\n",
        "    for i in tqdm.tqdm(range(0, len(data), batch_size), desc=\"Translating\"):\n",
        "        batch = data[i:i + batch_size]\n",
        "        batch_translated = []\n",
        "\n",
        "        for text in batch:\n",
        "            try:\n",
        "                # Translate text and handle potential errors\n",
        "                translated_text = translating_back(text)\n",
        "                if translated_text is not None:\n",
        "                    batch_translated.append(translated_text)\n",
        "                else:\n",
        "                    failed_count += 1\n",
        "            except Exception:\n",
        "\n",
        "                failed_count += 1\n",
        "\n",
        "        translated_data.extend(batch_translated)\n",
        "\n",
        "    print(f\"Number of failed translations: {failed_count}\")\n",
        "    return translated_data"
      ],
      "metadata": {
        "id": "kaTyKoxAY7gT"
      },
      "execution_count": 25,
      "outputs": []
    },
    {
      "cell_type": "code",
      "source": [
        "augmented_fear_data = trans_func(sampled_fear_data)\n",
        "augmented_sadness_data = trans_func(sampled_sadness_data)\n",
        "augmented_surprise_data = trans_func(sampled_surprise_data)\n",
        "augmented_disgust_data = trans_func(sampled_disgust_data)"
      ],
      "metadata": {
        "colab": {
          "base_uri": "https://localhost:8080/"
        },
        "id": "vaF7xHODZrV-",
        "outputId": "6e2808ea-2584-4995-88fd-c3e4724844bd"
      },
      "execution_count": 33,
      "outputs": [
        {
          "output_type": "stream",
          "name": "stderr",
          "text": [
            "Translating: 100%|██████████| 78/78 [38:50<00:00, 29.88s/it]\n"
          ]
        },
        {
          "output_type": "stream",
          "name": "stdout",
          "text": [
            "Number of failed translations: 153\n"
          ]
        },
        {
          "output_type": "stream",
          "name": "stderr",
          "text": [
            "Translating: 100%|██████████| 36/36 [25:04<00:00, 41.80s/it]\n"
          ]
        },
        {
          "output_type": "stream",
          "name": "stdout",
          "text": [
            "Number of failed translations: 26\n"
          ]
        },
        {
          "output_type": "stream",
          "name": "stderr",
          "text": [
            "Translating: 100%|██████████| 48/48 [34:07<00:00, 42.67s/it]\n"
          ]
        },
        {
          "output_type": "stream",
          "name": "stdout",
          "text": [
            "Number of failed translations: 0\n"
          ]
        },
        {
          "output_type": "stream",
          "name": "stderr",
          "text": [
            "Translating: 100%|██████████| 50/50 [34:00<00:00, 40.80s/it]"
          ]
        },
        {
          "output_type": "stream",
          "name": "stdout",
          "text": [
            "Number of failed translations: 1\n"
          ]
        },
        {
          "output_type": "stream",
          "name": "stderr",
          "text": [
            "\n"
          ]
        }
      ]
    },
    {
      "cell_type": "code",
      "source": [
        "# Checkout the augmented data\n",
        "checklist = [augmented_fear_data, augmented_sadness_data, augmented_surprise_data, augmented_disgust_data]\n",
        "for i in checklist:\n",
        "  print(f\"\\n\")\n",
        "  for idx, j in enumerate(i):\n",
        "    print(j)\n",
        "    if idx == 5:\n",
        "      break"
      ],
      "metadata": {
        "colab": {
          "base_uri": "https://localhost:8080/"
        },
        "id": "AInTgBFkDV1C",
        "outputId": "688d1cbc-0b0f-43cb-9bb5-8eb812a9c05b"
      },
      "execution_count": 42,
      "outputs": [
        {
          "output_type": "stream",
          "name": "stdout",
          "text": [
            "\n",
            "\n",
            "This seems to say that unless something has been lost in the translation\n",
            "Bossian spirit! Leave this place and never return !!\n",
            "This opening is pretty terrible TBH\n",
            "I literally screamed uncontrolled for 3 months and landed in a psychiatric hospital.\n",
            "In fact that was terrifying, but why does he wear a mask?!?!?!\n",
            "Watch the left arm and hand as it is on the floor.\n",
            "\n",
            "\n",
            "Pet-Sitting is over, I didn't know that I was lonely without dogs until now.\n",
            "It makes me sad that the legacy [name] has become \"posterboy for angular maniacs\".\n",
            "Damn as a mother of boys who let me upset directly\n",
            "What kind of PC Cuck\n",
            "\"Yeeaah, I know that you are homeless and everyone except apartments are really boring. My most beautiful memories were all made outside in nature.\"\n",
            "Wow, that's a fairly depressing article. I agree with points, but more slowly with the downfall and darkness.\n",
            "\n",
            "\n",
            "Ooooooo ... Yikes\n",
            "Wow, you never have to have been to / or like dozens of anti [names] -subreddits.\n",
            "Oh my gooooooooood\n",
            "And yet nobody beat an eyelid when it was [name] who fell around with [name]. I wonder why.\n",
            "I am more than pleasantly surprised.I clicked on this link\n",
            "I am surprised that nobody has posted a thread of meat yet ...\n",
            "\n",
            "\n",
            "They are disgusting.\n",
            "I swear that these people would try to sell shoes to someone without feet.\n",
            "No, but here you go, to put it really worrying, don't say that I have not warned you.\n",
            "I really despise this woman.\n",
            "Well, who knows what Valve thinks. I don't like poetry and toll.\n",
            "Yes, it is shit that theater mode is not broken in this game like hell\n"
          ]
        }
      ]
    },
    {
      "cell_type": "code",
      "source": [
        "# Combine augmented data\n",
        "augmented_data = (augmented_fear_data + augmented_sadness_data +\n",
        "                  augmented_surprise_data + augmented_disgust_data)\n",
        "# Combine augmented labels\n",
        "augmented_fear_labels = ['fear'] * len(augmented_fear_data)\n",
        "augmented_sadness_labels = ['sadness'] * len(augmented_sadness_data)\n",
        "augmented_surprise_labels = ['surprise'] * len(augmented_surprise_data)\n",
        "augmented_disgust_labels = ['disgust'] * len(augmented_disgust_data)\n",
        "\n",
        "augmented_labels = (augmented_fear_labels + augmented_sadness_labels +\n",
        "                    augmented_surprise_labels + augmented_disgust_labels)\n",
        "\n",
        "# Assuming `balanced_data` and `balanced_labels` are your existing lists\n",
        "balanced_data.extend(augmented_data)\n",
        "balanced_labels.extend(augmented_labels)"
      ],
      "metadata": {
        "id": "lVtFiQN4bJoT"
      },
      "execution_count": 51,
      "outputs": []
    },
    {
      "cell_type": "code",
      "source": [
        "label_distribution(balanced_labels), len(balanced_data), len(balanced_labels)"
      ],
      "metadata": {
        "colab": {
          "base_uri": "https://localhost:8080/"
        },
        "id": "9cyGbTFYFJQj",
        "outputId": "9bfed36d-8251-4a3f-fc5d-e583b23d9098"
      },
      "execution_count": 52,
      "outputs": [
        {
          "output_type": "execute_result",
          "data": {
            "text/plain": [
              "({'disgust': 4999,\n",
              "  'neutral': 5000,\n",
              "  'joy': 5120,\n",
              "  'sadness': 4974,\n",
              "  'surprise': 5000,\n",
              "  'fear': 4847,\n",
              "  'anger': 5000},\n",
              " 34940,\n",
              " 34940)"
            ]
          },
          "metadata": {},
          "execution_count": 52
        }
      ]
    },
    {
      "cell_type": "markdown",
      "source": [
        "## 2.2. Embedding using BERT"
      ],
      "metadata": {
        "id": "sE_FE4SyQ1-k"
      }
    },
    {
      "cell_type": "code",
      "source": [
        "import torch\n",
        "from transformers import BertTokenizer, BertModel\n",
        "\n",
        "# Load pre-trained BERT model and tokenizer\n",
        "tokenizer = BertTokenizer.from_pretrained('bert-base-uncased')\n",
        "model = BertModel.from_pretrained('bert-base-uncased')"
      ],
      "metadata": {
        "id": "zy8t-GYPwooi",
        "colab": {
          "base_uri": "https://localhost:8080/",
          "height": 301,
          "referenced_widgets": [
            "0acb55044fe74ed2af481d18d7ae60ae",
            "59fb535c4f94470a8054e44225f0c750",
            "63b00cb67e0b4fe9a3998adc4b1df47e",
            "9655eb06cd6c4b03a6e57cd7345967f1",
            "78f19abfb217461a9caff6c8df99426b",
            "4ea7c0b1781c4dc08fe6575f7fe57986",
            "f5368b6314814864a99c53201f8ab0a4",
            "2bba27c95b0f471691b1f421124def19",
            "452019506ced4ad88f34f41defd04a13",
            "fd10d6d551bb4c8db9e2d9eea58106c7",
            "7ad1a2959a874f38a8db7248cecf1390",
            "70b179302c0f443a9a0852b0a048f2d8",
            "c6da59afa27d4b10953f70a5530c6aae",
            "4c85c6b1151e4304a3eaf40224bb1b54",
            "0cb0a6c8496341eabf91f44c8654f3ba",
            "065b052a9e2949baaef87df234cfece5",
            "31520fd03b624ff492d30be8d3b0f5d8",
            "4a74cfca41b94532aab17c92f2df8b3a",
            "f536fcfbdf644626bcecae918cdd07fd",
            "6440acb156fd45adbef2fc0673208682",
            "ddb83c4ff3f44287876be41ed31c1407",
            "40a253956b844d99b86590f91322f173",
            "ce3e9ceb22954f9896752efaa943636b",
            "bc6c611da1e64d9b94a08417c5fbc21a",
            "89eab20881584e53bbd4526ea6ebf635",
            "a26c9100320c4373b5409af7c3f2205f",
            "6100045b20ef45c3ba9316558d90e3c9",
            "9b4e2908296f4275b36d7e2b756a7baa",
            "99a83d4458d14b1db4d2cd57ce12a567",
            "671ac76d7e124b1fa6c014542f33165f",
            "844fb89549774c3088273f85c49a9a1a",
            "0450bcaeb1034f20b742e39e0e0c659a",
            "8667c5982294484e83b62fc0deeae27f",
            "57110855081041ccbf3744c8087ae1ce",
            "4ac443edca9a49b7a1610768d474300b",
            "0481fa8064614206bc0109e590a00504",
            "61696fdb1d244097b9be37cb568c743d",
            "573ce3df3f98494086e6539c5331db7e",
            "e784a5258c2545c5aa600e920040f88c",
            "cd7deec0a9e44175a19907f53de1a84c",
            "63ddf0ab2c6148bea0facd02c9947cd7",
            "31fb3588885f4065ac8cf08849113b9e",
            "e78be58655384e0dac49655185a35799",
            "f3f1c750aa9f4510bbf4a6779d2807ce",
            "6aeaa31b0d86448fb33d1c76e11a9bd6",
            "764537b310f5415abef80cb053001114",
            "9340727425ba4a8e8023c7a5ea3664eb",
            "0e17d242bb9c419792bf9a1bbee835b6",
            "0455c9de82a14943bdc52e6f4467186e",
            "157e9f6f775b4d8b83fe5e459a439eaa",
            "6519ad4ea58f46a4977ff458e18c7a28",
            "549cfb122ff345eaa16214413f9cdbd6",
            "175c489a9b3e4d54900d5441fedf337a",
            "807f6c9f5c35450a8766d367444df2d4",
            "ab7785f6868a480dbaddbbdd83ab29d6"
          ]
        },
        "outputId": "6dc367e6-2534-44c1-bf00-58b817474249"
      },
      "execution_count": 25,
      "outputs": [
        {
          "output_type": "stream",
          "name": "stderr",
          "text": [
            "/usr/local/lib/python3.10/dist-packages/huggingface_hub/utils/_token.py:89: UserWarning: \n",
            "The secret `HF_TOKEN` does not exist in your Colab secrets.\n",
            "To authenticate with the Hugging Face Hub, create a token in your settings tab (https://huggingface.co/settings/tokens), set it as secret in your Google Colab and restart your session.\n",
            "You will be able to reuse this secret in all of your notebooks.\n",
            "Please note that authentication is recommended but still optional to access public models or datasets.\n",
            "  warnings.warn(\n"
          ]
        },
        {
          "output_type": "display_data",
          "data": {
            "text/plain": [
              "tokenizer_config.json:   0%|          | 0.00/48.0 [00:00<?, ?B/s]"
            ],
            "application/vnd.jupyter.widget-view+json": {
              "version_major": 2,
              "version_minor": 0,
              "model_id": "0acb55044fe74ed2af481d18d7ae60ae"
            }
          },
          "metadata": {}
        },
        {
          "output_type": "display_data",
          "data": {
            "text/plain": [
              "vocab.txt:   0%|          | 0.00/232k [00:00<?, ?B/s]"
            ],
            "application/vnd.jupyter.widget-view+json": {
              "version_major": 2,
              "version_minor": 0,
              "model_id": "70b179302c0f443a9a0852b0a048f2d8"
            }
          },
          "metadata": {}
        },
        {
          "output_type": "display_data",
          "data": {
            "text/plain": [
              "tokenizer.json:   0%|          | 0.00/466k [00:00<?, ?B/s]"
            ],
            "application/vnd.jupyter.widget-view+json": {
              "version_major": 2,
              "version_minor": 0,
              "model_id": "ce3e9ceb22954f9896752efaa943636b"
            }
          },
          "metadata": {}
        },
        {
          "output_type": "display_data",
          "data": {
            "text/plain": [
              "config.json:   0%|          | 0.00/570 [00:00<?, ?B/s]"
            ],
            "application/vnd.jupyter.widget-view+json": {
              "version_major": 2,
              "version_minor": 0,
              "model_id": "57110855081041ccbf3744c8087ae1ce"
            }
          },
          "metadata": {}
        },
        {
          "output_type": "display_data",
          "data": {
            "text/plain": [
              "model.safetensors:   0%|          | 0.00/440M [00:00<?, ?B/s]"
            ],
            "application/vnd.jupyter.widget-view+json": {
              "version_major": 2,
              "version_minor": 0,
              "model_id": "6aeaa31b0d86448fb33d1c76e11a9bd6"
            }
          },
          "metadata": {}
        }
      ]
    },
    {
      "cell_type": "code",
      "source": [
        "# Embedding function\n",
        "import tqdm\n",
        "def generate_bert_embeddings(sentences, batch_size=4):\n",
        "    embeddings_list = []\n",
        "    for i in tqdm.tqdm(range(0, len(sentences), batch_size), desc=\"Generating BERT embeddings\"):\n",
        "        batch = sentences[i:i + batch_size]\n",
        "        inputs = tokenizer(batch, return_tensors='pt', padding=True, truncation=True, max_length=512)\n",
        "        with torch.no_grad():\n",
        "            outputs = model(**inputs)\n",
        "        # Extract embeddings of the [CLS] token (index 0) for each sentence\n",
        "        cls_embeddings = outputs.last_hidden_state[:, 0, :]\n",
        "        embeddings_list.append(cls_embeddings)\n",
        "    embeddings = torch.cat(embeddings_list)\n",
        "    return embeddings"
      ],
      "metadata": {
        "id": "x-m7R5P3xI53"
      },
      "execution_count": 26,
      "outputs": []
    },
    {
      "cell_type": "code",
      "source": [
        "data_embeddings = generate_bert_embeddings(balanced_data)"
      ],
      "metadata": {
        "id": "f5HUtwc83Qi3",
        "colab": {
          "base_uri": "https://localhost:8080/"
        },
        "outputId": "2e351212-0bcd-41ea-9c67-b1741ba62141"
      },
      "execution_count": 59,
      "outputs": [
        {
          "output_type": "stream",
          "name": "stderr",
          "text": [
            "Generating BERT embeddings: 100%|██████████| 8735/8735 [1:04:45<00:00,  2.25it/s]\n"
          ]
        }
      ]
    },
    {
      "cell_type": "code",
      "source": [
        "# Save embeddings\n",
        "torch.save(data_embeddings, 'data_embeddings.pt')"
      ],
      "metadata": {
        "id": "bx_H66FIoqvz"
      },
      "execution_count": 60,
      "outputs": []
    },
    {
      "cell_type": "code",
      "source": [
        "# Load embeddings\n",
        "import torch\n",
        "loaded_embeddings = torch.load('data_embeddings.pt')\n",
        "# final_labels = torch.load(\"labels.pt\")\n",
        "\n",
        "# Verify loaded embeddings\n",
        "len(loaded_embeddings)"
      ],
      "metadata": {
        "colab": {
          "base_uri": "https://localhost:8080/"
        },
        "id": "B9TRJO6UouOF",
        "outputId": "871b852c-c445-48d8-b2db-ed15d0aa4853"
      },
      "execution_count": 19,
      "outputs": [
        {
          "output_type": "stream",
          "name": "stderr",
          "text": [
            "<ipython-input-19-cd033539d5c6>:3: FutureWarning: You are using `torch.load` with `weights_only=False` (the current default value), which uses the default pickle module implicitly. It is possible to construct malicious pickle data which will execute arbitrary code during unpickling (See https://github.com/pytorch/pytorch/blob/main/SECURITY.md#untrusted-models for more details). In a future release, the default value for `weights_only` will be flipped to `True`. This limits the functions that could be executed during unpickling. Arbitrary objects will no longer be allowed to be loaded via this mode unless they are explicitly allowlisted by the user via `torch.serialization.add_safe_globals`. We recommend you start setting `weights_only=True` for any use case where you don't have full control of the loaded file. Please open an issue on GitHub for any issues related to this experimental feature.\n",
            "  loaded_embeddings = torch.load('data_embeddings.pt')\n"
          ]
        },
        {
          "output_type": "execute_result",
          "data": {
            "text/plain": [
              "34940"
            ]
          },
          "metadata": {},
          "execution_count": 19
        }
      ]
    },
    {
      "cell_type": "markdown",
      "source": [
        "Indexing labels"
      ],
      "metadata": {
        "id": "Knhold8Cih5U"
      }
    },
    {
      "cell_type": "code",
      "source": [
        "unique_labels = list(set(balanced_labels))\n",
        "unique_labels"
      ],
      "metadata": {
        "colab": {
          "base_uri": "https://localhost:8080/"
        },
        "id": "gxEPccbnikyb",
        "outputId": "c7b0f1a1-1187-4980-d91d-7e797789bfae"
      },
      "execution_count": 20,
      "outputs": [
        {
          "output_type": "execute_result",
          "data": {
            "text/plain": [
              "['joy', 'fear', 'disgust', 'neutral', 'surprise', 'sadness', 'anger']"
            ]
          },
          "metadata": {},
          "execution_count": 20
        }
      ]
    },
    {
      "cell_type": "code",
      "source": [
        "itol = {}\n",
        "ltoi = {}\n",
        "for i, label in enumerate(unique_labels):\n",
        "  itol[i]= label\n",
        "  ltoi[label] = i\n",
        "print(itol)\n",
        "print(ltoi)"
      ],
      "metadata": {
        "colab": {
          "base_uri": "https://localhost:8080/"
        },
        "id": "Jj37pTTJiy3b",
        "outputId": "494f0c11-dd2f-4ff5-e3f0-53a8b30de6c1"
      },
      "execution_count": 21,
      "outputs": [
        {
          "output_type": "stream",
          "name": "stdout",
          "text": [
            "{0: 'joy', 1: 'fear', 2: 'disgust', 3: 'neutral', 4: 'surprise', 5: 'sadness', 6: 'anger'}\n",
            "{'joy': 0, 'fear': 1, 'disgust': 2, 'neutral': 3, 'surprise': 4, 'sadness': 5, 'anger': 6}\n"
          ]
        }
      ]
    },
    {
      "cell_type": "code",
      "source": [
        "# Convert label list to index list\n",
        "index_labels = [ltoi[label] for label in balanced_labels]\n",
        "index_labels[:5]"
      ],
      "metadata": {
        "colab": {
          "base_uri": "https://localhost:8080/"
        },
        "id": "TDAGkc6LjU2J",
        "outputId": "4baa5f4d-fece-46b6-b9a9-1c4d5388ffa6"
      },
      "execution_count": 22,
      "outputs": [
        {
          "output_type": "execute_result",
          "data": {
            "text/plain": [
              "[5, 2, 0, 0, 0]"
            ]
          },
          "metadata": {},
          "execution_count": 22
        }
      ]
    },
    {
      "cell_type": "code",
      "source": [
        "labels_tensor = torch.tensor(index_labels)\n",
        "torch.save(labels_tensor, 'labels.pt')\n",
        "len(index_labels)"
      ],
      "metadata": {
        "id": "yHr_o4pTRAi9",
        "colab": {
          "base_uri": "https://localhost:8080/"
        },
        "outputId": "a37705e2-3ab3-4aa9-c5bf-e077822b3d59"
      },
      "execution_count": 23,
      "outputs": [
        {
          "output_type": "execute_result",
          "data": {
            "text/plain": [
              "28389"
            ]
          },
          "metadata": {},
          "execution_count": 23
        }
      ]
    },
    {
      "cell_type": "code",
      "source": [
        "import numpy as np\n",
        "from sklearn.metrics.pairwise import cosine_similarity\n",
        "\n",
        "# Function to compute cosine similarity between two sentences\n",
        "def compute_similarity(embedding1, embedding2):\n",
        "    # Convert tensors to numpy arrays\n",
        "    embedding1 = embedding1.numpy()\n",
        "    embedding2 = embedding2.numpy()\n",
        "    # Compute cosine similarity\n",
        "    similarity = cosine_similarity(embedding1, embedding2)\n",
        "    return similarity[0][0]\n",
        "\n",
        "# Example sentences\n",
        "sentence1 = \"That was a great experience playing badminton.\"\n",
        "sentence2 = \"I will love to play it again.\"\n",
        "\n",
        "# Process the sentences\n",
        "processed_sentences = [sentence1, sentence2]\n",
        "\n",
        "\n",
        "# Generate BERT embeddings\n",
        "embeddings = generate_bert_embeddings(processed_sentences)\n",
        "\n",
        "# Extract embeddings for the sentences\n",
        "embedding1 = embeddings[0:1]  # First sentence\n",
        "embedding2 = embeddings[1:2]  # Second sentence\n",
        "\n",
        "# Compute similarity\n",
        "similarity_score = compute_similarity(embedding1, embedding2)\n",
        "\n",
        "print(f\"Similarity score between the sentences: {similarity_score}\")"
      ],
      "metadata": {
        "colab": {
          "base_uri": "https://localhost:8080/"
        },
        "id": "xg0tdrpH5TCd",
        "outputId": "bcc6b1ee-0555-4f97-d243-5d80cf99c25b"
      },
      "execution_count": 27,
      "outputs": [
        {
          "output_type": "stream",
          "name": "stderr",
          "text": [
            "Generating BERT embeddings: 100%|██████████| 1/1 [00:00<00:00,  1.21it/s]"
          ]
        },
        {
          "output_type": "stream",
          "name": "stdout",
          "text": [
            "Similarity score between the sentences: 0.9205251932144165\n"
          ]
        },
        {
          "output_type": "stream",
          "name": "stderr",
          "text": [
            "\n"
          ]
        }
      ]
    },
    {
      "cell_type": "code",
      "source": [
        "labels_tensor = torch.load(\"labels.pt\")\n",
        "loaded_embeddings = torch.load(\"data_embeddings.pt\")"
      ],
      "metadata": {
        "id": "61Ak5yVYRTbR",
        "colab": {
          "base_uri": "https://localhost:8080/"
        },
        "outputId": "fe7ce285-b1af-4960-fb83-c9181cefd61e"
      },
      "execution_count": 28,
      "outputs": [
        {
          "output_type": "stream",
          "name": "stderr",
          "text": [
            "<ipython-input-28-dc93b6961812>:1: FutureWarning: You are using `torch.load` with `weights_only=False` (the current default value), which uses the default pickle module implicitly. It is possible to construct malicious pickle data which will execute arbitrary code during unpickling (See https://github.com/pytorch/pytorch/blob/main/SECURITY.md#untrusted-models for more details). In a future release, the default value for `weights_only` will be flipped to `True`. This limits the functions that could be executed during unpickling. Arbitrary objects will no longer be allowed to be loaded via this mode unless they are explicitly allowlisted by the user via `torch.serialization.add_safe_globals`. We recommend you start setting `weights_only=True` for any use case where you don't have full control of the loaded file. Please open an issue on GitHub for any issues related to this experimental feature.\n",
            "  labels_tensor = torch.load(\"labels.pt\")\n",
            "<ipython-input-28-dc93b6961812>:2: FutureWarning: You are using `torch.load` with `weights_only=False` (the current default value), which uses the default pickle module implicitly. It is possible to construct malicious pickle data which will execute arbitrary code during unpickling (See https://github.com/pytorch/pytorch/blob/main/SECURITY.md#untrusted-models for more details). In a future release, the default value for `weights_only` will be flipped to `True`. This limits the functions that could be executed during unpickling. Arbitrary objects will no longer be allowed to be loaded via this mode unless they are explicitly allowlisted by the user via `torch.serialization.add_safe_globals`. We recommend you start setting `weights_only=True` for any use case where you don't have full control of the loaded file. Please open an issue on GitHub for any issues related to this experimental feature.\n",
            "  loaded_embeddings = torch.load(\"data_embeddings.pt\")\n"
          ]
        }
      ]
    },
    {
      "cell_type": "code",
      "source": [
        "loaded_embeddings = loaded_embeddings.float()"
      ],
      "metadata": {
        "id": "jm9NopNySIsp"
      },
      "execution_count": 29,
      "outputs": []
    },
    {
      "cell_type": "code",
      "source": [
        "len(loaded_embeddings), len(labels_tensor)"
      ],
      "metadata": {
        "colab": {
          "base_uri": "https://localhost:8080/"
        },
        "id": "MbJsBuN4XOkp",
        "outputId": "7191c64e-ca10-4d73-b1d7-d72ce5495a41"
      },
      "execution_count": 30,
      "outputs": [
        {
          "output_type": "execute_result",
          "data": {
            "text/plain": [
              "(34940, 34940)"
            ]
          },
          "metadata": {},
          "execution_count": 30
        }
      ]
    },
    {
      "cell_type": "markdown",
      "source": [
        "# 3. Prepare the data"
      ],
      "metadata": {
        "id": "PUfDGIXeXgtB"
      }
    },
    {
      "cell_type": "code",
      "source": [
        "# Split the dataset\n",
        "import torch\n",
        "from torch import nn, optim\n",
        "from torch.utils.data import DataLoader, TensorDataset, random_split\n",
        "\n",
        "\n",
        "dataset = TensorDataset(loaded_embeddings, labels_tensor)\n",
        "train_size = int(0.8 * len(dataset))\n",
        "test_size = len(dataset) - train_size\n",
        "train_dataset, test_dataset = random_split(dataset, [train_size, test_size])"
      ],
      "metadata": {
        "id": "fizN3VOZmH5f"
      },
      "execution_count": 31,
      "outputs": []
    },
    {
      "cell_type": "markdown",
      "source": [
        "# 4. Developing Neural Network and training"
      ],
      "metadata": {
        "id": "jfZkmEDCoX7c"
      }
    },
    {
      "cell_type": "code",
      "source": [
        "class LSTMClassifier(nn.Module):\n",
        "    def __init__(self, input_dim, hidden_dim, output_dim, num_layers=1):\n",
        "        super(LSTMClassifier, self).__init__()\n",
        "        self.lstm = nn.LSTM(input_dim, hidden_dim, num_layers, batch_first=True)\n",
        "        self.fc = nn.Linear(hidden_dim, output_dim)\n",
        "        self.hidden_dim = hidden_dim\n",
        "        self.num_layers = num_layers\n",
        "\n",
        "    def forward(self, x):\n",
        "        batch_size = x.size(0)\n",
        "        h0 = torch.zeros(self.num_layers, batch_size, self.hidden_dim).to(x.device)\n",
        "        c0 = torch.zeros(self.num_layers, batch_size, self.hidden_dim).to(x.device)\n",
        "        out, _ = self.lstm(x, (h0, c0))\n",
        "        out = self.fc(out[:, -1, :])\n",
        "        return out"
      ],
      "metadata": {
        "id": "sgKQuff7mQLH"
      },
      "execution_count": 32,
      "outputs": []
    },
    {
      "cell_type": "markdown",
      "source": [
        "## 4.1. Hyperparemeter optimization using randomsearchCV"
      ],
      "metadata": {
        "id": "tG2pB2FXZCdY"
      }
    },
    {
      "cell_type": "code",
      "source": [
        "import torch.optim as optim\n",
        "from sklearn.base import BaseEstimator, ClassifierMixin\n",
        "from torch.utils.data import DataLoader\n",
        "from sklearn.metrics import accuracy_score\n",
        "\n",
        "class PyTorchLSTMClassifier(BaseEstimator, ClassifierMixin):\n",
        "    def __init__(self, input_dim, hidden_dim=128, num_layers=3, output_dim=7, lr=0.001, batch_size=16, epochs=10):\n",
        "        self.input_dim = input_dim\n",
        "        self.hidden_dim = hidden_dim\n",
        "        self.num_layers = num_layers\n",
        "        self.output_dim = output_dim\n",
        "        self.lr = lr\n",
        "        self.batch_size = batch_size\n",
        "        self.epochs = epochs\n",
        "        self.device = torch.device(\"cuda\" if torch.cuda.is_available() else \"cpu\")\n",
        "        self.model = LSTMClassifier(input_dim, hidden_dim, output_dim, num_layers).to(self.device)\n",
        "        self.criterion = nn.CrossEntropyLoss()\n",
        "        self.optimizer = optim.Adam(self.model.parameters(), lr=lr)\n",
        "\n",
        "    def fit(self, X, y):\n",
        "        self.model.train()\n",
        "        train_loader = DataLoader(dataset=list(zip(X, y)), batch_size=self.batch_size, shuffle=True)\n",
        "        for epoch in range(self.epochs):\n",
        "            for data, target in train_loader:\n",
        "                data, target = data.to(self.device), target.to(self.device)\n",
        "                data = data.unsqueeze(1)  # Add sequence dimension\n",
        "                self.optimizer.zero_grad()\n",
        "                output = self.model(data)\n",
        "                loss = self.criterion(output, target)\n",
        "                loss.backward()\n",
        "                self.optimizer.step()\n",
        "\n",
        "    def predict(self, X):\n",
        "        self.model.eval()\n",
        "        test_loader = DataLoader(dataset=X, batch_size=self.batch_size, shuffle=False)\n",
        "        predictions = []\n",
        "        with torch.no_grad():\n",
        "            for data in test_loader:\n",
        "                data = data.to(self.device)\n",
        "                data = data.unsqueeze(1)  # Add sequence dimension\n",
        "                output = self.model(data)\n",
        "                _, predicted = torch.max(output, 1)\n",
        "                predictions.extend(predicted.cpu().numpy())\n",
        "        return np.array(predictions)\n",
        "\n",
        "    def score(self, X, y):\n",
        "        predictions = self.predict(X)\n",
        "        return accuracy_score(y, predictions)"
      ],
      "metadata": {
        "id": "2nMKDBzUa0Tp"
      },
      "execution_count": 72,
      "outputs": []
    },
    {
      "cell_type": "code",
      "source": [
        "# Convert datasets to lists of tensors for sklearn compatibility\n",
        "X_train = [data[0] for data in train_dataset]\n",
        "y_train = [data[1].item() for data in train_dataset]"
      ],
      "metadata": {
        "id": "yvlY8XJzbzOe"
      },
      "execution_count": 73,
      "outputs": []
    },
    {
      "cell_type": "code",
      "source": [
        "from sklearn.model_selection import RandomizedSearchCV\n",
        "\n",
        "# Define the parameter grid for RandomizedSearchCV\n",
        "param_dist = {\n",
        "    'hidden_dim': [64, 128, 256],\n",
        "    'num_layers': [1, 2, 3],\n",
        "    'lr': [0.0001, 0.001, 0.01],\n",
        "    'batch_size': [16, 32],\n",
        "    'epochs': [10, 20, 30]\n",
        "}\n",
        "\n",
        "# Instantiate the classifier\n",
        "pytorch_lstm_clf = PyTorchLSTMClassifier(input_dim=loaded_embeddings.size(1), output_dim=7)\n",
        "\n",
        "# Perform RandomizedSearchCV\n",
        "random_search = RandomizedSearchCV(pytorch_lstm_clf, param_distributions=param_dist, n_iter=5, cv=2, verbose=2, n_jobs=1)\n",
        "random_search.fit(X_train, y_train)\n",
        "\n",
        "# Print the best parameters and best score\n",
        "print(\"Best parameters found: \", random_search.best_params_)\n",
        "print(\"Best cross-validation score: \", random_search.best_score_)"
      ],
      "metadata": {
        "colab": {
          "base_uri": "https://localhost:8080/"
        },
        "id": "RHBFIm0qb4M1",
        "outputId": "6f061c8e-f30e-4a04-d48f-5df4ada068bd"
      },
      "execution_count": 74,
      "outputs": [
        {
          "output_type": "stream",
          "name": "stdout",
          "text": [
            "Fitting 2 folds for each of 5 candidates, totalling 10 fits\n",
            "[CV] END batch_size=16, epochs=10, hidden_dim=64, lr=0.01, num_layers=3; total time= 2.3min\n",
            "[CV] END batch_size=16, epochs=10, hidden_dim=64, lr=0.01, num_layers=3; total time= 2.3min\n",
            "[CV] END batch_size=32, epochs=30, hidden_dim=256, lr=0.001, num_layers=3; total time= 3.9min\n",
            "[CV] END batch_size=32, epochs=30, hidden_dim=256, lr=0.001, num_layers=3; total time= 3.9min\n",
            "[CV] END batch_size=16, epochs=20, hidden_dim=256, lr=0.0001, num_layers=1; total time= 4.7min\n",
            "[CV] END batch_size=16, epochs=20, hidden_dim=256, lr=0.0001, num_layers=1; total time= 4.7min\n",
            "[CV] END batch_size=16, epochs=20, hidden_dim=256, lr=0.001, num_layers=3; total time= 4.7min\n",
            "[CV] END batch_size=16, epochs=20, hidden_dim=256, lr=0.001, num_layers=3; total time= 4.7min\n",
            "[CV] END batch_size=16, epochs=10, hidden_dim=128, lr=0.01, num_layers=2; total time= 2.4min\n",
            "[CV] END batch_size=16, epochs=10, hidden_dim=128, lr=0.01, num_layers=2; total time= 2.6min\n",
            "Best parameters found:  {'num_layers': 2, 'lr': 0.01, 'hidden_dim': 128, 'epochs': 10, 'batch_size': 16}\n",
            "Best cross-validation score:  0.49946336576989125\n"
          ]
        }
      ]
    },
    {
      "cell_type": "code",
      "source": [
        "# Extracting the best parameters from the random search\n",
        "best_params = random_search.best_params_\n",
        "\n",
        "# Defining variables for each parameter\n",
        "LR = best_params['lr']\n",
        "BATCH_SIZE = best_params['batch_size']\n",
        "EPOCHS = best_params['epochs']\n",
        "HIDDEN_DIM = best_params['hidden_dim']\n",
        "NUM_LAYERS = best_params['num_layers']"
      ],
      "metadata": {
        "id": "6BC0FMkMcmDJ"
      },
      "execution_count": 32,
      "outputs": []
    },
    {
      "cell_type": "code",
      "source": [
        "BATCH_SIZE = 16\n",
        "EPOCHS = 10\n",
        "HIDDEN_DIM = 128\n",
        "NUM_LAYERS = 2\n",
        "LR = 0.01"
      ],
      "metadata": {
        "id": "xXxWECjklJtP"
      },
      "execution_count": 33,
      "outputs": []
    },
    {
      "cell_type": "code",
      "source": [
        "# Loss and optimizer\n",
        "criterion = nn.CrossEntropyLoss()\n",
        "optimizer = optim.Adam(model.parameters(), lr=LR)"
      ],
      "metadata": {
        "id": "dCg50wfBc2-A"
      },
      "execution_count": 34,
      "outputs": []
    },
    {
      "cell_type": "code",
      "source": [
        "# Setting up parameters\n",
        "input_dim = loaded_embeddings.size(1)\n",
        "hidden_dim = HIDDEN_DIM\n",
        "output_dim = 7\n",
        "num_layers = NUM_LAYERS\n",
        "\n",
        "model = LSTMClassifier(input_dim, hidden_dim, output_dim, num_layers)\n",
        "device = torch.device('cuda' if torch.cuda.is_available() else 'cpu')\n",
        "model.to(device)\n",
        "\n",
        "criterion = nn.CrossEntropyLoss()\n",
        "optimizer = optim.Adam(model.parameters(), lr=LR)\n",
        "\n",
        "batch_size = BATCH_SIZE\n",
        "train_loader = DataLoader(train_dataset, batch_size=batch_size, shuffle=True)\n",
        "test_loader = DataLoader(test_dataset, batch_size=batch_size, shuffle=False)"
      ],
      "metadata": {
        "id": "n1nW9DpRcvHT"
      },
      "execution_count": 35,
      "outputs": []
    },
    {
      "cell_type": "markdown",
      "source": [
        "## 4.2. Training loop"
      ],
      "metadata": {
        "id": "zBCamvP1ZJaD"
      }
    },
    {
      "cell_type": "code",
      "source": [
        "# Set up learning rate scheduler for decay\n",
        "scheduler = optim.lr_scheduler.StepLR(optimizer, step_size=5, gamma=0.1)\n",
        "\n",
        "# DEfining training loop\n",
        "def train_model(model, train_loader, criterion, optimizer, device, num_epochs=EPOCHS):\n",
        "    model.train()\n",
        "    for epoch in range(num_epochs):\n",
        "        total_loss = 0\n",
        "\n",
        "        # Manually adjust the learning rate for the last 5 epochs\n",
        "        if epoch >= num_epochs - 5:\n",
        "            for param_group in optimizer.param_groups:\n",
        "                param_group['lr'] = LR / 10\n",
        "\n",
        "        for batch in train_loader:\n",
        "            embeddings, labels = batch\n",
        "            embeddings, labels = embeddings.to(device), labels.to(device)\n",
        "            embeddings = embeddings.unsqueeze(1)  # Add sequence dimension\n",
        "            outputs = model(embeddings)\n",
        "            loss = criterion(outputs, labels)\n",
        "            optimizer.zero_grad()\n",
        "            loss.backward()\n",
        "            optimizer.step()\n",
        "            total_loss += loss.item()\n",
        "\n",
        "        avg_loss = total_loss / len(train_loader)\n",
        "        print(f'Epoch [{epoch+1}/{num_epochs}], Loss: {avg_loss:.4f}')\n",
        "\n",
        "train_model(model, train_loader, criterion, optimizer, device, num_epochs=EPOCHS+5)\n",
        "\n",
        "def evaluate_model(model, test_loader, device):\n",
        "    model.eval()\n",
        "    correct = 0\n",
        "    total = 0\n",
        "    with torch.no_grad():\n",
        "        for batch in test_loader:\n",
        "            embeddings, labels = batch\n",
        "            embeddings, labels = embeddings.to(device), labels.to(device)\n",
        "            embeddings = embeddings.unsqueeze(1)  # Add sequence dimension\n",
        "            outputs = model(embeddings)\n",
        "            _, predicted = torch.max(outputs.data, 1)\n",
        "            total += labels.size(0)\n",
        "            correct += (predicted == labels).sum().item()\n",
        "    accuracy = correct / total\n",
        "    print(f'Test Accuracy: {accuracy:.4f}')\n",
        "\n",
        "evaluate_model(model, test_loader, device)"
      ],
      "metadata": {
        "colab": {
          "base_uri": "https://localhost:8080/"
        },
        "id": "FqIYiXaCmVx1",
        "outputId": "43f20ac9-fd60-4850-d8e5-b165f8fd64d0"
      },
      "execution_count": 36,
      "outputs": [
        {
          "output_type": "stream",
          "name": "stdout",
          "text": [
            "Epoch [1/15], Loss: 1.6695\n",
            "Epoch [2/15], Loss: 1.5608\n",
            "Epoch [3/15], Loss: 1.5403\n",
            "Epoch [4/15], Loss: 1.5248\n",
            "Epoch [5/15], Loss: 1.5116\n",
            "Epoch [6/15], Loss: 1.4949\n",
            "Epoch [7/15], Loss: 1.4870\n",
            "Epoch [8/15], Loss: 1.4778\n",
            "Epoch [9/15], Loss: 1.4625\n",
            "Epoch [10/15], Loss: 1.4433\n",
            "Epoch [11/15], Loss: 1.3777\n",
            "Epoch [12/15], Loss: 1.3578\n",
            "Epoch [13/15], Loss: 1.3481\n",
            "Epoch [14/15], Loss: 1.3376\n",
            "Epoch [15/15], Loss: 1.3297\n",
            "Test Accuracy: 0.4788\n"
          ]
        }
      ]
    },
    {
      "cell_type": "code",
      "source": [
        "model_path = \"lstm_model.pth\"\n",
        "torch.save(model.state_dict(), model_path)\n",
        "print(f\"Model saved to {model_path}\")"
      ],
      "metadata": {
        "id": "pUYRJHjapAUp"
      },
      "execution_count": 36,
      "outputs": []
    },
    {
      "cell_type": "code",
      "source": [
        "model.load_state_dict(torch.load(model_path))\n",
        "model.to(device)"
      ],
      "metadata": {
        "id": "wj57frbrqcaX"
      },
      "execution_count": 36,
      "outputs": []
    },
    {
      "cell_type": "markdown",
      "source": [
        "# 5. Evaluation using Confusion Matrix"
      ],
      "metadata": {
        "id": "meypFGi_lbm1"
      }
    },
    {
      "cell_type": "code",
      "source": [
        "import matplotlib.pyplot as plt\n",
        "import seaborn as sns\n",
        "from sklearn.metrics import confusion_matrix"
      ],
      "metadata": {
        "id": "m4kI6EgQgqUU"
      },
      "execution_count": 37,
      "outputs": []
    },
    {
      "cell_type": "code",
      "source": [
        "def plot_confusion_matrix(model, data_loader, device, label_dict):\n",
        "    model.eval()\n",
        "    all_labels = []\n",
        "    all_predictions = []\n",
        "\n",
        "    with torch.no_grad():\n",
        "        for batch in data_loader:\n",
        "            embeddings, labels = batch\n",
        "            embeddings, labels = embeddings.to(device), labels.to(device)\n",
        "            embeddings = embeddings.unsqueeze(1)\n",
        "            outputs = model(embeddings)\n",
        "            _, predicted = torch.max(outputs.data, 1)\n",
        "            all_labels.extend(labels.cpu().numpy())\n",
        "            all_predictions.extend(predicted.cpu().numpy())\n",
        "\n",
        "    # Compute confusion matrix\n",
        "    num_classes = len(label_dict)\n",
        "    cm = confusion_matrix(all_labels, all_predictions, labels=list(label_dict.keys()))\n",
        "\n",
        "    # Create a list of class names for plotting\n",
        "    class_names = [label_dict[i] for i in range(num_classes)]\n",
        "\n",
        "    # Plot confusion matrix\n",
        "    plt.figure(figsize=(10, 7))\n",
        "    sns.heatmap(cm, annot=True, fmt='d', cmap='Blues',\n",
        "                xticklabels=class_names,\n",
        "                yticklabels=class_names)\n",
        "    plt.xlabel('Predicted Label')\n",
        "    plt.ylabel('True Label')\n",
        "    plt.title('Confusion Matrix')\n",
        "    plt.show()\n",
        "\n",
        "plot_confusion_matrix(model, test_loader, device, itol)"
      ],
      "metadata": {
        "colab": {
          "base_uri": "https://localhost:8080/",
          "height": 641
        },
        "id": "b7AOY0yEgrNi",
        "outputId": "5b6398b3-7b37-4a69-9cb1-cb4917aaa7e5"
      },
      "execution_count": 38,
      "outputs": [
        {
          "output_type": "display_data",
          "data": {
            "text/plain": [
              "<Figure size 1000x700 with 2 Axes>"
            ],
            "image/png": "[encoded data removed]"
          },
          "metadata": {}
        }
      ]
    }
  ]
}