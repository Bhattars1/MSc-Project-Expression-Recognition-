{
  "nbformat": 4,
  "nbformat_minor": 0,
  "metadata": {
    "colab": {
      "provenance": [],
      "machine_shape": "hm",
      "gpuType": "T4",
      "collapsed_sections": [
        "u1tyKbEdZluE",
        "h84QpwC3Zs0x",
        "kHKAF3aqaGYK",
        "cm9-v57mJuqX",
        "1Ua-ue7tJyec",
        "SHfU3XTpb7Bh",
        "cxanA63hdBsn",
        "OM1Cs1aneTWP",
        "RhhxDPuVuJF3",
        "hVIYLSHGXpPC",
        "JtYtonnVvJoT",
        "ucJuy2s1vcjt",
        "rePMMZ8uziSf",
        "AhGgazwD0s7w",
        "T2oR1XsMBpVg",
        "h-_aWm_OB0OF"
      ]
    },
    "kernelspec": {
      "name": "python3",
      "display_name": "Python 3"
    },
    "language_info": {
      "name": "python"
    },
    "accelerator": "GPU",
    "widgets": {
      "application/vnd.jupyter.widget-state+json": {
        "3caa35dc8e474b46af8470bf1fc4ce4d": {
          "model_module": "@jupyter-widgets/controls",
          "model_name": "HBoxModel",
          "model_module_version": "1.5.0",
          "state": {
            "_dom_classes": [],
            "_model_module": "@jupyter-widgets/controls",
            "_model_module_version": "1.5.0",
            "_model_name": "HBoxModel",
            "_view_count": null,
            "_view_module": "@jupyter-widgets/controls",
            "_view_module_version": "1.5.0",
            "_view_name": "HBoxView",
            "box_style": "",
            "children": [
              "IPY_MODEL_6fd2be6ec8cb49b5a4a0d3f7ec87ea14",
              "IPY_MODEL_5704a8b0afc44d00952faba54e3cb57a",
              "IPY_MODEL_f3e8ee09fd11459bbe0b39aecb240998"
            ],
            "layout": "IPY_MODEL_c11c448b5e5f4f3ba444b897936370e6"
          }
        },
        "6fd2be6ec8cb49b5a4a0d3f7ec87ea14": {
          "model_module": "@jupyter-widgets/controls",
          "model_name": "HTMLModel",
          "model_module_version": "1.5.0",
          "state": {
            "_dom_classes": [],
            "_model_module": "@jupyter-widgets/controls",
            "_model_module_version": "1.5.0",
            "_model_name": "HTMLModel",
            "_view_count": null,
            "_view_module": "@jupyter-widgets/controls",
            "_view_module_version": "1.5.0",
            "_view_name": "HTMLView",
            "description": "",
            "description_tooltip": null,
            "layout": "IPY_MODEL_dfeefebba45243d782f569a75152d27d",
            "placeholder": "​",
            "style": "IPY_MODEL_8cd0844039084e21b46a86738ab14970",
            "value": ""
          }
        },
        "5704a8b0afc44d00952faba54e3cb57a": {
          "model_module": "@jupyter-widgets/controls",
          "model_name": "FloatProgressModel",
          "model_module_version": "1.5.0",
          "state": {
            "_dom_classes": [],
            "_model_module": "@jupyter-widgets/controls",
            "_model_module_version": "1.5.0",
            "_model_name": "FloatProgressModel",
            "_view_count": null,
            "_view_module": "@jupyter-widgets/controls",
            "_view_module_version": "1.5.0",
            "_view_name": "ProgressView",
            "bar_style": "success",
            "description": "",
            "description_tooltip": null,
            "layout": "IPY_MODEL_e3605d94e682495e9e97d37e7279baaf",
            "max": 1,
            "min": 0,
            "orientation": "horizontal",
            "style": "IPY_MODEL_9249b3a5a7234a178669cd85def2b425",
            "value": 1
          }
        },
        "f3e8ee09fd11459bbe0b39aecb240998": {
          "model_module": "@jupyter-widgets/controls",
          "model_name": "HTMLModel",
          "model_module_version": "1.5.0",
          "state": {
            "_dom_classes": [],
            "_model_module": "@jupyter-widgets/controls",
            "_model_module_version": "1.5.0",
            "_model_name": "HTMLModel",
            "_view_count": null,
            "_view_module": "@jupyter-widgets/controls",
            "_view_module_version": "1.5.0",
            "_view_name": "HTMLView",
            "description": "",
            "description_tooltip": null,
            "layout": "IPY_MODEL_3a96a8638cea4947a28c45259ceb2a73",
            "placeholder": "​",
            "style": "IPY_MODEL_215fcc9237684fafa55238473cd7afa7",
            "value": " 70/? [01:22&lt;00:00,  1.94it/s]"
          }
        },
        "c11c448b5e5f4f3ba444b897936370e6": {
          "model_module": "@jupyter-widgets/base",
          "model_name": "LayoutModel",
          "model_module_version": "1.2.0",
          "state": {
            "_model_module": "@jupyter-widgets/base",
            "_model_module_version": "1.2.0",
            "_model_name": "LayoutModel",
            "_view_count": null,
            "_view_module": "@jupyter-widgets/base",
            "_view_module_version": "1.2.0",
            "_view_name": "LayoutView",
            "align_content": null,
            "align_items": null,
            "align_self": null,
            "border": null,
            "bottom": null,
            "display": null,
            "flex": null,
            "flex_flow": null,
            "grid_area": null,
            "grid_auto_columns": null,
            "grid_auto_flow": null,
            "grid_auto_rows": null,
            "grid_column": null,
            "grid_gap": null,
            "grid_row": null,
            "grid_template_areas": null,
            "grid_template_columns": null,
            "grid_template_rows": null,
            "height": null,
            "justify_content": null,
            "justify_items": null,
            "left": null,
            "margin": null,
            "max_height": null,
            "max_width": null,
            "min_height": null,
            "min_width": null,
            "object_fit": null,
            "object_position": null,
            "order": null,
            "overflow": null,
            "overflow_x": null,
            "overflow_y": null,
            "padding": null,
            "right": null,
            "top": null,
            "visibility": null,
            "width": null
          }
        },
        "dfeefebba45243d782f569a75152d27d": {
          "model_module": "@jupyter-widgets/base",
          "model_name": "LayoutModel",
          "model_module_version": "1.2.0",
          "state": {
            "_model_module": "@jupyter-widgets/base",
            "_model_module_version": "1.2.0",
            "_model_name": "LayoutModel",
            "_view_count": null,
            "_view_module": "@jupyter-widgets/base",
            "_view_module_version": "1.2.0",
            "_view_name": "LayoutView",
            "align_content": null,
            "align_items": null,
            "align_self": null,
            "border": null,
            "bottom": null,
            "display": null,
            "flex": null,
            "flex_flow": null,
            "grid_area": null,
            "grid_auto_columns": null,
            "grid_auto_flow": null,
            "grid_auto_rows": null,
            "grid_column": null,
            "grid_gap": null,
            "grid_row": null,
            "grid_template_areas": null,
            "grid_template_columns": null,
            "grid_template_rows": null,
            "height": null,
            "justify_content": null,
            "justify_items": null,
            "left": null,
            "margin": null,
            "max_height": null,
            "max_width": null,
            "min_height": null,
            "min_width": null,
            "object_fit": null,
            "object_position": null,
            "order": null,
            "overflow": null,
            "overflow_x": null,
            "overflow_y": null,
            "padding": null,
            "right": null,
            "top": null,
            "visibility": null,
            "width": null
          }
        },
        "8cd0844039084e21b46a86738ab14970": {
          "model_module": "@jupyter-widgets/controls",
          "model_name": "DescriptionStyleModel",
          "model_module_version": "1.5.0",
          "state": {
            "_model_module": "@jupyter-widgets/controls",
            "_model_module_version": "1.5.0",
            "_model_name": "DescriptionStyleModel",
            "_view_count": null,
            "_view_module": "@jupyter-widgets/base",
            "_view_module_version": "1.2.0",
            "_view_name": "StyleView",
            "description_width": ""
          }
        },
        "e3605d94e682495e9e97d37e7279baaf": {
          "model_module": "@jupyter-widgets/base",
          "model_name": "LayoutModel",
          "model_module_version": "1.2.0",
          "state": {
            "_model_module": "@jupyter-widgets/base",
            "_model_module_version": "1.2.0",
            "_model_name": "LayoutModel",
            "_view_count": null,
            "_view_module": "@jupyter-widgets/base",
            "_view_module_version": "1.2.0",
            "_view_name": "LayoutView",
            "align_content": null,
            "align_items": null,
            "align_self": null,
            "border": null,
            "bottom": null,
            "display": null,
            "flex": null,
            "flex_flow": null,
            "grid_area": null,
            "grid_auto_columns": null,
            "grid_auto_flow": null,
            "grid_auto_rows": null,
            "grid_column": null,
            "grid_gap": null,
            "grid_row": null,
            "grid_template_areas": null,
            "grid_template_columns": null,
            "grid_template_rows": null,
            "height": null,
            "justify_content": null,
            "justify_items": null,
            "left": null,
            "margin": null,
            "max_height": null,
            "max_width": null,
            "min_height": null,
            "min_width": null,
            "object_fit": null,
            "object_position": null,
            "order": null,
            "overflow": null,
            "overflow_x": null,
            "overflow_y": null,
            "padding": null,
            "right": null,
            "top": null,
            "visibility": null,
            "width": "20px"
          }
        },
        "9249b3a5a7234a178669cd85def2b425": {
          "model_module": "@jupyter-widgets/controls",
          "model_name": "ProgressStyleModel",
          "model_module_version": "1.5.0",
          "state": {
            "_model_module": "@jupyter-widgets/controls",
            "_model_module_version": "1.5.0",
            "_model_name": "ProgressStyleModel",
            "_view_count": null,
            "_view_module": "@jupyter-widgets/base",
            "_view_module_version": "1.2.0",
            "_view_name": "StyleView",
            "bar_color": null,
            "description_width": ""
          }
        },
        "3a96a8638cea4947a28c45259ceb2a73": {
          "model_module": "@jupyter-widgets/base",
          "model_name": "LayoutModel",
          "model_module_version": "1.2.0",
          "state": {
            "_model_module": "@jupyter-widgets/base",
            "_model_module_version": "1.2.0",
            "_model_name": "LayoutModel",
            "_view_count": null,
            "_view_module": "@jupyter-widgets/base",
            "_view_module_version": "1.2.0",
            "_view_name": "LayoutView",
            "align_content": null,
            "align_items": null,
            "align_self": null,
            "border": null,
            "bottom": null,
            "display": null,
            "flex": null,
            "flex_flow": null,
            "grid_area": null,
            "grid_auto_columns": null,
            "grid_auto_flow": null,
            "grid_auto_rows": null,
            "grid_column": null,
            "grid_gap": null,
            "grid_row": null,
            "grid_template_areas": null,
            "grid_template_columns": null,
            "grid_template_rows": null,
            "height": null,
            "justify_content": null,
            "justify_items": null,
            "left": null,
            "margin": null,
            "max_height": null,
            "max_width": null,
            "min_height": null,
            "min_width": null,
            "object_fit": null,
            "object_position": null,
            "order": null,
            "overflow": null,
            "overflow_x": null,
            "overflow_y": null,
            "padding": null,
            "right": null,
            "top": null,
            "visibility": null,
            "width": null
          }
        },
        "215fcc9237684fafa55238473cd7afa7": {
          "model_module": "@jupyter-widgets/controls",
          "model_name": "DescriptionStyleModel",
          "model_module_version": "1.5.0",
          "state": {
            "_model_module": "@jupyter-widgets/controls",
            "_model_module_version": "1.5.0",
            "_model_name": "DescriptionStyleModel",
            "_view_count": null,
            "_view_module": "@jupyter-widgets/base",
            "_view_module_version": "1.2.0",
            "_view_name": "StyleView",
            "description_width": ""
          }
        },
        "e87fec30f6894c2ba69bfc505a10b500": {
          "model_module": "@jupyter-widgets/controls",
          "model_name": "HBoxModel",
          "model_module_version": "1.5.0",
          "state": {
            "_dom_classes": [],
            "_model_module": "@jupyter-widgets/controls",
            "_model_module_version": "1.5.0",
            "_model_name": "HBoxModel",
            "_view_count": null,
            "_view_module": "@jupyter-widgets/controls",
            "_view_module_version": "1.5.0",
            "_view_name": "HBoxView",
            "box_style": "",
            "children": [
              "IPY_MODEL_9811c8b0122e41c0b198e24ae9c1f53a",
              "IPY_MODEL_a25de5e97b1a4be4997237f980c8bb82",
              "IPY_MODEL_231faddcc1ef4cd392193074a5b85db0"
            ],
            "layout": "IPY_MODEL_9149815d147b4ed3967fec08dc52823e"
          }
        },
        "9811c8b0122e41c0b198e24ae9c1f53a": {
          "model_module": "@jupyter-widgets/controls",
          "model_name": "HTMLModel",
          "model_module_version": "1.5.0",
          "state": {
            "_dom_classes": [],
            "_model_module": "@jupyter-widgets/controls",
            "_model_module_version": "1.5.0",
            "_model_name": "HTMLModel",
            "_view_count": null,
            "_view_module": "@jupyter-widgets/controls",
            "_view_module_version": "1.5.0",
            "_view_name": "HTMLView",
            "description": "",
            "description_tooltip": null,
            "layout": "IPY_MODEL_29e47da187cf4669afa29d30dce40dfc",
            "placeholder": "​",
            "style": "IPY_MODEL_9cd958469c6143dcb51b569b808a0b1a",
            "value": "Detecting faces from images and cropping: 100%"
          }
        },
        "a25de5e97b1a4be4997237f980c8bb82": {
          "model_module": "@jupyter-widgets/controls",
          "model_name": "FloatProgressModel",
          "model_module_version": "1.5.0",
          "state": {
            "_dom_classes": [],
            "_model_module": "@jupyter-widgets/controls",
            "_model_module_version": "1.5.0",
            "_model_name": "FloatProgressModel",
            "_view_count": null,
            "_view_module": "@jupyter-widgets/controls",
            "_view_module_version": "1.5.0",
            "_view_name": "ProgressView",
            "bar_style": "success",
            "description": "",
            "description_tooltip": null,
            "layout": "IPY_MODEL_6ccd3e9e603f492086a71aa5ca8c8e02",
            "max": 70,
            "min": 0,
            "orientation": "horizontal",
            "style": "IPY_MODEL_fd6ea1f44c724529aea9fcdbbffcb920",
            "value": 70
          }
        },
        "231faddcc1ef4cd392193074a5b85db0": {
          "model_module": "@jupyter-widgets/controls",
          "model_name": "HTMLModel",
          "model_module_version": "1.5.0",
          "state": {
            "_dom_classes": [],
            "_model_module": "@jupyter-widgets/controls",
            "_model_module_version": "1.5.0",
            "_model_name": "HTMLModel",
            "_view_count": null,
            "_view_module": "@jupyter-widgets/controls",
            "_view_module_version": "1.5.0",
            "_view_name": "HTMLView",
            "description": "",
            "description_tooltip": null,
            "layout": "IPY_MODEL_465cfe5374da4fed95e93cf7f24fa5dd",
            "placeholder": "​",
            "style": "IPY_MODEL_d01133c08e7c462eb4e230650f05f8a4",
            "value": " 70/70 [00:00&lt;00:00, 164.64it/s]"
          }
        },
        "9149815d147b4ed3967fec08dc52823e": {
          "model_module": "@jupyter-widgets/base",
          "model_name": "LayoutModel",
          "model_module_version": "1.2.0",
          "state": {
            "_model_module": "@jupyter-widgets/base",
            "_model_module_version": "1.2.0",
            "_model_name": "LayoutModel",
            "_view_count": null,
            "_view_module": "@jupyter-widgets/base",
            "_view_module_version": "1.2.0",
            "_view_name": "LayoutView",
            "align_content": null,
            "align_items": null,
            "align_self": null,
            "border": null,
            "bottom": null,
            "display": null,
            "flex": null,
            "flex_flow": null,
            "grid_area": null,
            "grid_auto_columns": null,
            "grid_auto_flow": null,
            "grid_auto_rows": null,
            "grid_column": null,
            "grid_gap": null,
            "grid_row": null,
            "grid_template_areas": null,
            "grid_template_columns": null,
            "grid_template_rows": null,
            "height": null,
            "justify_content": null,
            "justify_items": null,
            "left": null,
            "margin": null,
            "max_height": null,
            "max_width": null,
            "min_height": null,
            "min_width": null,
            "object_fit": null,
            "object_position": null,
            "order": null,
            "overflow": null,
            "overflow_x": null,
            "overflow_y": null,
            "padding": null,
            "right": null,
            "top": null,
            "visibility": null,
            "width": null
          }
        },
        "29e47da187cf4669afa29d30dce40dfc": {
          "model_module": "@jupyter-widgets/base",
          "model_name": "LayoutModel",
          "model_module_version": "1.2.0",
          "state": {
            "_model_module": "@jupyter-widgets/base",
            "_model_module_version": "1.2.0",
            "_model_name": "LayoutModel",
            "_view_count": null,
            "_view_module": "@jupyter-widgets/base",
            "_view_module_version": "1.2.0",
            "_view_name": "LayoutView",
            "align_content": null,
            "align_items": null,
            "align_self": null,
            "border": null,
            "bottom": null,
            "display": null,
            "flex": null,
            "flex_flow": null,
            "grid_area": null,
            "grid_auto_columns": null,
            "grid_auto_flow": null,
            "grid_auto_rows": null,
            "grid_column": null,
            "grid_gap": null,
            "grid_row": null,
            "grid_template_areas": null,
            "grid_template_columns": null,
            "grid_template_rows": null,
            "height": null,
            "justify_content": null,
            "justify_items": null,
            "left": null,
            "margin": null,
            "max_height": null,
            "max_width": null,
            "min_height": null,
            "min_width": null,
            "object_fit": null,
            "object_position": null,
            "order": null,
            "overflow": null,
            "overflow_x": null,
            "overflow_y": null,
            "padding": null,
            "right": null,
            "top": null,
            "visibility": null,
            "width": null
          }
        },
        "9cd958469c6143dcb51b569b808a0b1a": {
          "model_module": "@jupyter-widgets/controls",
          "model_name": "DescriptionStyleModel",
          "model_module_version": "1.5.0",
          "state": {
            "_model_module": "@jupyter-widgets/controls",
            "_model_module_version": "1.5.0",
            "_model_name": "DescriptionStyleModel",
            "_view_count": null,
            "_view_module": "@jupyter-widgets/base",
            "_view_module_version": "1.2.0",
            "_view_name": "StyleView",
            "description_width": ""
          }
        },
        "6ccd3e9e603f492086a71aa5ca8c8e02": {
          "model_module": "@jupyter-widgets/base",
          "model_name": "LayoutModel",
          "model_module_version": "1.2.0",
          "state": {
            "_model_module": "@jupyter-widgets/base",
            "_model_module_version": "1.2.0",
            "_model_name": "LayoutModel",
            "_view_count": null,
            "_view_module": "@jupyter-widgets/base",
            "_view_module_version": "1.2.0",
            "_view_name": "LayoutView",
            "align_content": null,
            "align_items": null,
            "align_self": null,
            "border": null,
            "bottom": null,
            "display": null,
            "flex": null,
            "flex_flow": null,
            "grid_area": null,
            "grid_auto_columns": null,
            "grid_auto_flow": null,
            "grid_auto_rows": null,
            "grid_column": null,
            "grid_gap": null,
            "grid_row": null,
            "grid_template_areas": null,
            "grid_template_columns": null,
            "grid_template_rows": null,
            "height": null,
            "justify_content": null,
            "justify_items": null,
            "left": null,
            "margin": null,
            "max_height": null,
            "max_width": null,
            "min_height": null,
            "min_width": null,
            "object_fit": null,
            "object_position": null,
            "order": null,
            "overflow": null,
            "overflow_x": null,
            "overflow_y": null,
            "padding": null,
            "right": null,
            "top": null,
            "visibility": null,
            "width": null
          }
        },
        "fd6ea1f44c724529aea9fcdbbffcb920": {
          "model_module": "@jupyter-widgets/controls",
          "model_name": "ProgressStyleModel",
          "model_module_version": "1.5.0",
          "state": {
            "_model_module": "@jupyter-widgets/controls",
            "_model_module_version": "1.5.0",
            "_model_name": "ProgressStyleModel",
            "_view_count": null,
            "_view_module": "@jupyter-widgets/base",
            "_view_module_version": "1.2.0",
            "_view_name": "StyleView",
            "bar_color": null,
            "description_width": ""
          }
        },
        "465cfe5374da4fed95e93cf7f24fa5dd": {
          "model_module": "@jupyter-widgets/base",
          "model_name": "LayoutModel",
          "model_module_version": "1.2.0",
          "state": {
            "_model_module": "@jupyter-widgets/base",
            "_model_module_version": "1.2.0",
            "_model_name": "LayoutModel",
            "_view_count": null,
            "_view_module": "@jupyter-widgets/base",
            "_view_module_version": "1.2.0",
            "_view_name": "LayoutView",
            "align_content": null,
            "align_items": null,
            "align_self": null,
            "border": null,
            "bottom": null,
            "display": null,
            "flex": null,
            "flex_flow": null,
            "grid_area": null,
            "grid_auto_columns": null,
            "grid_auto_flow": null,
            "grid_auto_rows": null,
            "grid_column": null,
            "grid_gap": null,
            "grid_row": null,
            "grid_template_areas": null,
            "grid_template_columns": null,
            "grid_template_rows": null,
            "height": null,
            "justify_content": null,
            "justify_items": null,
            "left": null,
            "margin": null,
            "max_height": null,
            "max_width": null,
            "min_height": null,
            "min_width": null,
            "object_fit": null,
            "object_position": null,
            "order": null,
            "overflow": null,
            "overflow_x": null,
            "overflow_y": null,
            "padding": null,
            "right": null,
            "top": null,
            "visibility": null,
            "width": null
          }
        },
        "d01133c08e7c462eb4e230650f05f8a4": {
          "model_module": "@jupyter-widgets/controls",
          "model_name": "DescriptionStyleModel",
          "model_module_version": "1.5.0",
          "state": {
            "_model_module": "@jupyter-widgets/controls",
            "_model_module_version": "1.5.0",
            "_model_name": "DescriptionStyleModel",
            "_view_count": null,
            "_view_module": "@jupyter-widgets/base",
            "_view_module_version": "1.2.0",
            "_view_name": "StyleView",
            "description_width": ""
          }
        },
        "24abca0f5e1b430e8f4c4d93fcef8a00": {
          "model_module": "@jupyter-widgets/controls",
          "model_name": "HBoxModel",
          "model_module_version": "1.5.0",
          "state": {
            "_dom_classes": [],
            "_model_module": "@jupyter-widgets/controls",
            "_model_module_version": "1.5.0",
            "_model_name": "HBoxModel",
            "_view_count": null,
            "_view_module": "@jupyter-widgets/controls",
            "_view_module_version": "1.5.0",
            "_view_name": "HBoxView",
            "box_style": "",
            "children": [
              "IPY_MODEL_8fd2cfba0e954b3294d68133787d35fc",
              "IPY_MODEL_271264a6f60c41e0864da164d318edfc",
              "IPY_MODEL_32d5c623fe2c4356b70a1db773b2a5e9"
            ],
            "layout": "IPY_MODEL_a43100f4790440f2a88b0421776afad1"
          }
        },
        "8fd2cfba0e954b3294d68133787d35fc": {
          "model_module": "@jupyter-widgets/controls",
          "model_name": "HTMLModel",
          "model_module_version": "1.5.0",
          "state": {
            "_dom_classes": [],
            "_model_module": "@jupyter-widgets/controls",
            "_model_module_version": "1.5.0",
            "_model_name": "HTMLModel",
            "_view_count": null,
            "_view_module": "@jupyter-widgets/controls",
            "_view_module_version": "1.5.0",
            "_view_name": "HTMLView",
            "description": "",
            "description_tooltip": null,
            "layout": "IPY_MODEL_25ac7a08ce724a9e88d2b8356c3eb25d",
            "placeholder": "​",
            "style": "IPY_MODEL_83e775031fbb4fb4b40f3c94ae5c0b12",
            "value": "Performing Histogram Equilization and Normalization: 100%"
          }
        },
        "271264a6f60c41e0864da164d318edfc": {
          "model_module": "@jupyter-widgets/controls",
          "model_name": "FloatProgressModel",
          "model_module_version": "1.5.0",
          "state": {
            "_dom_classes": [],
            "_model_module": "@jupyter-widgets/controls",
            "_model_module_version": "1.5.0",
            "_model_name": "FloatProgressModel",
            "_view_count": null,
            "_view_module": "@jupyter-widgets/controls",
            "_view_module_version": "1.5.0",
            "_view_name": "ProgressView",
            "bar_style": "success",
            "description": "",
            "description_tooltip": null,
            "layout": "IPY_MODEL_62a607c22bb848909ca305e1886c9a45",
            "max": 65,
            "min": 0,
            "orientation": "horizontal",
            "style": "IPY_MODEL_9aa8ef947136421786327e26eec288d0",
            "value": 65
          }
        },
        "32d5c623fe2c4356b70a1db773b2a5e9": {
          "model_module": "@jupyter-widgets/controls",
          "model_name": "HTMLModel",
          "model_module_version": "1.5.0",
          "state": {
            "_dom_classes": [],
            "_model_module": "@jupyter-widgets/controls",
            "_model_module_version": "1.5.0",
            "_model_name": "HTMLModel",
            "_view_count": null,
            "_view_module": "@jupyter-widgets/controls",
            "_view_module_version": "1.5.0",
            "_view_name": "HTMLView",
            "description": "",
            "description_tooltip": null,
            "layout": "IPY_MODEL_9871d68525d241349e7431fee22ddebf",
            "placeholder": "​",
            "style": "IPY_MODEL_4efea79bd1824d458a855fb83bbb9f0a",
            "value": " 65/65 [00:00&lt;00:00, 1026.82it/s]"
          }
        },
        "a43100f4790440f2a88b0421776afad1": {
          "model_module": "@jupyter-widgets/base",
          "model_name": "LayoutModel",
          "model_module_version": "1.2.0",
          "state": {
            "_model_module": "@jupyter-widgets/base",
            "_model_module_version": "1.2.0",
            "_model_name": "LayoutModel",
            "_view_count": null,
            "_view_module": "@jupyter-widgets/base",
            "_view_module_version": "1.2.0",
            "_view_name": "LayoutView",
            "align_content": null,
            "align_items": null,
            "align_self": null,
            "border": null,
            "bottom": null,
            "display": null,
            "flex": null,
            "flex_flow": null,
            "grid_area": null,
            "grid_auto_columns": null,
            "grid_auto_flow": null,
            "grid_auto_rows": null,
            "grid_column": null,
            "grid_gap": null,
            "grid_row": null,
            "grid_template_areas": null,
            "grid_template_columns": null,
            "grid_template_rows": null,
            "height": null,
            "justify_content": null,
            "justify_items": null,
            "left": null,
            "margin": null,
            "max_height": null,
            "max_width": null,
            "min_height": null,
            "min_width": null,
            "object_fit": null,
            "object_position": null,
            "order": null,
            "overflow": null,
            "overflow_x": null,
            "overflow_y": null,
            "padding": null,
            "right": null,
            "top": null,
            "visibility": null,
            "width": null
          }
        },
        "25ac7a08ce724a9e88d2b8356c3eb25d": {
          "model_module": "@jupyter-widgets/base",
          "model_name": "LayoutModel",
          "model_module_version": "1.2.0",
          "state": {
            "_model_module": "@jupyter-widgets/base",
            "_model_module_version": "1.2.0",
            "_model_name": "LayoutModel",
            "_view_count": null,
            "_view_module": "@jupyter-widgets/base",
            "_view_module_version": "1.2.0",
            "_view_name": "LayoutView",
            "align_content": null,
            "align_items": null,
            "align_self": null,
            "border": null,
            "bottom": null,
            "display": null,
            "flex": null,
            "flex_flow": null,
            "grid_area": null,
            "grid_auto_columns": null,
            "grid_auto_flow": null,
            "grid_auto_rows": null,
            "grid_column": null,
            "grid_gap": null,
            "grid_row": null,
            "grid_template_areas": null,
            "grid_template_columns": null,
            "grid_template_rows": null,
            "height": null,
            "justify_content": null,
            "justify_items": null,
            "left": null,
            "margin": null,
            "max_height": null,
            "max_width": null,
            "min_height": null,
            "min_width": null,
            "object_fit": null,
            "object_position": null,
            "order": null,
            "overflow": null,
            "overflow_x": null,
            "overflow_y": null,
            "padding": null,
            "right": null,
            "top": null,
            "visibility": null,
            "width": null
          }
        },
        "83e775031fbb4fb4b40f3c94ae5c0b12": {
          "model_module": "@jupyter-widgets/controls",
          "model_name": "DescriptionStyleModel",
          "model_module_version": "1.5.0",
          "state": {
            "_model_module": "@jupyter-widgets/controls",
            "_model_module_version": "1.5.0",
            "_model_name": "DescriptionStyleModel",
            "_view_count": null,
            "_view_module": "@jupyter-widgets/base",
            "_view_module_version": "1.2.0",
            "_view_name": "StyleView",
            "description_width": ""
          }
        },
        "62a607c22bb848909ca305e1886c9a45": {
          "model_module": "@jupyter-widgets/base",
          "model_name": "LayoutModel",
          "model_module_version": "1.2.0",
          "state": {
            "_model_module": "@jupyter-widgets/base",
            "_model_module_version": "1.2.0",
            "_model_name": "LayoutModel",
            "_view_count": null,
            "_view_module": "@jupyter-widgets/base",
            "_view_module_version": "1.2.0",
            "_view_name": "LayoutView",
            "align_content": null,
            "align_items": null,
            "align_self": null,
            "border": null,
            "bottom": null,
            "display": null,
            "flex": null,
            "flex_flow": null,
            "grid_area": null,
            "grid_auto_columns": null,
            "grid_auto_flow": null,
            "grid_auto_rows": null,
            "grid_column": null,
            "grid_gap": null,
            "grid_row": null,
            "grid_template_areas": null,
            "grid_template_columns": null,
            "grid_template_rows": null,
            "height": null,
            "justify_content": null,
            "justify_items": null,
            "left": null,
            "margin": null,
            "max_height": null,
            "max_width": null,
            "min_height": null,
            "min_width": null,
            "object_fit": null,
            "object_position": null,
            "order": null,
            "overflow": null,
            "overflow_x": null,
            "overflow_y": null,
            "padding": null,
            "right": null,
            "top": null,
            "visibility": null,
            "width": null
          }
        },
        "9aa8ef947136421786327e26eec288d0": {
          "model_module": "@jupyter-widgets/controls",
          "model_name": "ProgressStyleModel",
          "model_module_version": "1.5.0",
          "state": {
            "_model_module": "@jupyter-widgets/controls",
            "_model_module_version": "1.5.0",
            "_model_name": "ProgressStyleModel",
            "_view_count": null,
            "_view_module": "@jupyter-widgets/base",
            "_view_module_version": "1.2.0",
            "_view_name": "StyleView",
            "bar_color": null,
            "description_width": ""
          }
        },
        "9871d68525d241349e7431fee22ddebf": {
          "model_module": "@jupyter-widgets/base",
          "model_name": "LayoutModel",
          "model_module_version": "1.2.0",
          "state": {
            "_model_module": "@jupyter-widgets/base",
            "_model_module_version": "1.2.0",
            "_model_name": "LayoutModel",
            "_view_count": null,
            "_view_module": "@jupyter-widgets/base",
            "_view_module_version": "1.2.0",
            "_view_name": "LayoutView",
            "align_content": null,
            "align_items": null,
            "align_self": null,
            "border": null,
            "bottom": null,
            "display": null,
            "flex": null,
            "flex_flow": null,
            "grid_area": null,
            "grid_auto_columns": null,
            "grid_auto_flow": null,
            "grid_auto_rows": null,
            "grid_column": null,
            "grid_gap": null,
            "grid_row": null,
            "grid_template_areas": null,
            "grid_template_columns": null,
            "grid_template_rows": null,
            "height": null,
            "justify_content": null,
            "justify_items": null,
            "left": null,
            "margin": null,
            "max_height": null,
            "max_width": null,
            "min_height": null,
            "min_width": null,
            "object_fit": null,
            "object_position": null,
            "order": null,
            "overflow": null,
            "overflow_x": null,
            "overflow_y": null,
            "padding": null,
            "right": null,
            "top": null,
            "visibility": null,
            "width": null
          }
        },
        "4efea79bd1824d458a855fb83bbb9f0a": {
          "model_module": "@jupyter-widgets/controls",
          "model_name": "DescriptionStyleModel",
          "model_module_version": "1.5.0",
          "state": {
            "_model_module": "@jupyter-widgets/controls",
            "_model_module_version": "1.5.0",
            "_model_name": "DescriptionStyleModel",
            "_view_count": null,
            "_view_module": "@jupyter-widgets/base",
            "_view_module_version": "1.2.0",
            "_view_name": "StyleView",
            "description_width": ""
          }
        },
        "8b75022cedad43b1a0c2082ed34ebc4b": {
          "model_module": "@jupyter-widgets/controls",
          "model_name": "HBoxModel",
          "model_module_version": "1.5.0",
          "state": {
            "_dom_classes": [],
            "_model_module": "@jupyter-widgets/controls",
            "_model_module_version": "1.5.0",
            "_model_name": "HBoxModel",
            "_view_count": null,
            "_view_module": "@jupyter-widgets/controls",
            "_view_module_version": "1.5.0",
            "_view_name": "HBoxView",
            "box_style": "",
            "children": [
              "IPY_MODEL_bcd0f15138524c26a6c49cdc0b7eeaa4",
              "IPY_MODEL_6287c4e3569841c4b3fc6b7852d453df",
              "IPY_MODEL_75e17a610fe1416abba1fc071625f6b4"
            ],
            "layout": "IPY_MODEL_91982dfb62774922a5ef7f193d956fff"
          }
        },
        "bcd0f15138524c26a6c49cdc0b7eeaa4": {
          "model_module": "@jupyter-widgets/controls",
          "model_name": "HTMLModel",
          "model_module_version": "1.5.0",
          "state": {
            "_dom_classes": [],
            "_model_module": "@jupyter-widgets/controls",
            "_model_module_version": "1.5.0",
            "_model_name": "HTMLModel",
            "_view_count": null,
            "_view_module": "@jupyter-widgets/controls",
            "_view_module_version": "1.5.0",
            "_view_name": "HTMLView",
            "description": "",
            "description_tooltip": null,
            "layout": "IPY_MODEL_679b88aaa8cc4dbaaf61b78b4773173d",
            "placeholder": "​",
            "style": "IPY_MODEL_fb3f87fd469b4a6a89ae44ebbab6f45f",
            "value": "Converting images to tensors: 100%"
          }
        },
        "6287c4e3569841c4b3fc6b7852d453df": {
          "model_module": "@jupyter-widgets/controls",
          "model_name": "FloatProgressModel",
          "model_module_version": "1.5.0",
          "state": {
            "_dom_classes": [],
            "_model_module": "@jupyter-widgets/controls",
            "_model_module_version": "1.5.0",
            "_model_name": "FloatProgressModel",
            "_view_count": null,
            "_view_module": "@jupyter-widgets/controls",
            "_view_module_version": "1.5.0",
            "_view_name": "ProgressView",
            "bar_style": "success",
            "description": "",
            "description_tooltip": null,
            "layout": "IPY_MODEL_3633311ed1054cefb024ee83e3c5979b",
            "max": 65,
            "min": 0,
            "orientation": "horizontal",
            "style": "IPY_MODEL_d59aea86e814413c95995e58606f2f43",
            "value": 65
          }
        },
        "75e17a610fe1416abba1fc071625f6b4": {
          "model_module": "@jupyter-widgets/controls",
          "model_name": "HTMLModel",
          "model_module_version": "1.5.0",
          "state": {
            "_dom_classes": [],
            "_model_module": "@jupyter-widgets/controls",
            "_model_module_version": "1.5.0",
            "_model_name": "HTMLModel",
            "_view_count": null,
            "_view_module": "@jupyter-widgets/controls",
            "_view_module_version": "1.5.0",
            "_view_name": "HTMLView",
            "description": "",
            "description_tooltip": null,
            "layout": "IPY_MODEL_8b3bc695dbe246599e9467b9b4ec1958",
            "placeholder": "​",
            "style": "IPY_MODEL_9530e5c8536d43439fad0f2ebe9087dd",
            "value": " 65/65 [00:00&lt;00:00, 2751.81it/s]"
          }
        },
        "91982dfb62774922a5ef7f193d956fff": {
          "model_module": "@jupyter-widgets/base",
          "model_name": "LayoutModel",
          "model_module_version": "1.2.0",
          "state": {
            "_model_module": "@jupyter-widgets/base",
            "_model_module_version": "1.2.0",
            "_model_name": "LayoutModel",
            "_view_count": null,
            "_view_module": "@jupyter-widgets/base",
            "_view_module_version": "1.2.0",
            "_view_name": "LayoutView",
            "align_content": null,
            "align_items": null,
            "align_self": null,
            "border": null,
            "bottom": null,
            "display": null,
            "flex": null,
            "flex_flow": null,
            "grid_area": null,
            "grid_auto_columns": null,
            "grid_auto_flow": null,
            "grid_auto_rows": null,
            "grid_column": null,
            "grid_gap": null,
            "grid_row": null,
            "grid_template_areas": null,
            "grid_template_columns": null,
            "grid_template_rows": null,
            "height": null,
            "justify_content": null,
            "justify_items": null,
            "left": null,
            "margin": null,
            "max_height": null,
            "max_width": null,
            "min_height": null,
            "min_width": null,
            "object_fit": null,
            "object_position": null,
            "order": null,
            "overflow": null,
            "overflow_x": null,
            "overflow_y": null,
            "padding": null,
            "right": null,
            "top": null,
            "visibility": null,
            "width": null
          }
        },
        "679b88aaa8cc4dbaaf61b78b4773173d": {
          "model_module": "@jupyter-widgets/base",
          "model_name": "LayoutModel",
          "model_module_version": "1.2.0",
          "state": {
            "_model_module": "@jupyter-widgets/base",
            "_model_module_version": "1.2.0",
            "_model_name": "LayoutModel",
            "_view_count": null,
            "_view_module": "@jupyter-widgets/base",
            "_view_module_version": "1.2.0",
            "_view_name": "LayoutView",
            "align_content": null,
            "align_items": null,
            "align_self": null,
            "border": null,
            "bottom": null,
            "display": null,
            "flex": null,
            "flex_flow": null,
            "grid_area": null,
            "grid_auto_columns": null,
            "grid_auto_flow": null,
            "grid_auto_rows": null,
            "grid_column": null,
            "grid_gap": null,
            "grid_row": null,
            "grid_template_areas": null,
            "grid_template_columns": null,
            "grid_template_rows": null,
            "height": null,
            "justify_content": null,
            "justify_items": null,
            "left": null,
            "margin": null,
            "max_height": null,
            "max_width": null,
            "min_height": null,
            "min_width": null,
            "object_fit": null,
            "object_position": null,
            "order": null,
            "overflow": null,
            "overflow_x": null,
            "overflow_y": null,
            "padding": null,
            "right": null,
            "top": null,
            "visibility": null,
            "width": null
          }
        },
        "fb3f87fd469b4a6a89ae44ebbab6f45f": {
          "model_module": "@jupyter-widgets/controls",
          "model_name": "DescriptionStyleModel",
          "model_module_version": "1.5.0",
          "state": {
            "_model_module": "@jupyter-widgets/controls",
            "_model_module_version": "1.5.0",
            "_model_name": "DescriptionStyleModel",
            "_view_count": null,
            "_view_module": "@jupyter-widgets/base",
            "_view_module_version": "1.2.0",
            "_view_name": "StyleView",
            "description_width": ""
          }
        },
        "3633311ed1054cefb024ee83e3c5979b": {
          "model_module": "@jupyter-widgets/base",
          "model_name": "LayoutModel",
          "model_module_version": "1.2.0",
          "state": {
            "_model_module": "@jupyter-widgets/base",
            "_model_module_version": "1.2.0",
            "_model_name": "LayoutModel",
            "_view_count": null,
            "_view_module": "@jupyter-widgets/base",
            "_view_module_version": "1.2.0",
            "_view_name": "LayoutView",
            "align_content": null,
            "align_items": null,
            "align_self": null,
            "border": null,
            "bottom": null,
            "display": null,
            "flex": null,
            "flex_flow": null,
            "grid_area": null,
            "grid_auto_columns": null,
            "grid_auto_flow": null,
            "grid_auto_rows": null,
            "grid_column": null,
            "grid_gap": null,
            "grid_row": null,
            "grid_template_areas": null,
            "grid_template_columns": null,
            "grid_template_rows": null,
            "height": null,
            "justify_content": null,
            "justify_items": null,
            "left": null,
            "margin": null,
            "max_height": null,
            "max_width": null,
            "min_height": null,
            "min_width": null,
            "object_fit": null,
            "object_position": null,
            "order": null,
            "overflow": null,
            "overflow_x": null,
            "overflow_y": null,
            "padding": null,
            "right": null,
            "top": null,
            "visibility": null,
            "width": null
          }
        },
        "d59aea86e814413c95995e58606f2f43": {
          "model_module": "@jupyter-widgets/controls",
          "model_name": "ProgressStyleModel",
          "model_module_version": "1.5.0",
          "state": {
            "_model_module": "@jupyter-widgets/controls",
            "_model_module_version": "1.5.0",
            "_model_name": "ProgressStyleModel",
            "_view_count": null,
            "_view_module": "@jupyter-widgets/base",
            "_view_module_version": "1.2.0",
            "_view_name": "StyleView",
            "bar_color": null,
            "description_width": ""
          }
        },
        "8b3bc695dbe246599e9467b9b4ec1958": {
          "model_module": "@jupyter-widgets/base",
          "model_name": "LayoutModel",
          "model_module_version": "1.2.0",
          "state": {
            "_model_module": "@jupyter-widgets/base",
            "_model_module_version": "1.2.0",
            "_model_name": "LayoutModel",
            "_view_count": null,
            "_view_module": "@jupyter-widgets/base",
            "_view_module_version": "1.2.0",
            "_view_name": "LayoutView",
            "align_content": null,
            "align_items": null,
            "align_self": null,
            "border": null,
            "bottom": null,
            "display": null,
            "flex": null,
            "flex_flow": null,
            "grid_area": null,
            "grid_auto_columns": null,
            "grid_auto_flow": null,
            "grid_auto_rows": null,
            "grid_column": null,
            "grid_gap": null,
            "grid_row": null,
            "grid_template_areas": null,
            "grid_template_columns": null,
            "grid_template_rows": null,
            "height": null,
            "justify_content": null,
            "justify_items": null,
            "left": null,
            "margin": null,
            "max_height": null,
            "max_width": null,
            "min_height": null,
            "min_width": null,
            "object_fit": null,
            "object_position": null,
            "order": null,
            "overflow": null,
            "overflow_x": null,
            "overflow_y": null,
            "padding": null,
            "right": null,
            "top": null,
            "visibility": null,
            "width": null
          }
        },
        "9530e5c8536d43439fad0f2ebe9087dd": {
          "model_module": "@jupyter-widgets/controls",
          "model_name": "DescriptionStyleModel",
          "model_module_version": "1.5.0",
          "state": {
            "_model_module": "@jupyter-widgets/controls",
            "_model_module_version": "1.5.0",
            "_model_name": "DescriptionStyleModel",
            "_view_count": null,
            "_view_module": "@jupyter-widgets/base",
            "_view_module_version": "1.2.0",
            "_view_name": "StyleView",
            "description_width": ""
          }
        },
        "d3c93d37f4214550876281fa16da9804": {
          "model_module": "@jupyter-widgets/controls",
          "model_name": "HBoxModel",
          "model_module_version": "1.5.0",
          "state": {
            "_dom_classes": [],
            "_model_module": "@jupyter-widgets/controls",
            "_model_module_version": "1.5.0",
            "_model_name": "HBoxModel",
            "_view_count": null,
            "_view_module": "@jupyter-widgets/controls",
            "_view_module_version": "1.5.0",
            "_view_name": "HBoxView",
            "box_style": "",
            "children": [
              "IPY_MODEL_7848a8e85b754bb69dedc08083205f32",
              "IPY_MODEL_6a0d65de95bc45ce9ad204928318c40f",
              "IPY_MODEL_73ee05c053cd42108d7f631ee9b6f8dc"
            ],
            "layout": "IPY_MODEL_04bf9bf5d78f4bbebd8f534672c6f29b"
          }
        },
        "7848a8e85b754bb69dedc08083205f32": {
          "model_module": "@jupyter-widgets/controls",
          "model_name": "HTMLModel",
          "model_module_version": "1.5.0",
          "state": {
            "_dom_classes": [],
            "_model_module": "@jupyter-widgets/controls",
            "_model_module_version": "1.5.0",
            "_model_name": "HTMLModel",
            "_view_count": null,
            "_view_module": "@jupyter-widgets/controls",
            "_view_module_version": "1.5.0",
            "_view_name": "HTMLView",
            "description": "",
            "description_tooltip": null,
            "layout": "IPY_MODEL_1dd3cf48f1c54931bfecba24debcc466",
            "placeholder": "​",
            "style": "IPY_MODEL_6eb715aa38144601b6e31c06eb691968",
            "value": "Converting labels to tensors: 100%"
          }
        },
        "6a0d65de95bc45ce9ad204928318c40f": {
          "model_module": "@jupyter-widgets/controls",
          "model_name": "FloatProgressModel",
          "model_module_version": "1.5.0",
          "state": {
            "_dom_classes": [],
            "_model_module": "@jupyter-widgets/controls",
            "_model_module_version": "1.5.0",
            "_model_name": "FloatProgressModel",
            "_view_count": null,
            "_view_module": "@jupyter-widgets/controls",
            "_view_module_version": "1.5.0",
            "_view_name": "ProgressView",
            "bar_style": "success",
            "description": "",
            "description_tooltip": null,
            "layout": "IPY_MODEL_e027d7ca89af48babafd4ad48938c6a7",
            "max": 65,
            "min": 0,
            "orientation": "horizontal",
            "style": "IPY_MODEL_e15f2e5cf6c44113a3c1866622803c25",
            "value": 65
          }
        },
        "73ee05c053cd42108d7f631ee9b6f8dc": {
          "model_module": "@jupyter-widgets/controls",
          "model_name": "HTMLModel",
          "model_module_version": "1.5.0",
          "state": {
            "_dom_classes": [],
            "_model_module": "@jupyter-widgets/controls",
            "_model_module_version": "1.5.0",
            "_model_name": "HTMLModel",
            "_view_count": null,
            "_view_module": "@jupyter-widgets/controls",
            "_view_module_version": "1.5.0",
            "_view_name": "HTMLView",
            "description": "",
            "description_tooltip": null,
            "layout": "IPY_MODEL_15b995f346014a3f95f4dfada5dc0c2f",
            "placeholder": "​",
            "style": "IPY_MODEL_a38a97cf2d2849a0b48e66bbbd5d7456",
            "value": " 65/65 [00:00&lt;00:00, 3316.18it/s]"
          }
        },
        "04bf9bf5d78f4bbebd8f534672c6f29b": {
          "model_module": "@jupyter-widgets/base",
          "model_name": "LayoutModel",
          "model_module_version": "1.2.0",
          "state": {
            "_model_module": "@jupyter-widgets/base",
            "_model_module_version": "1.2.0",
            "_model_name": "LayoutModel",
            "_view_count": null,
            "_view_module": "@jupyter-widgets/base",
            "_view_module_version": "1.2.0",
            "_view_name": "LayoutView",
            "align_content": null,
            "align_items": null,
            "align_self": null,
            "border": null,
            "bottom": null,
            "display": null,
            "flex": null,
            "flex_flow": null,
            "grid_area": null,
            "grid_auto_columns": null,
            "grid_auto_flow": null,
            "grid_auto_rows": null,
            "grid_column": null,
            "grid_gap": null,
            "grid_row": null,
            "grid_template_areas": null,
            "grid_template_columns": null,
            "grid_template_rows": null,
            "height": null,
            "justify_content": null,
            "justify_items": null,
            "left": null,
            "margin": null,
            "max_height": null,
            "max_width": null,
            "min_height": null,
            "min_width": null,
            "object_fit": null,
            "object_position": null,
            "order": null,
            "overflow": null,
            "overflow_x": null,
            "overflow_y": null,
            "padding": null,
            "right": null,
            "top": null,
            "visibility": null,
            "width": null
          }
        },
        "1dd3cf48f1c54931bfecba24debcc466": {
          "model_module": "@jupyter-widgets/base",
          "model_name": "LayoutModel",
          "model_module_version": "1.2.0",
          "state": {
            "_model_module": "@jupyter-widgets/base",
            "_model_module_version": "1.2.0",
            "_model_name": "LayoutModel",
            "_view_count": null,
            "_view_module": "@jupyter-widgets/base",
            "_view_module_version": "1.2.0",
            "_view_name": "LayoutView",
            "align_content": null,
            "align_items": null,
            "align_self": null,
            "border": null,
            "bottom": null,
            "display": null,
            "flex": null,
            "flex_flow": null,
            "grid_area": null,
            "grid_auto_columns": null,
            "grid_auto_flow": null,
            "grid_auto_rows": null,
            "grid_column": null,
            "grid_gap": null,
            "grid_row": null,
            "grid_template_areas": null,
            "grid_template_columns": null,
            "grid_template_rows": null,
            "height": null,
            "justify_content": null,
            "justify_items": null,
            "left": null,
            "margin": null,
            "max_height": null,
            "max_width": null,
            "min_height": null,
            "min_width": null,
            "object_fit": null,
            "object_position": null,
            "order": null,
            "overflow": null,
            "overflow_x": null,
            "overflow_y": null,
            "padding": null,
            "right": null,
            "top": null,
            "visibility": null,
            "width": null
          }
        },
        "6eb715aa38144601b6e31c06eb691968": {
          "model_module": "@jupyter-widgets/controls",
          "model_name": "DescriptionStyleModel",
          "model_module_version": "1.5.0",
          "state": {
            "_model_module": "@jupyter-widgets/controls",
            "_model_module_version": "1.5.0",
            "_model_name": "DescriptionStyleModel",
            "_view_count": null,
            "_view_module": "@jupyter-widgets/base",
            "_view_module_version": "1.2.0",
            "_view_name": "StyleView",
            "description_width": ""
          }
        },
        "e027d7ca89af48babafd4ad48938c6a7": {
          "model_module": "@jupyter-widgets/base",
          "model_name": "LayoutModel",
          "model_module_version": "1.2.0",
          "state": {
            "_model_module": "@jupyter-widgets/base",
            "_model_module_version": "1.2.0",
            "_model_name": "LayoutModel",
            "_view_count": null,
            "_view_module": "@jupyter-widgets/base",
            "_view_module_version": "1.2.0",
            "_view_name": "LayoutView",
            "align_content": null,
            "align_items": null,
            "align_self": null,
            "border": null,
            "bottom": null,
            "display": null,
            "flex": null,
            "flex_flow": null,
            "grid_area": null,
            "grid_auto_columns": null,
            "grid_auto_flow": null,
            "grid_auto_rows": null,
            "grid_column": null,
            "grid_gap": null,
            "grid_row": null,
            "grid_template_areas": null,
            "grid_template_columns": null,
            "grid_template_rows": null,
            "height": null,
            "justify_content": null,
            "justify_items": null,
            "left": null,
            "margin": null,
            "max_height": null,
            "max_width": null,
            "min_height": null,
            "min_width": null,
            "object_fit": null,
            "object_position": null,
            "order": null,
            "overflow": null,
            "overflow_x": null,
            "overflow_y": null,
            "padding": null,
            "right": null,
            "top": null,
            "visibility": null,
            "width": null
          }
        },
        "e15f2e5cf6c44113a3c1866622803c25": {
          "model_module": "@jupyter-widgets/controls",
          "model_name": "ProgressStyleModel",
          "model_module_version": "1.5.0",
          "state": {
            "_model_module": "@jupyter-widgets/controls",
            "_model_module_version": "1.5.0",
            "_model_name": "ProgressStyleModel",
            "_view_count": null,
            "_view_module": "@jupyter-widgets/base",
            "_view_module_version": "1.2.0",
            "_view_name": "StyleView",
            "bar_color": null,
            "description_width": ""
          }
        },
        "15b995f346014a3f95f4dfada5dc0c2f": {
          "model_module": "@jupyter-widgets/base",
          "model_name": "LayoutModel",
          "model_module_version": "1.2.0",
          "state": {
            "_model_module": "@jupyter-widgets/base",
            "_model_module_version": "1.2.0",
            "_model_name": "LayoutModel",
            "_view_count": null,
            "_view_module": "@jupyter-widgets/base",
            "_view_module_version": "1.2.0",
            "_view_name": "LayoutView",
            "align_content": null,
            "align_items": null,
            "align_self": null,
            "border": null,
            "bottom": null,
            "display": null,
            "flex": null,
            "flex_flow": null,
            "grid_area": null,
            "grid_auto_columns": null,
            "grid_auto_flow": null,
            "grid_auto_rows": null,
            "grid_column": null,
            "grid_gap": null,
            "grid_row": null,
            "grid_template_areas": null,
            "grid_template_columns": null,
            "grid_template_rows": null,
            "height": null,
            "justify_content": null,
            "justify_items": null,
            "left": null,
            "margin": null,
            "max_height": null,
            "max_width": null,
            "min_height": null,
            "min_width": null,
            "object_fit": null,
            "object_position": null,
            "order": null,
            "overflow": null,
            "overflow_x": null,
            "overflow_y": null,
            "padding": null,
            "right": null,
            "top": null,
            "visibility": null,
            "width": null
          }
        },
        "a38a97cf2d2849a0b48e66bbbd5d7456": {
          "model_module": "@jupyter-widgets/controls",
          "model_name": "DescriptionStyleModel",
          "model_module_version": "1.5.0",
          "state": {
            "_model_module": "@jupyter-widgets/controls",
            "_model_module_version": "1.5.0",
            "_model_name": "DescriptionStyleModel",
            "_view_count": null,
            "_view_module": "@jupyter-widgets/base",
            "_view_module_version": "1.2.0",
            "_view_name": "StyleView",
            "description_width": ""
          }
        },
        "d7c8bf9de76e440b92e0f55ca27dbadb": {
          "model_module": "@jupyter-widgets/controls",
          "model_name": "HBoxModel",
          "model_module_version": "1.5.0",
          "state": {
            "_dom_classes": [],
            "_model_module": "@jupyter-widgets/controls",
            "_model_module_version": "1.5.0",
            "_model_name": "HBoxModel",
            "_view_count": null,
            "_view_module": "@jupyter-widgets/controls",
            "_view_module_version": "1.5.0",
            "_view_name": "HBoxView",
            "box_style": "",
            "children": [
              "IPY_MODEL_f6b03da37e2b4ec8b59ebdef46e7f5d3",
              "IPY_MODEL_94dbd710d5e14a8788cfefa5f77fb718",
              "IPY_MODEL_c604398a97be4532bfd05002abd2d1bd"
            ],
            "layout": "IPY_MODEL_bd6daf50ec264e2196009503cc06929c"
          }
        },
        "f6b03da37e2b4ec8b59ebdef46e7f5d3": {
          "model_module": "@jupyter-widgets/controls",
          "model_name": "HTMLModel",
          "model_module_version": "1.5.0",
          "state": {
            "_dom_classes": [],
            "_model_module": "@jupyter-widgets/controls",
            "_model_module_version": "1.5.0",
            "_model_name": "HTMLModel",
            "_view_count": null,
            "_view_module": "@jupyter-widgets/controls",
            "_view_module_version": "1.5.0",
            "_view_name": "HTMLView",
            "description": "",
            "description_tooltip": null,
            "layout": "IPY_MODEL_d7631ce663d6448595d5158dfc818f29",
            "placeholder": "​",
            "style": "IPY_MODEL_94741d4a12c4445ba3008bf64d5665b4",
            "value": "100%"
          }
        },
        "94dbd710d5e14a8788cfefa5f77fb718": {
          "model_module": "@jupyter-widgets/controls",
          "model_name": "FloatProgressModel",
          "model_module_version": "1.5.0",
          "state": {
            "_dom_classes": [],
            "_model_module": "@jupyter-widgets/controls",
            "_model_module_version": "1.5.0",
            "_model_name": "FloatProgressModel",
            "_view_count": null,
            "_view_module": "@jupyter-widgets/controls",
            "_view_module_version": "1.5.0",
            "_view_name": "ProgressView",
            "bar_style": "success",
            "description": "",
            "description_tooltip": null,
            "layout": "IPY_MODEL_2e3a88e468654a5682abe9ca598369bc",
            "max": 10,
            "min": 0,
            "orientation": "horizontal",
            "style": "IPY_MODEL_02e631142a40488eafc2dffdc17d5065",
            "value": 10
          }
        },
        "c604398a97be4532bfd05002abd2d1bd": {
          "model_module": "@jupyter-widgets/controls",
          "model_name": "HTMLModel",
          "model_module_version": "1.5.0",
          "state": {
            "_dom_classes": [],
            "_model_module": "@jupyter-widgets/controls",
            "_model_module_version": "1.5.0",
            "_model_name": "HTMLModel",
            "_view_count": null,
            "_view_module": "@jupyter-widgets/controls",
            "_view_module_version": "1.5.0",
            "_view_name": "HTMLView",
            "description": "",
            "description_tooltip": null,
            "layout": "IPY_MODEL_7c15b401f6064821af3f6d59b423bcd1",
            "placeholder": "​",
            "style": "IPY_MODEL_96bf9f8052d341ff825f811eda613361",
            "value": " 10/10 [00:03&lt;00:00,  5.95it/s]"
          }
        },
        "bd6daf50ec264e2196009503cc06929c": {
          "model_module": "@jupyter-widgets/base",
          "model_name": "LayoutModel",
          "model_module_version": "1.2.0",
          "state": {
            "_model_module": "@jupyter-widgets/base",
            "_model_module_version": "1.2.0",
            "_model_name": "LayoutModel",
            "_view_count": null,
            "_view_module": "@jupyter-widgets/base",
            "_view_module_version": "1.2.0",
            "_view_name": "LayoutView",
            "align_content": null,
            "align_items": null,
            "align_self": null,
            "border": null,
            "bottom": null,
            "display": null,
            "flex": null,
            "flex_flow": null,
            "grid_area": null,
            "grid_auto_columns": null,
            "grid_auto_flow": null,
            "grid_auto_rows": null,
            "grid_column": null,
            "grid_gap": null,
            "grid_row": null,
            "grid_template_areas": null,
            "grid_template_columns": null,
            "grid_template_rows": null,
            "height": null,
            "justify_content": null,
            "justify_items": null,
            "left": null,
            "margin": null,
            "max_height": null,
            "max_width": null,
            "min_height": null,
            "min_width": null,
            "object_fit": null,
            "object_position": null,
            "order": null,
            "overflow": null,
            "overflow_x": null,
            "overflow_y": null,
            "padding": null,
            "right": null,
            "top": null,
            "visibility": null,
            "width": null
          }
        },
        "d7631ce663d6448595d5158dfc818f29": {
          "model_module": "@jupyter-widgets/base",
          "model_name": "LayoutModel",
          "model_module_version": "1.2.0",
          "state": {
            "_model_module": "@jupyter-widgets/base",
            "_model_module_version": "1.2.0",
            "_model_name": "LayoutModel",
            "_view_count": null,
            "_view_module": "@jupyter-widgets/base",
            "_view_module_version": "1.2.0",
            "_view_name": "LayoutView",
            "align_content": null,
            "align_items": null,
            "align_self": null,
            "border": null,
            "bottom": null,
            "display": null,
            "flex": null,
            "flex_flow": null,
            "grid_area": null,
            "grid_auto_columns": null,
            "grid_auto_flow": null,
            "grid_auto_rows": null,
            "grid_column": null,
            "grid_gap": null,
            "grid_row": null,
            "grid_template_areas": null,
            "grid_template_columns": null,
            "grid_template_rows": null,
            "height": null,
            "justify_content": null,
            "justify_items": null,
            "left": null,
            "margin": null,
            "max_height": null,
            "max_width": null,
            "min_height": null,
            "min_width": null,
            "object_fit": null,
            "object_position": null,
            "order": null,
            "overflow": null,
            "overflow_x": null,
            "overflow_y": null,
            "padding": null,
            "right": null,
            "top": null,
            "visibility": null,
            "width": null
          }
        },
        "94741d4a12c4445ba3008bf64d5665b4": {
          "model_module": "@jupyter-widgets/controls",
          "model_name": "DescriptionStyleModel",
          "model_module_version": "1.5.0",
          "state": {
            "_model_module": "@jupyter-widgets/controls",
            "_model_module_version": "1.5.0",
            "_model_name": "DescriptionStyleModel",
            "_view_count": null,
            "_view_module": "@jupyter-widgets/base",
            "_view_module_version": "1.2.0",
            "_view_name": "StyleView",
            "description_width": ""
          }
        },
        "2e3a88e468654a5682abe9ca598369bc": {
          "model_module": "@jupyter-widgets/base",
          "model_name": "LayoutModel",
          "model_module_version": "1.2.0",
          "state": {
            "_model_module": "@jupyter-widgets/base",
            "_model_module_version": "1.2.0",
            "_model_name": "LayoutModel",
            "_view_count": null,
            "_view_module": "@jupyter-widgets/base",
            "_view_module_version": "1.2.0",
            "_view_name": "LayoutView",
            "align_content": null,
            "align_items": null,
            "align_self": null,
            "border": null,
            "bottom": null,
            "display": null,
            "flex": null,
            "flex_flow": null,
            "grid_area": null,
            "grid_auto_columns": null,
            "grid_auto_flow": null,
            "grid_auto_rows": null,
            "grid_column": null,
            "grid_gap": null,
            "grid_row": null,
            "grid_template_areas": null,
            "grid_template_columns": null,
            "grid_template_rows": null,
            "height": null,
            "justify_content": null,
            "justify_items": null,
            "left": null,
            "margin": null,
            "max_height": null,
            "max_width": null,
            "min_height": null,
            "min_width": null,
            "object_fit": null,
            "object_position": null,
            "order": null,
            "overflow": null,
            "overflow_x": null,
            "overflow_y": null,
            "padding": null,
            "right": null,
            "top": null,
            "visibility": null,
            "width": null
          }
        },
        "02e631142a40488eafc2dffdc17d5065": {
          "model_module": "@jupyter-widgets/controls",
          "model_name": "ProgressStyleModel",
          "model_module_version": "1.5.0",
          "state": {
            "_model_module": "@jupyter-widgets/controls",
            "_model_module_version": "1.5.0",
            "_model_name": "ProgressStyleModel",
            "_view_count": null,
            "_view_module": "@jupyter-widgets/base",
            "_view_module_version": "1.2.0",
            "_view_name": "StyleView",
            "bar_color": null,
            "description_width": ""
          }
        },
        "7c15b401f6064821af3f6d59b423bcd1": {
          "model_module": "@jupyter-widgets/base",
          "model_name": "LayoutModel",
          "model_module_version": "1.2.0",
          "state": {
            "_model_module": "@jupyter-widgets/base",
            "_model_module_version": "1.2.0",
            "_model_name": "LayoutModel",
            "_view_count": null,
            "_view_module": "@jupyter-widgets/base",
            "_view_module_version": "1.2.0",
            "_view_name": "LayoutView",
            "align_content": null,
            "align_items": null,
            "align_self": null,
            "border": null,
            "bottom": null,
            "display": null,
            "flex": null,
            "flex_flow": null,
            "grid_area": null,
            "grid_auto_columns": null,
            "grid_auto_flow": null,
            "grid_auto_rows": null,
            "grid_column": null,
            "grid_gap": null,
            "grid_row": null,
            "grid_template_areas": null,
            "grid_template_columns": null,
            "grid_template_rows": null,
            "height": null,
            "justify_content": null,
            "justify_items": null,
            "left": null,
            "margin": null,
            "max_height": null,
            "max_width": null,
            "min_height": null,
            "min_width": null,
            "object_fit": null,
            "object_position": null,
            "order": null,
            "overflow": null,
            "overflow_x": null,
            "overflow_y": null,
            "padding": null,
            "right": null,
            "top": null,
            "visibility": null,
            "width": null
          }
        },
        "96bf9f8052d341ff825f811eda613361": {
          "model_module": "@jupyter-widgets/controls",
          "model_name": "DescriptionStyleModel",
          "model_module_version": "1.5.0",
          "state": {
            "_model_module": "@jupyter-widgets/controls",
            "_model_module_version": "1.5.0",
            "_model_name": "DescriptionStyleModel",
            "_view_count": null,
            "_view_module": "@jupyter-widgets/base",
            "_view_module_version": "1.2.0",
            "_view_name": "StyleView",
            "description_width": ""
          }
        },
        "67613c6425a74eef829061a34e6b1bda": {
          "model_module": "@jupyter-widgets/controls",
          "model_name": "HBoxModel",
          "model_module_version": "1.5.0",
          "state": {
            "_dom_classes": [],
            "_model_module": "@jupyter-widgets/controls",
            "_model_module_version": "1.5.0",
            "_model_name": "HBoxModel",
            "_view_count": null,
            "_view_module": "@jupyter-widgets/controls",
            "_view_module_version": "1.5.0",
            "_view_name": "HBoxView",
            "box_style": "",
            "children": [
              "IPY_MODEL_3635bb52bbe34895894a8501ec602edf",
              "IPY_MODEL_23b191e922474f65a840bde94e8e0ee0",
              "IPY_MODEL_fd3d8bb560df420497902e1cb3bdbaee"
            ],
            "layout": "IPY_MODEL_1b6e8e52541e409ab88f08cbf5882b0d"
          }
        },
        "3635bb52bbe34895894a8501ec602edf": {
          "model_module": "@jupyter-widgets/controls",
          "model_name": "HTMLModel",
          "model_module_version": "1.5.0",
          "state": {
            "_dom_classes": [],
            "_model_module": "@jupyter-widgets/controls",
            "_model_module_version": "1.5.0",
            "_model_name": "HTMLModel",
            "_view_count": null,
            "_view_module": "@jupyter-widgets/controls",
            "_view_module_version": "1.5.0",
            "_view_name": "HTMLView",
            "description": "",
            "description_tooltip": null,
            "layout": "IPY_MODEL_1924a8a051084ad7ac145d6a53d33b5e",
            "placeholder": "​",
            "style": "IPY_MODEL_2cd5c1d9132a4808969bf44a9d3c72ac",
            "value": "100%"
          }
        },
        "23b191e922474f65a840bde94e8e0ee0": {
          "model_module": "@jupyter-widgets/controls",
          "model_name": "FloatProgressModel",
          "model_module_version": "1.5.0",
          "state": {
            "_dom_classes": [],
            "_model_module": "@jupyter-widgets/controls",
            "_model_module_version": "1.5.0",
            "_model_name": "FloatProgressModel",
            "_view_count": null,
            "_view_module": "@jupyter-widgets/controls",
            "_view_module_version": "1.5.0",
            "_view_name": "ProgressView",
            "bar_style": "success",
            "description": "",
            "description_tooltip": null,
            "layout": "IPY_MODEL_1dcf4fa4bf554c12b7d26c51e5cfcbca",
            "max": 13,
            "min": 0,
            "orientation": "horizontal",
            "style": "IPY_MODEL_5e8d6cb409ee4e4f978c2c9537d14a54",
            "value": 13
          }
        },
        "fd3d8bb560df420497902e1cb3bdbaee": {
          "model_module": "@jupyter-widgets/controls",
          "model_name": "HTMLModel",
          "model_module_version": "1.5.0",
          "state": {
            "_dom_classes": [],
            "_model_module": "@jupyter-widgets/controls",
            "_model_module_version": "1.5.0",
            "_model_name": "HTMLModel",
            "_view_count": null,
            "_view_module": "@jupyter-widgets/controls",
            "_view_module_version": "1.5.0",
            "_view_name": "HTMLView",
            "description": "",
            "description_tooltip": null,
            "layout": "IPY_MODEL_9fb91bb0809a424a9d01b0b9b803ae35",
            "placeholder": "​",
            "style": "IPY_MODEL_782c205bf3d544d3bcfbbf1633d5630d",
            "value": " 13/13 [00:00&lt;00:00, 316.45it/s]"
          }
        },
        "1b6e8e52541e409ab88f08cbf5882b0d": {
          "model_module": "@jupyter-widgets/base",
          "model_name": "LayoutModel",
          "model_module_version": "1.2.0",
          "state": {
            "_model_module": "@jupyter-widgets/base",
            "_model_module_version": "1.2.0",
            "_model_name": "LayoutModel",
            "_view_count": null,
            "_view_module": "@jupyter-widgets/base",
            "_view_module_version": "1.2.0",
            "_view_name": "LayoutView",
            "align_content": null,
            "align_items": null,
            "align_self": null,
            "border": null,
            "bottom": null,
            "display": null,
            "flex": null,
            "flex_flow": null,
            "grid_area": null,
            "grid_auto_columns": null,
            "grid_auto_flow": null,
            "grid_auto_rows": null,
            "grid_column": null,
            "grid_gap": null,
            "grid_row": null,
            "grid_template_areas": null,
            "grid_template_columns": null,
            "grid_template_rows": null,
            "height": null,
            "justify_content": null,
            "justify_items": null,
            "left": null,
            "margin": null,
            "max_height": null,
            "max_width": null,
            "min_height": null,
            "min_width": null,
            "object_fit": null,
            "object_position": null,
            "order": null,
            "overflow": null,
            "overflow_x": null,
            "overflow_y": null,
            "padding": null,
            "right": null,
            "top": null,
            "visibility": null,
            "width": null
          }
        },
        "1924a8a051084ad7ac145d6a53d33b5e": {
          "model_module": "@jupyter-widgets/base",
          "model_name": "LayoutModel",
          "model_module_version": "1.2.0",
          "state": {
            "_model_module": "@jupyter-widgets/base",
            "_model_module_version": "1.2.0",
            "_model_name": "LayoutModel",
            "_view_count": null,
            "_view_module": "@jupyter-widgets/base",
            "_view_module_version": "1.2.0",
            "_view_name": "LayoutView",
            "align_content": null,
            "align_items": null,
            "align_self": null,
            "border": null,
            "bottom": null,
            "display": null,
            "flex": null,
            "flex_flow": null,
            "grid_area": null,
            "grid_auto_columns": null,
            "grid_auto_flow": null,
            "grid_auto_rows": null,
            "grid_column": null,
            "grid_gap": null,
            "grid_row": null,
            "grid_template_areas": null,
            "grid_template_columns": null,
            "grid_template_rows": null,
            "height": null,
            "justify_content": null,
            "justify_items": null,
            "left": null,
            "margin": null,
            "max_height": null,
            "max_width": null,
            "min_height": null,
            "min_width": null,
            "object_fit": null,
            "object_position": null,
            "order": null,
            "overflow": null,
            "overflow_x": null,
            "overflow_y": null,
            "padding": null,
            "right": null,
            "top": null,
            "visibility": null,
            "width": null
          }
        },
        "2cd5c1d9132a4808969bf44a9d3c72ac": {
          "model_module": "@jupyter-widgets/controls",
          "model_name": "DescriptionStyleModel",
          "model_module_version": "1.5.0",
          "state": {
            "_model_module": "@jupyter-widgets/controls",
            "_model_module_version": "1.5.0",
            "_model_name": "DescriptionStyleModel",
            "_view_count": null,
            "_view_module": "@jupyter-widgets/base",
            "_view_module_version": "1.2.0",
            "_view_name": "StyleView",
            "description_width": ""
          }
        },
        "1dcf4fa4bf554c12b7d26c51e5cfcbca": {
          "model_module": "@jupyter-widgets/base",
          "model_name": "LayoutModel",
          "model_module_version": "1.2.0",
          "state": {
            "_model_module": "@jupyter-widgets/base",
            "_model_module_version": "1.2.0",
            "_model_name": "LayoutModel",
            "_view_count": null,
            "_view_module": "@jupyter-widgets/base",
            "_view_module_version": "1.2.0",
            "_view_name": "LayoutView",
            "align_content": null,
            "align_items": null,
            "align_self": null,
            "border": null,
            "bottom": null,
            "display": null,
            "flex": null,
            "flex_flow": null,
            "grid_area": null,
            "grid_auto_columns": null,
            "grid_auto_flow": null,
            "grid_auto_rows": null,
            "grid_column": null,
            "grid_gap": null,
            "grid_row": null,
            "grid_template_areas": null,
            "grid_template_columns": null,
            "grid_template_rows": null,
            "height": null,
            "justify_content": null,
            "justify_items": null,
            "left": null,
            "margin": null,
            "max_height": null,
            "max_width": null,
            "min_height": null,
            "min_width": null,
            "object_fit": null,
            "object_position": null,
            "order": null,
            "overflow": null,
            "overflow_x": null,
            "overflow_y": null,
            "padding": null,
            "right": null,
            "top": null,
            "visibility": null,
            "width": null
          }
        },
        "5e8d6cb409ee4e4f978c2c9537d14a54": {
          "model_module": "@jupyter-widgets/controls",
          "model_name": "ProgressStyleModel",
          "model_module_version": "1.5.0",
          "state": {
            "_model_module": "@jupyter-widgets/controls",
            "_model_module_version": "1.5.0",
            "_model_name": "ProgressStyleModel",
            "_view_count": null,
            "_view_module": "@jupyter-widgets/base",
            "_view_module_version": "1.2.0",
            "_view_name": "StyleView",
            "bar_color": null,
            "description_width": ""
          }
        },
        "9fb91bb0809a424a9d01b0b9b803ae35": {
          "model_module": "@jupyter-widgets/base",
          "model_name": "LayoutModel",
          "model_module_version": "1.2.0",
          "state": {
            "_model_module": "@jupyter-widgets/base",
            "_model_module_version": "1.2.0",
            "_model_name": "LayoutModel",
            "_view_count": null,
            "_view_module": "@jupyter-widgets/base",
            "_view_module_version": "1.2.0",
            "_view_name": "LayoutView",
            "align_content": null,
            "align_items": null,
            "align_self": null,
            "border": null,
            "bottom": null,
            "display": null,
            "flex": null,
            "flex_flow": null,
            "grid_area": null,
            "grid_auto_columns": null,
            "grid_auto_flow": null,
            "grid_auto_rows": null,
            "grid_column": null,
            "grid_gap": null,
            "grid_row": null,
            "grid_template_areas": null,
            "grid_template_columns": null,
            "grid_template_rows": null,
            "height": null,
            "justify_content": null,
            "justify_items": null,
            "left": null,
            "margin": null,
            "max_height": null,
            "max_width": null,
            "min_height": null,
            "min_width": null,
            "object_fit": null,
            "object_position": null,
            "order": null,
            "overflow": null,
            "overflow_x": null,
            "overflow_y": null,
            "padding": null,
            "right": null,
            "top": null,
            "visibility": null,
            "width": null
          }
        },
        "782c205bf3d544d3bcfbbf1633d5630d": {
          "model_module": "@jupyter-widgets/controls",
          "model_name": "DescriptionStyleModel",
          "model_module_version": "1.5.0",
          "state": {
            "_model_module": "@jupyter-widgets/controls",
            "_model_module_version": "1.5.0",
            "_model_name": "DescriptionStyleModel",
            "_view_count": null,
            "_view_module": "@jupyter-widgets/base",
            "_view_module_version": "1.2.0",
            "_view_name": "StyleView",
            "description_width": ""
          }
        }
      }
    }
  },
  "cells": [
    {
      "cell_type": "markdown",
      "metadata": {
        "id": "CG_Khqh47ddS"
      },
      "source": [
        "# Facial Expression Recognition (FER)\n",
        "**OVERVIEW:**\n",
        "  The model in this notebook are designed using Convolutional Neural Network (CNN) which consists of several convolutional, pooling and classifier layer. ReLU() activation function is used in between layers and a softmax() is used to convert the logits into probabilities. PyTorch framework is used in order to enhance the efficiency and simplicity of execution.\n",
        "\n",
        "\n",
        "\n",
        "  A light version of AffectNet dataset is used to train the model, which is an open dataset available in kaggle. (The original AffectNet dataset consists of 0.4 million images, which is a huge dataset beyond the scope of the study.) The dataset consists of around 29000 RGB images reduced down to 96 by 96 pixels.\n",
        "\n",
        "  \n",
        "\n",
        "  Dataset link: https://www.kaggle.com/datasets/noamsegal/affectnet-training-data"
      ]
    },
    {
      "cell_type": "markdown",
      "source": [
        "# 1. Setup device agnostic code"
      ],
      "metadata": {
        "id": "u1tyKbEdZluE"
      }
    },
    {
      "cell_type": "code",
      "source": [
        "import torch\n",
        "\n",
        "# Check the device\n",
        "device = 'cuda' if torch.cuda.is_available() else 'cpu'\n",
        "\n",
        "# Check the device that the code is running on\n",
        "print(device)"
      ],
      "metadata": {
        "colab": {
          "base_uri": "https://localhost:8080/"
        },
        "id": "ZJ6vfb19Zr_I",
        "outputId": "564f7cb5-4f25-430d-c6fe-794b76b1a916"
      },
      "execution_count": 1,
      "outputs": [
        {
          "output_type": "stream",
          "name": "stdout",
          "text": [
            "cuda\n"
          ]
        }
      ]
    },
    {
      "cell_type": "markdown",
      "source": [
        "# 2. Mount the google drive and explore what's inside"
      ],
      "metadata": {
        "id": "h84QpwC3Zs0x"
      }
    },
    {
      "cell_type": "code",
      "source": [
        "from google.colab import drive\n",
        "drive.mount('/content/drive')"
      ],
      "metadata": {
        "colab": {
          "base_uri": "https://localhost:8080/"
        },
        "id": "IxDKeMS4Zy54",
        "outputId": "1c785f26-e8e5-4c96-cb2c-469d179c53f5"
      },
      "execution_count": 2,
      "outputs": [
        {
          "output_type": "stream",
          "name": "stdout",
          "text": [
            "Mounted at /content/drive\n"
          ]
        }
      ]
    },
    {
      "cell_type": "markdown",
      "source": [
        "The images are distributed into 8 different folders (the folders name are misleading as they seems to represent eight major expressions). However, the folder name are not the actual label for each images. The labels are found on a different csv file inside the dataset main folder named 'labels.csv'. The file consists of 4 columns. Nevertheless, we are only intrested in two of them:\n",
        "\n",
        "1. 'pth'-\n",
        "This column gives the folder name and image name in this format -> 'folder_name/image_name'\n",
        "\n",
        "2. 'label'-\n",
        "This column gives the acual label of the image.\n",
        "\n",
        "Looking the following code and it's return, it is more clear."
      ],
      "metadata": {
        "id": "5G3jVmgXaAtX"
      }
    },
    {
      "cell_type": "code",
      "source": [
        "import pandas as pd\n",
        "\n",
        "# Import the 'labels' file and check what is inside....\n",
        "labels = pd.read_csv('/content/drive/MyDrive/DL AffectNet/labels.csv')\n",
        "labels.head()"
      ],
      "metadata": {
        "colab": {
          "base_uri": "https://localhost:8080/",
          "height": 206
        },
        "id": "mOsRgErpaCSD",
        "outputId": "c95bbe2e-b57d-48be-c95b-18ea5fb271a0"
      },
      "execution_count": 3,
      "outputs": [
        {
          "output_type": "execute_result",
          "data": {
            "text/plain": [
              "   Unnamed: 0                     pth     label    relFCs\n",
              "0           0  anger/image0000006.jpg  surprise  0.873142\n",
              "1           1  anger/image0000060.jpg     anger  0.852311\n",
              "2           2  anger/image0000061.jpg     anger  0.800957\n",
              "3           3  anger/image0000066.jpg   disgust  0.843079\n",
              "4           4  anger/image0000106.jpg     anger  0.849108"
            ],
            "text/html": [
              "\n",
              "  <div id=\"df-194928b5-ec9b-4c0c-afa8-b5edbc502bef\" class=\"colab-df-container\">\n",
              "    <div>\n",
              "<style scoped>\n",
              "    .dataframe tbody tr th:only-of-type {\n",
              "        vertical-align: middle;\n",
              "    }\n",
              "\n",
              "    .dataframe tbody tr th {\n",
              "        vertical-align: top;\n",
              "    }\n",
              "\n",
              "    .dataframe thead th {\n",
              "        text-align: right;\n",
              "    }\n",
              "</style>\n",
              "<table border=\"1\" class=\"dataframe\">\n",
              "  <thead>\n",
              "    <tr style=\"text-align: right;\">\n",
              "      <th></th>\n",
              "      <th>Unnamed: 0</th>\n",
              "      <th>pth</th>\n",
              "      <th>label</th>\n",
              "      <th>relFCs</th>\n",
              "    </tr>\n",
              "  </thead>\n",
              "  <tbody>\n",
              "    <tr>\n",
              "      <th>0</th>\n",
              "      <td>0</td>\n",
              "      <td>anger/image0000006.jpg</td>\n",
              "      <td>surprise</td>\n",
              "      <td>0.873142</td>\n",
              "    </tr>\n",
              "    <tr>\n",
              "      <th>1</th>\n",
              "      <td>1</td>\n",
              "      <td>anger/image0000060.jpg</td>\n",
              "      <td>anger</td>\n",
              "      <td>0.852311</td>\n",
              "    </tr>\n",
              "    <tr>\n",
              "      <th>2</th>\n",
              "      <td>2</td>\n",
              "      <td>anger/image0000061.jpg</td>\n",
              "      <td>anger</td>\n",
              "      <td>0.800957</td>\n",
              "    </tr>\n",
              "    <tr>\n",
              "      <th>3</th>\n",
              "      <td>3</td>\n",
              "      <td>anger/image0000066.jpg</td>\n",
              "      <td>disgust</td>\n",
              "      <td>0.843079</td>\n",
              "    </tr>\n",
              "    <tr>\n",
              "      <th>4</th>\n",
              "      <td>4</td>\n",
              "      <td>anger/image0000106.jpg</td>\n",
              "      <td>anger</td>\n",
              "      <td>0.849108</td>\n",
              "    </tr>\n",
              "  </tbody>\n",
              "</table>\n",
              "</div>\n",
              "    <div class=\"colab-df-buttons\">\n",
              "\n",
              "  <div class=\"colab-df-container\">\n",
              "    <button class=\"colab-df-convert\" onclick=\"convertToInteractive('df-194928b5-ec9b-4c0c-afa8-b5edbc502bef')\"\n",
              "            title=\"Convert this dataframe to an interactive table.\"\n",
              "            style=\"display:none;\">\n",
              "\n",
              "  <svg xmlns=\"http://www.w3.org/2000/svg\" height=\"24px\" viewBox=\"0 -960 960 960\">\n",
              "    <path d=\"M120-120v-720h720v720H120Zm60-500h600v-160H180v160Zm220 220h160v-160H400v160Zm0 220h160v-160H400v160ZM180-400h160v-160H180v160Zm440 0h160v-160H620v160ZM180-180h160v-160H180v160Zm440 0h160v-160H620v160Z\"/>\n",
              "  </svg>\n",
              "    </button>\n",
              "\n",
              "  <style>\n",
              "    .colab-df-container {\n",
              "      display:flex;\n",
              "      gap: 12px;\n",
              "    }\n",
              "\n",
              "    .colab-df-convert {\n",
              "      background-color: #E8F0FE;\n",
              "      border: none;\n",
              "      border-radius: 50%;\n",
              "      cursor: pointer;\n",
              "      display: none;\n",
              "      fill: #1967D2;\n",
              "      height: 32px;\n",
              "      padding: 0 0 0 0;\n",
              "      width: 32px;\n",
              "    }\n",
              "\n",
              "    .colab-df-convert:hover {\n",
              "      background-color: #E2EBFA;\n",
              "      box-shadow: 0px 1px 2px rgba(60, 64, 67, 0.3), 0px 1px 3px 1px rgba(60, 64, 67, 0.15);\n",
              "      fill: #174EA6;\n",
              "    }\n",
              "\n",
              "    .colab-df-buttons div {\n",
              "      margin-bottom: 4px;\n",
              "    }\n",
              "\n",
              "    [theme=dark] .colab-df-convert {\n",
              "      background-color: #3B4455;\n",
              "      fill: #D2E3FC;\n",
              "    }\n",
              "\n",
              "    [theme=dark] .colab-df-convert:hover {\n",
              "      background-color: #434B5C;\n",
              "      box-shadow: 0px 1px 3px 1px rgba(0, 0, 0, 0.15);\n",
              "      filter: drop-shadow(0px 1px 2px rgba(0, 0, 0, 0.3));\n",
              "      fill: #FFFFFF;\n",
              "    }\n",
              "  </style>\n",
              "\n",
              "    <script>\n",
              "      const buttonEl =\n",
              "        document.querySelector('#df-194928b5-ec9b-4c0c-afa8-b5edbc502bef button.colab-df-convert');\n",
              "      buttonEl.style.display =\n",
              "        google.colab.kernel.accessAllowed ? 'block' : 'none';\n",
              "\n",
              "      async function convertToInteractive(key) {\n",
              "        const element = document.querySelector('#df-194928b5-ec9b-4c0c-afa8-b5edbc502bef');\n",
              "        const dataTable =\n",
              "          await google.colab.kernel.invokeFunction('convertToInteractive',\n",
              "                                                    [key], {});\n",
              "        if (!dataTable) return;\n",
              "\n",
              "        const docLinkHtml = 'Like what you see? Visit the ' +\n",
              "          '<a target=\"_blank\" href=https://colab.research.google.com/notebooks/data_table.ipynb>data table notebook</a>'\n",
              "          + ' to learn more about interactive tables.';\n",
              "        element.innerHTML = '';\n",
              "        dataTable['output_type'] = 'display_data';\n",
              "        await google.colab.output.renderOutput(dataTable, element);\n",
              "        const docLink = document.createElement('div');\n",
              "        docLink.innerHTML = docLinkHtml;\n",
              "        element.appendChild(docLink);\n",
              "      }\n",
              "    </script>\n",
              "  </div>\n",
              "\n",
              "\n",
              "<div id=\"df-f473aea6-dcc6-494f-908d-9965037d5325\">\n",
              "  <button class=\"colab-df-quickchart\" onclick=\"quickchart('df-f473aea6-dcc6-494f-908d-9965037d5325')\"\n",
              "            title=\"Suggest charts\"\n",
              "            style=\"display:none;\">\n",
              "\n",
              "<svg xmlns=\"http://www.w3.org/2000/svg\" height=\"24px\"viewBox=\"0 0 24 24\"\n",
              "     width=\"24px\">\n",
              "    <g>\n",
              "        <path d=\"M19 3H5c-1.1 0-2 .9-2 2v14c0 1.1.9 2 2 2h14c1.1 0 2-.9 2-2V5c0-1.1-.9-2-2-2zM9 17H7v-7h2v7zm4 0h-2V7h2v10zm4 0h-2v-4h2v4z\"/>\n",
              "    </g>\n",
              "</svg>\n",
              "  </button>\n",
              "\n",
              "<style>\n",
              "  .colab-df-quickchart {\n",
              "      --bg-color: #E8F0FE;\n",
              "      --fill-color: #1967D2;\n",
              "      --hover-bg-color: #E2EBFA;\n",
              "      --hover-fill-color: #174EA6;\n",
              "      --disabled-fill-color: #AAA;\n",
              "      --disabled-bg-color: #DDD;\n",
              "  }\n",
              "\n",
              "  [theme=dark] .colab-df-quickchart {\n",
              "      --bg-color: #3B4455;\n",
              "      --fill-color: #D2E3FC;\n",
              "      --hover-bg-color: #434B5C;\n",
              "      --hover-fill-color: #FFFFFF;\n",
              "      --disabled-bg-color: #3B4455;\n",
              "      --disabled-fill-color: #666;\n",
              "  }\n",
              "\n",
              "  .colab-df-quickchart {\n",
              "    background-color: var(--bg-color);\n",
              "    border: none;\n",
              "    border-radius: 50%;\n",
              "    cursor: pointer;\n",
              "    display: none;\n",
              "    fill: var(--fill-color);\n",
              "    height: 32px;\n",
              "    padding: 0;\n",
              "    width: 32px;\n",
              "  }\n",
              "\n",
              "  .colab-df-quickchart:hover {\n",
              "    background-color: var(--hover-bg-color);\n",
              "    box-shadow: 0 1px 2px rgba(60, 64, 67, 0.3), 0 1px 3px 1px rgba(60, 64, 67, 0.15);\n",
              "    fill: var(--button-hover-fill-color);\n",
              "  }\n",
              "\n",
              "  .colab-df-quickchart-complete:disabled,\n",
              "  .colab-df-quickchart-complete:disabled:hover {\n",
              "    background-color: var(--disabled-bg-color);\n",
              "    fill: var(--disabled-fill-color);\n",
              "    box-shadow: none;\n",
              "  }\n",
              "\n",
              "  .colab-df-spinner {\n",
              "    border: 2px solid var(--fill-color);\n",
              "    border-color: transparent;\n",
              "    border-bottom-color: var(--fill-color);\n",
              "    animation:\n",
              "      spin 1s steps(1) infinite;\n",
              "  }\n",
              "\n",
              "  @keyframes spin {\n",
              "    0% {\n",
              "      border-color: transparent;\n",
              "      border-bottom-color: var(--fill-color);\n",
              "      border-left-color: var(--fill-color);\n",
              "    }\n",
              "    20% {\n",
              "      border-color: transparent;\n",
              "      border-left-color: var(--fill-color);\n",
              "      border-top-color: var(--fill-color);\n",
              "    }\n",
              "    30% {\n",
              "      border-color: transparent;\n",
              "      border-left-color: var(--fill-color);\n",
              "      border-top-color: var(--fill-color);\n",
              "      border-right-color: var(--fill-color);\n",
              "    }\n",
              "    40% {\n",
              "      border-color: transparent;\n",
              "      border-right-color: var(--fill-color);\n",
              "      border-top-color: var(--fill-color);\n",
              "    }\n",
              "    60% {\n",
              "      border-color: transparent;\n",
              "      border-right-color: var(--fill-color);\n",
              "    }\n",
              "    80% {\n",
              "      border-color: transparent;\n",
              "      border-right-color: var(--fill-color);\n",
              "      border-bottom-color: var(--fill-color);\n",
              "    }\n",
              "    90% {\n",
              "      border-color: transparent;\n",
              "      border-bottom-color: var(--fill-color);\n",
              "    }\n",
              "  }\n",
              "</style>\n",
              "\n",
              "  <script>\n",
              "    async function quickchart(key) {\n",
              "      const quickchartButtonEl =\n",
              "        document.querySelector('#' + key + ' button');\n",
              "      quickchartButtonEl.disabled = true;  // To prevent multiple clicks.\n",
              "      quickchartButtonEl.classList.add('colab-df-spinner');\n",
              "      try {\n",
              "        const charts = await google.colab.kernel.invokeFunction(\n",
              "            'suggestCharts', [key], {});\n",
              "      } catch (error) {\n",
              "        console.error('Error during call to suggestCharts:', error);\n",
              "      }\n",
              "      quickchartButtonEl.classList.remove('colab-df-spinner');\n",
              "      quickchartButtonEl.classList.add('colab-df-quickchart-complete');\n",
              "    }\n",
              "    (() => {\n",
              "      let quickchartButtonEl =\n",
              "        document.querySelector('#df-f473aea6-dcc6-494f-908d-9965037d5325 button');\n",
              "      quickchartButtonEl.style.display =\n",
              "        google.colab.kernel.accessAllowed ? 'block' : 'none';\n",
              "    })();\n",
              "  </script>\n",
              "</div>\n",
              "\n",
              "    </div>\n",
              "  </div>\n"
            ],
            "application/vnd.google.colaboratory.intrinsic+json": {
              "type": "dataframe",
              "variable_name": "labels",
              "summary": "{\n  \"name\": \"labels\",\n  \"rows\": 28175,\n  \"fields\": [\n    {\n      \"column\": \"Unnamed: 0\",\n      \"properties\": {\n        \"dtype\": \"number\",\n        \"std\": 8133,\n        \"min\": 0,\n        \"max\": 28174,\n        \"num_unique_values\": 28175,\n        \"samples\": [\n          5908,\n          905,\n          9212\n        ],\n        \"semantic_type\": \"\",\n        \"description\": \"\"\n      }\n    },\n    {\n      \"column\": \"pth\",\n      \"properties\": {\n        \"dtype\": \"string\",\n        \"num_unique_values\": 28175,\n        \"samples\": [\n          \"disgust/image0010825.jpg\",\n          \"anger/image0015888.jpg\",\n          \"fear/image0032593.jpg\"\n        ],\n        \"semantic_type\": \"\",\n        \"description\": \"\"\n      }\n    },\n    {\n      \"column\": \"label\",\n      \"properties\": {\n        \"dtype\": \"category\",\n        \"num_unique_values\": 8,\n        \"samples\": [\n          \"anger\",\n          \"contempt\",\n          \"surprise\"\n        ],\n        \"semantic_type\": \"\",\n        \"description\": \"\"\n      }\n    },\n    {\n      \"column\": \"relFCs\",\n      \"properties\": {\n        \"dtype\": \"number\",\n        \"std\": 0.058754969829447855,\n        \"min\": 0.5163565440642025,\n        \"max\": 0.8999510152366166,\n        \"num_unique_values\": 27930,\n        \"samples\": [\n          0.8196833884777146,\n          0.8346972022364654,\n          0.7821169758138948\n        ],\n        \"semantic_type\": \"\",\n        \"description\": \"\"\n      }\n    }\n  ]\n}"
            }
          },
          "metadata": {},
          "execution_count": 3
        }
      ]
    },
    {
      "cell_type": "code",
      "source": [
        "print(len(labels))\n",
        "\n",
        "# We are excluding contempt expression\n",
        "labels = labels[labels['label'] != 'contempt']\n",
        "print(len(labels))"
      ],
      "metadata": {
        "colab": {
          "base_uri": "https://localhost:8080/"
        },
        "id": "k5a5_e7fFhOH",
        "outputId": "d3c463ef-6741-47d4-cc54-210e4f7e7f59"
      },
      "execution_count": 4,
      "outputs": [
        {
          "output_type": "stream",
          "name": "stdout",
          "text": [
            "28175\n",
            "24931\n"
          ]
        }
      ]
    },
    {
      "cell_type": "code",
      "source": [
        "lab = list(set(labels[\"label\"]))\n",
        "print(lab)\n",
        "def label_count(label):\n",
        "  for i in lab:\n",
        "    print(f\"The number of {i} images is {len(label[label['label'] == i])}\")\n",
        "label_count(labels)"
      ],
      "metadata": {
        "colab": {
          "base_uri": "https://localhost:8080/"
        },
        "id": "ufnuRn6HGDzL",
        "outputId": "c382101b-b7db-467c-f459-c66e5e92b270"
      },
      "execution_count": 5,
      "outputs": [
        {
          "output_type": "stream",
          "name": "stdout",
          "text": [
            "['surprise', 'disgust', 'sad', 'fear', 'neutral', 'happy', 'anger']\n",
            "The number of surprise images is 4616\n",
            "The number of disgust images is 3472\n",
            "The number of sad images is 2995\n",
            "The number of fear images is 3043\n",
            "The number of neutral images is 2861\n",
            "The number of happy images is 4336\n",
            "The number of anger images is 3608\n"
          ]
        }
      ]
    },
    {
      "cell_type": "code",
      "source": [
        "# Select the number of sample\n",
        "N = 10\n",
        "\n",
        "# Group by the 'label' column and sample N rows from each group\n",
        "balanced_labels = labels.groupby('label', group_keys=False).apply(lambda x: x.sample(min(len(x), N)))\n",
        "\n",
        "# Shuffle the balanced dataset\n",
        "balanced_labels = balanced_labels.sample(frac=1).reset_index(drop=True)\n",
        "\n",
        "labels = balanced_labels"
      ],
      "metadata": {
        "id": "F4NKODcbGCtr"
      },
      "execution_count": 6,
      "outputs": []
    },
    {
      "cell_type": "code",
      "source": [
        "len(balanced_labels)"
      ],
      "metadata": {
        "colab": {
          "base_uri": "https://localhost:8080/"
        },
        "id": "sy_JBiqDogNS",
        "outputId": "98d09e69-440f-4af0-bcc3-4d0d5c440b71"
      },
      "execution_count": 7,
      "outputs": [
        {
          "output_type": "execute_result",
          "data": {
            "text/plain": [
              "70"
            ]
          },
          "metadata": {},
          "execution_count": 7
        }
      ]
    },
    {
      "cell_type": "code",
      "source": [
        "label_count(balanced_labels)"
      ],
      "metadata": {
        "colab": {
          "base_uri": "https://localhost:8080/"
        },
        "id": "2FzPDGKrHWxX",
        "outputId": "93260257-533a-4f47-c6a5-d907088a64a7"
      },
      "execution_count": 8,
      "outputs": [
        {
          "output_type": "stream",
          "name": "stdout",
          "text": [
            "The number of surprise images is 10\n",
            "The number of disgust images is 10\n",
            "The number of sad images is 10\n",
            "The number of fear images is 10\n",
            "The number of neutral images is 10\n",
            "The number of happy images is 10\n",
            "The number of anger images is 10\n"
          ]
        }
      ]
    },
    {
      "cell_type": "markdown",
      "source": [
        "# 3 Import and Preprocess the data"
      ],
      "metadata": {
        "id": "kHKAF3aqaGYK"
      }
    },
    {
      "cell_type": "markdown",
      "source": [
        "### 3.1 Import"
      ],
      "metadata": {
        "id": "cm9-v57mJuqX"
      }
    },
    {
      "cell_type": "code",
      "source": [
        "# Import necessary libraries\n",
        "import os\n",
        "from tqdm.auto import tqdm\n",
        "from PIL import Image\n",
        "import torch\n",
        "from torchvision import transforms"
      ],
      "metadata": {
        "id": "KimsjA69FFag"
      },
      "execution_count": 9,
      "outputs": []
    },
    {
      "cell_type": "code",
      "source": [
        "# Set the initial data and label list\n",
        "data=[]\n",
        "data_labels=[]\n",
        "\n",
        "print(f'Total images is {N*7}')\n",
        "\n",
        "# Looping through each row in the 'labels' file and utilizing the 'pth' column to define each individual image directory\n",
        "for index, row in tqdm(labels.iterrows()):\n",
        "\n",
        "  # Splitting the folder name and image name\n",
        "  folder_name,image_name = row['pth'].split('/')\n",
        "\n",
        "  # Joining the main dataset folder path in google drive, the folder name and each image name\n",
        "  image_path = os.path.join('/content/drive/MyDrive/DL AffectNet', folder_name,image_name)\n",
        "\n",
        "  # Using the joined image path and opening the image\n",
        "  image=Image.open(image_path)\n",
        "\n",
        "  # Transforming the image into tensors\n",
        "  # image=transform(image)\n",
        "\n",
        "  # Adding the transformed tensor image in the data\n",
        "  data.append(image)"
      ],
      "metadata": {
        "colab": {
          "base_uri": "https://localhost:8080/",
          "height": 67,
          "referenced_widgets": [
            "3caa35dc8e474b46af8470bf1fc4ce4d",
            "6fd2be6ec8cb49b5a4a0d3f7ec87ea14",
            "5704a8b0afc44d00952faba54e3cb57a",
            "f3e8ee09fd11459bbe0b39aecb240998",
            "c11c448b5e5f4f3ba444b897936370e6",
            "dfeefebba45243d782f569a75152d27d",
            "8cd0844039084e21b46a86738ab14970",
            "e3605d94e682495e9e97d37e7279baaf",
            "9249b3a5a7234a178669cd85def2b425",
            "3a96a8638cea4947a28c45259ceb2a73",
            "215fcc9237684fafa55238473cd7afa7"
          ]
        },
        "id": "aoXLLTD9aJgH",
        "outputId": "787b7741-9e8b-4e15-f351-563cb58530ac"
      },
      "execution_count": 10,
      "outputs": [
        {
          "output_type": "stream",
          "name": "stdout",
          "text": [
            "Total images is 70\n"
          ]
        },
        {
          "output_type": "display_data",
          "data": {
            "text/plain": [
              "0it [00:00, ?it/s]"
            ],
            "application/vnd.jupyter.widget-view+json": {
              "version_major": 2,
              "version_minor": 0,
              "model_id": "3caa35dc8e474b46af8470bf1fc4ce4d"
            }
          },
          "metadata": {}
        }
      ]
    },
    {
      "cell_type": "code",
      "source": [
        "data_labels = labels[\"label\"]\n",
        "len(data_labels)"
      ],
      "metadata": {
        "colab": {
          "base_uri": "https://localhost:8080/"
        },
        "id": "1i21GlVO1dM4",
        "outputId": "52f9d6ee-b9b0-4655-ea2c-266b7c440717"
      },
      "execution_count": 15,
      "outputs": [
        {
          "output_type": "execute_result",
          "data": {
            "text/plain": [
              "70"
            ]
          },
          "metadata": {},
          "execution_count": 15
        }
      ]
    },
    {
      "cell_type": "markdown",
      "source": [
        "### 3.2. Preprocess"
      ],
      "metadata": {
        "id": "1Ua-ue7tJyec"
      }
    },
    {
      "cell_type": "markdown",
      "source": [
        "Face Detection"
      ],
      "metadata": {
        "id": "BVoMZ8pB4NZN"
      }
    },
    {
      "cell_type": "code",
      "source": [
        "# Cropping out the face using opencv model (Face detcetion)\n",
        "import cv2\n",
        "\n",
        "# Load the pre-trained Haar Cascade classifier\n",
        "face_cascade = cv2.CascadeClassifier(cv2.data.haarcascades + 'haarcascade_frontalface_default.xml')\n",
        "from google.colab.patches import cv2_imshow as image_show\n",
        "import numpy as np"
      ],
      "metadata": {
        "id": "a2ZKXb7XJ2A-"
      },
      "execution_count": 17,
      "outputs": []
    },
    {
      "cell_type": "code",
      "source": [
        "def image_crop(image_list, labels_list):\n",
        "  cropped_images=[]\n",
        "  valid_labels = []\n",
        "  for i, image in enumerate(tqdm(image_list, desc = \"Detecting faces from images and cropping\")):\n",
        "    image = np.array(image)\n",
        "    gray_image = cv2.cvtColor(np.array(image), cv2.COLOR_BGR2GRAY)\n",
        "    gray_image = gray_image.astype(np.uint8)\n",
        "\n",
        "    # Perform face detection\n",
        "\n",
        "    faces = face_cascade.detectMultiScale(gray_image, scaleFactor=1.1, minNeighbors=5, minSize=(30, 30))\n",
        "\n",
        "    # Check if at least one face is detected\n",
        "    if len(faces) > 0:\n",
        "    # Crop the face from the image (taking the first detected face)\n",
        "      x, y, w, h = faces[0]\n",
        "      cropped_face = image[y:y+h, x:x+w]\n",
        "      cropped_images.append(cropped_face)\n",
        "      valid_labels.append(data_labels[i])\n",
        "  return cropped_images, valid_labels"
      ],
      "metadata": {
        "id": "lBk49VRXuSUw"
      },
      "execution_count": 18,
      "outputs": []
    },
    {
      "cell_type": "markdown",
      "source": [
        "Histogram Equilization using CLAHE and normalize the image"
      ],
      "metadata": {
        "id": "kijZsCWB_VFo"
      }
    },
    {
      "cell_type": "code",
      "source": [
        "import cv2\n",
        "clahe = cv2.createCLAHE(clipLimit=2.0, tileGridSize=(8, 8))"
      ],
      "metadata": {
        "id": "n8chwXXt_Z25"
      },
      "execution_count": 20,
      "outputs": []
    },
    {
      "cell_type": "code",
      "source": [
        "def clahe_func_normalization(image_list, clip_limit=2.0, grid_size=4):\n",
        "\n",
        "  equalized_normalized_image = []\n",
        "\n",
        "  for image in tqdm(image_list, desc=\"Performing Histogram Equilization and Normalization\"):\n",
        "\n",
        "    lab_image = cv2.cvtColor(image, cv2.COLOR_RGB2LAB)\n",
        "\n",
        "    # Split the LAB image into its channels\n",
        "    l_channel, a_channel, b_channel = cv2.split(lab_image)\n",
        "\n",
        "    # Apply CLAHE to the L channel\n",
        "    clahe = cv2.createCLAHE(clipLimit=clip_limit, tileGridSize=(grid_size, grid_size))\n",
        "    cl_l_channel = clahe.apply(l_channel)\n",
        "\n",
        "    # Merge the CLAHE enhanced L channel back with A and B channels\n",
        "    merged_lab_image = cv2.merge((cl_l_channel, a_channel, b_channel))\n",
        "\n",
        "    # Convert the LAB image back to RGB color space\n",
        "    clahe_image = cv2.cvtColor(merged_lab_image, cv2.COLOR_LAB2RGB)\n",
        "\n",
        "    # Normalize the final image to the 0-1 range\n",
        "    final_normalized_image = clahe_image / 255.0\n",
        "\n",
        "    equalized_normalized_image.append(final_normalized_image)\n",
        "\n",
        "  return equalized_normalized_image"
      ],
      "metadata": {
        "id": "tBa89DNxDCs-"
      },
      "execution_count": 21,
      "outputs": []
    },
    {
      "cell_type": "code",
      "source": [
        "# resizing the image\n",
        "def resize_image(image_list, size = 64):\n",
        "  resized_images = []\n",
        "  for image in image_list:\n",
        "    resized_image = cv2.resize(image, (size, size))\n",
        "    resized_images.append(resized_image)\n",
        "  return resized_images"
      ],
      "metadata": {
        "id": "6cYEOcDuIZV7"
      },
      "execution_count": 26,
      "outputs": []
    },
    {
      "cell_type": "code",
      "source": [
        "# Defining tensor transformation\n",
        "def to_tensor(image_list, labels_list):\n",
        "  tensor_images = []\n",
        "  tensor_labels = []\n",
        "  for image in tqdm(image_list, desc=\"Converting images to tensors\"):\n",
        "    tensor_images.append(torch.tensor(image))\n",
        "  for label in tqdm(labels_list, desc=\"Converting labels to tensors\"):\n",
        "    tensor_labels.append(torch.tensor(label))\n",
        "  print(len(tensor_images), len(tensor_labels))\n",
        "  return tensor_images, tensor_labels"
      ],
      "metadata": {
        "id": "ohbXK-Z6I1uE"
      },
      "execution_count": 30,
      "outputs": []
    },
    {
      "cell_type": "code",
      "source": [
        "def preprocessing_pipeline(image_list, label_list):\n",
        "  image, label = image_crop(image_list, label_list)\n",
        "  image = clahe_func_normalization(image)\n",
        "  image = resize_image(image)\n",
        "  label_set = list(set(label))\n",
        "  ltoi = {label_set[i]:i for i in range(len(label_set))}\n",
        "  labels_index = [ltoi[label] for label in label]\n",
        "  image, label_index = to_tensor(image, labels_index)\n",
        "  return image, label_index, label, label_set"
      ],
      "metadata": {
        "id": "bwQSFzaQRdy7"
      },
      "execution_count": 81,
      "outputs": []
    },
    {
      "cell_type": "code",
      "source": [
        "processed_data, processed_labels, valid_labels, label_set = preprocessing_pipeline(data, data_labels)"
      ],
      "metadata": {
        "colab": {
          "base_uri": "https://localhost:8080/",
          "height": 163,
          "referenced_widgets": [
            "e87fec30f6894c2ba69bfc505a10b500",
            "9811c8b0122e41c0b198e24ae9c1f53a",
            "a25de5e97b1a4be4997237f980c8bb82",
            "231faddcc1ef4cd392193074a5b85db0",
            "9149815d147b4ed3967fec08dc52823e",
            "29e47da187cf4669afa29d30dce40dfc",
            "9cd958469c6143dcb51b569b808a0b1a",
            "6ccd3e9e603f492086a71aa5ca8c8e02",
            "fd6ea1f44c724529aea9fcdbbffcb920",
            "465cfe5374da4fed95e93cf7f24fa5dd",
            "d01133c08e7c462eb4e230650f05f8a4",
            "24abca0f5e1b430e8f4c4d93fcef8a00",
            "8fd2cfba0e954b3294d68133787d35fc",
            "271264a6f60c41e0864da164d318edfc",
            "32d5c623fe2c4356b70a1db773b2a5e9",
            "a43100f4790440f2a88b0421776afad1",
            "25ac7a08ce724a9e88d2b8356c3eb25d",
            "83e775031fbb4fb4b40f3c94ae5c0b12",
            "62a607c22bb848909ca305e1886c9a45",
            "9aa8ef947136421786327e26eec288d0",
            "9871d68525d241349e7431fee22ddebf",
            "4efea79bd1824d458a855fb83bbb9f0a",
            "8b75022cedad43b1a0c2082ed34ebc4b",
            "bcd0f15138524c26a6c49cdc0b7eeaa4",
            "6287c4e3569841c4b3fc6b7852d453df",
            "75e17a610fe1416abba1fc071625f6b4",
            "91982dfb62774922a5ef7f193d956fff",
            "679b88aaa8cc4dbaaf61b78b4773173d",
            "fb3f87fd469b4a6a89ae44ebbab6f45f",
            "3633311ed1054cefb024ee83e3c5979b",
            "d59aea86e814413c95995e58606f2f43",
            "8b3bc695dbe246599e9467b9b4ec1958",
            "9530e5c8536d43439fad0f2ebe9087dd",
            "d3c93d37f4214550876281fa16da9804",
            "7848a8e85b754bb69dedc08083205f32",
            "6a0d65de95bc45ce9ad204928318c40f",
            "73ee05c053cd42108d7f631ee9b6f8dc",
            "04bf9bf5d78f4bbebd8f534672c6f29b",
            "1dd3cf48f1c54931bfecba24debcc466",
            "6eb715aa38144601b6e31c06eb691968",
            "e027d7ca89af48babafd4ad48938c6a7",
            "e15f2e5cf6c44113a3c1866622803c25",
            "15b995f346014a3f95f4dfada5dc0c2f",
            "a38a97cf2d2849a0b48e66bbbd5d7456"
          ]
        },
        "id": "7RxXAIX0T4Wd",
        "outputId": "deb505c1-b47d-4098-8150-cadb23585ff4"
      },
      "execution_count": 82,
      "outputs": [
        {
          "output_type": "display_data",
          "data": {
            "text/plain": [
              "Detecting faces from images and cropping:   0%|          | 0/70 [00:00<?, ?it/s]"
            ],
            "application/vnd.jupyter.widget-view+json": {
              "version_major": 2,
              "version_minor": 0,
              "model_id": "e87fec30f6894c2ba69bfc505a10b500"
            }
          },
          "metadata": {}
        },
        {
          "output_type": "display_data",
          "data": {
            "text/plain": [
              "Performing Histogram Equilization and Normalization:   0%|          | 0/65 [00:00<?, ?it/s]"
            ],
            "application/vnd.jupyter.widget-view+json": {
              "version_major": 2,
              "version_minor": 0,
              "model_id": "24abca0f5e1b430e8f4c4d93fcef8a00"
            }
          },
          "metadata": {}
        },
        {
          "output_type": "display_data",
          "data": {
            "text/plain": [
              "Converting images to tensors:   0%|          | 0/65 [00:00<?, ?it/s]"
            ],
            "application/vnd.jupyter.widget-view+json": {
              "version_major": 2,
              "version_minor": 0,
              "model_id": "8b75022cedad43b1a0c2082ed34ebc4b"
            }
          },
          "metadata": {}
        },
        {
          "output_type": "display_data",
          "data": {
            "text/plain": [
              "Converting labels to tensors:   0%|          | 0/65 [00:00<?, ?it/s]"
            ],
            "application/vnd.jupyter.widget-view+json": {
              "version_major": 2,
              "version_minor": 0,
              "model_id": "d3c93d37f4214550876281fa16da9804"
            }
          },
          "metadata": {}
        },
        {
          "output_type": "stream",
          "name": "stdout",
          "text": [
            "65 65\n"
          ]
        }
      ]
    },
    {
      "cell_type": "code",
      "source": [
        "print(label_set)\n",
        "ltoi = {label_set[i]:i for i in range(len(label_set))}\n",
        "itol = {i:label_set[i] for i in range(len(label_set))}\n",
        "print(ltoi)\n",
        "print(itol)"
      ],
      "metadata": {
        "colab": {
          "base_uri": "https://localhost:8080/"
        },
        "id": "OzGzT5q3WBxk",
        "outputId": "91d91a3f-3e6a-4ce3-df59-19662c7e2342"
      },
      "execution_count": 59,
      "outputs": [
        {
          "output_type": "stream",
          "name": "stdout",
          "text": [
            "['surprise', 'sad', 'disgust', 'fear', 'neutral', 'happy', 'anger']\n",
            "{'surprise': 0, 'sad': 1, 'disgust': 2, 'fear': 3, 'neutral': 4, 'happy': 5, 'anger': 6}\n",
            "{0: 'surprise', 1: 'sad', 2: 'disgust', 3: 'fear', 4: 'neutral', 5: 'happy', 6: 'anger'}\n"
          ]
        }
      ]
    },
    {
      "cell_type": "markdown",
      "source": [
        "# 4. Split the data in train and test"
      ],
      "metadata": {
        "id": "SHfU3XTpb7Bh"
      }
    },
    {
      "cell_type": "code",
      "source": [
        "# Importing train_test_split from scikit-learn library\n",
        "from sklearn.model_selection import train_test_split\n",
        "\n",
        "# Splittin 80% of the data into training set and remaining 20% to testing set\n",
        "X_train, X_test, y_train, y_test = train_test_split(processed_data,\n",
        "                                                    processed_labels,\n",
        "                                                    test_size=0.2,\n",
        "                                                    random_state=42)\n"
      ],
      "metadata": {
        "id": "Mza7b038cDcZ"
      },
      "execution_count": 33,
      "outputs": []
    },
    {
      "cell_type": "code",
      "source": [
        "# Sending the data  and labels to the current device to avoid device mismatch error\n",
        "X_train = [tensor.to(device) for tensor in X_train]\n",
        "y_train = [tensor.to(device) for tensor in y_train]\n",
        "X_test = [tensor.to(device) for tensor in X_test]\n",
        "y_test = [tensor.to(device) for tensor in y_test]"
      ],
      "metadata": {
        "id": "hRwSavmDcGDT"
      },
      "execution_count": 34,
      "outputs": []
    },
    {
      "cell_type": "code",
      "source": [
        "# Checking out the length of train and test sets\n",
        "print(f'The number of training data is {len(X_train)} and training labels is {len(y_train)}')\n",
        "print(f'The number of testing data is {len(X_test)} and testing labels is {len(y_test)}')"
      ],
      "metadata": {
        "id": "HE30LVwfcL7g",
        "colab": {
          "base_uri": "https://localhost:8080/"
        },
        "outputId": "48e1ce78-5171-4cad-abf3-3f3471367448"
      },
      "execution_count": 35,
      "outputs": [
        {
          "output_type": "stream",
          "name": "stdout",
          "text": [
            "The number of training data is 52 and training labels is 52\n",
            "The number of testing data is 13 and testing labels is 13\n"
          ]
        }
      ]
    },
    {
      "cell_type": "markdown",
      "source": [
        "# 5. Preparing the dataloader"
      ],
      "metadata": {
        "id": "cxanA63hdBsn"
      }
    },
    {
      "cell_type": "markdown",
      "source": [
        "Merging the images and their corresponding labels in both training and testing sets"
      ],
      "metadata": {
        "id": "NEEtBjd4dQI-"
      }
    },
    {
      "cell_type": "code",
      "source": [
        "# Merge the data and labels to assign in the data loader\n",
        "train_data = list(zip(X_train,y_train))\n",
        "test_data = list(zip(X_test,y_test))"
      ],
      "metadata": {
        "id": "FB_bOvSSdWhy"
      },
      "execution_count": 36,
      "outputs": []
    },
    {
      "cell_type": "markdown",
      "source": [
        "Defining the train and test data loaders"
      ],
      "metadata": {
        "id": "JxtqxyFYdXkJ"
      }
    },
    {
      "cell_type": "code",
      "source": [
        "from torch.utils.data import DataLoader\n",
        "\n",
        "# Set up the batch size (HYPERPARAMETER)\n",
        "BATCH_SIZE = 3\n",
        "\n",
        "# Turn datasets into batches (iterables)\n",
        "train_data_loader = DataLoader(dataset=train_data,\n",
        "                         batch_size=BATCH_SIZE,\n",
        "                         shuffle=True)\n",
        "test_data_loader = DataLoader(dataset=test_data,\n",
        "                              batch_size=BATCH_SIZE,\n",
        "                              shuffle=True)"
      ],
      "metadata": {
        "id": "jsQn2Qcsdafe"
      },
      "execution_count": 37,
      "outputs": []
    },
    {
      "cell_type": "code",
      "source": [
        "# Looking at the number of batches in our training and testing sets\n",
        "print(f'The total batches in our train dataloader is now {len(train_data_loader)}')\n",
        "print(f'The total batches in our test dataloader is now {len(test_data_loader)}')"
      ],
      "metadata": {
        "id": "m7Zr8s2rdc6C",
        "colab": {
          "base_uri": "https://localhost:8080/"
        },
        "outputId": "41707a0b-8d0a-4ff0-e706-223f9fcb3a14"
      },
      "execution_count": 38,
      "outputs": [
        {
          "output_type": "stream",
          "name": "stdout",
          "text": [
            "The total batches in our train dataloader is now 18\n",
            "The total batches in our test dataloader is now 5\n"
          ]
        }
      ]
    },
    {
      "cell_type": "code",
      "source": [
        "# Checking out the shape of train data loader\n",
        "features_batch, label_batch = next(iter(train_data_loader))\n",
        "features_batch.shape, label_batch.shape"
      ],
      "metadata": {
        "id": "LsbS-yZQdfZB",
        "colab": {
          "base_uri": "https://localhost:8080/"
        },
        "outputId": "0338211d-b9b0-4c5d-a25b-c9b4735d2302"
      },
      "execution_count": 39,
      "outputs": [
        {
          "output_type": "execute_result",
          "data": {
            "text/plain": [
              "(torch.Size([3, 64, 64, 3]), torch.Size([3]))"
            ]
          },
          "metadata": {},
          "execution_count": 39
        }
      ]
    },
    {
      "cell_type": "markdown",
      "source": [
        "Creating a time function to find out how long it take to run the train test loop"
      ],
      "metadata": {
        "id": "fgx0TiwUd7B6"
      }
    },
    {
      "cell_type": "markdown",
      "source": [
        "# 6. Building a Convolutional Neural Network (CNN) model: 'TinyVGG'"
      ],
      "metadata": {
        "id": "OM1Cs1aneTWP"
      }
    },
    {
      "cell_type": "markdown",
      "source": [
        "The TinyVGG refers to as the smaller version of VGG (Visual Geometry Group) neural network architecture.\n",
        "\n",
        "The model architecture is explained below:\n",
        "\n",
        "1. **Convolutional layers:**\n",
        "* First, the RGB images with 3 channels is passed through a convolutional layer with 3 input and 32 output channels. The padding preserves the spatial dimensions when a 3 by 3 kernal is appilied through it.\n",
        "* After that, in order to add non-linearity as spice, a ReLU() activation function is applied.\n",
        "* Then, a max-pooling layer is applied in the feature map. This layer has a 2x2 kernal and stride=2. This layer downsample the feature maps by a factor of 2, that helps in learning hierarchical features and reducing computation.\n",
        "* Following this, another Conv2d (convolutional) layer is added containing output channels of 64. Similar to before, padding is applied when kernal runs through the image.\n",
        "* Again, relu activation function is applied.\n",
        "* A max pool layer as before was applied again with same parameters.\n",
        "\n",
        "2. **Fully Connected Layers (classifiers):**\n",
        "* A view method is used to flatten the feature map to pass thorugh the classifier.\n",
        "* Then the flattened feature map is passed through fully connected layer (nn.Linear). The in features is 36864 (this number is specifically for the 96x96 image that is used here) and out features is 128.\n",
        "* ReLU() is used here again for non-linearity.\n",
        "* Droupout layer is introduced (nn.Droupout) to regularize the network to prevent overfitting. This layer randomly sets a fraction of units to zero during training.\n",
        "* Another Linear layer maps 128 in features to 8 classes (in this problem).\n",
        "\n",
        "3. **Output:**\n",
        "* The output from this model gives the logits for each class. Then these logits are passed through softmax activation function to get the proobabilities of each classes."
      ],
      "metadata": {
        "id": "q_9TTJWbmDzE"
      }
    },
    {
      "cell_type": "code",
      "source": [
        "# Importing torch and nn\n",
        "import torch\n",
        "import torch.nn as nn\n",
        "\n",
        "# Create a class of TinyVGG that inherits from nn.Module\n",
        "class TinyVGG(nn.Module):\n",
        "\n",
        "    # Initializing\n",
        "    def __init__(self, num_classes=7):\n",
        "        super(TinyVGG, self).__init__()\n",
        "\n",
        "        # Defining the Convolution layers, MaxPool layers with activation function 'ReLU'\n",
        "        self.features = nn.Sequential(\n",
        "\n",
        "          # First Conv2d layer for extracting feature map\n",
        "            nn.Conv2d(3, 32, kernel_size=3, padding=1),\n",
        "\n",
        "            # Adding non-linearity\n",
        "            nn.ReLU(inplace=True),\n",
        "\n",
        "            # Maxpool layer for downsampling feature map\n",
        "            nn.MaxPool2d(kernel_size=2, stride=2),\n",
        "\n",
        "            # Another Convolutional layer\n",
        "            nn.Conv2d(32, 64, kernel_size=3, padding=1),\n",
        "\n",
        "            # ReLU()\n",
        "            nn.ReLU(inplace=True),\n",
        "\n",
        "            # Max pooling layer\n",
        "            nn.MaxPool2d(kernel_size=2, stride=2)\n",
        "        )\n",
        "\n",
        "        # Defining the classifier (Fully Connected layers)\n",
        "        self.classifier = nn.Sequential(\n",
        "            nn.Linear(16384, 128),  # The input size is adjusted by experimentation\n",
        "            nn.ReLU(inplace=True),\n",
        "            nn.Dropout(),\n",
        "            nn.Linear(128, num_classes)\n",
        "        )\n",
        "\n",
        "    # The forward method\n",
        "    def forward(self, x):\n",
        "        x = self.features(x)\n",
        "\n",
        "        # Flatten the input image feature map and passing through classifier\n",
        "        x = x = x.flatten(start_dim=1)\n",
        "        x = self.classifier(x)\n",
        "        return x"
      ],
      "metadata": {
        "id": "gELL7iTfrjyr"
      },
      "execution_count": 41,
      "outputs": []
    },
    {
      "cell_type": "code",
      "source": [
        "# Create an instance of the model\n",
        "model = TinyVGG().to(device)\n",
        "model = model.to(dtype=torch.float64)"
      ],
      "metadata": {
        "id": "s8cOGXJomDv8"
      },
      "execution_count": 42,
      "outputs": []
    },
    {
      "cell_type": "markdown",
      "source": [
        "# 7. Setup loss function, optimizer and accuracy function"
      ],
      "metadata": {
        "id": "RhhxDPuVuJF3"
      }
    },
    {
      "cell_type": "markdown",
      "source": [
        "As the model is a classifier with 8 different classed, nn.CrossEntropyLoss() will be used as loss function.\n",
        "\n",
        "Similarly, Adam optimizer is used to optimize tha model's parameters.\n",
        "\n",
        "Custom accuracy and time function is created"
      ],
      "metadata": {
        "id": "5bCq5fyIuYzw"
      }
    },
    {
      "cell_type": "markdown",
      "source": [
        "## 7.1. Loss function and optimizer"
      ],
      "metadata": {
        "id": "hVIYLSHGXpPC"
      }
    },
    {
      "cell_type": "code",
      "source": [
        "# Setup loss\n",
        "loss_fn=nn.CrossEntropyLoss()\n",
        "\n",
        "# Setup (stochastic gradient descent) optmizer for 3 different models\n",
        "optimizer=torch.optim.Adam(params=model.parameters(), lr=0.1)"
      ],
      "metadata": {
        "id": "SZmBZ6KxuNo7"
      },
      "execution_count": 43,
      "outputs": []
    },
    {
      "cell_type": "markdown",
      "source": [
        "## 7.2. Define accuracy function and time function\n",
        "However, accuracy function is created on the basis of how many of the images the model predicted right.\n",
        "\n",
        "Creating a accuracy function as **accuracy_fn**"
      ],
      "metadata": {
        "id": "JtYtonnVvJoT"
      }
    },
    {
      "cell_type": "code",
      "source": [
        "import torch\n",
        "def accuracy_fn(y_true,y_pred):\n",
        "  correct = torch.eq(y_true,y_pred).sum().item()\n",
        "  accuracy=(correct/len(y_true))*100\n",
        "  return accuracy"
      ],
      "metadata": {
        "id": "FykUJIuvvSv0"
      },
      "execution_count": 44,
      "outputs": []
    },
    {
      "cell_type": "code",
      "source": [
        "# Importing default_timer as timer function\n",
        "from timeit import default_timer as timer\n",
        "\n",
        "# Creating the time function\n",
        "def print_time(start: float,\n",
        "               end: float,\n",
        "               device:torch.device=None):\n",
        "\n",
        "  # Print the difference between start time and end time\n",
        "  total_time= end-start\n",
        "  print(f'Time on {device}: {total_time:.4f} seconds')\n",
        "\n",
        "  # Return the total time taken from start to end\n",
        "  return total_time"
      ],
      "metadata": {
        "id": "n81jOf2dX6VX"
      },
      "execution_count": null,
      "outputs": []
    },
    {
      "cell_type": "markdown",
      "source": [
        "# 8. Building a training and testing loop"
      ],
      "metadata": {
        "id": "ucJuy2s1vcjt"
      }
    },
    {
      "cell_type": "code",
      "source": [
        "# Use tqdm for tracking the training\n",
        "from tqdm.auto import tqdm\n",
        "\n",
        "# Start thr timer\n",
        "start= timer()\n",
        "\n",
        "# Number of epochs\n",
        "epochs = 10\n",
        "\n",
        "# The training and testing loop\n",
        "for epoch in tqdm(range(epochs)):\n",
        "\n",
        "  # Train loop\n",
        "  print(f'Epoch: {epoch}\\n ____________________')\n",
        "  train_loss=0\n",
        "\n",
        "  for batch, (X,y) in enumerate(train_data_loader):\n",
        "\n",
        "    # Set intTraining mode\n",
        "    model.train()\n",
        "\n",
        "    # Fordward Pass\n",
        "\n",
        "    y_pred=model(X.permute(0,3,1,2))\n",
        "\n",
        "    # Calculating and accumulating the loss\n",
        "    loss=loss_fn(y_pred,y)\n",
        "    train_loss +=loss\n",
        "\n",
        "    # Setting optimizer zero grad, backpropagation and optimizer step\n",
        "    optimizer.zero_grad()\n",
        "    loss.backward()\n",
        "    optimizer.step()\n",
        "\n",
        "    # print out what's happening till now\n",
        "    if batch % 400==0:\n",
        "      print(f'Looked at {batch*len(X)} samples')\n",
        "\n",
        "  # Averaging the total loss\n",
        "  train_loss /=len(train_data_loader)\n",
        "\n",
        "\n",
        "  # Starting the test loop\n",
        "  test_loss, test_acc = 0,0\n",
        "\n",
        "  # Set into evaluation mode\n",
        "  model.eval()\n",
        "\n",
        "  with torch.inference_mode():\n",
        "    for X,y in test_data_loader:\n",
        "\n",
        "      # Forward pass\n",
        "      test_pred = model(X.permute(0,3,1,2))\n",
        "      # Accumulate the loss and accuracy\n",
        "      test_loss +=loss_fn(test_pred,y)\n",
        "      test_acc += accuracy_fn(y_true=y,\n",
        "                              y_pred=torch.softmax(test_pred.squeeze(), dim=0).argmax(dim=-1))\n",
        "\n",
        "    # Averaging the loss and accuracy\n",
        "    test_loss = test_loss/len(test_data_loader)\n",
        "    test_acc = test_acc/len(test_data_loader)\n",
        "\n",
        " # Print out what's happening inside\n",
        "  print(f'\\nTraining loss is: {train_loss:.4f} | Test loss is: {test_loss:.4f} | Test Accuracy is: {test_acc:.4f}')\n",
        "\n",
        "# End the timer\n",
        "end = timer()\n",
        "\n",
        "# Calculate the total time taken to run the whole loop\n",
        "total_time_model_1 = print_time(start=start,\n",
        "                        end=end,\n",
        "                        device=device)"
      ],
      "metadata": {
        "id": "anRoBJmrvsOx",
        "colab": {
          "base_uri": "https://localhost:8080/",
          "height": 965,
          "referenced_widgets": [
            "d7c8bf9de76e440b92e0f55ca27dbadb",
            "f6b03da37e2b4ec8b59ebdef46e7f5d3",
            "94dbd710d5e14a8788cfefa5f77fb718",
            "c604398a97be4532bfd05002abd2d1bd",
            "bd6daf50ec264e2196009503cc06929c",
            "d7631ce663d6448595d5158dfc818f29",
            "94741d4a12c4445ba3008bf64d5665b4",
            "2e3a88e468654a5682abe9ca598369bc",
            "02e631142a40488eafc2dffdc17d5065",
            "7c15b401f6064821af3f6d59b423bcd1",
            "96bf9f8052d341ff825f811eda613361"
          ]
        },
        "outputId": "3d4b7aaf-348c-4929-926f-091a00c59a0e"
      },
      "execution_count": 45,
      "outputs": [
        {
          "output_type": "display_data",
          "data": {
            "text/plain": [
              "  0%|          | 0/10 [00:00<?, ?it/s]"
            ],
            "application/vnd.jupyter.widget-view+json": {
              "version_major": 2,
              "version_minor": 0,
              "model_id": "d7c8bf9de76e440b92e0f55ca27dbadb"
            }
          },
          "metadata": {}
        },
        {
          "output_type": "stream",
          "name": "stdout",
          "text": [
            "Epoch: 0\n",
            " ____________________\n",
            "Looked at 0 samples\n",
            "\n",
            "Training loss is: 2166.9830 | Test loss is: 1.9836 | Test Accuracy is: 13.3333\n",
            "Epoch: 1\n",
            " ____________________\n",
            "Looked at 0 samples\n",
            "\n",
            "Training loss is: 1.9762 | Test loss is: 2.0303 | Test Accuracy is: 13.3333\n",
            "Epoch: 2\n",
            " ____________________\n",
            "Looked at 0 samples\n",
            "\n",
            "Training loss is: 1.9536 | Test loss is: 2.1121 | Test Accuracy is: 13.3333\n",
            "Epoch: 3\n",
            " ____________________\n",
            "Looked at 0 samples\n",
            "\n",
            "Training loss is: 1.9765 | Test loss is: 2.0429 | Test Accuracy is: 13.3333\n",
            "Epoch: 4\n",
            " ____________________\n",
            "Looked at 0 samples\n",
            "\n",
            "Training loss is: 1.9554 | Test loss is: 1.9739 | Test Accuracy is: 33.3333\n",
            "Epoch: 5\n",
            " ____________________\n",
            "Looked at 0 samples\n",
            "\n",
            "Training loss is: 1.9633 | Test loss is: 2.0729 | Test Accuracy is: 13.3333\n",
            "Epoch: 6\n",
            " ____________________\n",
            "Looked at 0 samples\n",
            "\n",
            "Training loss is: 1.9609 | Test loss is: 2.0823 | Test Accuracy is: 13.3333\n",
            "Epoch: 7\n",
            " ____________________\n",
            "Looked at 0 samples\n",
            "\n",
            "Training loss is: 1.9717 | Test loss is: 2.0992 | Test Accuracy is: 13.3333\n",
            "Epoch: 8\n",
            " ____________________\n",
            "Looked at 0 samples\n",
            "\n",
            "Training loss is: 1.9673 | Test loss is: 1.9606 | Test Accuracy is: 33.3333\n",
            "Epoch: 9\n",
            " ____________________\n",
            "Looked at 0 samples\n",
            "\n",
            "Training loss is: 1.9507 | Test loss is: 2.0359 | Test Accuracy is: 13.3333\n",
            "Time on cuda: 3.1521 seconds\n"
          ]
        }
      ]
    },
    {
      "cell_type": "markdown",
      "source": [
        "# 9. Evaluation"
      ],
      "metadata": {
        "id": "rePMMZ8uziSf"
      }
    },
    {
      "cell_type": "markdown",
      "source": [
        "## 9.1. Manual Evaluation"
      ],
      "metadata": {
        "id": "AhGgazwD0s7w"
      }
    },
    {
      "cell_type": "code",
      "source": [
        "# Create some random samples from the test dataset\n",
        "import random\n",
        "# torch.manual_seed(42)\n",
        "test_samples=[]\n",
        "test_labels=[]\n",
        "\n",
        "# Get some random samples\n",
        "for sample, label in random.sample(list(test_data), k=5):\n",
        "  # Adding samples to the list\n",
        "  test_samples.append(sample)\n",
        "   # Adding corresponding labels to another list\n",
        "  test_labels.append(label)"
      ],
      "metadata": {
        "id": "SRcGM6APz6hX"
      },
      "execution_count": 48,
      "outputs": []
    },
    {
      "cell_type": "code",
      "source": [
        "len(test_samples)"
      ],
      "metadata": {
        "id": "_rIuXNZw0bhV",
        "colab": {
          "base_uri": "https://localhost:8080/"
        },
        "outputId": "800aef83-09a6-4098-ff37-1c235d9fbf7a"
      },
      "execution_count": 49,
      "outputs": [
        {
          "output_type": "execute_result",
          "data": {
            "text/plain": [
              "5"
            ]
          },
          "metadata": {},
          "execution_count": 49
        }
      ]
    },
    {
      "cell_type": "code",
      "source": [
        "# Making prediction for those samples\n",
        "pred=[]\n",
        "\n",
        "# Making prediction using loop\n",
        "for i in range(len(test_samples)):\n",
        "  # Getting the logits\n",
        "  with torch.inference_mode():\n",
        "    pred_logits = model(test_samples[i].permute(2,0,1).unsqueeze(dim=0))\n",
        "\n",
        "  # Get the prediction probabilities for our samples\n",
        "    pred_probs = torch.softmax(pred_logits, dim=1).argmax(dim=1)\n",
        "    pred.append(pred_probs)"
      ],
      "metadata": {
        "id": "KloKQs0G1lk0"
      },
      "execution_count": 50,
      "outputs": []
    },
    {
      "cell_type": "code",
      "source": [
        "# Plot those images along with the predictions\n",
        "import matplotlib.pyplot as plt\n",
        "plt.figure(figsize=(16,16))\n",
        "nrows, ncols = 4,4\n",
        "unique_classes = ['angry', 'disgust', 'fear', 'happy', 'neutral', 'sad', 'surprise']\n",
        "for i, sample in enumerate(test_samples):\n",
        "  # Create subplot\n",
        "  plt.subplot(nrows, ncols, i+1)\n",
        "\n",
        "  # Plot the target image\n",
        "  plt.imshow(sample.cpu())\n",
        "\n",
        "  # Find the prediction\n",
        "  pred_label =unique_classes[pred[i]]\n",
        "\n",
        "  # Get the truth label\n",
        "  truth_label = unique_classes[test_labels[i]]\n",
        "\n",
        "  # Change the title for the plot\n",
        "  title_text = f'Pred: {pred_label} | Truth: {truth_label}'\n",
        "\n",
        "  '''Show red text title if the prediction is incorrect\n",
        "    Show green text title of the prediction is correct'''\n",
        "\n",
        "  if pred_label == truth_label:\n",
        "    plt.title(title_text, fontsize=10, c='g')\n",
        "  else:\n",
        "    plt.title(title_text, fontsize=10, c='r')\n",
        "  plt.axis(False)\n",
        "plt.show()"
      ],
      "metadata": {
        "id": "LqFi7aGU_OhO",
        "colab": {
          "base_uri": "https://localhost:8080/",
          "height": 536
        },
        "outputId": "42dd8ab5-1693-4fcb-fc5b-02e215a30164"
      },
      "execution_count": 51,
      "outputs": [
        {
          "output_type": "display_data",
          "data": {
            "text/plain": [
              "<Figure size 1600x1600 with 5 Axes>"
            ],
            "image/png": "[encoded data removed]"
          },
          "metadata": {}
        }
      ]
    },
    {
      "cell_type": "markdown",
      "source": [
        "## 9.2. Evaluation using confusion matrix"
      ],
      "metadata": {
        "id": "RxEgdnFEBgV7"
      }
    },
    {
      "cell_type": "markdown",
      "source": [
        "### 9.2.1. Import necessary libraries"
      ],
      "metadata": {
        "id": "T2oR1XsMBpVg"
      }
    },
    {
      "cell_type": "code",
      "source": [
        "# Installing and importing torchmetrics\n",
        "!pip install torchmetrics\n",
        "from torchmetrics import ConfusionMatrix\n",
        "import mlxtend\n",
        "mlxtend.__version__"
      ],
      "metadata": {
        "colab": {
          "base_uri": "https://localhost:8080/",
          "height": 1000
        },
        "id": "QEITkJCqBwDq",
        "outputId": "80eade26-73ba-405f-b309-902b70fad0b8"
      },
      "execution_count": 52,
      "outputs": [
        {
          "output_type": "stream",
          "name": "stdout",
          "text": [
            "Collecting torchmetrics\n",
            "  Downloading torchmetrics-1.4.1-py3-none-any.whl.metadata (20 kB)\n",
            "Requirement already satisfied: numpy>1.20.0 in /usr/local/lib/python3.10/dist-packages (from torchmetrics) (1.26.4)\n",
            "Requirement already satisfied: packaging>17.1 in /usr/local/lib/python3.10/dist-packages (from torchmetrics) (24.1)\n",
            "Requirement already satisfied: torch>=1.10.0 in /usr/local/lib/python3.10/dist-packages (from torchmetrics) (2.3.1+cu121)\n",
            "Collecting lightning-utilities>=0.8.0 (from torchmetrics)\n",
            "  Downloading lightning_utilities-0.11.6-py3-none-any.whl.metadata (5.2 kB)\n",
            "Requirement already satisfied: setuptools in /usr/local/lib/python3.10/dist-packages (from lightning-utilities>=0.8.0->torchmetrics) (71.0.4)\n",
            "Requirement already satisfied: typing-extensions in /usr/local/lib/python3.10/dist-packages (from lightning-utilities>=0.8.0->torchmetrics) (4.12.2)\n",
            "Requirement already satisfied: filelock in /usr/local/lib/python3.10/dist-packages (from torch>=1.10.0->torchmetrics) (3.15.4)\n",
            "Requirement already satisfied: sympy in /usr/local/lib/python3.10/dist-packages (from torch>=1.10.0->torchmetrics) (1.13.1)\n",
            "Requirement already satisfied: networkx in /usr/local/lib/python3.10/dist-packages (from torch>=1.10.0->torchmetrics) (3.3)\n",
            "Requirement already satisfied: jinja2 in /usr/local/lib/python3.10/dist-packages (from torch>=1.10.0->torchmetrics) (3.1.4)\n",
            "Requirement already satisfied: fsspec in /usr/local/lib/python3.10/dist-packages (from torch>=1.10.0->torchmetrics) (2024.6.1)\n",
            "Collecting nvidia-cuda-nvrtc-cu12==12.1.105 (from torch>=1.10.0->torchmetrics)\n",
            "  Using cached nvidia_cuda_nvrtc_cu12-12.1.105-py3-none-manylinux1_x86_64.whl.metadata (1.5 kB)\n",
            "Collecting nvidia-cuda-runtime-cu12==12.1.105 (from torch>=1.10.0->torchmetrics)\n",
            "  Using cached nvidia_cuda_runtime_cu12-12.1.105-py3-none-manylinux1_x86_64.whl.metadata (1.5 kB)\n",
            "Collecting nvidia-cuda-cupti-cu12==12.1.105 (from torch>=1.10.0->torchmetrics)\n",
            "  Using cached nvidia_cuda_cupti_cu12-12.1.105-py3-none-manylinux1_x86_64.whl.metadata (1.6 kB)\n",
            "Collecting nvidia-cudnn-cu12==8.9.2.26 (from torch>=1.10.0->torchmetrics)\n",
            "  Using cached nvidia_cudnn_cu12-8.9.2.26-py3-none-manylinux1_x86_64.whl.metadata (1.6 kB)\n",
            "Collecting nvidia-cublas-cu12==12.1.3.1 (from torch>=1.10.0->torchmetrics)\n",
            "  Using cached nvidia_cublas_cu12-12.1.3.1-py3-none-manylinux1_x86_64.whl.metadata (1.5 kB)\n",
            "Collecting nvidia-cufft-cu12==11.0.2.54 (from torch>=1.10.0->torchmetrics)\n",
            "  Using cached nvidia_cufft_cu12-11.0.2.54-py3-none-manylinux1_x86_64.whl.metadata (1.5 kB)\n",
            "Collecting nvidia-curand-cu12==10.3.2.106 (from torch>=1.10.0->torchmetrics)\n",
            "  Using cached nvidia_curand_cu12-10.3.2.106-py3-none-manylinux1_x86_64.whl.metadata (1.5 kB)\n",
            "Collecting nvidia-cusolver-cu12==11.4.5.107 (from torch>=1.10.0->torchmetrics)\n",
            "  Using cached nvidia_cusolver_cu12-11.4.5.107-py3-none-manylinux1_x86_64.whl.metadata (1.6 kB)\n",
            "Collecting nvidia-cusparse-cu12==12.1.0.106 (from torch>=1.10.0->torchmetrics)\n",
            "  Using cached nvidia_cusparse_cu12-12.1.0.106-py3-none-manylinux1_x86_64.whl.metadata (1.6 kB)\n",
            "Collecting nvidia-nccl-cu12==2.20.5 (from torch>=1.10.0->torchmetrics)\n",
            "  Using cached nvidia_nccl_cu12-2.20.5-py3-none-manylinux2014_x86_64.whl.metadata (1.8 kB)\n",
            "Collecting nvidia-nvtx-cu12==12.1.105 (from torch>=1.10.0->torchmetrics)\n",
            "  Using cached nvidia_nvtx_cu12-12.1.105-py3-none-manylinux1_x86_64.whl.metadata (1.7 kB)\n",
            "Requirement already satisfied: triton==2.3.1 in /usr/local/lib/python3.10/dist-packages (from torch>=1.10.0->torchmetrics) (2.3.1)\n",
            "Collecting nvidia-nvjitlink-cu12 (from nvidia-cusolver-cu12==11.4.5.107->torch>=1.10.0->torchmetrics)\n",
            "  Using cached nvidia_nvjitlink_cu12-12.6.20-py3-none-manylinux2014_x86_64.whl.metadata (1.5 kB)\n",
            "Requirement already satisfied: MarkupSafe>=2.0 in /usr/local/lib/python3.10/dist-packages (from jinja2->torch>=1.10.0->torchmetrics) (2.1.5)\n",
            "Requirement already satisfied: mpmath<1.4,>=1.1.0 in /usr/local/lib/python3.10/dist-packages (from sympy->torch>=1.10.0->torchmetrics) (1.3.0)\n",
            "Downloading torchmetrics-1.4.1-py3-none-any.whl (866 kB)\n",
            "\u001b[2K   \u001b[90m━━━━━━━━━━━━━━━━━━━━━━━━━━━━━━━━━━━━━━━━\u001b[0m \u001b[32m866.2/866.2 kB\u001b[0m \u001b[31m33.1 MB/s\u001b[0m eta \u001b[36m0:00:00\u001b[0m\n",
            "\u001b[?25hDownloading lightning_utilities-0.11.6-py3-none-any.whl (26 kB)\n",
            "Using cached nvidia_cublas_cu12-12.1.3.1-py3-none-manylinux1_x86_64.whl (410.6 MB)\n",
            "Using cached nvidia_cuda_cupti_cu12-12.1.105-py3-none-manylinux1_x86_64.whl (14.1 MB)\n",
            "Using cached nvidia_cuda_nvrtc_cu12-12.1.105-py3-none-manylinux1_x86_64.whl (23.7 MB)\n",
            "Using cached nvidia_cuda_runtime_cu12-12.1.105-py3-none-manylinux1_x86_64.whl (823 kB)\n",
            "Using cached nvidia_cudnn_cu12-8.9.2.26-py3-none-manylinux1_x86_64.whl (731.7 MB)\n",
            "Using cached nvidia_cufft_cu12-11.0.2.54-py3-none-manylinux1_x86_64.whl (121.6 MB)\n",
            "Using cached nvidia_curand_cu12-10.3.2.106-py3-none-manylinux1_x86_64.whl (56.5 MB)\n",
            "Using cached nvidia_cusolver_cu12-11.4.5.107-py3-none-manylinux1_x86_64.whl (124.2 MB)\n",
            "Using cached nvidia_cusparse_cu12-12.1.0.106-py3-none-manylinux1_x86_64.whl (196.0 MB)\n",
            "Using cached nvidia_nccl_cu12-2.20.5-py3-none-manylinux2014_x86_64.whl (176.2 MB)\n",
            "Using cached nvidia_nvtx_cu12-12.1.105-py3-none-manylinux1_x86_64.whl (99 kB)\n",
            "Using cached nvidia_nvjitlink_cu12-12.6.20-py3-none-manylinux2014_x86_64.whl (19.7 MB)\n",
            "Installing collected packages: nvidia-nvtx-cu12, nvidia-nvjitlink-cu12, nvidia-nccl-cu12, nvidia-curand-cu12, nvidia-cufft-cu12, nvidia-cuda-runtime-cu12, nvidia-cuda-nvrtc-cu12, nvidia-cuda-cupti-cu12, nvidia-cublas-cu12, lightning-utilities, nvidia-cusparse-cu12, nvidia-cudnn-cu12, nvidia-cusolver-cu12, torchmetrics\n",
            "Successfully installed lightning-utilities-0.11.6 nvidia-cublas-cu12-12.1.3.1 nvidia-cuda-cupti-cu12-12.1.105 nvidia-cuda-nvrtc-cu12-12.1.105 nvidia-cuda-runtime-cu12-12.1.105 nvidia-cudnn-cu12-8.9.2.26 nvidia-cufft-cu12-11.0.2.54 nvidia-curand-cu12-10.3.2.106 nvidia-cusolver-cu12-11.4.5.107 nvidia-cusparse-cu12-12.1.0.106 nvidia-nccl-cu12-2.20.5 nvidia-nvjitlink-cu12-12.6.20 nvidia-nvtx-cu12-12.1.105 torchmetrics-1.4.1\n"
          ]
        },
        {
          "output_type": "execute_result",
          "data": {
            "text/plain": [
              "'0.23.1'"
            ],
            "application/vnd.google.colaboratory.intrinsic+json": {
              "type": "string"
            }
          },
          "metadata": {},
          "execution_count": 52
        }
      ]
    },
    {
      "cell_type": "markdown",
      "source": [
        "## 9.2.2. Plot Confusion Matrix"
      ],
      "metadata": {
        "id": "h-_aWm_OB0OF"
      }
    },
    {
      "cell_type": "code",
      "source": [
        "y_preds = []\n",
        "model.eval()\n",
        "with torch.inference_mode():\n",
        "  for X in tqdm(X_test):\n",
        "    X = X.to(device)\n",
        "    # Forward pass\n",
        "    y_logit = model((X.permute(2,0,1)).unsqueeze(0))\n",
        "    # Turn prediction from logits and logits to prediction labels\n",
        "    y_pred = torch.softmax(y_logit, dim=1).argmax(dim=1)\n",
        "\n",
        "    # put predictions on cpu for plotting\n",
        "    y_preds.append(y_pred.cpu())\n",
        "y_pred_tensor = torch.cat(y_preds)"
      ],
      "metadata": {
        "colab": {
          "base_uri": "https://localhost:8080/",
          "height": 49,
          "referenced_widgets": [
            "67613c6425a74eef829061a34e6b1bda",
            "3635bb52bbe34895894a8501ec602edf",
            "23b191e922474f65a840bde94e8e0ee0",
            "fd3d8bb560df420497902e1cb3bdbaee",
            "1b6e8e52541e409ab88f08cbf5882b0d",
            "1924a8a051084ad7ac145d6a53d33b5e",
            "2cd5c1d9132a4808969bf44a9d3c72ac",
            "1dcf4fa4bf554c12b7d26c51e5cfcbca",
            "5e8d6cb409ee4e4f978c2c9537d14a54",
            "9fb91bb0809a424a9d01b0b9b803ae35",
            "782c205bf3d544d3bcfbbf1633d5630d"
          ]
        },
        "id": "750YMRZ5B4Dl",
        "outputId": "11feeace-0d83-44d9-f264-c868ef553f36"
      },
      "execution_count": 65,
      "outputs": [
        {
          "output_type": "display_data",
          "data": {
            "text/plain": [
              "  0%|          | 0/13 [00:00<?, ?it/s]"
            ],
            "application/vnd.jupyter.widget-view+json": {
              "version_major": 2,
              "version_minor": 0,
              "model_id": "67613c6425a74eef829061a34e6b1bda"
            }
          },
          "metadata": {}
        }
      ]
    },
    {
      "cell_type": "code",
      "source": [
        "y_pred_tensor"
      ],
      "metadata": {
        "colab": {
          "base_uri": "https://localhost:8080/"
        },
        "id": "YdDXwHeJbwFt",
        "outputId": "32c3b8cf-4da5-4d87-ad67-18c54b2208c7"
      },
      "execution_count": 72,
      "outputs": [
        {
          "output_type": "execute_result",
          "data": {
            "text/plain": [
              "tensor([5, 5, 5, 5, 5, 5, 5, 5, 5, 5, 5, 5, 5])"
            ]
          },
          "metadata": {},
          "execution_count": 72
        }
      ]
    },
    {
      "cell_type": "code",
      "source": [
        "from mlxtend.plotting import plot_confusion_matrix\n",
        "\n",
        "# Setup confusion instance and compare pardictions to targets\n",
        "confmat = ConfusionMatrix(task = 'multiclass',num_classes=len(set(valid_labels)))\n",
        "confmat_tesnor=confmat(preds=y_pred_tensor,\n",
        "                       target=torch.tensor(y_test))\n",
        "\n",
        "# Plot our confusion matrix\n",
        "fig, ax = plot_confusion_matrix(\n",
        "\n",
        "    # matplotlib only works with numpy arrays and cnnot work with tensors\n",
        "    conf_mat=confmat_tesnor.numpy(),\n",
        "    class_names=list(set(valid_labels)),\n",
        "    figsize=(10,7)\n",
        "      )"
      ],
      "metadata": {
        "colab": {
          "base_uri": "https://localhost:8080/",
          "height": 710
        },
        "id": "_BXK_E4IB53p",
        "outputId": "b665c6af-0156-4f08-d50f-56732d2bb273"
      },
      "execution_count": 83,
      "outputs": [
        {
          "output_type": "stream",
          "name": "stderr",
          "text": [
            "/usr/local/lib/python3.10/dist-packages/mlxtend/plotting/plot_confusion_matrix.py:102: RuntimeWarning: invalid value encountered in divide\n",
            "  normed_conf_mat = conf_mat.astype(\"float\") / total_samples\n"
          ]
        },
        {
          "output_type": "display_data",
          "data": {
            "text/plain": [
              "<Figure size 1000x700 with 1 Axes>"
            ],
            "image/png": "[encoded data removed]"
          },
          "metadata": {}
        }
      ]
    }
  ]
}