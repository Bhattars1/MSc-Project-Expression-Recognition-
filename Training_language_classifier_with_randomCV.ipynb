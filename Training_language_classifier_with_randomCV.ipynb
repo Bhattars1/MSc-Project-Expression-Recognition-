{
  "nbformat": 4,
  "nbformat_minor": 0,
  "metadata": {
    "colab": {
      "provenance": []
    },
    "kernelspec": {
      "name": "python3",
      "display_name": "Python 3"
    },
    "language_info": {
      "name": "python"
    },
    "widgets": {
      "application/vnd.jupyter.widget-state+json": {
        "8f5250380705444495ff145d82c45fc4": {
          "model_module": "@jupyter-widgets/controls",
          "model_name": "HBoxModel",
          "model_module_version": "1.5.0",
          "state": {
            "_dom_classes": [],
            "_model_module": "@jupyter-widgets/controls",
            "_model_module_version": "1.5.0",
            "_model_name": "HBoxModel",
            "_view_count": null,
            "_view_module": "@jupyter-widgets/controls",
            "_view_module_version": "1.5.0",
            "_view_name": "HBoxView",
            "box_style": "",
            "children": [
              "IPY_MODEL_c18ceeff466f46a0b6c73ca23cd654b6",
              "IPY_MODEL_55ca1cce4ba044308fec000bdaa8c3fa",
              "IPY_MODEL_3a32c622bebf42528e80b5297cae145d"
            ],
            "layout": "IPY_MODEL_56c7c8c8f0334b818738cb7aa067ff63"
          }
        },
        "c18ceeff466f46a0b6c73ca23cd654b6": {
          "model_module": "@jupyter-widgets/controls",
          "model_name": "HTMLModel",
          "model_module_version": "1.5.0",
          "state": {
            "_dom_classes": [],
            "_model_module": "@jupyter-widgets/controls",
            "_model_module_version": "1.5.0",
            "_model_name": "HTMLModel",
            "_view_count": null,
            "_view_module": "@jupyter-widgets/controls",
            "_view_module_version": "1.5.0",
            "_view_name": "HTMLView",
            "description": "",
            "description_tooltip": null,
            "layout": "IPY_MODEL_9d6eaab13eab4cda80edcef6710f7699",
            "placeholder": "​",
            "style": "IPY_MODEL_d0f857d05a2543e59dd889340652c4f1",
            "value": "tokenizer_config.json: 100%"
          }
        },
        "55ca1cce4ba044308fec000bdaa8c3fa": {
          "model_module": "@jupyter-widgets/controls",
          "model_name": "FloatProgressModel",
          "model_module_version": "1.5.0",
          "state": {
            "_dom_classes": [],
            "_model_module": "@jupyter-widgets/controls",
            "_model_module_version": "1.5.0",
            "_model_name": "FloatProgressModel",
            "_view_count": null,
            "_view_module": "@jupyter-widgets/controls",
            "_view_module_version": "1.5.0",
            "_view_name": "ProgressView",
            "bar_style": "success",
            "description": "",
            "description_tooltip": null,
            "layout": "IPY_MODEL_c7ad8b03755548a482ceaad9e91c4884",
            "max": 48,
            "min": 0,
            "orientation": "horizontal",
            "style": "IPY_MODEL_5ccb9055cc24455caaeaeacf9a9f746d",
            "value": 48
          }
        },
        "3a32c622bebf42528e80b5297cae145d": {
          "model_module": "@jupyter-widgets/controls",
          "model_name": "HTMLModel",
          "model_module_version": "1.5.0",
          "state": {
            "_dom_classes": [],
            "_model_module": "@jupyter-widgets/controls",
            "_model_module_version": "1.5.0",
            "_model_name": "HTMLModel",
            "_view_count": null,
            "_view_module": "@jupyter-widgets/controls",
            "_view_module_version": "1.5.0",
            "_view_name": "HTMLView",
            "description": "",
            "description_tooltip": null,
            "layout": "IPY_MODEL_6d2550c6a4af4192a22e7b537facf6f5",
            "placeholder": "​",
            "style": "IPY_MODEL_95a18d4b4e544abba653be83919fae38",
            "value": " 48.0/48.0 [00:00&lt;00:00, 2.67kB/s]"
          }
        },
        "56c7c8c8f0334b818738cb7aa067ff63": {
          "model_module": "@jupyter-widgets/base",
          "model_name": "LayoutModel",
          "model_module_version": "1.2.0",
          "state": {
            "_model_module": "@jupyter-widgets/base",
            "_model_module_version": "1.2.0",
            "_model_name": "LayoutModel",
            "_view_count": null,
            "_view_module": "@jupyter-widgets/base",
            "_view_module_version": "1.2.0",
            "_view_name": "LayoutView",
            "align_content": null,
            "align_items": null,
            "align_self": null,
            "border": null,
            "bottom": null,
            "display": null,
            "flex": null,
            "flex_flow": null,
            "grid_area": null,
            "grid_auto_columns": null,
            "grid_auto_flow": null,
            "grid_auto_rows": null,
            "grid_column": null,
            "grid_gap": null,
            "grid_row": null,
            "grid_template_areas": null,
            "grid_template_columns": null,
            "grid_template_rows": null,
            "height": null,
            "justify_content": null,
            "justify_items": null,
            "left": null,
            "margin": null,
            "max_height": null,
            "max_width": null,
            "min_height": null,
            "min_width": null,
            "object_fit": null,
            "object_position": null,
            "order": null,
            "overflow": null,
            "overflow_x": null,
            "overflow_y": null,
            "padding": null,
            "right": null,
            "top": null,
            "visibility": null,
            "width": null
          }
        },
        "9d6eaab13eab4cda80edcef6710f7699": {
          "model_module": "@jupyter-widgets/base",
          "model_name": "LayoutModel",
          "model_module_version": "1.2.0",
          "state": {
            "_model_module": "@jupyter-widgets/base",
            "_model_module_version": "1.2.0",
            "_model_name": "LayoutModel",
            "_view_count": null,
            "_view_module": "@jupyter-widgets/base",
            "_view_module_version": "1.2.0",
            "_view_name": "LayoutView",
            "align_content": null,
            "align_items": null,
            "align_self": null,
            "border": null,
            "bottom": null,
            "display": null,
            "flex": null,
            "flex_flow": null,
            "grid_area": null,
            "grid_auto_columns": null,
            "grid_auto_flow": null,
            "grid_auto_rows": null,
            "grid_column": null,
            "grid_gap": null,
            "grid_row": null,
            "grid_template_areas": null,
            "grid_template_columns": null,
            "grid_template_rows": null,
            "height": null,
            "justify_content": null,
            "justify_items": null,
            "left": null,
            "margin": null,
            "max_height": null,
            "max_width": null,
            "min_height": null,
            "min_width": null,
            "object_fit": null,
            "object_position": null,
            "order": null,
            "overflow": null,
            "overflow_x": null,
            "overflow_y": null,
            "padding": null,
            "right": null,
            "top": null,
            "visibility": null,
            "width": null
          }
        },
        "d0f857d05a2543e59dd889340652c4f1": {
          "model_module": "@jupyter-widgets/controls",
          "model_name": "DescriptionStyleModel",
          "model_module_version": "1.5.0",
          "state": {
            "_model_module": "@jupyter-widgets/controls",
            "_model_module_version": "1.5.0",
            "_model_name": "DescriptionStyleModel",
            "_view_count": null,
            "_view_module": "@jupyter-widgets/base",
            "_view_module_version": "1.2.0",
            "_view_name": "StyleView",
            "description_width": ""
          }
        },
        "c7ad8b03755548a482ceaad9e91c4884": {
          "model_module": "@jupyter-widgets/base",
          "model_name": "LayoutModel",
          "model_module_version": "1.2.0",
          "state": {
            "_model_module": "@jupyter-widgets/base",
            "_model_module_version": "1.2.0",
            "_model_name": "LayoutModel",
            "_view_count": null,
            "_view_module": "@jupyter-widgets/base",
            "_view_module_version": "1.2.0",
            "_view_name": "LayoutView",
            "align_content": null,
            "align_items": null,
            "align_self": null,
            "border": null,
            "bottom": null,
            "display": null,
            "flex": null,
            "flex_flow": null,
            "grid_area": null,
            "grid_auto_columns": null,
            "grid_auto_flow": null,
            "grid_auto_rows": null,
            "grid_column": null,
            "grid_gap": null,
            "grid_row": null,
            "grid_template_areas": null,
            "grid_template_columns": null,
            "grid_template_rows": null,
            "height": null,
            "justify_content": null,
            "justify_items": null,
            "left": null,
            "margin": null,
            "max_height": null,
            "max_width": null,
            "min_height": null,
            "min_width": null,
            "object_fit": null,
            "object_position": null,
            "order": null,
            "overflow": null,
            "overflow_x": null,
            "overflow_y": null,
            "padding": null,
            "right": null,
            "top": null,
            "visibility": null,
            "width": null
          }
        },
        "5ccb9055cc24455caaeaeacf9a9f746d": {
          "model_module": "@jupyter-widgets/controls",
          "model_name": "ProgressStyleModel",
          "model_module_version": "1.5.0",
          "state": {
            "_model_module": "@jupyter-widgets/controls",
            "_model_module_version": "1.5.0",
            "_model_name": "ProgressStyleModel",
            "_view_count": null,
            "_view_module": "@jupyter-widgets/base",
            "_view_module_version": "1.2.0",
            "_view_name": "StyleView",
            "bar_color": null,
            "description_width": ""
          }
        },
        "6d2550c6a4af4192a22e7b537facf6f5": {
          "model_module": "@jupyter-widgets/base",
          "model_name": "LayoutModel",
          "model_module_version": "1.2.0",
          "state": {
            "_model_module": "@jupyter-widgets/base",
            "_model_module_version": "1.2.0",
            "_model_name": "LayoutModel",
            "_view_count": null,
            "_view_module": "@jupyter-widgets/base",
            "_view_module_version": "1.2.0",
            "_view_name": "LayoutView",
            "align_content": null,
            "align_items": null,
            "align_self": null,
            "border": null,
            "bottom": null,
            "display": null,
            "flex": null,
            "flex_flow": null,
            "grid_area": null,
            "grid_auto_columns": null,
            "grid_auto_flow": null,
            "grid_auto_rows": null,
            "grid_column": null,
            "grid_gap": null,
            "grid_row": null,
            "grid_template_areas": null,
            "grid_template_columns": null,
            "grid_template_rows": null,
            "height": null,
            "justify_content": null,
            "justify_items": null,
            "left": null,
            "margin": null,
            "max_height": null,
            "max_width": null,
            "min_height": null,
            "min_width": null,
            "object_fit": null,
            "object_position": null,
            "order": null,
            "overflow": null,
            "overflow_x": null,
            "overflow_y": null,
            "padding": null,
            "right": null,
            "top": null,
            "visibility": null,
            "width": null
          }
        },
        "95a18d4b4e544abba653be83919fae38": {
          "model_module": "@jupyter-widgets/controls",
          "model_name": "DescriptionStyleModel",
          "model_module_version": "1.5.0",
          "state": {
            "_model_module": "@jupyter-widgets/controls",
            "_model_module_version": "1.5.0",
            "_model_name": "DescriptionStyleModel",
            "_view_count": null,
            "_view_module": "@jupyter-widgets/base",
            "_view_module_version": "1.2.0",
            "_view_name": "StyleView",
            "description_width": ""
          }
        },
        "d47afa3ad35f435a8eb72b1f9ea207fa": {
          "model_module": "@jupyter-widgets/controls",
          "model_name": "HBoxModel",
          "model_module_version": "1.5.0",
          "state": {
            "_dom_classes": [],
            "_model_module": "@jupyter-widgets/controls",
            "_model_module_version": "1.5.0",
            "_model_name": "HBoxModel",
            "_view_count": null,
            "_view_module": "@jupyter-widgets/controls",
            "_view_module_version": "1.5.0",
            "_view_name": "HBoxView",
            "box_style": "",
            "children": [
              "IPY_MODEL_a8066e2e3e374f30b497bffc557306d8",
              "IPY_MODEL_93ac0ecbb4e9442f82b38d2fdeceffa9",
              "IPY_MODEL_f60a5b1ab3854cdb97b498fed35a1079"
            ],
            "layout": "IPY_MODEL_d2222479c56e47aca1b70b735744fb1b"
          }
        },
        "a8066e2e3e374f30b497bffc557306d8": {
          "model_module": "@jupyter-widgets/controls",
          "model_name": "HTMLModel",
          "model_module_version": "1.5.0",
          "state": {
            "_dom_classes": [],
            "_model_module": "@jupyter-widgets/controls",
            "_model_module_version": "1.5.0",
            "_model_name": "HTMLModel",
            "_view_count": null,
            "_view_module": "@jupyter-widgets/controls",
            "_view_module_version": "1.5.0",
            "_view_name": "HTMLView",
            "description": "",
            "description_tooltip": null,
            "layout": "IPY_MODEL_32c00f2d5c1f4c44bd1b510c19d3c410",
            "placeholder": "​",
            "style": "IPY_MODEL_e4195d0301594181b6bbc14233707f94",
            "value": "vocab.txt: 100%"
          }
        },
        "93ac0ecbb4e9442f82b38d2fdeceffa9": {
          "model_module": "@jupyter-widgets/controls",
          "model_name": "FloatProgressModel",
          "model_module_version": "1.5.0",
          "state": {
            "_dom_classes": [],
            "_model_module": "@jupyter-widgets/controls",
            "_model_module_version": "1.5.0",
            "_model_name": "FloatProgressModel",
            "_view_count": null,
            "_view_module": "@jupyter-widgets/controls",
            "_view_module_version": "1.5.0",
            "_view_name": "ProgressView",
            "bar_style": "success",
            "description": "",
            "description_tooltip": null,
            "layout": "IPY_MODEL_44394394cc3d4e91b7d8fc3084f455b7",
            "max": 231508,
            "min": 0,
            "orientation": "horizontal",
            "style": "IPY_MODEL_7f4091a877a643cabb534c8f7df68717",
            "value": 231508
          }
        },
        "f60a5b1ab3854cdb97b498fed35a1079": {
          "model_module": "@jupyter-widgets/controls",
          "model_name": "HTMLModel",
          "model_module_version": "1.5.0",
          "state": {
            "_dom_classes": [],
            "_model_module": "@jupyter-widgets/controls",
            "_model_module_version": "1.5.0",
            "_model_name": "HTMLModel",
            "_view_count": null,
            "_view_module": "@jupyter-widgets/controls",
            "_view_module_version": "1.5.0",
            "_view_name": "HTMLView",
            "description": "",
            "description_tooltip": null,
            "layout": "IPY_MODEL_34cac2244f8d4919a66035b6f5e551ad",
            "placeholder": "​",
            "style": "IPY_MODEL_f4cc272f47bf47b7b50817b422827d48",
            "value": " 232k/232k [00:00&lt;00:00, 5.10MB/s]"
          }
        },
        "d2222479c56e47aca1b70b735744fb1b": {
          "model_module": "@jupyter-widgets/base",
          "model_name": "LayoutModel",
          "model_module_version": "1.2.0",
          "state": {
            "_model_module": "@jupyter-widgets/base",
            "_model_module_version": "1.2.0",
            "_model_name": "LayoutModel",
            "_view_count": null,
            "_view_module": "@jupyter-widgets/base",
            "_view_module_version": "1.2.0",
            "_view_name": "LayoutView",
            "align_content": null,
            "align_items": null,
            "align_self": null,
            "border": null,
            "bottom": null,
            "display": null,
            "flex": null,
            "flex_flow": null,
            "grid_area": null,
            "grid_auto_columns": null,
            "grid_auto_flow": null,
            "grid_auto_rows": null,
            "grid_column": null,
            "grid_gap": null,
            "grid_row": null,
            "grid_template_areas": null,
            "grid_template_columns": null,
            "grid_template_rows": null,
            "height": null,
            "justify_content": null,
            "justify_items": null,
            "left": null,
            "margin": null,
            "max_height": null,
            "max_width": null,
            "min_height": null,
            "min_width": null,
            "object_fit": null,
            "object_position": null,
            "order": null,
            "overflow": null,
            "overflow_x": null,
            "overflow_y": null,
            "padding": null,
            "right": null,
            "top": null,
            "visibility": null,
            "width": null
          }
        },
        "32c00f2d5c1f4c44bd1b510c19d3c410": {
          "model_module": "@jupyter-widgets/base",
          "model_name": "LayoutModel",
          "model_module_version": "1.2.0",
          "state": {
            "_model_module": "@jupyter-widgets/base",
            "_model_module_version": "1.2.0",
            "_model_name": "LayoutModel",
            "_view_count": null,
            "_view_module": "@jupyter-widgets/base",
            "_view_module_version": "1.2.0",
            "_view_name": "LayoutView",
            "align_content": null,
            "align_items": null,
            "align_self": null,
            "border": null,
            "bottom": null,
            "display": null,
            "flex": null,
            "flex_flow": null,
            "grid_area": null,
            "grid_auto_columns": null,
            "grid_auto_flow": null,
            "grid_auto_rows": null,
            "grid_column": null,
            "grid_gap": null,
            "grid_row": null,
            "grid_template_areas": null,
            "grid_template_columns": null,
            "grid_template_rows": null,
            "height": null,
            "justify_content": null,
            "justify_items": null,
            "left": null,
            "margin": null,
            "max_height": null,
            "max_width": null,
            "min_height": null,
            "min_width": null,
            "object_fit": null,
            "object_position": null,
            "order": null,
            "overflow": null,
            "overflow_x": null,
            "overflow_y": null,
            "padding": null,
            "right": null,
            "top": null,
            "visibility": null,
            "width": null
          }
        },
        "e4195d0301594181b6bbc14233707f94": {
          "model_module": "@jupyter-widgets/controls",
          "model_name": "DescriptionStyleModel",
          "model_module_version": "1.5.0",
          "state": {
            "_model_module": "@jupyter-widgets/controls",
            "_model_module_version": "1.5.0",
            "_model_name": "DescriptionStyleModel",
            "_view_count": null,
            "_view_module": "@jupyter-widgets/base",
            "_view_module_version": "1.2.0",
            "_view_name": "StyleView",
            "description_width": ""
          }
        },
        "44394394cc3d4e91b7d8fc3084f455b7": {
          "model_module": "@jupyter-widgets/base",
          "model_name": "LayoutModel",
          "model_module_version": "1.2.0",
          "state": {
            "_model_module": "@jupyter-widgets/base",
            "_model_module_version": "1.2.0",
            "_model_name": "LayoutModel",
            "_view_count": null,
            "_view_module": "@jupyter-widgets/base",
            "_view_module_version": "1.2.0",
            "_view_name": "LayoutView",
            "align_content": null,
            "align_items": null,
            "align_self": null,
            "border": null,
            "bottom": null,
            "display": null,
            "flex": null,
            "flex_flow": null,
            "grid_area": null,
            "grid_auto_columns": null,
            "grid_auto_flow": null,
            "grid_auto_rows": null,
            "grid_column": null,
            "grid_gap": null,
            "grid_row": null,
            "grid_template_areas": null,
            "grid_template_columns": null,
            "grid_template_rows": null,
            "height": null,
            "justify_content": null,
            "justify_items": null,
            "left": null,
            "margin": null,
            "max_height": null,
            "max_width": null,
            "min_height": null,
            "min_width": null,
            "object_fit": null,
            "object_position": null,
            "order": null,
            "overflow": null,
            "overflow_x": null,
            "overflow_y": null,
            "padding": null,
            "right": null,
            "top": null,
            "visibility": null,
            "width": null
          }
        },
        "7f4091a877a643cabb534c8f7df68717": {
          "model_module": "@jupyter-widgets/controls",
          "model_name": "ProgressStyleModel",
          "model_module_version": "1.5.0",
          "state": {
            "_model_module": "@jupyter-widgets/controls",
            "_model_module_version": "1.5.0",
            "_model_name": "ProgressStyleModel",
            "_view_count": null,
            "_view_module": "@jupyter-widgets/base",
            "_view_module_version": "1.2.0",
            "_view_name": "StyleView",
            "bar_color": null,
            "description_width": ""
          }
        },
        "34cac2244f8d4919a66035b6f5e551ad": {
          "model_module": "@jupyter-widgets/base",
          "model_name": "LayoutModel",
          "model_module_version": "1.2.0",
          "state": {
            "_model_module": "@jupyter-widgets/base",
            "_model_module_version": "1.2.0",
            "_model_name": "LayoutModel",
            "_view_count": null,
            "_view_module": "@jupyter-widgets/base",
            "_view_module_version": "1.2.0",
            "_view_name": "LayoutView",
            "align_content": null,
            "align_items": null,
            "align_self": null,
            "border": null,
            "bottom": null,
            "display": null,
            "flex": null,
            "flex_flow": null,
            "grid_area": null,
            "grid_auto_columns": null,
            "grid_auto_flow": null,
            "grid_auto_rows": null,
            "grid_column": null,
            "grid_gap": null,
            "grid_row": null,
            "grid_template_areas": null,
            "grid_template_columns": null,
            "grid_template_rows": null,
            "height": null,
            "justify_content": null,
            "justify_items": null,
            "left": null,
            "margin": null,
            "max_height": null,
            "max_width": null,
            "min_height": null,
            "min_width": null,
            "object_fit": null,
            "object_position": null,
            "order": null,
            "overflow": null,
            "overflow_x": null,
            "overflow_y": null,
            "padding": null,
            "right": null,
            "top": null,
            "visibility": null,
            "width": null
          }
        },
        "f4cc272f47bf47b7b50817b422827d48": {
          "model_module": "@jupyter-widgets/controls",
          "model_name": "DescriptionStyleModel",
          "model_module_version": "1.5.0",
          "state": {
            "_model_module": "@jupyter-widgets/controls",
            "_model_module_version": "1.5.0",
            "_model_name": "DescriptionStyleModel",
            "_view_count": null,
            "_view_module": "@jupyter-widgets/base",
            "_view_module_version": "1.2.0",
            "_view_name": "StyleView",
            "description_width": ""
          }
        },
        "57d593d75d1647078bd67598052b3a55": {
          "model_module": "@jupyter-widgets/controls",
          "model_name": "HBoxModel",
          "model_module_version": "1.5.0",
          "state": {
            "_dom_classes": [],
            "_model_module": "@jupyter-widgets/controls",
            "_model_module_version": "1.5.0",
            "_model_name": "HBoxModel",
            "_view_count": null,
            "_view_module": "@jupyter-widgets/controls",
            "_view_module_version": "1.5.0",
            "_view_name": "HBoxView",
            "box_style": "",
            "children": [
              "IPY_MODEL_aaf7be4df6094df297581498bd0a1a74",
              "IPY_MODEL_49d25a7607694c18914e921108e48203",
              "IPY_MODEL_ca24075a9a8747e68b40f385c5e5225c"
            ],
            "layout": "IPY_MODEL_1b3add26edd34f7d818160a32298b996"
          }
        },
        "aaf7be4df6094df297581498bd0a1a74": {
          "model_module": "@jupyter-widgets/controls",
          "model_name": "HTMLModel",
          "model_module_version": "1.5.0",
          "state": {
            "_dom_classes": [],
            "_model_module": "@jupyter-widgets/controls",
            "_model_module_version": "1.5.0",
            "_model_name": "HTMLModel",
            "_view_count": null,
            "_view_module": "@jupyter-widgets/controls",
            "_view_module_version": "1.5.0",
            "_view_name": "HTMLView",
            "description": "",
            "description_tooltip": null,
            "layout": "IPY_MODEL_74680cc0188645a1813d5b129c90873f",
            "placeholder": "​",
            "style": "IPY_MODEL_9b244d1ff0e74138a841402c43f2ca74",
            "value": "tokenizer.json: 100%"
          }
        },
        "49d25a7607694c18914e921108e48203": {
          "model_module": "@jupyter-widgets/controls",
          "model_name": "FloatProgressModel",
          "model_module_version": "1.5.0",
          "state": {
            "_dom_classes": [],
            "_model_module": "@jupyter-widgets/controls",
            "_model_module_version": "1.5.0",
            "_model_name": "FloatProgressModel",
            "_view_count": null,
            "_view_module": "@jupyter-widgets/controls",
            "_view_module_version": "1.5.0",
            "_view_name": "ProgressView",
            "bar_style": "success",
            "description": "",
            "description_tooltip": null,
            "layout": "IPY_MODEL_537a81caace14ecc9095c4786a21ce10",
            "max": 466062,
            "min": 0,
            "orientation": "horizontal",
            "style": "IPY_MODEL_de1b4f9be2894065b5a58931c509deb8",
            "value": 466062
          }
        },
        "ca24075a9a8747e68b40f385c5e5225c": {
          "model_module": "@jupyter-widgets/controls",
          "model_name": "HTMLModel",
          "model_module_version": "1.5.0",
          "state": {
            "_dom_classes": [],
            "_model_module": "@jupyter-widgets/controls",
            "_model_module_version": "1.5.0",
            "_model_name": "HTMLModel",
            "_view_count": null,
            "_view_module": "@jupyter-widgets/controls",
            "_view_module_version": "1.5.0",
            "_view_name": "HTMLView",
            "description": "",
            "description_tooltip": null,
            "layout": "IPY_MODEL_92f33dd80cfe4d42afbb428a5c6d3437",
            "placeholder": "​",
            "style": "IPY_MODEL_f9e3850f61d74ce98f3714211e4e2802",
            "value": " 466k/466k [00:00&lt;00:00, 9.24MB/s]"
          }
        },
        "1b3add26edd34f7d818160a32298b996": {
          "model_module": "@jupyter-widgets/base",
          "model_name": "LayoutModel",
          "model_module_version": "1.2.0",
          "state": {
            "_model_module": "@jupyter-widgets/base",
            "_model_module_version": "1.2.0",
            "_model_name": "LayoutModel",
            "_view_count": null,
            "_view_module": "@jupyter-widgets/base",
            "_view_module_version": "1.2.0",
            "_view_name": "LayoutView",
            "align_content": null,
            "align_items": null,
            "align_self": null,
            "border": null,
            "bottom": null,
            "display": null,
            "flex": null,
            "flex_flow": null,
            "grid_area": null,
            "grid_auto_columns": null,
            "grid_auto_flow": null,
            "grid_auto_rows": null,
            "grid_column": null,
            "grid_gap": null,
            "grid_row": null,
            "grid_template_areas": null,
            "grid_template_columns": null,
            "grid_template_rows": null,
            "height": null,
            "justify_content": null,
            "justify_items": null,
            "left": null,
            "margin": null,
            "max_height": null,
            "max_width": null,
            "min_height": null,
            "min_width": null,
            "object_fit": null,
            "object_position": null,
            "order": null,
            "overflow": null,
            "overflow_x": null,
            "overflow_y": null,
            "padding": null,
            "right": null,
            "top": null,
            "visibility": null,
            "width": null
          }
        },
        "74680cc0188645a1813d5b129c90873f": {
          "model_module": "@jupyter-widgets/base",
          "model_name": "LayoutModel",
          "model_module_version": "1.2.0",
          "state": {
            "_model_module": "@jupyter-widgets/base",
            "_model_module_version": "1.2.0",
            "_model_name": "LayoutModel",
            "_view_count": null,
            "_view_module": "@jupyter-widgets/base",
            "_view_module_version": "1.2.0",
            "_view_name": "LayoutView",
            "align_content": null,
            "align_items": null,
            "align_self": null,
            "border": null,
            "bottom": null,
            "display": null,
            "flex": null,
            "flex_flow": null,
            "grid_area": null,
            "grid_auto_columns": null,
            "grid_auto_flow": null,
            "grid_auto_rows": null,
            "grid_column": null,
            "grid_gap": null,
            "grid_row": null,
            "grid_template_areas": null,
            "grid_template_columns": null,
            "grid_template_rows": null,
            "height": null,
            "justify_content": null,
            "justify_items": null,
            "left": null,
            "margin": null,
            "max_height": null,
            "max_width": null,
            "min_height": null,
            "min_width": null,
            "object_fit": null,
            "object_position": null,
            "order": null,
            "overflow": null,
            "overflow_x": null,
            "overflow_y": null,
            "padding": null,
            "right": null,
            "top": null,
            "visibility": null,
            "width": null
          }
        },
        "9b244d1ff0e74138a841402c43f2ca74": {
          "model_module": "@jupyter-widgets/controls",
          "model_name": "DescriptionStyleModel",
          "model_module_version": "1.5.0",
          "state": {
            "_model_module": "@jupyter-widgets/controls",
            "_model_module_version": "1.5.0",
            "_model_name": "DescriptionStyleModel",
            "_view_count": null,
            "_view_module": "@jupyter-widgets/base",
            "_view_module_version": "1.2.0",
            "_view_name": "StyleView",
            "description_width": ""
          }
        },
        "537a81caace14ecc9095c4786a21ce10": {
          "model_module": "@jupyter-widgets/base",
          "model_name": "LayoutModel",
          "model_module_version": "1.2.0",
          "state": {
            "_model_module": "@jupyter-widgets/base",
            "_model_module_version": "1.2.0",
            "_model_name": "LayoutModel",
            "_view_count": null,
            "_view_module": "@jupyter-widgets/base",
            "_view_module_version": "1.2.0",
            "_view_name": "LayoutView",
            "align_content": null,
            "align_items": null,
            "align_self": null,
            "border": null,
            "bottom": null,
            "display": null,
            "flex": null,
            "flex_flow": null,
            "grid_area": null,
            "grid_auto_columns": null,
            "grid_auto_flow": null,
            "grid_auto_rows": null,
            "grid_column": null,
            "grid_gap": null,
            "grid_row": null,
            "grid_template_areas": null,
            "grid_template_columns": null,
            "grid_template_rows": null,
            "height": null,
            "justify_content": null,
            "justify_items": null,
            "left": null,
            "margin": null,
            "max_height": null,
            "max_width": null,
            "min_height": null,
            "min_width": null,
            "object_fit": null,
            "object_position": null,
            "order": null,
            "overflow": null,
            "overflow_x": null,
            "overflow_y": null,
            "padding": null,
            "right": null,
            "top": null,
            "visibility": null,
            "width": null
          }
        },
        "de1b4f9be2894065b5a58931c509deb8": {
          "model_module": "@jupyter-widgets/controls",
          "model_name": "ProgressStyleModel",
          "model_module_version": "1.5.0",
          "state": {
            "_model_module": "@jupyter-widgets/controls",
            "_model_module_version": "1.5.0",
            "_model_name": "ProgressStyleModel",
            "_view_count": null,
            "_view_module": "@jupyter-widgets/base",
            "_view_module_version": "1.2.0",
            "_view_name": "StyleView",
            "bar_color": null,
            "description_width": ""
          }
        },
        "92f33dd80cfe4d42afbb428a5c6d3437": {
          "model_module": "@jupyter-widgets/base",
          "model_name": "LayoutModel",
          "model_module_version": "1.2.0",
          "state": {
            "_model_module": "@jupyter-widgets/base",
            "_model_module_version": "1.2.0",
            "_model_name": "LayoutModel",
            "_view_count": null,
            "_view_module": "@jupyter-widgets/base",
            "_view_module_version": "1.2.0",
            "_view_name": "LayoutView",
            "align_content": null,
            "align_items": null,
            "align_self": null,
            "border": null,
            "bottom": null,
            "display": null,
            "flex": null,
            "flex_flow": null,
            "grid_area": null,
            "grid_auto_columns": null,
            "grid_auto_flow": null,
            "grid_auto_rows": null,
            "grid_column": null,
            "grid_gap": null,
            "grid_row": null,
            "grid_template_areas": null,
            "grid_template_columns": null,
            "grid_template_rows": null,
            "height": null,
            "justify_content": null,
            "justify_items": null,
            "left": null,
            "margin": null,
            "max_height": null,
            "max_width": null,
            "min_height": null,
            "min_width": null,
            "object_fit": null,
            "object_position": null,
            "order": null,
            "overflow": null,
            "overflow_x": null,
            "overflow_y": null,
            "padding": null,
            "right": null,
            "top": null,
            "visibility": null,
            "width": null
          }
        },
        "f9e3850f61d74ce98f3714211e4e2802": {
          "model_module": "@jupyter-widgets/controls",
          "model_name": "DescriptionStyleModel",
          "model_module_version": "1.5.0",
          "state": {
            "_model_module": "@jupyter-widgets/controls",
            "_model_module_version": "1.5.0",
            "_model_name": "DescriptionStyleModel",
            "_view_count": null,
            "_view_module": "@jupyter-widgets/base",
            "_view_module_version": "1.2.0",
            "_view_name": "StyleView",
            "description_width": ""
          }
        },
        "f41b7eea515f4c1aacdb0fb61d4b475c": {
          "model_module": "@jupyter-widgets/controls",
          "model_name": "HBoxModel",
          "model_module_version": "1.5.0",
          "state": {
            "_dom_classes": [],
            "_model_module": "@jupyter-widgets/controls",
            "_model_module_version": "1.5.0",
            "_model_name": "HBoxModel",
            "_view_count": null,
            "_view_module": "@jupyter-widgets/controls",
            "_view_module_version": "1.5.0",
            "_view_name": "HBoxView",
            "box_style": "",
            "children": [
              "IPY_MODEL_9b27dd0ec3664e88a9c6ea723528fdba",
              "IPY_MODEL_cd4c3ee1806647b788dfc72e2e4ed377",
              "IPY_MODEL_911ee25c87404a6ca59388af40629af6"
            ],
            "layout": "IPY_MODEL_f92ea58522a84b26b721864adb2c7a9d"
          }
        },
        "9b27dd0ec3664e88a9c6ea723528fdba": {
          "model_module": "@jupyter-widgets/controls",
          "model_name": "HTMLModel",
          "model_module_version": "1.5.0",
          "state": {
            "_dom_classes": [],
            "_model_module": "@jupyter-widgets/controls",
            "_model_module_version": "1.5.0",
            "_model_name": "HTMLModel",
            "_view_count": null,
            "_view_module": "@jupyter-widgets/controls",
            "_view_module_version": "1.5.0",
            "_view_name": "HTMLView",
            "description": "",
            "description_tooltip": null,
            "layout": "IPY_MODEL_69aecc3935a14da684d124f17163e7e1",
            "placeholder": "​",
            "style": "IPY_MODEL_12d58bf1eeb04af696546288349e7f70",
            "value": "config.json: 100%"
          }
        },
        "cd4c3ee1806647b788dfc72e2e4ed377": {
          "model_module": "@jupyter-widgets/controls",
          "model_name": "FloatProgressModel",
          "model_module_version": "1.5.0",
          "state": {
            "_dom_classes": [],
            "_model_module": "@jupyter-widgets/controls",
            "_model_module_version": "1.5.0",
            "_model_name": "FloatProgressModel",
            "_view_count": null,
            "_view_module": "@jupyter-widgets/controls",
            "_view_module_version": "1.5.0",
            "_view_name": "ProgressView",
            "bar_style": "success",
            "description": "",
            "description_tooltip": null,
            "layout": "IPY_MODEL_ae766b636ca94eaca8308d0f780203ca",
            "max": 570,
            "min": 0,
            "orientation": "horizontal",
            "style": "IPY_MODEL_306a60b7e3544c4cb24bf70370ef7ef6",
            "value": 570
          }
        },
        "911ee25c87404a6ca59388af40629af6": {
          "model_module": "@jupyter-widgets/controls",
          "model_name": "HTMLModel",
          "model_module_version": "1.5.0",
          "state": {
            "_dom_classes": [],
            "_model_module": "@jupyter-widgets/controls",
            "_model_module_version": "1.5.0",
            "_model_name": "HTMLModel",
            "_view_count": null,
            "_view_module": "@jupyter-widgets/controls",
            "_view_module_version": "1.5.0",
            "_view_name": "HTMLView",
            "description": "",
            "description_tooltip": null,
            "layout": "IPY_MODEL_419d29669bfc4721b0daa81732627eeb",
            "placeholder": "​",
            "style": "IPY_MODEL_d67a2c4f343241dcb63fe7b965b99d71",
            "value": " 570/570 [00:00&lt;00:00, 30.5kB/s]"
          }
        },
        "f92ea58522a84b26b721864adb2c7a9d": {
          "model_module": "@jupyter-widgets/base",
          "model_name": "LayoutModel",
          "model_module_version": "1.2.0",
          "state": {
            "_model_module": "@jupyter-widgets/base",
            "_model_module_version": "1.2.0",
            "_model_name": "LayoutModel",
            "_view_count": null,
            "_view_module": "@jupyter-widgets/base",
            "_view_module_version": "1.2.0",
            "_view_name": "LayoutView",
            "align_content": null,
            "align_items": null,
            "align_self": null,
            "border": null,
            "bottom": null,
            "display": null,
            "flex": null,
            "flex_flow": null,
            "grid_area": null,
            "grid_auto_columns": null,
            "grid_auto_flow": null,
            "grid_auto_rows": null,
            "grid_column": null,
            "grid_gap": null,
            "grid_row": null,
            "grid_template_areas": null,
            "grid_template_columns": null,
            "grid_template_rows": null,
            "height": null,
            "justify_content": null,
            "justify_items": null,
            "left": null,
            "margin": null,
            "max_height": null,
            "max_width": null,
            "min_height": null,
            "min_width": null,
            "object_fit": null,
            "object_position": null,
            "order": null,
            "overflow": null,
            "overflow_x": null,
            "overflow_y": null,
            "padding": null,
            "right": null,
            "top": null,
            "visibility": null,
            "width": null
          }
        },
        "69aecc3935a14da684d124f17163e7e1": {
          "model_module": "@jupyter-widgets/base",
          "model_name": "LayoutModel",
          "model_module_version": "1.2.0",
          "state": {
            "_model_module": "@jupyter-widgets/base",
            "_model_module_version": "1.2.0",
            "_model_name": "LayoutModel",
            "_view_count": null,
            "_view_module": "@jupyter-widgets/base",
            "_view_module_version": "1.2.0",
            "_view_name": "LayoutView",
            "align_content": null,
            "align_items": null,
            "align_self": null,
            "border": null,
            "bottom": null,
            "display": null,
            "flex": null,
            "flex_flow": null,
            "grid_area": null,
            "grid_auto_columns": null,
            "grid_auto_flow": null,
            "grid_auto_rows": null,
            "grid_column": null,
            "grid_gap": null,
            "grid_row": null,
            "grid_template_areas": null,
            "grid_template_columns": null,
            "grid_template_rows": null,
            "height": null,
            "justify_content": null,
            "justify_items": null,
            "left": null,
            "margin": null,
            "max_height": null,
            "max_width": null,
            "min_height": null,
            "min_width": null,
            "object_fit": null,
            "object_position": null,
            "order": null,
            "overflow": null,
            "overflow_x": null,
            "overflow_y": null,
            "padding": null,
            "right": null,
            "top": null,
            "visibility": null,
            "width": null
          }
        },
        "12d58bf1eeb04af696546288349e7f70": {
          "model_module": "@jupyter-widgets/controls",
          "model_name": "DescriptionStyleModel",
          "model_module_version": "1.5.0",
          "state": {
            "_model_module": "@jupyter-widgets/controls",
            "_model_module_version": "1.5.0",
            "_model_name": "DescriptionStyleModel",
            "_view_count": null,
            "_view_module": "@jupyter-widgets/base",
            "_view_module_version": "1.2.0",
            "_view_name": "StyleView",
            "description_width": ""
          }
        },
        "ae766b636ca94eaca8308d0f780203ca": {
          "model_module": "@jupyter-widgets/base",
          "model_name": "LayoutModel",
          "model_module_version": "1.2.0",
          "state": {
            "_model_module": "@jupyter-widgets/base",
            "_model_module_version": "1.2.0",
            "_model_name": "LayoutModel",
            "_view_count": null,
            "_view_module": "@jupyter-widgets/base",
            "_view_module_version": "1.2.0",
            "_view_name": "LayoutView",
            "align_content": null,
            "align_items": null,
            "align_self": null,
            "border": null,
            "bottom": null,
            "display": null,
            "flex": null,
            "flex_flow": null,
            "grid_area": null,
            "grid_auto_columns": null,
            "grid_auto_flow": null,
            "grid_auto_rows": null,
            "grid_column": null,
            "grid_gap": null,
            "grid_row": null,
            "grid_template_areas": null,
            "grid_template_columns": null,
            "grid_template_rows": null,
            "height": null,
            "justify_content": null,
            "justify_items": null,
            "left": null,
            "margin": null,
            "max_height": null,
            "max_width": null,
            "min_height": null,
            "min_width": null,
            "object_fit": null,
            "object_position": null,
            "order": null,
            "overflow": null,
            "overflow_x": null,
            "overflow_y": null,
            "padding": null,
            "right": null,
            "top": null,
            "visibility": null,
            "width": null
          }
        },
        "306a60b7e3544c4cb24bf70370ef7ef6": {
          "model_module": "@jupyter-widgets/controls",
          "model_name": "ProgressStyleModel",
          "model_module_version": "1.5.0",
          "state": {
            "_model_module": "@jupyter-widgets/controls",
            "_model_module_version": "1.5.0",
            "_model_name": "ProgressStyleModel",
            "_view_count": null,
            "_view_module": "@jupyter-widgets/base",
            "_view_module_version": "1.2.0",
            "_view_name": "StyleView",
            "bar_color": null,
            "description_width": ""
          }
        },
        "419d29669bfc4721b0daa81732627eeb": {
          "model_module": "@jupyter-widgets/base",
          "model_name": "LayoutModel",
          "model_module_version": "1.2.0",
          "state": {
            "_model_module": "@jupyter-widgets/base",
            "_model_module_version": "1.2.0",
            "_model_name": "LayoutModel",
            "_view_count": null,
            "_view_module": "@jupyter-widgets/base",
            "_view_module_version": "1.2.0",
            "_view_name": "LayoutView",
            "align_content": null,
            "align_items": null,
            "align_self": null,
            "border": null,
            "bottom": null,
            "display": null,
            "flex": null,
            "flex_flow": null,
            "grid_area": null,
            "grid_auto_columns": null,
            "grid_auto_flow": null,
            "grid_auto_rows": null,
            "grid_column": null,
            "grid_gap": null,
            "grid_row": null,
            "grid_template_areas": null,
            "grid_template_columns": null,
            "grid_template_rows": null,
            "height": null,
            "justify_content": null,
            "justify_items": null,
            "left": null,
            "margin": null,
            "max_height": null,
            "max_width": null,
            "min_height": null,
            "min_width": null,
            "object_fit": null,
            "object_position": null,
            "order": null,
            "overflow": null,
            "overflow_x": null,
            "overflow_y": null,
            "padding": null,
            "right": null,
            "top": null,
            "visibility": null,
            "width": null
          }
        },
        "d67a2c4f343241dcb63fe7b965b99d71": {
          "model_module": "@jupyter-widgets/controls",
          "model_name": "DescriptionStyleModel",
          "model_module_version": "1.5.0",
          "state": {
            "_model_module": "@jupyter-widgets/controls",
            "_model_module_version": "1.5.0",
            "_model_name": "DescriptionStyleModel",
            "_view_count": null,
            "_view_module": "@jupyter-widgets/base",
            "_view_module_version": "1.2.0",
            "_view_name": "StyleView",
            "description_width": ""
          }
        },
        "81077b9e1bb1454dafe0e1cb35ec2d28": {
          "model_module": "@jupyter-widgets/controls",
          "model_name": "HBoxModel",
          "model_module_version": "1.5.0",
          "state": {
            "_dom_classes": [],
            "_model_module": "@jupyter-widgets/controls",
            "_model_module_version": "1.5.0",
            "_model_name": "HBoxModel",
            "_view_count": null,
            "_view_module": "@jupyter-widgets/controls",
            "_view_module_version": "1.5.0",
            "_view_name": "HBoxView",
            "box_style": "",
            "children": [
              "IPY_MODEL_2e39f1226aa949b881aacef91c89000e",
              "IPY_MODEL_d4d312149938414d98d3795e09043786",
              "IPY_MODEL_7ec53227541b4b068fcb12d64c8390ec"
            ],
            "layout": "IPY_MODEL_ceff71beed3649fca1515ec318dc2457"
          }
        },
        "2e39f1226aa949b881aacef91c89000e": {
          "model_module": "@jupyter-widgets/controls",
          "model_name": "HTMLModel",
          "model_module_version": "1.5.0",
          "state": {
            "_dom_classes": [],
            "_model_module": "@jupyter-widgets/controls",
            "_model_module_version": "1.5.0",
            "_model_name": "HTMLModel",
            "_view_count": null,
            "_view_module": "@jupyter-widgets/controls",
            "_view_module_version": "1.5.0",
            "_view_name": "HTMLView",
            "description": "",
            "description_tooltip": null,
            "layout": "IPY_MODEL_f55d7c4d331941a19e644c8c04336fcc",
            "placeholder": "​",
            "style": "IPY_MODEL_dc881c530ebe4f57b1a6886c9aeea6de",
            "value": "model.safetensors: 100%"
          }
        },
        "d4d312149938414d98d3795e09043786": {
          "model_module": "@jupyter-widgets/controls",
          "model_name": "FloatProgressModel",
          "model_module_version": "1.5.0",
          "state": {
            "_dom_classes": [],
            "_model_module": "@jupyter-widgets/controls",
            "_model_module_version": "1.5.0",
            "_model_name": "FloatProgressModel",
            "_view_count": null,
            "_view_module": "@jupyter-widgets/controls",
            "_view_module_version": "1.5.0",
            "_view_name": "ProgressView",
            "bar_style": "success",
            "description": "",
            "description_tooltip": null,
            "layout": "IPY_MODEL_0efcd1b7094e4988b908306d2667ba72",
            "max": 440449768,
            "min": 0,
            "orientation": "horizontal",
            "style": "IPY_MODEL_915401dd0bd64a75af36323d22ea5b05",
            "value": 440449768
          }
        },
        "7ec53227541b4b068fcb12d64c8390ec": {
          "model_module": "@jupyter-widgets/controls",
          "model_name": "HTMLModel",
          "model_module_version": "1.5.0",
          "state": {
            "_dom_classes": [],
            "_model_module": "@jupyter-widgets/controls",
            "_model_module_version": "1.5.0",
            "_model_name": "HTMLModel",
            "_view_count": null,
            "_view_module": "@jupyter-widgets/controls",
            "_view_module_version": "1.5.0",
            "_view_name": "HTMLView",
            "description": "",
            "description_tooltip": null,
            "layout": "IPY_MODEL_374f642419e345bf93ded561c08b0cdd",
            "placeholder": "​",
            "style": "IPY_MODEL_915d5b1869034b7c9dacfbd477c15a9d",
            "value": " 440M/440M [00:07&lt;00:00, 95.6MB/s]"
          }
        },
        "ceff71beed3649fca1515ec318dc2457": {
          "model_module": "@jupyter-widgets/base",
          "model_name": "LayoutModel",
          "model_module_version": "1.2.0",
          "state": {
            "_model_module": "@jupyter-widgets/base",
            "_model_module_version": "1.2.0",
            "_model_name": "LayoutModel",
            "_view_count": null,
            "_view_module": "@jupyter-widgets/base",
            "_view_module_version": "1.2.0",
            "_view_name": "LayoutView",
            "align_content": null,
            "align_items": null,
            "align_self": null,
            "border": null,
            "bottom": null,
            "display": null,
            "flex": null,
            "flex_flow": null,
            "grid_area": null,
            "grid_auto_columns": null,
            "grid_auto_flow": null,
            "grid_auto_rows": null,
            "grid_column": null,
            "grid_gap": null,
            "grid_row": null,
            "grid_template_areas": null,
            "grid_template_columns": null,
            "grid_template_rows": null,
            "height": null,
            "justify_content": null,
            "justify_items": null,
            "left": null,
            "margin": null,
            "max_height": null,
            "max_width": null,
            "min_height": null,
            "min_width": null,
            "object_fit": null,
            "object_position": null,
            "order": null,
            "overflow": null,
            "overflow_x": null,
            "overflow_y": null,
            "padding": null,
            "right": null,
            "top": null,
            "visibility": null,
            "width": null
          }
        },
        "f55d7c4d331941a19e644c8c04336fcc": {
          "model_module": "@jupyter-widgets/base",
          "model_name": "LayoutModel",
          "model_module_version": "1.2.0",
          "state": {
            "_model_module": "@jupyter-widgets/base",
            "_model_module_version": "1.2.0",
            "_model_name": "LayoutModel",
            "_view_count": null,
            "_view_module": "@jupyter-widgets/base",
            "_view_module_version": "1.2.0",
            "_view_name": "LayoutView",
            "align_content": null,
            "align_items": null,
            "align_self": null,
            "border": null,
            "bottom": null,
            "display": null,
            "flex": null,
            "flex_flow": null,
            "grid_area": null,
            "grid_auto_columns": null,
            "grid_auto_flow": null,
            "grid_auto_rows": null,
            "grid_column": null,
            "grid_gap": null,
            "grid_row": null,
            "grid_template_areas": null,
            "grid_template_columns": null,
            "grid_template_rows": null,
            "height": null,
            "justify_content": null,
            "justify_items": null,
            "left": null,
            "margin": null,
            "max_height": null,
            "max_width": null,
            "min_height": null,
            "min_width": null,
            "object_fit": null,
            "object_position": null,
            "order": null,
            "overflow": null,
            "overflow_x": null,
            "overflow_y": null,
            "padding": null,
            "right": null,
            "top": null,
            "visibility": null,
            "width": null
          }
        },
        "dc881c530ebe4f57b1a6886c9aeea6de": {
          "model_module": "@jupyter-widgets/controls",
          "model_name": "DescriptionStyleModel",
          "model_module_version": "1.5.0",
          "state": {
            "_model_module": "@jupyter-widgets/controls",
            "_model_module_version": "1.5.0",
            "_model_name": "DescriptionStyleModel",
            "_view_count": null,
            "_view_module": "@jupyter-widgets/base",
            "_view_module_version": "1.2.0",
            "_view_name": "StyleView",
            "description_width": ""
          }
        },
        "0efcd1b7094e4988b908306d2667ba72": {
          "model_module": "@jupyter-widgets/base",
          "model_name": "LayoutModel",
          "model_module_version": "1.2.0",
          "state": {
            "_model_module": "@jupyter-widgets/base",
            "_model_module_version": "1.2.0",
            "_model_name": "LayoutModel",
            "_view_count": null,
            "_view_module": "@jupyter-widgets/base",
            "_view_module_version": "1.2.0",
            "_view_name": "LayoutView",
            "align_content": null,
            "align_items": null,
            "align_self": null,
            "border": null,
            "bottom": null,
            "display": null,
            "flex": null,
            "flex_flow": null,
            "grid_area": null,
            "grid_auto_columns": null,
            "grid_auto_flow": null,
            "grid_auto_rows": null,
            "grid_column": null,
            "grid_gap": null,
            "grid_row": null,
            "grid_template_areas": null,
            "grid_template_columns": null,
            "grid_template_rows": null,
            "height": null,
            "justify_content": null,
            "justify_items": null,
            "left": null,
            "margin": null,
            "max_height": null,
            "max_width": null,
            "min_height": null,
            "min_width": null,
            "object_fit": null,
            "object_position": null,
            "order": null,
            "overflow": null,
            "overflow_x": null,
            "overflow_y": null,
            "padding": null,
            "right": null,
            "top": null,
            "visibility": null,
            "width": null
          }
        },
        "915401dd0bd64a75af36323d22ea5b05": {
          "model_module": "@jupyter-widgets/controls",
          "model_name": "ProgressStyleModel",
          "model_module_version": "1.5.0",
          "state": {
            "_model_module": "@jupyter-widgets/controls",
            "_model_module_version": "1.5.0",
            "_model_name": "ProgressStyleModel",
            "_view_count": null,
            "_view_module": "@jupyter-widgets/base",
            "_view_module_version": "1.2.0",
            "_view_name": "StyleView",
            "bar_color": null,
            "description_width": ""
          }
        },
        "374f642419e345bf93ded561c08b0cdd": {
          "model_module": "@jupyter-widgets/base",
          "model_name": "LayoutModel",
          "model_module_version": "1.2.0",
          "state": {
            "_model_module": "@jupyter-widgets/base",
            "_model_module_version": "1.2.0",
            "_model_name": "LayoutModel",
            "_view_count": null,
            "_view_module": "@jupyter-widgets/base",
            "_view_module_version": "1.2.0",
            "_view_name": "LayoutView",
            "align_content": null,
            "align_items": null,
            "align_self": null,
            "border": null,
            "bottom": null,
            "display": null,
            "flex": null,
            "flex_flow": null,
            "grid_area": null,
            "grid_auto_columns": null,
            "grid_auto_flow": null,
            "grid_auto_rows": null,
            "grid_column": null,
            "grid_gap": null,
            "grid_row": null,
            "grid_template_areas": null,
            "grid_template_columns": null,
            "grid_template_rows": null,
            "height": null,
            "justify_content": null,
            "justify_items": null,
            "left": null,
            "margin": null,
            "max_height": null,
            "max_width": null,
            "min_height": null,
            "min_width": null,
            "object_fit": null,
            "object_position": null,
            "order": null,
            "overflow": null,
            "overflow_x": null,
            "overflow_y": null,
            "padding": null,
            "right": null,
            "top": null,
            "visibility": null,
            "width": null
          }
        },
        "915d5b1869034b7c9dacfbd477c15a9d": {
          "model_module": "@jupyter-widgets/controls",
          "model_name": "DescriptionStyleModel",
          "model_module_version": "1.5.0",
          "state": {
            "_model_module": "@jupyter-widgets/controls",
            "_model_module_version": "1.5.0",
            "_model_name": "DescriptionStyleModel",
            "_view_count": null,
            "_view_module": "@jupyter-widgets/base",
            "_view_module_version": "1.2.0",
            "_view_name": "StyleView",
            "description_width": ""
          }
        }
      }
    }
  },
  "cells": [
    {
      "cell_type": "markdown",
      "source": [
        "# Expression Recognition"
      ],
      "metadata": {
        "id": "SqIgY8djDV5N"
      }
    },
    {
      "cell_type": "markdown",
      "source": [
        "# 1. Importing, exploring and cleaning ISEAR dataset"
      ],
      "metadata": {
        "id": "7PVhcKREDRlK"
      }
    },
    {
      "cell_type": "code",
      "source": [
        "!git clone https://github.com/Bhattars1/MSc-Project-Expression-Recognition-"
      ],
      "metadata": {
        "colab": {
          "base_uri": "https://localhost:8080/"
        },
        "id": "jFWSeKlBqgPF",
        "outputId": "ab61fef1-eeb1-47ac-b185-c86a3b3db602"
      },
      "execution_count": 1,
      "outputs": [
        {
          "output_type": "stream",
          "name": "stdout",
          "text": [
            "fatal: destination path 'MSc-Project-Expression-Recognition-' already exists and is not an empty directory.\n"
          ]
        }
      ]
    },
    {
      "cell_type": "code",
      "source": [
        "# Import function for goemotion dataset\n",
        "import pandas as pd\n",
        "def upload_go(path):\n",
        "  df = pd.read_csv(path)\n",
        "  return df"
      ],
      "metadata": {
        "id": "7DV6BsMJ-Eh8"
      },
      "execution_count": 2,
      "outputs": []
    },
    {
      "cell_type": "code",
      "source": [
        "go_path_1 =\"/content/MSc-Project-Expression-Recognition-/geoemotion dataset/goemotions_1.csv\"\n",
        "go_path_2 =\"/content/MSc-Project-Expression-Recognition-/geoemotion dataset/goemotions_2.csv\"\n",
        "go_path_3 =\"/content/MSc-Project-Expression-Recognition-/geoemotion dataset/goemotions_3.csv\"\n",
        "\n",
        "go_v1 = upload_go(go_path_1)\n",
        "go_v2 = upload_go(go_path_2)\n",
        "go_v3 = upload_go(go_path_3)"
      ],
      "metadata": {
        "id": "O_wX8IBpA3Ka"
      },
      "execution_count": 3,
      "outputs": []
    },
    {
      "cell_type": "code",
      "source": [
        "selected_columns = [\n",
        "    \"admiration\",\n",
        "    \"amusement\",\n",
        "    \"anger\",\n",
        "    \"annoyance\",\n",
        "    \"approval\",\n",
        "    \"caring\",\n",
        "    \"confusion\",\n",
        "    \"curiosity\",\n",
        "    \"desire\",\n",
        "    \"disappointment\",\n",
        "    \"disapproval\",\n",
        "    \"disgust\",\n",
        "    \"embarrassment\",\n",
        "    \"excitement\",\n",
        "    \"fear\",\n",
        "    \"gratitude\",\n",
        "    \"grief\",\n",
        "    \"joy\",\n",
        "    \"love\",\n",
        "    \"nervousness\",\n",
        "    \"optimism\",\n",
        "    \"pride\",\n",
        "    \"realization\",\n",
        "    \"relief\",\n",
        "    \"remorse\",\n",
        "    \"sadness\",\n",
        "    \"surprise\",\n",
        "    \"neutral\"\n",
        "]"
      ],
      "metadata": {
        "id": "3QxnipHLB5qi"
      },
      "execution_count": 4,
      "outputs": []
    },
    {
      "cell_type": "code",
      "source": [
        "emotions_columns = [\"text\", \"anger\", \"disgust\", \"fear\", \"joy\", \"sadness\", \"surprise\", \"neutral\"]"
      ],
      "metadata": {
        "id": "6lSRqUHKHxh9"
      },
      "execution_count": 5,
      "outputs": []
    },
    {
      "cell_type": "code",
      "source": [
        "def clean_geo(data, columns, text_column, emotions_columns):\n",
        "    # Select relevant columns from the data\n",
        "    df = data[columns].copy()  # Ensure we are working with a copy to avoid SettingWithCopyWarning\n",
        "\n",
        "    # Convert one-hot encoded columns to a single column of emotion labels\n",
        "    df['emotion'] = df[columns].idxmax(axis=1)\n",
        "\n",
        "    # Drop the one-hot encoded emotion columns\n",
        "    df = df.drop(columns=columns)\n",
        "\n",
        "    # Add a new column named 'text' with data from data[text_column]\n",
        "    df['text'] = data[text_column].values  # Use .values to avoid SettingWithCopyWarning\n",
        "\n",
        "    # Filter to keep only rows where 'emotion' matches one of the specified emotions\n",
        "    df = df[df['emotion'].isin(emotions_columns)].copy()  # Ensure we are working with a copy\n",
        "\n",
        "    return df\n"
      ],
      "metadata": {
        "id": "PPqDYtT4INoW"
      },
      "execution_count": 6,
      "outputs": []
    },
    {
      "cell_type": "code",
      "source": [
        "cleaned_go_1 = clean_geo(go_v1, selected_columns, \"text\", emotions_columns)\n",
        "cleaned_go_2 = clean_geo(go_v2, selected_columns, \"text\", emotions_columns)\n",
        "cleaned_go_3 = clean_geo(go_v3, selected_columns, \"text\", emotions_columns)"
      ],
      "metadata": {
        "id": "uVkIE0a6Ct6N"
      },
      "execution_count": 7,
      "outputs": []
    },
    {
      "cell_type": "code",
      "source": [
        "# Concatenate DataFrames vertically\n",
        "combined_df = pd.concat([cleaned_go_1, cleaned_go_2, cleaned_go_3], ignore_index=True)"
      ],
      "metadata": {
        "id": "0-WDe9IlJ1us"
      },
      "execution_count": 8,
      "outputs": []
    },
    {
      "cell_type": "code",
      "source": [
        "def data_labels(df, data, labels):\n",
        "  data = df[data].tolist()\n",
        "  labels = df[labels].tolist()\n",
        "  return data, labels"
      ],
      "metadata": {
        "id": "gr-_F61KKB7E"
      },
      "execution_count": 9,
      "outputs": []
    },
    {
      "cell_type": "code",
      "source": [
        "final_df, final_labels = data_labels(combined_df, \"text\", \"emotion\")\n",
        "len(final_df), len(final_labels)"
      ],
      "metadata": {
        "id": "2gua9cOEKQhX",
        "colab": {
          "base_uri": "https://localhost:8080/"
        },
        "outputId": "b5613935-0987-4b78-b374-5402461eef29"
      },
      "execution_count": 10,
      "outputs": [
        {
          "output_type": "execute_result",
          "data": {
            "text/plain": [
              "(81643, 81643)"
            ]
          },
          "metadata": {},
          "execution_count": 10
        }
      ]
    },
    {
      "cell_type": "code",
      "source": [
        "# Checking if the dataset is balanced or not\n",
        "def label_distribution(data):\n",
        "  dict_labels = {}\n",
        "  unique_expressions = list(set(data))\n",
        "  for idx, i in enumerate(unique_expressions):\n",
        "    dict_labels[i] = list(data).count(i)\n",
        "  return dict_labels\n",
        "label_distribution(final_labels)"
      ],
      "metadata": {
        "colab": {
          "base_uri": "https://localhost:8080/"
        },
        "id": "Fy0KlARKEFmp",
        "outputId": "169b2470-c9cf-4d0c-fe48-0489612f1548"
      },
      "execution_count": 11,
      "outputs": [
        {
          "output_type": "execute_result",
          "data": {
            "text/plain": [
              "{'neutral': 55298,\n",
              " 'sadness': 3863,\n",
              " 'joy': 5120,\n",
              " 'anger': 7956,\n",
              " 'fear': 2514,\n",
              " 'surprise': 3472,\n",
              " 'disgust': 3420}"
            ]
          },
          "metadata": {},
          "execution_count": 11
        }
      ]
    },
    {
      "cell_type": "code",
      "source": [
        "# Balancing the data\n",
        "import random\n",
        "\n",
        "# Separate the neutral and anger samples\n",
        "neutral_indices = [i for i, label in enumerate(final_labels) if label == 'neutral']\n",
        "anger_indices = [i for i, label in enumerate(final_labels) if label == 'anger']\n",
        "other_indices = [i for i, label in enumerate(final_labels) if label != 'neutral' and label != 'anger']\n",
        "\n",
        "# Randomly sample 5000 neutral and anger indices\n",
        "sampled_neutral_indices = random.sample(neutral_indices, 5000 )\n",
        "sampled_anger_indices = random.sample(anger_indices, 5000)\n",
        "\n",
        "# Combine the non-neutral indices with the sampled neutral indices\n",
        "balanced_indices =other_indices + sampled_neutral_indices + sampled_anger_indices\n",
        "\n",
        "# Create the balanced labels and data lists\n",
        "balanced_labels = [final_labels[i] for i in balanced_indices]\n",
        "balanced_data = [final_df[i] for i in balanced_indices]"
      ],
      "metadata": {
        "id": "DzFLqhOLf2vx"
      },
      "execution_count": 12,
      "outputs": []
    },
    {
      "cell_type": "code",
      "source": [
        "dist = label_distribution(balanced_labels)\n",
        "dist"
      ],
      "metadata": {
        "colab": {
          "base_uri": "https://localhost:8080/"
        },
        "id": "u_inKCxWjrVt",
        "outputId": "530bfa5c-fab9-4766-b206-e35faef944b7"
      },
      "execution_count": 13,
      "outputs": [
        {
          "output_type": "execute_result",
          "data": {
            "text/plain": [
              "{'neutral': 5000,\n",
              " 'sadness': 3863,\n",
              " 'joy': 5120,\n",
              " 'anger': 5000,\n",
              " 'fear': 2514,\n",
              " 'surprise': 3472,\n",
              " 'disgust': 3420}"
            ]
          },
          "metadata": {},
          "execution_count": 13
        }
      ]
    },
    {
      "cell_type": "markdown",
      "source": [
        "# 2. Preprocessing"
      ],
      "metadata": {
        "id": "4hHlzdf_33UP"
      }
    },
    {
      "cell_type": "markdown",
      "source": [
        "## 2.1. Data Augmentation\n",
        "\n",
        "Augmenting the data that is not sufficient i.e. all the data that corresponds to the labels except neutral and anger. Hera a special technique is used i.e. translating the insufficient data to french and again to english that can introduce variability while preserving meaning.\n",
        "\n",
        "Example: English → French → English: \"The cat is on the mat\" → \"The cat lies on the mat.\""
      ],
      "metadata": {
        "id": "gcqXbaf7NERi"
      }
    },
    {
      "cell_type": "code",
      "source": [
        "# Checking and specifiying what and how much to augument to perfectly balance the data\n",
        "augument_list = [x for x in dist if dist[x] < 5000]\n",
        "augumenting_dict = {}\n",
        "for i in augument_list:\n",
        "  x = dist[i]\n",
        "  augumenting_dict[i] = 5000-x\n",
        "augumenting_dict"
      ],
      "metadata": {
        "colab": {
          "base_uri": "https://localhost:8080/"
        },
        "id": "71EaCk2rP2nC",
        "outputId": "76507ebd-e894-495d-d19f-9d823eac7059"
      },
      "execution_count": 14,
      "outputs": [
        {
          "output_type": "execute_result",
          "data": {
            "text/plain": [
              "{'sadness': 1137, 'fear': 2486, 'surprise': 1528, 'disgust': 1580}"
            ]
          },
          "metadata": {},
          "execution_count": 14
        }
      ]
    },
    {
      "cell_type": "code",
      "source": [
        "# Randomly selecting the data from specific labels to augument\n",
        "fear_indices = [i for i, label in enumerate(balanced_labels) if label == 'fear']\n",
        "sadness_indices = [i for i, label in enumerate(balanced_labels) if label == 'sadness']\n",
        "surprise_indices = [i for i, label in enumerate(balanced_labels) if label == 'surprise']\n",
        "disgust_indices = [i for i, label in enumerate(balanced_labels) if label == 'disgust']"
      ],
      "metadata": {
        "id": "u2BHp_0NWdC0"
      },
      "execution_count": 15,
      "outputs": []
    },
    {
      "cell_type": "code",
      "source": [
        "# Randomly sample indices\n",
        "sampled_fear_indices = random.sample(fear_indices, augumenting_dict[\"fear\"])\n",
        "sampled_sadness_indices = random.sample(sadness_indices, augumenting_dict[\"sadness\"])\n",
        "sampled_surprise_indices = random.sample(surprise_indices, augumenting_dict[\"surprise\"])\n",
        "sampled_disgust_indices = random.sample(disgust_indices, augumenting_dict[\"disgust\"])"
      ],
      "metadata": {
        "id": "RDTvDuupXIVQ"
      },
      "execution_count": 16,
      "outputs": []
    },
    {
      "cell_type": "code",
      "source": [
        "# Data that corresponds to the indices\n",
        "sampled_fear_data = [balanced_data[i] for i in sampled_fear_indices]\n",
        "sampled_sadness_data = [balanced_data[i] for i in sampled_sadness_indices]\n",
        "sampled_surprise_data = [balanced_data[i] for i in sampled_surprise_indices]\n",
        "sampled_disgust_data = [balanced_data[i] for i in sampled_disgust_indices]"
      ],
      "metadata": {
        "id": "CsCVtID_Z3GB"
      },
      "execution_count": 17,
      "outputs": []
    },
    {
      "cell_type": "code",
      "source": [
        "!pip install googletrans-py\n",
        "from googletrans import Translator\n",
        "import time\n",
        "\n",
        "# Initialize the translator\n",
        "translator = Translator()"
      ],
      "metadata": {
        "colab": {
          "base_uri": "https://localhost:8080/"
        },
        "id": "jorAnVrfQOxT",
        "outputId": "1cfbe17d-12c2-4f35-b54b-7b50368648c7"
      },
      "execution_count": 18,
      "outputs": [
        {
          "output_type": "stream",
          "name": "stdout",
          "text": [
            "Requirement already satisfied: googletrans-py in /usr/local/lib/python3.10/dist-packages (4.0.0)\n",
            "Requirement already satisfied: httpx>=0.22.0 in /usr/local/lib/python3.10/dist-packages (from googletrans-py) (0.27.0)\n",
            "Requirement already satisfied: h2<5,>=4 in /usr/local/lib/python3.10/dist-packages (from googletrans-py) (4.1.0)\n",
            "Requirement already satisfied: hyperframe<7,>=6.0 in /usr/local/lib/python3.10/dist-packages (from h2<5,>=4->googletrans-py) (6.0.1)\n",
            "Requirement already satisfied: hpack<5,>=4.0 in /usr/local/lib/python3.10/dist-packages (from h2<5,>=4->googletrans-py) (4.0.0)\n",
            "Requirement already satisfied: anyio in /usr/local/lib/python3.10/dist-packages (from httpx>=0.22.0->googletrans-py) (3.7.1)\n",
            "Requirement already satisfied: certifi in /usr/local/lib/python3.10/dist-packages (from httpx>=0.22.0->googletrans-py) (2024.7.4)\n",
            "Requirement already satisfied: httpcore==1.* in /usr/local/lib/python3.10/dist-packages (from httpx>=0.22.0->googletrans-py) (1.0.5)\n",
            "Requirement already satisfied: idna in /usr/local/lib/python3.10/dist-packages (from httpx>=0.22.0->googletrans-py) (2.10)\n",
            "Requirement already satisfied: sniffio in /usr/local/lib/python3.10/dist-packages (from httpx>=0.22.0->googletrans-py) (1.3.1)\n",
            "Requirement already satisfied: h11<0.15,>=0.13 in /usr/local/lib/python3.10/dist-packages (from httpcore==1.*->httpx>=0.22.0->googletrans-py) (0.14.0)\n",
            "Requirement already satisfied: exceptiongroup in /usr/local/lib/python3.10/dist-packages (from anyio->httpx>=0.22.0->googletrans-py) (1.2.2)\n"
          ]
        }
      ]
    },
    {
      "cell_type": "code",
      "source": [
        "import string\n",
        "def clean_text(text):\n",
        "    \"\"\"Remove everything except alphabets.\"\"\"\n",
        "    # Create a translation table that maps non-alphabet characters to None\n",
        "    translation_table = str.maketrans('', '', string.ascii_letters + string.whitespace)\n",
        "    # Remove non-alphabet characters using the translation table\n",
        "    cleaned_text = text.translate(translation_table)\n",
        "    return cleaned_text"
      ],
      "metadata": {
        "id": "klTYfPwb2X6P"
      },
      "execution_count": 25,
      "outputs": []
    },
    {
      "cell_type": "code",
      "source": [
        "def translating_back(text, src_lang='en', tgt_lang='fr'):\n",
        "    try:\n",
        "        # Clean the text by removing non-alphabet characters\n",
        "        cleaned_text = clean_text(text)\n",
        "        # Translate cleaned text to target language\n",
        "        translated_text = translator.translate(cleaned_text, src=src_lang, dest=tgt_lang).text\n",
        "        # Translate text back to source language\n",
        "        back_translated_text = translator.translate(translated_text, src=tgt_lang, dest=src_lang).text\n",
        "        return back_translated_text\n",
        "    except Exception:\n",
        "        # Return None if there is an error\n",
        "        return None"
      ],
      "metadata": {
        "id": "5iBnicSSXrHl"
      },
      "execution_count": 28,
      "outputs": []
    },
    {
      "cell_type": "code",
      "source": [
        "# translating function\n",
        "import tqdm\n",
        "def trans_func(data, batch_size=32):\n",
        "    translated_data = []\n",
        "    failed_count = 0  # Initialize the failed translations counter\n",
        "\n",
        "    for i in tqdm.tqdm(range(0, len(data), batch_size), desc=\"Translating\"):\n",
        "        batch = data[i:i + batch_size]\n",
        "        batch_translated = []\n",
        "\n",
        "        for text in batch:\n",
        "            try:\n",
        "                # Translate text and handle potential errors\n",
        "                translated_text = translating_back(text)\n",
        "                if translated_text is not None:\n",
        "                    batch_translated.append(translated_text)\n",
        "                else:\n",
        "                    failed_count += 1  # Increment failed count if translation is None\n",
        "            except Exception:\n",
        "                # Increment failed count on exception without printing error\n",
        "                failed_count += 1\n",
        "\n",
        "        translated_data.extend(batch_translated)\n",
        "\n",
        "    print(f\"Number of failed translations: {failed_count}\")\n",
        "    return translated_data"
      ],
      "metadata": {
        "id": "kaTyKoxAY7gT"
      },
      "execution_count": 29,
      "outputs": []
    },
    {
      "cell_type": "code",
      "source": [
        "augmented_fear_data = trans_func(sampled_fear_data)\n",
        "augmented_sadness_data = trans_func(sampled_sadness_data)\n",
        "augmented_surprise_data = trans_func(sampled_surprise_data)\n",
        "augmented_disgust_data = trans_func(sampled_disgust_data)"
      ],
      "metadata": {
        "colab": {
          "base_uri": "https://localhost:8080/"
        },
        "id": "vaF7xHODZrV-",
        "outputId": "f6d60014-df87-4ba2-b2c4-d540101b8be3"
      },
      "execution_count": 30,
      "outputs": [
        {
          "output_type": "stream",
          "name": "stderr",
          "text": [
            "Translating: 100%|██████████| 78/78 [17:35<00:00, 13.53s/it]\n"
          ]
        },
        {
          "output_type": "stream",
          "name": "stdout",
          "text": [
            "Number of failed translations: 1598\n"
          ]
        },
        {
          "output_type": "stream",
          "name": "stderr",
          "text": [
            "Translating: 100%|██████████| 36/36 [08:09<00:00, 13.59s/it]\n"
          ]
        },
        {
          "output_type": "stream",
          "name": "stdout",
          "text": [
            "Number of failed translations: 782\n"
          ]
        },
        {
          "output_type": "stream",
          "name": "stderr",
          "text": [
            "Translating: 100%|██████████| 48/48 [11:35<00:00, 14.48s/it]\n"
          ]
        },
        {
          "output_type": "stream",
          "name": "stdout",
          "text": [
            "Number of failed translations: 943\n"
          ]
        },
        {
          "output_type": "stream",
          "name": "stderr",
          "text": [
            "Translating: 100%|██████████| 50/50 [10:29<00:00, 12.59s/it]"
          ]
        },
        {
          "output_type": "stream",
          "name": "stdout",
          "text": [
            "Number of failed translations: 1129\n"
          ]
        },
        {
          "output_type": "stream",
          "name": "stderr",
          "text": [
            "\n"
          ]
        }
      ]
    },
    {
      "cell_type": "code",
      "source": [
        "# Combine augmented data\n",
        "augmented_data = (augmented_fear_data + augmented_sadness_data +\n",
        "                  augmented_surprise_data + augmented_disgust_data)\n",
        "# Combine augmented labels\n",
        "augmented_fear_labels = ['fear'] * len(augmented_fear_data)\n",
        "augmented_sadness_labels = ['sadness'] * len(augmented_sadness_data)\n",
        "augmented_surprise_labels = ['surprise'] * len(augmented_surprise_data)\n",
        "augmented_disgust_labels = ['disgust'] * len(augmented_disgust_data)\n",
        "\n",
        "augmented_labels = (augmented_fear_labels + augmented_sadness_labels +\n",
        "                    augmented_surprise_labels + augmented_disgust_labels)\n",
        "\n",
        "# Assuming `balanced_data` and `balanced_labels` are your existing lists\n",
        "balanced_data.extend(augmented_data)\n",
        "balanced_labels.extend(augmented_labels)"
      ],
      "metadata": {
        "id": "lVtFiQN4bJoT"
      },
      "execution_count": 31,
      "outputs": []
    },
    {
      "cell_type": "code",
      "source": [
        "label_distribution(balanced_labels), len(balanced_data), len(balanced_labels)"
      ],
      "metadata": {
        "colab": {
          "base_uri": "https://localhost:8080/"
        },
        "id": "9cyGbTFYFJQj",
        "outputId": "c377894d-7d2f-4826-d577-03dd5429d63d"
      },
      "execution_count": 34,
      "outputs": [
        {
          "output_type": "execute_result",
          "data": {
            "text/plain": [
              "({'neutral': 5000,\n",
              "  'sadness': 4218,\n",
              "  'joy': 5120,\n",
              "  'anger': 5000,\n",
              "  'fear': 3402,\n",
              "  'surprise': 4057,\n",
              "  'disgust': 3871},\n",
              " 30668,\n",
              " 30668)"
            ]
          },
          "metadata": {},
          "execution_count": 34
        }
      ]
    },
    {
      "cell_type": "markdown",
      "source": [
        "## 2.2. Embedding using BERT"
      ],
      "metadata": {
        "id": "sE_FE4SyQ1-k"
      }
    },
    {
      "cell_type": "code",
      "source": [
        "import torch\n",
        "from transformers import BertTokenizer, BertModel\n",
        "\n",
        "# Load pre-trained BERT model and tokenizer\n",
        "tokenizer = BertTokenizer.from_pretrained('bert-base-uncased')\n",
        "model = BertModel.from_pretrained('bert-base-uncased')"
      ],
      "metadata": {
        "id": "zy8t-GYPwooi",
        "colab": {
          "base_uri": "https://localhost:8080/",
          "height": 301,
          "referenced_widgets": [
            "8f5250380705444495ff145d82c45fc4",
            "c18ceeff466f46a0b6c73ca23cd654b6",
            "55ca1cce4ba044308fec000bdaa8c3fa",
            "3a32c622bebf42528e80b5297cae145d",
            "56c7c8c8f0334b818738cb7aa067ff63",
            "9d6eaab13eab4cda80edcef6710f7699",
            "d0f857d05a2543e59dd889340652c4f1",
            "c7ad8b03755548a482ceaad9e91c4884",
            "5ccb9055cc24455caaeaeacf9a9f746d",
            "6d2550c6a4af4192a22e7b537facf6f5",
            "95a18d4b4e544abba653be83919fae38",
            "d47afa3ad35f435a8eb72b1f9ea207fa",
            "a8066e2e3e374f30b497bffc557306d8",
            "93ac0ecbb4e9442f82b38d2fdeceffa9",
            "f60a5b1ab3854cdb97b498fed35a1079",
            "d2222479c56e47aca1b70b735744fb1b",
            "32c00f2d5c1f4c44bd1b510c19d3c410",
            "e4195d0301594181b6bbc14233707f94",
            "44394394cc3d4e91b7d8fc3084f455b7",
            "7f4091a877a643cabb534c8f7df68717",
            "34cac2244f8d4919a66035b6f5e551ad",
            "f4cc272f47bf47b7b50817b422827d48",
            "57d593d75d1647078bd67598052b3a55",
            "aaf7be4df6094df297581498bd0a1a74",
            "49d25a7607694c18914e921108e48203",
            "ca24075a9a8747e68b40f385c5e5225c",
            "1b3add26edd34f7d818160a32298b996",
            "74680cc0188645a1813d5b129c90873f",
            "9b244d1ff0e74138a841402c43f2ca74",
            "537a81caace14ecc9095c4786a21ce10",
            "de1b4f9be2894065b5a58931c509deb8",
            "92f33dd80cfe4d42afbb428a5c6d3437",
            "f9e3850f61d74ce98f3714211e4e2802",
            "f41b7eea515f4c1aacdb0fb61d4b475c",
            "9b27dd0ec3664e88a9c6ea723528fdba",
            "cd4c3ee1806647b788dfc72e2e4ed377",
            "911ee25c87404a6ca59388af40629af6",
            "f92ea58522a84b26b721864adb2c7a9d",
            "69aecc3935a14da684d124f17163e7e1",
            "12d58bf1eeb04af696546288349e7f70",
            "ae766b636ca94eaca8308d0f780203ca",
            "306a60b7e3544c4cb24bf70370ef7ef6",
            "419d29669bfc4721b0daa81732627eeb",
            "d67a2c4f343241dcb63fe7b965b99d71",
            "81077b9e1bb1454dafe0e1cb35ec2d28",
            "2e39f1226aa949b881aacef91c89000e",
            "d4d312149938414d98d3795e09043786",
            "7ec53227541b4b068fcb12d64c8390ec",
            "ceff71beed3649fca1515ec318dc2457",
            "f55d7c4d331941a19e644c8c04336fcc",
            "dc881c530ebe4f57b1a6886c9aeea6de",
            "0efcd1b7094e4988b908306d2667ba72",
            "915401dd0bd64a75af36323d22ea5b05",
            "374f642419e345bf93ded561c08b0cdd",
            "915d5b1869034b7c9dacfbd477c15a9d"
          ]
        },
        "outputId": "d7c0a6ff-6de4-4d1c-e83b-46cd31c5cccd"
      },
      "execution_count": 35,
      "outputs": [
        {
          "output_type": "stream",
          "name": "stderr",
          "text": [
            "/usr/local/lib/python3.10/dist-packages/huggingface_hub/utils/_token.py:89: UserWarning: \n",
            "The secret `HF_TOKEN` does not exist in your Colab secrets.\n",
            "To authenticate with the Hugging Face Hub, create a token in your settings tab (https://huggingface.co/settings/tokens), set it as secret in your Google Colab and restart your session.\n",
            "You will be able to reuse this secret in all of your notebooks.\n",
            "Please note that authentication is recommended but still optional to access public models or datasets.\n",
            "  warnings.warn(\n"
          ]
        },
        {
          "output_type": "display_data",
          "data": {
            "text/plain": [
              "tokenizer_config.json:   0%|          | 0.00/48.0 [00:00<?, ?B/s]"
            ],
            "application/vnd.jupyter.widget-view+json": {
              "version_major": 2,
              "version_minor": 0,
              "model_id": "8f5250380705444495ff145d82c45fc4"
            }
          },
          "metadata": {}
        },
        {
          "output_type": "display_data",
          "data": {
            "text/plain": [
              "vocab.txt:   0%|          | 0.00/232k [00:00<?, ?B/s]"
            ],
            "application/vnd.jupyter.widget-view+json": {
              "version_major": 2,
              "version_minor": 0,
              "model_id": "d47afa3ad35f435a8eb72b1f9ea207fa"
            }
          },
          "metadata": {}
        },
        {
          "output_type": "display_data",
          "data": {
            "text/plain": [
              "tokenizer.json:   0%|          | 0.00/466k [00:00<?, ?B/s]"
            ],
            "application/vnd.jupyter.widget-view+json": {
              "version_major": 2,
              "version_minor": 0,
              "model_id": "57d593d75d1647078bd67598052b3a55"
            }
          },
          "metadata": {}
        },
        {
          "output_type": "display_data",
          "data": {
            "text/plain": [
              "config.json:   0%|          | 0.00/570 [00:00<?, ?B/s]"
            ],
            "application/vnd.jupyter.widget-view+json": {
              "version_major": 2,
              "version_minor": 0,
              "model_id": "f41b7eea515f4c1aacdb0fb61d4b475c"
            }
          },
          "metadata": {}
        },
        {
          "output_type": "display_data",
          "data": {
            "text/plain": [
              "model.safetensors:   0%|          | 0.00/440M [00:00<?, ?B/s]"
            ],
            "application/vnd.jupyter.widget-view+json": {
              "version_major": 2,
              "version_minor": 0,
              "model_id": "81077b9e1bb1454dafe0e1cb35ec2d28"
            }
          },
          "metadata": {}
        }
      ]
    },
    {
      "cell_type": "code",
      "source": [
        "# Embedding function\n",
        "import tqdm\n",
        "def generate_bert_embeddings(sentences, batch_size=8):\n",
        "    embeddings_list = []\n",
        "    for i in tqdm.tqdm(range(0, len(sentences), batch_size), desc=\"Generating BERT embeddings\"):\n",
        "        batch = sentences[i:i + batch_size]\n",
        "        inputs = tokenizer(batch, return_tensors='pt', padding=True, truncation=True, max_length=512)\n",
        "        with torch.no_grad():\n",
        "            outputs = model(**inputs)\n",
        "        # Extract embeddings of the [CLS] token (index 0) for each sentence\n",
        "        cls_embeddings = outputs.last_hidden_state[:, 0, :]\n",
        "        embeddings_list.append(cls_embeddings)\n",
        "    embeddings = torch.cat(embeddings_list)\n",
        "    return embeddings"
      ],
      "metadata": {
        "id": "x-m7R5P3xI53"
      },
      "execution_count": 36,
      "outputs": []
    },
    {
      "cell_type": "code",
      "source": [
        "data_embeddings = generate_bert_embeddings(balanced_data)"
      ],
      "metadata": {
        "id": "f5HUtwc83Qi3",
        "colab": {
          "base_uri": "https://localhost:8080/"
        },
        "outputId": "08ae0446-2a08-49c0-98d8-390ad44f7ad6"
      },
      "execution_count": 37,
      "outputs": [
        {
          "output_type": "stream",
          "name": "stderr",
          "text": [
            "Generating BERT embeddings: 100%|██████████| 3834/3834 [1:00:26<00:00,  1.06it/s]\n"
          ]
        }
      ]
    },
    {
      "cell_type": "code",
      "source": [
        "# Save embeddings\n",
        "torch.save(data_embeddings, 'data_embeddings.pt')"
      ],
      "metadata": {
        "id": "bx_H66FIoqvz"
      },
      "execution_count": 39,
      "outputs": []
    },
    {
      "cell_type": "code",
      "source": [
        "# Load embeddings\n",
        "import torch\n",
        "loaded_embeddings = torch.load('data_embeddings.pt')\n",
        "# final_labels = torch.load(\"labels.pt\")\n",
        "\n",
        "# Verify loaded embeddings\n",
        "len(loaded_embeddings)"
      ],
      "metadata": {
        "colab": {
          "base_uri": "https://localhost:8080/"
        },
        "id": "B9TRJO6UouOF",
        "outputId": "1f6028ed-fedd-4fa8-f32f-4e68e5ff1213"
      },
      "execution_count": 49,
      "outputs": [
        {
          "output_type": "execute_result",
          "data": {
            "text/plain": [
              "30668"
            ]
          },
          "metadata": {},
          "execution_count": 49
        }
      ]
    },
    {
      "cell_type": "markdown",
      "source": [
        "Indexing labels"
      ],
      "metadata": {
        "id": "Knhold8Cih5U"
      }
    },
    {
      "cell_type": "code",
      "source": [
        "unique_labels = list(set(balanced_labels))\n",
        "unique_labels"
      ],
      "metadata": {
        "colab": {
          "base_uri": "https://localhost:8080/"
        },
        "id": "gxEPccbnikyb",
        "outputId": "65a93d05-1702-4e98-fe8e-64e8edad2b7a"
      },
      "execution_count": 44,
      "outputs": [
        {
          "output_type": "execute_result",
          "data": {
            "text/plain": [
              "['neutral', 'sadness', 'joy', 'anger', 'fear', 'surprise', 'disgust']"
            ]
          },
          "metadata": {},
          "execution_count": 44
        }
      ]
    },
    {
      "cell_type": "code",
      "source": [
        "itol = {}\n",
        "ltoi = {}\n",
        "for i, label in enumerate(unique_labels):\n",
        "  itol[i]= label\n",
        "  ltoi[label] = i\n",
        "print(itol)\n",
        "print(ltoi)"
      ],
      "metadata": {
        "colab": {
          "base_uri": "https://localhost:8080/"
        },
        "id": "Jj37pTTJiy3b",
        "outputId": "996729f0-3fe5-4d5f-cad7-ea93a5c4d632"
      },
      "execution_count": 45,
      "outputs": [
        {
          "output_type": "stream",
          "name": "stdout",
          "text": [
            "{0: 'neutral', 1: 'sadness', 2: 'joy', 3: 'anger', 4: 'fear', 5: 'surprise', 6: 'disgust'}\n",
            "{'neutral': 0, 'sadness': 1, 'joy': 2, 'anger': 3, 'fear': 4, 'surprise': 5, 'disgust': 6}\n"
          ]
        }
      ]
    },
    {
      "cell_type": "code",
      "source": [
        "# Convert label list to index list\n",
        "index_labels = [ltoi[label] for label in balanced_labels]\n",
        "index_labels[:5]"
      ],
      "metadata": {
        "colab": {
          "base_uri": "https://localhost:8080/"
        },
        "id": "TDAGkc6LjU2J",
        "outputId": "4d1149e6-1e75-4aef-d8ae-43e172c60a49"
      },
      "execution_count": 46,
      "outputs": [
        {
          "output_type": "execute_result",
          "data": {
            "text/plain": [
              "[1, 6, 2, 2, 2]"
            ]
          },
          "metadata": {},
          "execution_count": 46
        }
      ]
    },
    {
      "cell_type": "code",
      "source": [
        "import numpy as np\n",
        "from sklearn.metrics.pairwise import cosine_similarity\n",
        "\n",
        "# Function to compute cosine similarity between two sentences\n",
        "def compute_similarity(embedding1, embedding2):\n",
        "    # Convert tensors to numpy arrays\n",
        "    embedding1 = embedding1.numpy()\n",
        "    embedding2 = embedding2.numpy()\n",
        "    # Compute cosine similarity\n",
        "    similarity = cosine_similarity(embedding1, embedding2)\n",
        "    return similarity[0][0]\n",
        "\n",
        "# Example sentences\n",
        "sentence1 = \"That was a great experience playing badminton.\"\n",
        "sentence2 = \"I will love to play it again.\"\n",
        "\n",
        "# Process the sentences\n",
        "processed_sentences = [sentence1, sentence2]\n",
        "\n",
        "\n",
        "# Generate BERT embeddings\n",
        "embeddings = generate_bert_embeddings(processed_sentences)\n",
        "\n",
        "# Extract embeddings for the sentences\n",
        "embedding1 = embeddings[0:1]  # First sentence\n",
        "embedding2 = embeddings[1:2]  # Second sentence\n",
        "\n",
        "# Compute similarity\n",
        "similarity_score = compute_similarity(embedding1, embedding2)\n",
        "\n",
        "print(f\"Similarity score between the sentences: {similarity_score}\")"
      ],
      "metadata": {
        "colab": {
          "base_uri": "https://localhost:8080/"
        },
        "id": "xg0tdrpH5TCd",
        "outputId": "8b41d934-1821-43de-a53d-fa3dac7329be"
      },
      "execution_count": 54,
      "outputs": [
        {
          "output_type": "stream",
          "name": "stderr",
          "text": [
            "Generating BERT embeddings: 100%|██████████| 1/1 [00:00<00:00,  3.35it/s]"
          ]
        },
        {
          "output_type": "stream",
          "name": "stdout",
          "text": [
            "Similarity score between the sentences: 0.9205251932144165\n"
          ]
        },
        {
          "output_type": "stream",
          "name": "stderr",
          "text": [
            "\n"
          ]
        }
      ]
    },
    {
      "cell_type": "code",
      "source": [
        "labels_tensor = torch.tensor(index_labels)\n",
        "len(index_labels)"
      ],
      "metadata": {
        "id": "yHr_o4pTRAi9",
        "colab": {
          "base_uri": "https://localhost:8080/"
        },
        "outputId": "0e7202b7-1abe-410a-b388-e742d2da188b"
      },
      "execution_count": 55,
      "outputs": [
        {
          "output_type": "execute_result",
          "data": {
            "text/plain": [
              "30668"
            ]
          },
          "metadata": {},
          "execution_count": 55
        }
      ]
    },
    {
      "cell_type": "code",
      "source": [
        "torch.save(labels_tensor, 'labels.pt')"
      ],
      "metadata": {
        "id": "P_ihxHXzRmt7"
      },
      "execution_count": 56,
      "outputs": []
    },
    {
      "cell_type": "code",
      "source": [
        "labels_tensor = torch.load(\"labels.pt\")\n",
        "loaded_embeddings = torch.load(\"data_embeddings.pt\")"
      ],
      "metadata": {
        "id": "61Ak5yVYRTbR"
      },
      "execution_count": 57,
      "outputs": []
    },
    {
      "cell_type": "code",
      "source": [
        "loaded_embeddings = loaded_embeddings.float()"
      ],
      "metadata": {
        "id": "jm9NopNySIsp"
      },
      "execution_count": 58,
      "outputs": []
    },
    {
      "cell_type": "code",
      "source": [
        "len(loaded_embeddings), len(index_labels)"
      ],
      "metadata": {
        "colab": {
          "base_uri": "https://localhost:8080/"
        },
        "id": "MbJsBuN4XOkp",
        "outputId": "de179684-35d7-4876-aecd-dfa9948888c9"
      },
      "execution_count": 59,
      "outputs": [
        {
          "output_type": "execute_result",
          "data": {
            "text/plain": [
              "(30668, 30668)"
            ]
          },
          "metadata": {},
          "execution_count": 59
        }
      ]
    },
    {
      "cell_type": "markdown",
      "source": [
        "# 3. Prepare the data"
      ],
      "metadata": {
        "id": "PUfDGIXeXgtB"
      }
    },
    {
      "cell_type": "code",
      "source": [
        "# Split the dataset\n",
        "import torch\n",
        "from torch import nn, optim\n",
        "from torch.utils.data import DataLoader, TensorDataset, random_split\n",
        "\n",
        "\n",
        "dataset = TensorDataset(loaded_embeddings, labels_tensor)\n",
        "train_size = int(0.8 * len(dataset))\n",
        "test_size = len(dataset) - train_size\n",
        "train_dataset, test_dataset = random_split(dataset, [train_size, test_size])"
      ],
      "metadata": {
        "id": "fizN3VOZmH5f"
      },
      "execution_count": 60,
      "outputs": []
    },
    {
      "cell_type": "markdown",
      "source": [
        "# 4. Developing Neural Network"
      ],
      "metadata": {
        "id": "jfZkmEDCoX7c"
      }
    },
    {
      "cell_type": "code",
      "source": [
        "class LSTMClassifier(nn.Module):\n",
        "    def __init__(self, input_dim, hidden_dim, output_dim, num_layers=1):\n",
        "        super(LSTMClassifier, self).__init__()\n",
        "        self.lstm = nn.LSTM(input_dim, hidden_dim, num_layers, batch_first=True)\n",
        "        self.fc = nn.Linear(hidden_dim, output_dim)\n",
        "        self.hidden_dim = hidden_dim\n",
        "        self.num_layers = num_layers\n",
        "\n",
        "    def forward(self, x):\n",
        "        batch_size = x.size(0)\n",
        "        h0 = torch.zeros(self.num_layers, batch_size, self.hidden_dim).to(x.device)\n",
        "        c0 = torch.zeros(self.num_layers, batch_size, self.hidden_dim).to(x.device)\n",
        "        out, _ = self.lstm(x, (h0, c0))\n",
        "        out = self.fc(out[:, -1, :])\n",
        "        return out"
      ],
      "metadata": {
        "id": "sgKQuff7mQLH"
      },
      "execution_count": 67,
      "outputs": []
    },
    {
      "cell_type": "markdown",
      "source": [
        "## 4.1. Hyperparemeter optimization using randomsearchCV"
      ],
      "metadata": {
        "id": "tG2pB2FXZCdY"
      }
    },
    {
      "cell_type": "code",
      "source": [
        "import torch.optim as optim\n",
        "from sklearn.base import BaseEstimator, ClassifierMixin\n",
        "from torch.utils.data import DataLoader\n",
        "from sklearn.metrics import accuracy_score\n",
        "\n",
        "class PyTorchLSTMClassifier(BaseEstimator, ClassifierMixin):\n",
        "    def __init__(self, input_dim, hidden_dim=128, num_layers=3, output_dim=7, lr=0.001, batch_size=16, epochs=10):\n",
        "        self.input_dim = input_dim\n",
        "        self.hidden_dim = hidden_dim\n",
        "        self.num_layers = num_layers\n",
        "        self.output_dim = output_dim\n",
        "        self.lr = lr\n",
        "        self.batch_size = batch_size\n",
        "        self.epochs = epochs\n",
        "        self.device = torch.device(\"cuda\" if torch.cuda.is_available() else \"cpu\")\n",
        "        self.model = LSTMClassifier(input_dim, hidden_dim, output_dim, num_layers).to(self.device)\n",
        "        self.criterion = nn.CrossEntropyLoss()\n",
        "        self.optimizer = optim.Adam(self.model.parameters(), lr=lr)\n",
        "\n",
        "    def fit(self, X, y):\n",
        "        self.model.train()\n",
        "        train_loader = DataLoader(dataset=list(zip(X, y)), batch_size=self.batch_size, shuffle=True)\n",
        "        for epoch in range(self.epochs):\n",
        "            for data, target in train_loader:\n",
        "                data, target = data.to(self.device), target.to(self.device)\n",
        "                data = data.unsqueeze(1)  # Add sequence dimension\n",
        "                self.optimizer.zero_grad()\n",
        "                output = self.model(data)\n",
        "                loss = self.criterion(output, target)\n",
        "                loss.backward()\n",
        "                self.optimizer.step()\n",
        "\n",
        "    def predict(self, X):\n",
        "        self.model.eval()\n",
        "        test_loader = DataLoader(dataset=X, batch_size=self.batch_size, shuffle=False)\n",
        "        predictions = []\n",
        "        with torch.no_grad():\n",
        "            for data in test_loader:\n",
        "                data = data.to(self.device)\n",
        "                data = data.unsqueeze(1)  # Add sequence dimension\n",
        "                output = self.model(data)\n",
        "                _, predicted = torch.max(output, 1)\n",
        "                predictions.extend(predicted.cpu().numpy())\n",
        "        return np.array(predictions)\n",
        "\n",
        "    def score(self, X, y):\n",
        "        predictions = self.predict(X)\n",
        "        return accuracy_score(y, predictions)"
      ],
      "metadata": {
        "id": "2nMKDBzUa0Tp"
      },
      "execution_count": 77,
      "outputs": []
    },
    {
      "cell_type": "code",
      "source": [
        "# Convert datasets to lists of tensors for sklearn compatibility\n",
        "X_train = [data[0] for data in train_dataset]\n",
        "y_train = [data[1].item() for data in train_dataset]"
      ],
      "metadata": {
        "id": "yvlY8XJzbzOe"
      },
      "execution_count": 78,
      "outputs": []
    },
    {
      "cell_type": "code",
      "source": [
        "from sklearn.model_selection import RandomizedSearchCV\n",
        "\n",
        "# Define the parameter grid for RandomizedSearchCV\n",
        "param_dist = {\n",
        "    'hidden_dim': [64, 128, 256],\n",
        "    'num_layers': [1, 2, 3],\n",
        "    'lr': [0.0001, 0.001, 0.01],\n",
        "    'batch_size': [16, 32],\n",
        "    'epochs': [10, 20, 30]\n",
        "}\n",
        "\n",
        "# Instantiate the classifier\n",
        "pytorch_lstm_clf = PyTorchLSTMClassifier(input_dim=loaded_embeddings.size(1), output_dim=7)\n",
        "\n",
        "# Perform RandomizedSearchCV\n",
        "random_search = RandomizedSearchCV(pytorch_lstm_clf, param_distributions=param_dist, n_iter=5, cv=2, verbose=2, n_jobs=1)\n",
        "random_search.fit(X_train, y_train)\n",
        "\n",
        "# Print the best parameters and best score\n",
        "print(\"Best parameters found: \", random_search.best_params_)\n",
        "print(\"Best cross-validation score: \", random_search.best_score_)"
      ],
      "metadata": {
        "colab": {
          "base_uri": "https://localhost:8080/"
        },
        "id": "RHBFIm0qb4M1",
        "outputId": "66ec1604-55fe-4139-ba12-a80cef6ff1cf"
      },
      "execution_count": 80,
      "outputs": [
        {
          "output_type": "stream",
          "name": "stdout",
          "text": [
            "Fitting 2 folds for each of 5 candidates, totalling 10 fits\n",
            "[CV] END batch_size=32, epochs=30, hidden_dim=256, lr=0.0001, num_layers=3; total time= 4.0min\n",
            "[CV] END batch_size=32, epochs=30, hidden_dim=256, lr=0.0001, num_layers=3; total time= 4.6min\n",
            "[CV] END batch_size=16, epochs=20, hidden_dim=256, lr=0.001, num_layers=1; total time= 5.0min\n",
            "[CV] END batch_size=16, epochs=20, hidden_dim=256, lr=0.001, num_layers=1; total time= 4.2min\n",
            "[CV] END batch_size=32, epochs=10, hidden_dim=64, lr=0.001, num_layers=2; total time= 1.2min\n",
            "[CV] END batch_size=32, epochs=10, hidden_dim=64, lr=0.001, num_layers=2; total time= 1.2min\n",
            "[CV] END batch_size=32, epochs=30, hidden_dim=64, lr=0.01, num_layers=3; total time= 3.4min\n",
            "[CV] END batch_size=32, epochs=30, hidden_dim=64, lr=0.01, num_layers=3; total time= 3.3min\n",
            "[CV] END batch_size=32, epochs=20, hidden_dim=256, lr=0.0001, num_layers=2; total time= 2.1min\n",
            "[CV] END batch_size=32, epochs=20, hidden_dim=256, lr=0.0001, num_layers=2; total time= 2.2min\n",
            "Best parameters found:  {'num_layers': 2, 'lr': 0.001, 'hidden_dim': 64, 'epochs': 10, 'batch_size': 32}\n",
            "Best cross-validation score:  0.4856118040270645\n"
          ]
        }
      ]
    },
    {
      "cell_type": "code",
      "source": [
        "# Extracting the best parameters from the random search\n",
        "best_params = random_search.best_params_\n",
        "\n",
        "# Defining variables for each parameter\n",
        "LR = best_params['lr']\n",
        "BATCH_SIZE = best_params['batch_size']\n",
        "EPOCHS = best_params['epochs']\n",
        "HIDDEN_DIM = best_params['hidden_dim']\n",
        "NUM_LAYERS = best_params['num_layers']"
      ],
      "metadata": {
        "id": "6BC0FMkMcmDJ"
      },
      "execution_count": 81,
      "outputs": []
    },
    {
      "cell_type": "code",
      "source": [
        "# Loss and optimizer\n",
        "criterion = nn.CrossEntropyLoss()\n",
        "optimizer = optim.Adam(model.parameters(), lr=LR)"
      ],
      "metadata": {
        "id": "dCg50wfBc2-A"
      },
      "execution_count": 82,
      "outputs": []
    },
    {
      "cell_type": "code",
      "source": [
        "# Setting up parameters\n",
        "input_dim = loaded_embeddings.size(1)\n",
        "hidden_dim = HIDDEN_DIM\n",
        "output_dim = 7\n",
        "num_layers = NUM_LAYERS\n",
        "\n",
        "model = LSTMClassifier(input_dim, hidden_dim, output_dim, num_layers)\n",
        "device = torch.device('cuda' if torch.cuda.is_available() else 'cpu')\n",
        "model.to(device)\n",
        "\n",
        "criterion = nn.CrossEntropyLoss()\n",
        "optimizer = optim.Adam(model.parameters(), lr=LR)\n",
        "\n",
        "batch_size = BATCH_SIZE\n",
        "train_loader = DataLoader(train_dataset, batch_size=batch_size, shuffle=True)\n",
        "test_loader = DataLoader(test_dataset, batch_size=batch_size, shuffle=False)"
      ],
      "metadata": {
        "id": "n1nW9DpRcvHT"
      },
      "execution_count": 83,
      "outputs": []
    },
    {
      "cell_type": "markdown",
      "source": [
        "## 4.2. Training loop"
      ],
      "metadata": {
        "id": "zBCamvP1ZJaD"
      }
    },
    {
      "cell_type": "code",
      "source": [
        "# Set up learning rate scheduler for decay\n",
        "scheduler = optim.lr_scheduler.StepLR(optimizer, step_size=5, gamma=0.1)\n",
        "\n",
        "# DEfining training loop\n",
        "def train_model(model, train_loader, criterion, optimizer, device, num_epochs=EPOCHS):\n",
        "    model.train()\n",
        "    for epoch in range(num_epochs):\n",
        "        total_loss = 0\n",
        "\n",
        "        # Manually adjust the learning rate for the last 5 epochs\n",
        "        if epoch >= num_epochs - 5:\n",
        "            for param_group in optimizer.param_groups:\n",
        "                param_group['lr'] = LR / 10\n",
        "\n",
        "        for batch in train_loader:\n",
        "            embeddings, labels = batch\n",
        "            embeddings, labels = embeddings.to(device), labels.to(device)\n",
        "            embeddings = embeddings.unsqueeze(1)  # Add sequence dimension\n",
        "            outputs = model(embeddings)\n",
        "            loss = criterion(outputs, labels)\n",
        "            optimizer.zero_grad()\n",
        "            loss.backward()\n",
        "            optimizer.step()\n",
        "            total_loss += loss.item()\n",
        "\n",
        "        avg_loss = total_loss / len(train_loader)\n",
        "        print(f'Epoch [{epoch+1}/{num_epochs}], Loss: {avg_loss:.4f}, Learning Rate: {optimizer.param_groups[0][\"lr\"]:.6f}')\n",
        "\n",
        "train_model(model, train_loader, criterion, optimizer, device, num_epochs=EPOCHS+5)\n",
        "\n",
        "def evaluate_model(model, test_loader, device):\n",
        "    model.eval()\n",
        "    correct = 0\n",
        "    total = 0\n",
        "    with torch.no_grad():\n",
        "        for batch in test_loader:\n",
        "            embeddings, labels = batch\n",
        "            embeddings, labels = embeddings.to(device), labels.to(device)\n",
        "            embeddings = embeddings.unsqueeze(1)  # Add sequence dimension\n",
        "            outputs = model(embeddings)\n",
        "            _, predicted = torch.max(outputs.data, 1)\n",
        "            total += labels.size(0)\n",
        "            correct += (predicted == labels).sum().item()\n",
        "    accuracy = correct / total\n",
        "    print(f'Test Accuracy: {accuracy:.4f}')\n",
        "\n",
        "evaluate_model(model, test_loader, device)"
      ],
      "metadata": {
        "colab": {
          "base_uri": "https://localhost:8080/"
        },
        "id": "FqIYiXaCmVx1",
        "outputId": "f74b7955-f6b9-4bd3-a2eb-7a7f0e7f52a3"
      },
      "execution_count": 85,
      "outputs": [
        {
          "output_type": "stream",
          "name": "stdout",
          "text": [
            "Epoch [1/15], Loss: 1.3083, Learning Rate: 0.001000\n",
            "Epoch [2/15], Loss: 1.2650, Learning Rate: 0.001000\n",
            "Epoch [3/15], Loss: 1.2259, Learning Rate: 0.001000\n",
            "Epoch [4/15], Loss: 1.1853, Learning Rate: 0.001000\n",
            "Epoch [5/15], Loss: 1.1425, Learning Rate: 0.001000\n",
            "Epoch [6/15], Loss: 1.1034, Learning Rate: 0.001000\n",
            "Epoch [7/15], Loss: 1.0611, Learning Rate: 0.001000\n",
            "Epoch [8/15], Loss: 1.0173, Learning Rate: 0.001000\n",
            "Epoch [9/15], Loss: 0.9784, Learning Rate: 0.001000\n",
            "Epoch [10/15], Loss: 0.9388, Learning Rate: 0.001000\n",
            "Epoch [11/15], Loss: 0.8081, Learning Rate: 0.000100\n",
            "Epoch [12/15], Loss: 0.7876, Learning Rate: 0.000100\n",
            "Epoch [13/15], Loss: 0.7771, Learning Rate: 0.000100\n",
            "Epoch [14/15], Loss: 0.7680, Learning Rate: 0.000100\n",
            "Epoch [15/15], Loss: 0.7588, Learning Rate: 0.000100\n",
            "Test Accuracy: 0.5253\n"
          ]
        }
      ]
    },
    {
      "cell_type": "code",
      "source": [
        "model_path = \"lstm_model.pth\"\n",
        "torch.save(model.state_dict(), model_path)\n",
        "print(f\"Model saved to {model_path}\")"
      ],
      "metadata": {
        "id": "pUYRJHjapAUp",
        "colab": {
          "base_uri": "https://localhost:8080/"
        },
        "outputId": "c895c93a-c63e-4a8d-a0bb-7a20011e2a37"
      },
      "execution_count": 86,
      "outputs": [
        {
          "output_type": "stream",
          "name": "stdout",
          "text": [
            "Model saved to lstm_model.pth\n"
          ]
        }
      ]
    },
    {
      "cell_type": "code",
      "source": [
        "model_path = \"lstm_model.pth\"\n",
        "model.load_state_dict(torch.load(model_path))\n",
        "model.to(device)"
      ],
      "metadata": {
        "colab": {
          "base_uri": "https://localhost:8080/"
        },
        "id": "wj57frbrqcaX",
        "outputId": "dc36f62f-492c-4c56-8fd4-aa55f25b70c1"
      },
      "execution_count": 87,
      "outputs": [
        {
          "output_type": "execute_result",
          "data": {
            "text/plain": [
              "LSTMClassifier(\n",
              "  (lstm): LSTM(768, 64, num_layers=2, batch_first=True)\n",
              "  (fc): Linear(in_features=64, out_features=7, bias=True)\n",
              ")"
            ]
          },
          "metadata": {},
          "execution_count": 87
        }
      ]
    },
    {
      "cell_type": "code",
      "source": [
        "import matplotlib.pyplot as plt\n",
        "import seaborn as sns\n",
        "from sklearn.metrics import confusion_matrix"
      ],
      "metadata": {
        "id": "ahxybh7FtK0t"
      },
      "execution_count": 88,
      "outputs": []
    },
    {
      "cell_type": "code",
      "source": [
        "def plot_confusion_matrix(model, data_loader, device, label_dict):\n",
        "    model.eval()\n",
        "    all_labels = []\n",
        "    all_predictions = []\n",
        "\n",
        "    with torch.no_grad():\n",
        "        for batch in data_loader:\n",
        "            embeddings, labels = batch\n",
        "            embeddings, labels = embeddings.to(device), labels.to(device)\n",
        "            embeddings = embeddings.unsqueeze(1)\n",
        "            outputs = model(embeddings)\n",
        "            _, predicted = torch.max(outputs.data, 1)\n",
        "            all_labels.extend(labels.cpu().numpy())\n",
        "            all_predictions.extend(predicted.cpu().numpy())\n",
        "\n",
        "    # Compute confusion matrix\n",
        "    num_classes = len(label_dict)\n",
        "    cm = confusion_matrix(all_labels, all_predictions, labels=list(label_dict.keys()))\n",
        "\n",
        "    # Create a list of class names for plotting\n",
        "    class_names = [label_dict[i] for i in range(num_classes)]\n",
        "\n",
        "    # Plot confusion matrix\n",
        "    plt.figure(figsize=(10, 7))\n",
        "    sns.heatmap(cm, annot=True, fmt='d', cmap='Blues',\n",
        "                xticklabels=class_names,\n",
        "                yticklabels=class_names)\n",
        "    plt.xlabel('Predicted Label')\n",
        "    plt.ylabel('True Label')\n",
        "    plt.title('Confusion Matrix')\n",
        "    plt.show()\n",
        "\n",
        "plot_confusion_matrix(model, test_loader, device, itol)"
      ],
      "metadata": {
        "colab": {
          "base_uri": "https://localhost:8080/",
          "height": 641
        },
        "id": "ImoTsztLtOAD",
        "outputId": "8e6fd0c4-c9bd-4a17-99be-8b8770bf5e81"
      },
      "execution_count": 89,
      "outputs": [
        {
          "output_type": "display_data",
          "data": {
            "text/plain": [
              "<Figure size 1000x700 with 2 Axes>"
            ],
            "image/png": "[encoded data removed]"
          },
          "metadata": {}
        }
      ]
    }
  ]
}