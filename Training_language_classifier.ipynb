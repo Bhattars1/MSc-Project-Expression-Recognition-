{
  "nbformat": 4,
  "nbformat_minor": 0,
  "metadata": {
    "colab": {
      "provenance": []
    },
    "kernelspec": {
      "name": "python3",
      "display_name": "Python 3"
    },
    "language_info": {
      "name": "python"
    }
  },
  "cells": [
    {
      "cell_type": "markdown",
      "source": [
        "# Expression Recognition"
      ],
      "metadata": {
        "id": "SqIgY8djDV5N"
      }
    },
    {
      "cell_type": "markdown",
      "source": [
        "# 1. Importing, exploring and cleaning ISEAR dataset"
      ],
      "metadata": {
        "id": "7PVhcKREDRlK"
      }
    },
    {
      "cell_type": "code",
      "source": [
        "!git clone https://github.com/Bhattars1/MSc-Project-Expression-Recognition-"
      ],
      "metadata": {
        "colab": {
          "base_uri": "https://localhost:8080/"
        },
        "id": "jFWSeKlBqgPF",
        "outputId": "b7726588-0244-4412-b7f8-9862516cb903"
      },
      "execution_count": 68,
      "outputs": [
        {
          "output_type": "stream",
          "name": "stdout",
          "text": [
            "fatal: destination path 'MSc-Project-Expression-Recognition-' already exists and is not an empty directory.\n"
          ]
        }
      ]
    },
    {
      "cell_type": "code",
      "source": [
        "# Import function for geoemotion dataset\n",
        "import pandas as pd\n",
        "def upload_go(path):\n",
        "  df = pd.read_csv(path)\n",
        "  return df"
      ],
      "metadata": {
        "id": "7DV6BsMJ-Eh8"
      },
      "execution_count": 69,
      "outputs": []
    },
    {
      "cell_type": "code",
      "source": [
        "go_path_1 =\"/content/MSc-Project-Expression-Recognition-/geoemotion dataset/goemotions_1.csv\"\n",
        "go_path_2 =\"/content/MSc-Project-Expression-Recognition-/geoemotion dataset/goemotions_2.csv\"\n",
        "go_path_3 =\"/content/MSc-Project-Expression-Recognition-/geoemotion dataset/goemotions_3.csv\"\n",
        "\n",
        "go_v1 = upload_go(go_path_1)\n",
        "go_v2 = upload_go(go_path_2)\n",
        "go_v3 = upload_go(go_path_3)"
      ],
      "metadata": {
        "id": "O_wX8IBpA3Ka"
      },
      "execution_count": 70,
      "outputs": []
    },
    {
      "cell_type": "code",
      "source": [
        "selected_columns = [\n",
        "    \"admiration\",\n",
        "    \"amusement\",\n",
        "    \"anger\",\n",
        "    \"annoyance\",\n",
        "    \"approval\",\n",
        "    \"caring\",\n",
        "    \"confusion\",\n",
        "    \"curiosity\",\n",
        "    \"desire\",\n",
        "    \"disappointment\",\n",
        "    \"disapproval\",\n",
        "    \"disgust\",\n",
        "    \"embarrassment\",\n",
        "    \"excitement\",\n",
        "    \"fear\",\n",
        "    \"gratitude\",\n",
        "    \"grief\",\n",
        "    \"joy\",\n",
        "    \"love\",\n",
        "    \"nervousness\",\n",
        "    \"optimism\",\n",
        "    \"pride\",\n",
        "    \"realization\",\n",
        "    \"relief\",\n",
        "    \"remorse\",\n",
        "    \"sadness\",\n",
        "    \"surprise\",\n",
        "    \"neutral\"\n",
        "]"
      ],
      "metadata": {
        "id": "3QxnipHLB5qi"
      },
      "execution_count": 71,
      "outputs": []
    },
    {
      "cell_type": "code",
      "source": [
        "emotions_columns = [\"text\", \"anger\", \"disgust\", \"fear\", \"joy\", \"sadness\", \"surprise\", \"neutral\"]"
      ],
      "metadata": {
        "id": "6lSRqUHKHxh9"
      },
      "execution_count": 72,
      "outputs": []
    },
    {
      "cell_type": "code",
      "source": [
        "def clean_geo(data, columns, text_column, emotions_columns):\n",
        "    # Select relevant columns from the data\n",
        "    df = data[columns].copy()  # Ensure we are working with a copy to avoid SettingWithCopyWarning\n",
        "\n",
        "    # Convert one-hot encoded columns to a single column of emotion labels\n",
        "    df['emotion'] = df[columns].idxmax(axis=1)\n",
        "\n",
        "    # Drop the one-hot encoded emotion columns\n",
        "    df = df.drop(columns=columns)\n",
        "\n",
        "    # Add a new column named 'text' with data from data[text_column]\n",
        "    df['text'] = data[text_column].values  # Use .values to avoid SettingWithCopyWarning\n",
        "\n",
        "    # Filter to keep only rows where 'emotion' matches one of the specified emotions\n",
        "    df = df[df['emotion'].isin(emotions_columns)].copy()  # Ensure we are working with a copy\n",
        "\n",
        "    return df\n"
      ],
      "metadata": {
        "id": "PPqDYtT4INoW"
      },
      "execution_count": 73,
      "outputs": []
    },
    {
      "cell_type": "code",
      "source": [
        "cleaned_go_1 = clean_geo(go_v1, selected_columns, \"text\", emotions_columns)\n",
        "cleaned_go_2 = clean_geo(go_v2, selected_columns, \"text\", emotions_columns)\n",
        "cleaned_go_3 = clean_geo(go_v3, selected_columns, \"text\", emotions_columns)"
      ],
      "metadata": {
        "id": "uVkIE0a6Ct6N"
      },
      "execution_count": 74,
      "outputs": []
    },
    {
      "cell_type": "code",
      "source": [
        "# Concatenate DataFrames vertically\n",
        "combined_df = pd.concat([cleaned_go_1, cleaned_go_2, cleaned_go_3], ignore_index=True)"
      ],
      "metadata": {
        "id": "0-WDe9IlJ1us"
      },
      "execution_count": 75,
      "outputs": []
    },
    {
      "cell_type": "code",
      "source": [
        "def data_labels(df, data, labels):\n",
        "  data = df[data].tolist()\n",
        "  labels = df[labels].tolist()\n",
        "  return data, labels"
      ],
      "metadata": {
        "id": "gr-_F61KKB7E"
      },
      "execution_count": 76,
      "outputs": []
    },
    {
      "cell_type": "code",
      "source": [
        "final_df, final_labels = data_labels(combined_df, \"text\", \"emotion\")\n",
        "len(final_df), len(final_labels)"
      ],
      "metadata": {
        "id": "2gua9cOEKQhX",
        "colab": {
          "base_uri": "https://localhost:8080/"
        },
        "outputId": "b4d2f86e-d53d-412b-8a6c-f2f0f7632a68"
      },
      "execution_count": 77,
      "outputs": [
        {
          "output_type": "execute_result",
          "data": {
            "text/plain": [
              "(81643, 81643)"
            ]
          },
          "metadata": {},
          "execution_count": 77
        }
      ]
    },
    {
      "cell_type": "code",
      "source": [
        "# Checking if the dataset is balanced or not\n",
        "def label_distribution(data):\n",
        "  unique_expressions = list(set(data))\n",
        "  for i in unique_expressions:\n",
        "    print(f\"{i} : {list(data).count(i)}\")\n",
        "label_distribution(final_labels)"
      ],
      "metadata": {
        "colab": {
          "base_uri": "https://localhost:8080/"
        },
        "id": "Fy0KlARKEFmp",
        "outputId": "cbb4eafc-d594-4427-b2ce-0dfb4389c7d3"
      },
      "execution_count": 78,
      "outputs": [
        {
          "output_type": "stream",
          "name": "stdout",
          "text": [
            "surprise : 3472\n",
            "fear : 2514\n",
            "neutral : 55298\n",
            "joy : 5120\n",
            "sadness : 3863\n",
            "anger : 7956\n",
            "disgust : 3420\n"
          ]
        }
      ]
    },
    {
      "cell_type": "code",
      "source": [
        "# Balancing the data\n",
        "import random\n",
        "\n",
        "# Separate the neutral samples\n",
        "neutral_indices = [i for i, label in enumerate(final_labels) if label == 'neutral']\n",
        "non_neutral_indices = [i for i, label in enumerate(final_labels) if label != 'neutral']\n",
        "\n",
        "# Randomly sample 5000 neutral indices\n",
        "sampled_neutral_indices = random.sample(neutral_indices, 8000)\n",
        "\n",
        "# Combine the non-neutral indices with the sampled neutral indices\n",
        "balanced_indices = non_neutral_indices + sampled_neutral_indices\n",
        "\n",
        "# Create the balanced labels and data lists\n",
        "balanced_labels = [final_labels[i] for i in balanced_indices]\n",
        "balanced_data = [final_df[i] for i in balanced_indices]\n"
      ],
      "metadata": {
        "id": "DzFLqhOLf2vx"
      },
      "execution_count": 79,
      "outputs": []
    },
    {
      "cell_type": "code",
      "source": [
        "label_distribution(balanced_labels)"
      ],
      "metadata": {
        "colab": {
          "base_uri": "https://localhost:8080/"
        },
        "id": "u_inKCxWjrVt",
        "outputId": "706fff22-773d-423b-e39c-18fc24b11194"
      },
      "execution_count": 80,
      "outputs": [
        {
          "output_type": "stream",
          "name": "stdout",
          "text": [
            "surprise : 3472\n",
            "fear : 2514\n",
            "neutral : 8000\n",
            "sadness : 3863\n",
            "joy : 5120\n",
            "anger : 7956\n",
            "disgust : 3420\n"
          ]
        }
      ]
    },
    {
      "cell_type": "markdown",
      "source": [
        "# 2. Preprocessing"
      ],
      "metadata": {
        "id": "4hHlzdf_33UP"
      }
    },
    {
      "cell_type": "code",
      "source": [
        "import torch\n",
        "from transformers import BertTokenizer, BertModel\n",
        "\n",
        "# Load pre-trained BERT model and tokenizer\n",
        "tokenizer = BertTokenizer.from_pretrained('bert-base-uncased')\n",
        "model = BertModel.from_pretrained('bert-base-uncased')"
      ],
      "metadata": {
        "id": "zy8t-GYPwooi"
      },
      "execution_count": 81,
      "outputs": []
    },
    {
      "cell_type": "code",
      "source": [
        "# Embedding function\n",
        "import tqdm\n",
        "def generate_bert_embeddings(sentences, batch_size=8):\n",
        "    embeddings_list = []\n",
        "    for i in tqdm.tqdm(range(0, len(sentences), batch_size), desc=\"Generating BERT embeddings\"):\n",
        "        batch = sentences[i:i + batch_size]\n",
        "        inputs = tokenizer(batch, return_tensors='pt', padding=True, truncation=True, max_length=512)\n",
        "        with torch.no_grad():\n",
        "            outputs = model(**inputs)\n",
        "        # Extract embeddings of the [CLS] token (index 0) for each sentence\n",
        "        cls_embeddings = outputs.last_hidden_state[:, 0, :]\n",
        "        embeddings_list.append(cls_embeddings)\n",
        "    embeddings = torch.cat(embeddings_list)\n",
        "    return embeddings"
      ],
      "metadata": {
        "id": "x-m7R5P3xI53"
      },
      "execution_count": 82,
      "outputs": []
    },
    {
      "cell_type": "code",
      "source": [
        "data_embeddings = generate_bert_embeddings(balanced_data)"
      ],
      "metadata": {
        "id": "f5HUtwc83Qi3"
      },
      "execution_count": 82,
      "outputs": []
    },
    {
      "cell_type": "code",
      "source": [
        "# Save embeddings\n",
        "torch.save(data_embeddings, 'data_embeddings.pt')"
      ],
      "metadata": {
        "id": "bx_H66FIoqvz"
      },
      "execution_count": null,
      "outputs": []
    },
    {
      "cell_type": "code",
      "source": [
        "# Load embeddings\n",
        "import torch\n",
        "loaded_embeddings = torch.load('data_embeddings.pt')\n",
        "final_labels = torch.load(\"labels.pt\")\n",
        "\n",
        "# Verify loaded embeddings\n",
        "print(len(loaded_embeddings), len(final_labels))"
      ],
      "metadata": {
        "colab": {
          "base_uri": "https://localhost:8080/"
        },
        "id": "B9TRJO6UouOF",
        "outputId": "2a8c4f14-f7d3-4f60-ba1b-9c3721bbb0a8"
      },
      "execution_count": null,
      "outputs": [
        {
          "output_type": "stream",
          "name": "stdout",
          "text": [
            "34345 34345\n"
          ]
        }
      ]
    },
    {
      "cell_type": "markdown",
      "source": [
        "Indexing labels"
      ],
      "metadata": {
        "id": "Knhold8Cih5U"
      }
    },
    {
      "cell_type": "code",
      "source": [
        "unique_labels = list(set(balanced_labels))\n",
        "unique_labels"
      ],
      "metadata": {
        "colab": {
          "base_uri": "https://localhost:8080/"
        },
        "id": "gxEPccbnikyb",
        "outputId": "3be14af1-b0aa-4262-df7d-45b8a4d0f28f"
      },
      "execution_count": 83,
      "outputs": [
        {
          "output_type": "execute_result",
          "data": {
            "text/plain": [
              "['surprise', 'fear', 'neutral', 'sadness', 'joy', 'anger', 'disgust']"
            ]
          },
          "metadata": {},
          "execution_count": 83
        }
      ]
    },
    {
      "cell_type": "code",
      "source": [
        "itol = {}\n",
        "ltoi = {}\n",
        "for i, label in enumerate(unique_labels):\n",
        "  itol[i]= label\n",
        "  ltoi[label] = i\n",
        "print(itol)\n",
        "print(ltoi)"
      ],
      "metadata": {
        "colab": {
          "base_uri": "https://localhost:8080/"
        },
        "id": "Jj37pTTJiy3b",
        "outputId": "7ff91a28-058d-48d6-d08a-4f9e012124f1"
      },
      "execution_count": 84,
      "outputs": [
        {
          "output_type": "stream",
          "name": "stdout",
          "text": [
            "{0: 'surprise', 1: 'fear', 2: 'neutral', 3: 'sadness', 4: 'joy', 5: 'anger', 6: 'disgust'}\n",
            "{'surprise': 0, 'fear': 1, 'neutral': 2, 'sadness': 3, 'joy': 4, 'anger': 5, 'disgust': 6}\n"
          ]
        }
      ]
    },
    {
      "cell_type": "code",
      "source": [
        "# Convert label list to index list\n",
        "index_labels = [ltoi[label] for label in balanced_labels]\n",
        "index_labels[:5]"
      ],
      "metadata": {
        "colab": {
          "base_uri": "https://localhost:8080/"
        },
        "id": "TDAGkc6LjU2J",
        "outputId": "46204ff2-a8b9-4707-fb4f-6fc61c5f9e45"
      },
      "execution_count": 85,
      "outputs": [
        {
          "output_type": "execute_result",
          "data": {
            "text/plain": [
              "[3, 6, 4, 4, 4]"
            ]
          },
          "metadata": {},
          "execution_count": 85
        }
      ]
    },
    {
      "cell_type": "code",
      "source": [
        "import numpy as np\n",
        "from sklearn.metrics.pairwise import cosine_similarity\n",
        "\n",
        "# Function to compute cosine similarity between two sentences\n",
        "def compute_similarity(embedding1, embedding2):\n",
        "    # Convert tensors to numpy arrays\n",
        "    embedding1 = embedding1.numpy()\n",
        "    embedding2 = embedding2.numpy()\n",
        "    # Compute cosine similarity\n",
        "    similarity = cosine_similarity(embedding1, embedding2)\n",
        "    return similarity[0][0]\n",
        "\n",
        "# Example sentences\n",
        "sentence1 = \"That was a great experience playing badminton.\"\n",
        "sentence2 = \"I will love to play it again.\"\n",
        "\n",
        "# Process the sentences\n",
        "processed_sentences = [sentence1, sentence2]\n",
        "\n",
        "\n",
        "# Generate BERT embeddings\n",
        "embeddings = generate_bert_embeddings(processed_sentences)\n",
        "\n",
        "# Extract embeddings for the sentences\n",
        "embedding1 = embeddings[0:1]  # First sentence\n",
        "embedding2 = embeddings[1:2]  # Second sentence\n",
        "\n",
        "# Compute similarity\n",
        "similarity_score = compute_similarity(embedding1, embedding2)\n",
        "\n",
        "print(f\"Similarity score between the sentences: {similarity_score}\")"
      ],
      "metadata": {
        "colab": {
          "base_uri": "https://localhost:8080/"
        },
        "id": "xg0tdrpH5TCd",
        "outputId": "8a4253d4-54db-41be-a1c3-4f362d2206ee"
      },
      "execution_count": null,
      "outputs": [
        {
          "output_type": "stream",
          "name": "stderr",
          "text": [
            "Generating BERT embeddings: 100%|██████████| 1/1 [00:01<00:00,  1.63s/it]"
          ]
        },
        {
          "output_type": "stream",
          "name": "stdout",
          "text": [
            "Similarity score between the sentences: 0.9205251932144165\n"
          ]
        },
        {
          "output_type": "stream",
          "name": "stderr",
          "text": [
            "\n"
          ]
        }
      ]
    },
    {
      "cell_type": "code",
      "source": [
        "labels_tensor = torch.tensor(index_labels)\n",
        "len(index_labels)"
      ],
      "metadata": {
        "id": "yHr_o4pTRAi9",
        "colab": {
          "base_uri": "https://localhost:8080/"
        },
        "outputId": "c191a71f-668b-482d-c80e-503959d6b479"
      },
      "execution_count": null,
      "outputs": [
        {
          "output_type": "execute_result",
          "data": {
            "text/plain": [
              "34345"
            ]
          },
          "metadata": {},
          "execution_count": 41
        }
      ]
    },
    {
      "cell_type": "code",
      "source": [
        "torch.save(labels_tensor, 'labels.pt')"
      ],
      "metadata": {
        "id": "P_ihxHXzRmt7"
      },
      "execution_count": null,
      "outputs": []
    },
    {
      "cell_type": "code",
      "source": [
        "labels_tensor = torch.load(\"labels.pt\")\n",
        "loaded_embeddings = torch.load(\"data_embeddings.pt\")"
      ],
      "metadata": {
        "id": "61Ak5yVYRTbR"
      },
      "execution_count": null,
      "outputs": []
    },
    {
      "cell_type": "code",
      "source": [
        "loaded_embeddings = loaded_embeddings.float()"
      ],
      "metadata": {
        "id": "jm9NopNySIsp"
      },
      "execution_count": null,
      "outputs": []
    },
    {
      "cell_type": "code",
      "source": [
        "len(loaded_embeddings), len(index_labels)"
      ],
      "metadata": {
        "colab": {
          "base_uri": "https://localhost:8080/"
        },
        "id": "MbJsBuN4XOkp",
        "outputId": "461784ae-f4d2-49b6-cefd-d9406dfc76a3"
      },
      "execution_count": null,
      "outputs": [
        {
          "output_type": "execute_result",
          "data": {
            "text/plain": [
              "(34345, 34345)"
            ]
          },
          "metadata": {},
          "execution_count": 44
        }
      ]
    },
    {
      "cell_type": "markdown",
      "source": [
        "# 3. Prepare the data"
      ],
      "metadata": {
        "id": "PUfDGIXeXgtB"
      }
    },
    {
      "cell_type": "code",
      "source": [
        "# Define dataset and dataloaders\n",
        "import torch\n",
        "from torch import nn, optim\n",
        "from torch.utils.data import DataLoader, TensorDataset, random_split\n",
        "\n",
        "\n",
        "dataset = TensorDataset(loaded_embeddings, labels_tensor)\n",
        "train_size = int(0.8 * len(dataset))\n",
        "test_size = len(dataset) - train_size\n",
        "train_dataset, test_dataset = random_split(dataset, [train_size, test_size])\n",
        "\n",
        "batch_size = 16\n",
        "train_loader = DataLoader(train_dataset, batch_size=batch_size, shuffle=True)\n",
        "test_loader = DataLoader(test_dataset, batch_size=batch_size, shuffle=False)"
      ],
      "metadata": {
        "id": "fizN3VOZmH5f"
      },
      "execution_count": null,
      "outputs": []
    },
    {
      "cell_type": "markdown",
      "source": [
        "# 4. Developing Neural Network"
      ],
      "metadata": {
        "id": "jfZkmEDCoX7c"
      }
    },
    {
      "cell_type": "code",
      "source": [
        "class LSTMClassifier(nn.Module):\n",
        "    def __init__(self, input_dim, hidden_dim, output_dim, num_layers=1):\n",
        "        super(LSTMClassifier, self).__init__()\n",
        "        self.lstm = nn.LSTM(input_dim, hidden_dim, num_layers, batch_first=True)\n",
        "        self.fc = nn.Linear(hidden_dim, output_dim)\n",
        "        self.hidden_dim = hidden_dim\n",
        "        self.num_layers = num_layers\n",
        "\n",
        "    def forward(self, x):\n",
        "        batch_size = x.size(0)\n",
        "        h0 = torch.zeros(self.num_layers, batch_size, self.hidden_dim).to(x.device)\n",
        "        c0 = torch.zeros(self.num_layers, batch_size, self.hidden_dim).to(x.device)\n",
        "        out, _ = self.lstm(x, (h0, c0))\n",
        "        out = self.fc(out[:, -1, :])\n",
        "        return out\n",
        "\n",
        "input_dim = loaded_embeddings.size(1)\n",
        "hidden_dim = 128\n",
        "output_dim = 7\n",
        "num_layers = 1\n",
        "\n",
        "model = LSTMClassifier(input_dim, hidden_dim, output_dim, num_layers)\n",
        "device = torch.device('cuda' if torch.cuda.is_available() else 'cpu')\n",
        "model.to(device)\n",
        "\n",
        "criterion = nn.CrossEntropyLoss()\n",
        "optimizer = optim.Adam(model.parameters(), lr=0.001)\n"
      ],
      "metadata": {
        "id": "sgKQuff7mQLH"
      },
      "execution_count": 87,
      "outputs": []
    },
    {
      "cell_type": "code",
      "source": [
        "# Loss and optimizer\n",
        "criterion = nn.CrossEntropyLoss()\n",
        "optimizer = optim.Adam(model.parameters(), lr=0.001)"
      ],
      "metadata": {
        "id": "qDxbxdGMnkbY"
      },
      "execution_count": null,
      "outputs": []
    },
    {
      "cell_type": "code",
      "source": [
        "def train_model(model, train_loader, criterion, optimizer, device, num_epochs=10):\n",
        "    model.train()\n",
        "    for epoch in range(num_epochs):\n",
        "        total_loss = 0\n",
        "        for batch in train_loader:\n",
        "            embeddings, labels = batch\n",
        "            embeddings, labels = embeddings.to(device), labels.to(device)\n",
        "            embeddings = embeddings.unsqueeze(1)  # Add sequence dimension\n",
        "            outputs = model(embeddings)\n",
        "            loss = criterion(outputs, labels)\n",
        "            optimizer.zero_grad()\n",
        "            loss.backward()\n",
        "            optimizer.step()\n",
        "            total_loss += loss.item()\n",
        "        avg_loss = total_loss / len(train_loader)\n",
        "        print(f'Epoch [{epoch+1}/{num_epochs}], Loss: {avg_loss:.4f}')\n",
        "\n",
        "train_model(model, train_loader, criterion, optimizer, device, num_epochs=10)\n",
        "\n",
        "def evaluate_model(model, test_loader, device):\n",
        "    model.eval()\n",
        "    correct = 0\n",
        "    total = 0\n",
        "    with torch.no_grad():\n",
        "        for batch in test_loader:\n",
        "            embeddings, labels = batch\n",
        "            embeddings, labels = embeddings.to(device), labels.to(device)\n",
        "            embeddings = embeddings.unsqueeze(1)  # Add sequence dimension\n",
        "            outputs = model(embeddings)\n",
        "            _, predicted = torch.max(outputs.data, 1)\n",
        "            total += labels.size(0)\n",
        "            correct += (predicted == labels).sum().item()\n",
        "    accuracy = correct / total\n",
        "    print(f'Test Accuracy: {accuracy:.4f}')\n",
        "\n",
        "evaluate_model(model, test_loader, device)"
      ],
      "metadata": {
        "colab": {
          "base_uri": "https://localhost:8080/"
        },
        "id": "FqIYiXaCmVx1",
        "outputId": "21258f67-64d8-4040-8e1e-3cd90cb590ca"
      },
      "execution_count": 91,
      "outputs": [
        {
          "output_type": "stream",
          "name": "stdout",
          "text": [
            "Epoch [1/10], Loss: 0.5112\n",
            "Epoch [2/10], Loss: 0.3953\n",
            "Epoch [3/10], Loss: 0.3851\n",
            "Epoch [4/10], Loss: 0.3772\n",
            "Epoch [5/10], Loss: 0.3695\n",
            "Epoch [6/10], Loss: 0.3620\n",
            "Epoch [7/10], Loss: 0.3636\n",
            "Epoch [8/10], Loss: 0.3571\n",
            "Epoch [9/10], Loss: 0.3556\n",
            "Epoch [10/10], Loss: 0.3516\n",
            "Test Accuracy: 0.5274\n"
          ]
        }
      ]
    },
    {
      "cell_type": "code",
      "source": [
        "model_path = \"lstm_model.pth\"\n",
        "torch.save(model.state_dict(), model_path)\n",
        "print(f\"Model saved to {model_path}\")"
      ],
      "metadata": {
        "colab": {
          "base_uri": "https://localhost:8080/"
        },
        "id": "pUYRJHjapAUp",
        "outputId": "c469022c-1cc3-4ec1-aed0-8d102fee0339"
      },
      "execution_count": 99,
      "outputs": [
        {
          "output_type": "stream",
          "name": "stdout",
          "text": [
            "Model saved to lstm_model.pth\n"
          ]
        }
      ]
    },
    {
      "cell_type": "code",
      "source": [
        "model.load_state_dict(torch.load(model_path))\n",
        "model.to(device)"
      ],
      "metadata": {
        "colab": {
          "base_uri": "https://localhost:8080/"
        },
        "id": "wj57frbrqcaX",
        "outputId": "bfa56f15-9e01-4360-cc43-bdf804ed68cd"
      },
      "execution_count": 100,
      "outputs": [
        {
          "output_type": "execute_result",
          "data": {
            "text/plain": [
              "LSTMClassifier(\n",
              "  (lstm): LSTM(768, 128, batch_first=True)\n",
              "  (fc): Linear(in_features=128, out_features=7, bias=True)\n",
              ")"
            ]
          },
          "metadata": {},
          "execution_count": 100
        }
      ]
    },
    {
      "cell_type": "code",
      "source": [
        "import matplotlib.pyplot as plt\n",
        "import seaborn as sns\n",
        "from sklearn.metrics import confusion_matrix"
      ],
      "metadata": {
        "id": "ahxybh7FtK0t"
      },
      "execution_count": 101,
      "outputs": []
    },
    {
      "cell_type": "code",
      "source": [
        "def plot_confusion_matrix(model, data_loader, device, label_dict):\n",
        "    model.eval()\n",
        "    all_labels = []\n",
        "    all_predictions = []\n",
        "\n",
        "    with torch.no_grad():\n",
        "        for batch in data_loader:\n",
        "            embeddings, labels = batch\n",
        "            embeddings, labels = embeddings.to(device), labels.to(device)\n",
        "            embeddings = embeddings.unsqueeze(1)\n",
        "            outputs = model(embeddings)\n",
        "            _, predicted = torch.max(outputs.data, 1)\n",
        "            all_labels.extend(labels.cpu().numpy())\n",
        "            all_predictions.extend(predicted.cpu().numpy())\n",
        "\n",
        "    # Compute confusion matrix\n",
        "    num_classes = len(label_dict)\n",
        "    cm = confusion_matrix(all_labels, all_predictions, labels=list(label_dict.keys()))\n",
        "\n",
        "    # Create a list of class names for plotting\n",
        "    class_names = [label_dict[i] for i in range(num_classes)]\n",
        "\n",
        "    # Plot confusion matrix\n",
        "    plt.figure(figsize=(10, 7))\n",
        "    sns.heatmap(cm, annot=True, fmt='d', cmap='Blues',\n",
        "                xticklabels=class_names,\n",
        "                yticklabels=class_names)\n",
        "    plt.xlabel('Predicted Label')\n",
        "    plt.ylabel('True Label')\n",
        "    plt.title('Confusion Matrix')\n",
        "    plt.show()\n",
        "\n",
        "plot_confusion_matrix(model, test_loader, device, itol)"
      ],
      "metadata": {
        "colab": {
          "base_uri": "https://localhost:8080/",
          "height": 641
        },
        "id": "ImoTsztLtOAD",
        "outputId": "2561c685-7c3b-44d5-d3a7-ca20cdd8bc6a"
      },
      "execution_count": 104,
      "outputs": [
        {
          "output_type": "display_data",
          "data": {
            "text/plain": [
              "<Figure size 1000x700 with 2 Axes>"
            ],
            "image/png": "[encoded data removed]"
          },
          "metadata": {}
        }
      ]
    }
  ]
}